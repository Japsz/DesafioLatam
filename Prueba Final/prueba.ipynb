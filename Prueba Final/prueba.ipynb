{
 "cells": [
  {
   "cell_type": "markdown",
   "metadata": {},
   "source": [
    "Estudio de Prophet"
   ]
  },
  {
   "cell_type": "code",
   "execution_count": 28,
   "metadata": {},
   "outputs": [
    {
     "data": {
      "text/html": [
       "<div>\n",
       "<style scoped>\n",
       "    .dataframe tbody tr th:only-of-type {\n",
       "        vertical-align: middle;\n",
       "    }\n",
       "\n",
       "    .dataframe tbody tr th {\n",
       "        vertical-align: top;\n",
       "    }\n",
       "\n",
       "    .dataframe thead th {\n",
       "        text-align: right;\n",
       "    }\n",
       "</style>\n",
       "<table border=\"1\" class=\"dataframe\">\n",
       "  <thead>\n",
       "    <tr style=\"text-align: right;\">\n",
       "      <th></th>\n",
       "      <th>Cantidad (en UM de inventario)</th>\n",
       "      <th>VentaNeta</th>\n",
       "      <th>CodCliente</th>\n",
       "      <th>Número de documento</th>\n",
       "      <th>ItemCode</th>\n",
       "      <th>CodVendedor</th>\n",
       "      <th>Código de almacén de línea</th>\n",
       "      <th>Fecha</th>\n",
       "      <th>Descripción del artículo</th>\n",
       "      <th>CanalDeVenta</th>\n",
       "      <th>Kilombos</th>\n",
       "    </tr>\n",
       "  </thead>\n",
       "  <tbody>\n",
       "    <tr>\n",
       "      <th>0</th>\n",
       "      <td>30</td>\n",
       "      <td>58172.0</td>\n",
       "      <td>C77196968</td>\n",
       "      <td>1054011</td>\n",
       "      <td>100401405101</td>\n",
       "      <td>11</td>\n",
       "      <td>B30</td>\n",
       "      <td>5-Apr-21</td>\n",
       "      <td>Almendra Cubierta Con Chocolate Bitter Bl 200Gr.</td>\n",
       "      <td>Televenta</td>\n",
       "      <td>6.0</td>\n",
       "    </tr>\n",
       "    <tr>\n",
       "      <th>1</th>\n",
       "      <td>60</td>\n",
       "      <td>116345.0</td>\n",
       "      <td>C76047944</td>\n",
       "      <td>1065766</td>\n",
       "      <td>100401405101</td>\n",
       "      <td>4</td>\n",
       "      <td>B30</td>\n",
       "      <td>11-Aug-21</td>\n",
       "      <td>Almendra Cubierta Con Chocolate Bitter Bl 200Gr.</td>\n",
       "      <td>Televenta</td>\n",
       "      <td>12.0</td>\n",
       "    </tr>\n",
       "    <tr>\n",
       "      <th>2</th>\n",
       "      <td>60</td>\n",
       "      <td>116344.0</td>\n",
       "      <td>C76047944</td>\n",
       "      <td>1071927</td>\n",
       "      <td>100401405101</td>\n",
       "      <td>4</td>\n",
       "      <td>B30</td>\n",
       "      <td>20-Oct-21</td>\n",
       "      <td>Almendra Cubierta Con Chocolate Bitter Bl 200Gr.</td>\n",
       "      <td>Televenta</td>\n",
       "      <td>12.0</td>\n",
       "    </tr>\n",
       "    <tr>\n",
       "      <th>3</th>\n",
       "      <td>60</td>\n",
       "      <td>116345.0</td>\n",
       "      <td>T00000581</td>\n",
       "      <td>1044987</td>\n",
       "      <td>100401405101</td>\n",
       "      <td>38</td>\n",
       "      <td>B30</td>\n",
       "      <td>3-Nov-20</td>\n",
       "      <td>Almendra Cubierta Con Chocolate Bitter Bl 200Gr.</td>\n",
       "      <td>Televenta</td>\n",
       "      <td>12.0</td>\n",
       "    </tr>\n",
       "    <tr>\n",
       "      <th>4</th>\n",
       "      <td>60</td>\n",
       "      <td>116345.0</td>\n",
       "      <td>T00000377</td>\n",
       "      <td>1055172</td>\n",
       "      <td>100401405101</td>\n",
       "      <td>38</td>\n",
       "      <td>B30</td>\n",
       "      <td>21-Apr-21</td>\n",
       "      <td>Almendra Cubierta Con Chocolate Bitter Bl 200Gr.</td>\n",
       "      <td>Televenta</td>\n",
       "      <td>12.0</td>\n",
       "    </tr>\n",
       "  </tbody>\n",
       "</table>\n",
       "</div>"
      ],
      "text/plain": [
       "   Cantidad (en UM de inventario)  VentaNeta CodCliente  Número de documento  \\\n",
       "0                              30    58172.0  C77196968              1054011   \n",
       "1                              60   116345.0  C76047944              1065766   \n",
       "2                              60   116344.0  C76047944              1071927   \n",
       "3                              60   116345.0  T00000581              1044987   \n",
       "4                              60   116345.0  T00000377              1055172   \n",
       "\n",
       "       ItemCode  CodVendedor Código de almacén de línea      Fecha  \\\n",
       "0  100401405101           11                        B30   5-Apr-21   \n",
       "1  100401405101            4                        B30  11-Aug-21   \n",
       "2  100401405101            4                        B30  20-Oct-21   \n",
       "3  100401405101           38                        B30   3-Nov-20   \n",
       "4  100401405101           38                        B30  21-Apr-21   \n",
       "\n",
       "                           Descripción del artículo CanalDeVenta  Kilombos  \n",
       "0  Almendra Cubierta Con Chocolate Bitter Bl 200Gr.    Televenta       6.0  \n",
       "1  Almendra Cubierta Con Chocolate Bitter Bl 200Gr.    Televenta      12.0  \n",
       "2  Almendra Cubierta Con Chocolate Bitter Bl 200Gr.    Televenta      12.0  \n",
       "3  Almendra Cubierta Con Chocolate Bitter Bl 200Gr.    Televenta      12.0  \n",
       "4  Almendra Cubierta Con Chocolate Bitter Bl 200Gr.    Televenta      12.0  "
      ]
     },
     "execution_count": 28,
     "metadata": {},
     "output_type": "execute_result"
    }
   ],
   "source": [
    "import pandas as pd\n",
    "import numpy as np\n",
    "from prophet import Prophet\n",
    "import matplotlib.pyplot as plt\n",
    "\n",
    "\n",
    "dfVentas = pd.read_csv('ventas.csv')\n",
    "dfVentas.head()"
   ]
  },
  {
   "cell_type": "code",
   "execution_count": 3,
   "metadata": {},
   "outputs": [],
   "source": [
    "cranberriesItems = [140201405101, 140202405101, 140101110103, 140101110104, 140201408102, 140201409102, 140202408102, 140202409101, 140203409101]\n",
    "cranberriesDf = dfVentas[dfVentas['ItemCode'].isin(cranberriesItems)]"
   ]
  },
  {
   "cell_type": "code",
   "execution_count": 6,
   "metadata": {},
   "outputs": [
    {
     "data": {
      "text/plain": [
       "Cranberry Entero  Cubierta Chocolate Bitter Bl. 5Kg       1318\n",
       "Cranberry Cubierta Chocolate Leche Bl. 5Kg                 657\n",
       "Cranberry Entero  Cubierta Chocolate Bitter Bl.200 Gr.     105\n",
       "Cranberry Cubierta Chocolate Leche Bl. 200 Gr.              74\n",
       "Cranberry Entero  Cubierta Chocolate Bitter Bl. 1Kg          1\n",
       "Name: Descripción del artículo, dtype: int64"
      ]
     },
     "execution_count": 6,
     "metadata": {},
     "output_type": "execute_result"
    }
   ],
   "source": [
    "cranberriesDf['Descripción del artículo'].value_counts()"
   ]
  },
  {
   "cell_type": "code",
   "execution_count": 7,
   "metadata": {},
   "outputs": [
    {
     "data": {
      "text/html": [
       "<div>\n",
       "<style scoped>\n",
       "    .dataframe tbody tr th:only-of-type {\n",
       "        vertical-align: middle;\n",
       "    }\n",
       "\n",
       "    .dataframe tbody tr th {\n",
       "        vertical-align: top;\n",
       "    }\n",
       "\n",
       "    .dataframe thead th {\n",
       "        text-align: right;\n",
       "    }\n",
       "</style>\n",
       "<table border=\"1\" class=\"dataframe\">\n",
       "  <thead>\n",
       "    <tr style=\"text-align: right;\">\n",
       "      <th></th>\n",
       "      <th>cantidad</th>\n",
       "      <th>venta_total</th>\n",
       "      <th>cod_cliente</th>\n",
       "      <th>n_boleta</th>\n",
       "      <th>item_code</th>\n",
       "      <th>cod_vendedor</th>\n",
       "      <th>cod_almacen</th>\n",
       "      <th>fecha</th>\n",
       "      <th>descripcion</th>\n",
       "      <th>canal_venta</th>\n",
       "      <th>kilombos</th>\n",
       "    </tr>\n",
       "  </thead>\n",
       "  <tbody>\n",
       "    <tr>\n",
       "      <th>1988</th>\n",
       "      <td>30</td>\n",
       "      <td>51677.98322</td>\n",
       "      <td>C76825371</td>\n",
       "      <td>1055564</td>\n",
       "      <td>140202405101</td>\n",
       "      <td>4</td>\n",
       "      <td>B30</td>\n",
       "      <td>27-Apr-21</td>\n",
       "      <td>Cranberry Cubierta Chocolate Leche Bl. 200 Gr.</td>\n",
       "      <td>Televenta</td>\n",
       "      <td>6.0</td>\n",
       "    </tr>\n",
       "    <tr>\n",
       "      <th>1989</th>\n",
       "      <td>30</td>\n",
       "      <td>51618.00000</td>\n",
       "      <td>C76047944</td>\n",
       "      <td>1042002</td>\n",
       "      <td>140202405101</td>\n",
       "      <td>4</td>\n",
       "      <td>B30</td>\n",
       "      <td>11-Sep-20</td>\n",
       "      <td>Cranberry Cubierta Chocolate Leche Bl. 200 Gr.</td>\n",
       "      <td>Televenta</td>\n",
       "      <td>6.0</td>\n",
       "    </tr>\n",
       "    <tr>\n",
       "      <th>1990</th>\n",
       "      <td>30</td>\n",
       "      <td>51618.00000</td>\n",
       "      <td>C76047944</td>\n",
       "      <td>1044398</td>\n",
       "      <td>140202405101</td>\n",
       "      <td>4</td>\n",
       "      <td>B30</td>\n",
       "      <td>23-Oct-20</td>\n",
       "      <td>Cranberry Cubierta Chocolate Leche Bl. 200 Gr.</td>\n",
       "      <td>Televenta</td>\n",
       "      <td>6.0</td>\n",
       "    </tr>\n",
       "    <tr>\n",
       "      <th>1991</th>\n",
       "      <td>30</td>\n",
       "      <td>51618.00000</td>\n",
       "      <td>C76047944</td>\n",
       "      <td>1045289</td>\n",
       "      <td>140202405101</td>\n",
       "      <td>4</td>\n",
       "      <td>B30</td>\n",
       "      <td>6-Nov-20</td>\n",
       "      <td>Cranberry Cubierta Chocolate Leche Bl. 200 Gr.</td>\n",
       "      <td>Televenta</td>\n",
       "      <td>6.0</td>\n",
       "    </tr>\n",
       "    <tr>\n",
       "      <th>1992</th>\n",
       "      <td>30</td>\n",
       "      <td>51618.00000</td>\n",
       "      <td>C76116617</td>\n",
       "      <td>1051111</td>\n",
       "      <td>140202405101</td>\n",
       "      <td>4</td>\n",
       "      <td>B30</td>\n",
       "      <td>11-Feb-21</td>\n",
       "      <td>Cranberry Cubierta Chocolate Leche Bl. 200 Gr.</td>\n",
       "      <td>Televenta</td>\n",
       "      <td>6.0</td>\n",
       "    </tr>\n",
       "  </tbody>\n",
       "</table>\n",
       "</div>"
      ],
      "text/plain": [
       "      cantidad  venta_total cod_cliente  n_boleta     item_code  cod_vendedor  \\\n",
       "1988        30  51677.98322   C76825371   1055564  140202405101             4   \n",
       "1989        30  51618.00000   C76047944   1042002  140202405101             4   \n",
       "1990        30  51618.00000   C76047944   1044398  140202405101             4   \n",
       "1991        30  51618.00000   C76047944   1045289  140202405101             4   \n",
       "1992        30  51618.00000   C76116617   1051111  140202405101             4   \n",
       "\n",
       "     cod_almacen      fecha                                     descripcion  \\\n",
       "1988         B30  27-Apr-21  Cranberry Cubierta Chocolate Leche Bl. 200 Gr.   \n",
       "1989         B30  11-Sep-20  Cranberry Cubierta Chocolate Leche Bl. 200 Gr.   \n",
       "1990         B30  23-Oct-20  Cranberry Cubierta Chocolate Leche Bl. 200 Gr.   \n",
       "1991         B30   6-Nov-20  Cranberry Cubierta Chocolate Leche Bl. 200 Gr.   \n",
       "1992         B30  11-Feb-21  Cranberry Cubierta Chocolate Leche Bl. 200 Gr.   \n",
       "\n",
       "     canal_venta  kilombos  \n",
       "1988   Televenta       6.0  \n",
       "1989   Televenta       6.0  \n",
       "1990   Televenta       6.0  \n",
       "1991   Televenta       6.0  \n",
       "1992   Televenta       6.0  "
      ]
     },
     "execution_count": 7,
     "metadata": {},
     "output_type": "execute_result"
    }
   ],
   "source": [
    "columns_hash = {\n",
    "    'Cantidad (en UM de inventario)': 'cantidad',\n",
    "    'VentaNeta': 'venta_total',\n",
    "    'CodCliente': 'cod_cliente',\n",
    "    'Número de documento': 'n_boleta',\n",
    "    'ItemCode': 'item_code',\n",
    "    'CodVendedor': 'cod_vendedor',\n",
    "    'Código de almacén de línea': 'cod_almacen',\n",
    "    'Fecha': 'fecha',\n",
    "    'Descripción del artículo': 'descripcion',\n",
    "    'CanalDeVenta': 'canal_venta',\n",
    "    'Kilombos': 'kilombos',\n",
    "}\n",
    "# Renombrar las columnas\n",
    "cranberriesDf = cranberriesDf.rename(columns=columns_hash)\n",
    "cranberriesDf.head(5)"
   ]
  },
  {
   "cell_type": "code",
   "execution_count": 19,
   "metadata": {},
   "outputs": [],
   "source": [
    "# Función para convertir fecha ''\n",
    "def convert_date(date):\n",
    "    return pd.to_datetime(date, format='%d-%b-%y')\n",
    "cranberriesDf['ds'] = cranberriesDf['fecha'].apply(convert_date).sort_values(ascending=True)"
   ]
  },
  {
   "cell_type": "code",
   "execution_count": 22,
   "metadata": {},
   "outputs": [
    {
     "data": {
      "text/plain": [
       "(474, 4)"
      ]
     },
     "execution_count": 22,
     "metadata": {},
     "output_type": "execute_result"
    }
   ],
   "source": [
    "grouped = cranberriesDf.groupby('ds').agg({'kilombos': 'sum', 'venta_total': 'sum', 'cod_cliente': 'nunique', 'cod_vendedor': 'nunique'})\n",
    "grouped.shape"
   ]
  },
  {
   "cell_type": "code",
   "execution_count": 53,
   "metadata": {},
   "outputs": [
    {
     "data": {
      "text/html": [
       "<div>\n",
       "<style scoped>\n",
       "    .dataframe tbody tr th:only-of-type {\n",
       "        vertical-align: middle;\n",
       "    }\n",
       "\n",
       "    .dataframe tbody tr th {\n",
       "        vertical-align: top;\n",
       "    }\n",
       "\n",
       "    .dataframe thead th {\n",
       "        text-align: right;\n",
       "    }\n",
       "</style>\n",
       "<table border=\"1\" class=\"dataframe\">\n",
       "  <thead>\n",
       "    <tr style=\"text-align: right;\">\n",
       "      <th></th>\n",
       "      <th>kilombos</th>\n",
       "      <th>venta_total</th>\n",
       "      <th>cod_cliente</th>\n",
       "      <th>cod_vendedor</th>\n",
       "    </tr>\n",
       "    <tr>\n",
       "      <th>ds</th>\n",
       "      <th></th>\n",
       "      <th></th>\n",
       "      <th></th>\n",
       "      <th></th>\n",
       "    </tr>\n",
       "  </thead>\n",
       "  <tbody>\n",
       "    <tr>\n",
       "      <th>2019-04-02</th>\n",
       "      <td>40.0</td>\n",
       "      <td>254117.0</td>\n",
       "      <td>1</td>\n",
       "      <td>1</td>\n",
       "    </tr>\n",
       "    <tr>\n",
       "      <th>2019-04-05</th>\n",
       "      <td>5.0</td>\n",
       "      <td>35294.0</td>\n",
       "      <td>1</td>\n",
       "      <td>1</td>\n",
       "    </tr>\n",
       "    <tr>\n",
       "      <th>2019-04-30</th>\n",
       "      <td>5.0</td>\n",
       "      <td>35714.0</td>\n",
       "      <td>1</td>\n",
       "      <td>1</td>\n",
       "    </tr>\n",
       "    <tr>\n",
       "      <th>2019-05-02</th>\n",
       "      <td>5.0</td>\n",
       "      <td>39900.0</td>\n",
       "      <td>2</td>\n",
       "      <td>2</td>\n",
       "    </tr>\n",
       "    <tr>\n",
       "      <th>2019-05-03</th>\n",
       "      <td>15.0</td>\n",
       "      <td>107143.0</td>\n",
       "      <td>2</td>\n",
       "      <td>1</td>\n",
       "    </tr>\n",
       "  </tbody>\n",
       "</table>\n",
       "</div>"
      ],
      "text/plain": [
       "            kilombos  venta_total  cod_cliente  cod_vendedor\n",
       "ds                                                          \n",
       "2019-04-02      40.0     254117.0            1             1\n",
       "2019-04-05       5.0      35294.0            1             1\n",
       "2019-04-30       5.0      35714.0            1             1\n",
       "2019-05-02       5.0      39900.0            2             2\n",
       "2019-05-03      15.0     107143.0            2             1"
      ]
     },
     "execution_count": 53,
     "metadata": {},
     "output_type": "execute_result"
    }
   ],
   "source": [
    "grouped.head(5)"
   ]
  },
  {
   "cell_type": "code",
   "execution_count": 54,
   "metadata": {},
   "outputs": [
    {
     "name": "stderr",
     "output_type": "stream",
     "text": [
      "INFO:prophet:Disabling daily seasonality. Run prophet with daily_seasonality=True to override this.\n"
     ]
    },
    {
     "data": {
      "text/plain": [
       "<prophet.forecaster.Prophet at 0x13a491f09d0>"
      ]
     },
     "execution_count": 54,
     "metadata": {},
     "output_type": "execute_result"
    }
   ],
   "source": [
    "prophetDf = grouped.reset_index().rename(columns={'kilombos': 'y'}).drop(columns=['venta_total', 'cod_cliente', 'cod_vendedor'])\n",
    "# prophetDf['cap'] = 150\n",
    "m = Prophet().add_country_holidays(country_name='CL')\n",
    "m.fit(prophetDf)\n"
   ]
  },
  {
   "cell_type": "code",
   "execution_count": 57,
   "metadata": {},
   "outputs": [
    {
     "data": {
      "image/png": "[encoded data removed]",
      "text/plain": [
       "<Figure size 648x864 with 4 Axes>"
      ]
     },
     "metadata": {},
     "output_type": "display_data"
    }
   ],
   "source": [
    "future = m.make_future_dataframe(periods=56, freq='W')\n",
    "# future['cap'] = 300\n",
    "forecast = m.predict(future)\n",
    "fig1 = m.plot_components(forecast)\n"
   ]
  },
  {
   "cell_type": "code",
   "execution_count": null,
   "metadata": {},
   "outputs": [],
   "source": []
  }
 ],
 "metadata": {
  "interpreter": {
   "hash": "07efdcd4b820c98a756949507a4d29d7862823915ec7477944641bea022f4f62"
  },
  "kernelspec": {
   "display_name": "Python 3.8.5 64-bit ('base': conda)",
   "language": "python",
   "name": "python3"
  },
  "language_info": {
   "codemirror_mode": {
    "name": "ipython",
    "version": 3
   },
   "file_extension": ".py",
   "mimetype": "text/x-python",
   "name": "python",
   "nbconvert_exporter": "python",
   "pygments_lexer": "ipython3",
   "version": "3.8.5"
  },
  "orig_nbformat": 4
 },
 "nbformat": 4,
 "nbformat_minor": 2
}
