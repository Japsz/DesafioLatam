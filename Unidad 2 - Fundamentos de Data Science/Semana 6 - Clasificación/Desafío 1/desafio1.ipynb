{
 "cells": [
  {
   "cell_type": "markdown",
   "source": [
    "# Desafío - Clasificación desde la econometría\r\n",
    "\r\n",
    "## Descripción\r\n",
    "En esta sesión trabajaremos el dataset south african heart, el cual contiene las siguientes\r\n",
    "variables:\r\n",
    "<li><code>sbp</code>: Presión Sanguínea Sistólica.</li>\r\n",
    "<li><code>tobacco</code>: Promedio tabaco consumido por día.</li>\r\n",
    "<li><code>ldl</code>: Lipoproteína de baja densidad.</li>\r\n",
    "<li><code>adiposity</code>: Adiposidad.</li>\r\n",
    "<li><code>famhist</code>: Antecedentes familiares de enfermedades cardiácas. (Binaria)</li>\r\n",
    "<li><code>types</code>: Personalidad tipo A</li>\r\n",
    "<li><code>obesity</code>: Obesidad.</li>\r\n",
    "<li><code>alcohol</code>: Consumo actual de alcohol.</li>\r\n",
    "<li><code>age</code>: edad.</li>\r\n",
    "<li><code>chd</code>: Enfermedad coronaria. (dummy)</li>\r\n"
   ],
   "metadata": {}
  },
  {
   "cell_type": "markdown",
   "source": [
    "## Desafío 1: Preparar el ambiente de trabajo\r\n",
    "<li>Cargue las librerías básicas para importación y manipulación de datos (numpy,\r\n",
    "pandas), gráficos (matplotlib y seaborn) y de modelación econométrica\r\n",
    "(statsmodels).</li>\r\n",
    "<li>Importe el archivo southafricanheart.csv que se encuentra dentro del material de\r\n",
    "apoyo.</li>\r\n",
    "<li>Realice una descripción del set importado mostrando:\r\n",
    "<ul>\r\n",
    "<li>lista con los nombres de variables importadas</li>\r\n",
    "<li>un análisis descriptivo mediante <code>.describe()</code></li>\r\n",
    "<li>distribución de categorías para las variables <code>famhist</code> y <code>chd</code>.</li></ul></li>\r\n"
   ],
   "metadata": {}
  },
  {
   "cell_type": "code",
   "execution_count": 1,
   "source": [
    "import pandas as pd\r\n",
    "import numpy as np\r\n",
    "import matplotlib.pyplot as plt\r\n",
    "import seaborn as sns\r\n",
    "import statsmodels.formula.api as smf\r\n",
    "import scipy.stats as stats\r\n",
    "\r\n",
    "df = pd.read_csv('southafricanheart.csv').drop(columns=['Unnamed: 0'])\r\n",
    "\r\n",
    "print(df.describe())\r\n",
    "print(\"=\"*24)\r\n",
    "print(df['famhist'].value_counts())\r\n",
    "print(\"=\"*24)\r\n",
    "print(df['chd'].value_counts())\r\n",
    "\r\n"
   ],
   "outputs": [
    {
     "output_type": "stream",
     "name": "stdout",
     "text": [
      "              sbp     tobacco         ldl   adiposity       typea     obesity  \\\n",
      "count  462.000000  462.000000  462.000000  462.000000  462.000000  462.000000   \n",
      "mean   138.326840    3.635649    4.740325   25.406732   53.103896   26.044113   \n",
      "std     20.496317    4.593024    2.070909    7.780699    9.817534    4.213680   \n",
      "min    101.000000    0.000000    0.980000    6.740000   13.000000   14.700000   \n",
      "25%    124.000000    0.052500    3.282500   19.775000   47.000000   22.985000   \n",
      "50%    134.000000    2.000000    4.340000   26.115000   53.000000   25.805000   \n",
      "75%    148.000000    5.500000    5.790000   31.227500   60.000000   28.497500   \n",
      "max    218.000000   31.200000   15.330000   42.490000   78.000000   46.580000   \n",
      "\n",
      "          alcohol         age         chd  \n",
      "count  462.000000  462.000000  462.000000  \n",
      "mean    17.044394   42.816017    0.346320  \n",
      "std     24.481059   14.608956    0.476313  \n",
      "min      0.000000   15.000000    0.000000  \n",
      "25%      0.510000   31.000000    0.000000  \n",
      "50%      7.510000   45.000000    0.000000  \n",
      "75%     23.892500   55.000000    1.000000  \n",
      "max    147.190000   64.000000    1.000000  \n",
      "========================\n",
      "Absent     270\n",
      "Present    192\n",
      "Name: famhist, dtype: int64\n",
      "========================\n",
      "0    302\n",
      "1    160\n",
      "Name: chd, dtype: int64\n"
     ]
    }
   ],
   "metadata": {}
  },
  {
   "cell_type": "markdown",
   "source": [
    "## Desafío 2\r\n",
    "A continuación se presenta el siguiente modelo a estimar:\r\n",
    "\r\n",
    "$$\r\n",
    "    log(\\frac{Pr(chd=1)}{1-Pr(chd = 1)}) = \\beta_0 + \\beta_1 \\cdot famhist\r\n",
    "$$\r\n",
    "Para ello ejecute los siguientes pasos:\r\n",
    "<ol>\r\n",
    "<li>Recodifique <code>famhist</code> a dummy, asignando 1 a la categoría minoritaria.</li>\r\n",
    "<li>Utilice <code>smf.logit</code> para estimar el modelo.</li>\r\n",
    "<li>Implemente una función <code>inverse_logit</code> que realice el mapeo de log-odds a\r\n",
    "probabilidad.</li>\r\n",
    "<li>Con el modelo estimado, responda lo siguiente:\r\n",
    "<ul>\r\n",
    "<li>¿Cuál es la probabilidad de un individuo con antecedentes familiares de tener\r\n",
    "una enfermedad coronaria?</li>\r\n",
    "<li>¿Cuál es la probabilidad de un individuo sin antecedentes familiares de tener\r\n",
    "una enfermedad coronaria?</li>\r\n",
    "<li>¿Cuál es la diferencia en la probabilidad entre un individuo con antecedentes\r\n",
    "y otro sin antecedentes?</li>\r\n",
    "<li>Replique el modelo con <code>smf.ols</code> y comente las similitudes entre los\r\n",
    "coeficientes estimados.\r\n",
    "</br><b>Tip:</b> Utilice β/4</li>\r\n",
    "</ul></li>\r\n",
    "<ol>\r\n"
   ],
   "metadata": {}
  },
  {
   "cell_type": "code",
   "execution_count": 2,
   "source": [
    "def concise_summary(mod, print_fit=True):\r\n",
    "    #guardamos los parámetros asociados a estadísticas de ajuste\r\n",
    "    fit = pd.DataFrame({'Statistics': mod.summary2().tables[0][2][2:],'Value': mod.summary2().tables[0][3][2:]})\r\n",
    "    # guardamos los parámetros estimados por cada regresor.\r\n",
    "    estimates = pd.DataFrame(mod.summary2().tables[1].loc[:, 'Coef.':'Std.Err.'])\r\n",
    "    # imprimir fit es opcional\r\n",
    "    if print_fit is True:\r\n",
    "        print(\"\\nGoodness of Fit statistics\\n\", fit)\r\n",
    "        print(\"\\nPoint Estimates\\n\\n\", estimates)\r\n",
    "    return (fit, estimates)\r\n",
    "df['famhist'] = np.where(df['famhist'] == 'Present', 1, 0)"
   ],
   "outputs": [],
   "metadata": {}
  },
  {
   "cell_type": "code",
   "execution_count": 3,
   "source": [
    "model = smf.logit('chd ~ famhist', df).fit()\r\n",
    "fit, estimates = concise_summary(model, True)"
   ],
   "outputs": [
    {
     "output_type": "stream",
     "name": "stdout",
     "text": [
      "Optimization terminated successfully.\n",
      "         Current function value: 0.608111\n",
      "         Iterations 5\n",
      "\n",
      "Goodness of Fit statistics\n",
      "         Statistics       Value\n",
      "2             BIC:    574.1655\n",
      "3  Log-Likelihood:     -280.95\n",
      "4         LL-Null:     -298.05\n",
      "5     LLR p-value:  4.9371e-09\n",
      "6           Scale:      1.0000\n",
      "7                             \n",
      "\n",
      "Point Estimates\n",
      "\n",
      "               Coef.  Std.Err.\n",
      "Intercept -1.168993  0.143106\n",
      "famhist    1.168993  0.203255\n"
     ]
    }
   ],
   "metadata": {}
  },
  {
   "cell_type": "code",
   "execution_count": 4,
   "source": [
    "def inverse_logit(x):\r\n",
    "    return round(1 / (1+np.exp(-x)), 2)\r\n",
    "print(\"Para la regresión Logística\")\r\n",
    "# Probabilidad cuando tiene historial familiar\r\n",
    "famhistProb = inverse_logit(estimates['Coef.'][0] + estimates['Coef.'][1])\r\n",
    "print(\"Probabilidad cuando se tiene historial familiar: {}\".format(famhistProb))\r\n",
    "# Probabilidad cuando no tiene historial familiar\r\n",
    "noFamhistProb = inverse_logit(estimates['Coef.'][0])\r\n",
    "print(\"Probabilidad cuando no se tiene historial familiar: {}\".format(noFamhistProb))\r\n",
    "# Diferencia de probabilidad\r\n",
    "print(\"Diferencia de probabilidad: {}\".format(famhistProb - noFamhistProb))"
   ],
   "outputs": [
    {
     "output_type": "stream",
     "name": "stdout",
     "text": [
      "Para la regresión Logística\n",
      "Probabilidad cuando se tiene historial familiar: 0.5\n",
      "Probabilidad cuando no se tiene historial familiar: 0.24\n",
      "Diferencia de probabilidad: 0.26\n"
     ]
    }
   ],
   "metadata": {}
  },
  {
   "cell_type": "code",
   "execution_count": 5,
   "source": [
    "print(\"Para la regresión Lineal\")\r\n",
    "ols_model = smf.ols(\"chd ~ famhist\", df).fit()\r\n",
    "_, estimates_ols = concise_summary(ols_model, True)\r\n",
    "# Probabilidad lineal cuando tiene historial familiar\r\n",
    "famhistProb = estimates_ols['Coef.'][0] + estimates_ols['Coef.'][1]\r\n",
    "print(\"Probabilidad lineal cuando se tiene historial familiar: {}\".format(famhistProb))\r\n",
    "# Probabilidad lineal cuando no tiene historial familiar\r\n",
    "noFamhistProb = estimates_ols['Coef.'][0]\r\n",
    "print(\"Probabilidad lineal cuando no se tiene historial familiar: {}\".format(noFamhistProb))\r\n",
    "# Diferencia de probabilidad lineal\r\n",
    "print(\"Beta cuartos de la regresión logística: {}/4 = {} ~ {}.\".format(estimates['Coef.'][1], round(estimates['Coef.'][1]/4, 5), round(estimates_ols['Coef.'][1], 5)))"
   ],
   "outputs": [
    {
     "output_type": "stream",
     "name": "stdout",
     "text": [
      "Para la regresión Lineal\n",
      "\n",
      "Goodness of Fit statistics\n",
      "             Statistics     Value\n",
      "2                 BIC:  601.4437\n",
      "3      Log-Likelihood:   -294.59\n",
      "4         F-statistic:     36.86\n",
      "5  Prob (F-statistic):  2.66e-09\n",
      "6               Scale:   0.21050\n",
      "\n",
      "Point Estimates\n",
      "\n",
      "               Coef.  Std.Err.\n",
      "Intercept  0.237037  0.027922\n",
      "famhist    0.262963  0.043313\n",
      "Probabilidad lineal cuando se tiene historial familiar: 0.4999999999999999\n",
      "Probabilidad lineal cuando no se tiene historial familiar: 0.23703703703703696\n",
      "Beta cuartos de la regresión logística: 1.1689930854299089/4 = 0.29225 ~ 0.26296.\n"
     ]
    }
   ],
   "metadata": {}
  },
  {
   "cell_type": "markdown",
   "source": [
    "Notamos que el modelo logístico y el lineal tienen una predicción parecida para cuando se tiene historial familiar, no asi el caso en el que no."
   ],
   "metadata": {}
  },
  {
   "cell_type": "markdown",
   "source": [
    "## Desafío 3: Estimación completa\r\n",
    "Implemente un modelo con la siguiente forma:\r\n",
    "$$\r\n",
    "    log(\\frac{Pr(chd=1)}{1-Pr(chd = 1)}) = \\beta_0 + \\sum_{j=1}^{N}\\beta_j \\cdot X\r\n",
    "$$\r\n",
    "<ul>\r\n",
    "<li>Depure el modelo manteniendo las variables con significancia estadística al 95%.</li>\r\n",
    "<li>Compare los estadísticos de bondad de ajuste entre ambos.</li>\r\n",
    "<li>Reporte de forma sucinta el efecto de las variables en el log-odds de tener una\r\n",
    "enfermedad coronaria.</li>\r\n",
    "</ul>\r\n"
   ],
   "metadata": {}
  },
  {
   "cell_type": "code",
   "execution_count": 6,
   "source": [
    "full_model = smf.logit('chd ~ famhist + sbp + tobacco + ldl + adiposity + typea + obesity + alcohol + age', df).fit()\r\n",
    "concise_summary(full_model, True)\r\n",
    "print(full_model.pvalues)"
   ],
   "outputs": [
    {
     "output_type": "stream",
     "name": "stdout",
     "text": [
      "Optimization terminated successfully.\n",
      "         Current function value: 0.510974\n",
      "         Iterations 6\n",
      "\n",
      "Goodness of Fit statistics\n",
      "         Statistics       Value\n",
      "2             BIC:    533.4957\n",
      "3  Log-Likelihood:     -236.07\n",
      "4         LL-Null:     -298.05\n",
      "5     LLR p-value:  2.0548e-22\n",
      "6           Scale:      1.0000\n",
      "7                             \n",
      "\n",
      "Point Estimates\n",
      "\n",
      "               Coef.  Std.Err.\n",
      "Intercept -6.150721  1.308260\n",
      "famhist    0.925370  0.227894\n",
      "sbp        0.006504  0.005730\n",
      "tobacco    0.079376  0.026603\n",
      "ldl        0.173924  0.059662\n",
      "adiposity  0.018587  0.029289\n",
      "typea      0.039595  0.012320\n",
      "obesity   -0.062910  0.044248\n",
      "alcohol    0.000122  0.004483\n",
      "age        0.045225  0.012130\n",
      "Intercept    0.000003\n",
      "famhist      0.000049\n",
      "sbp          0.256374\n",
      "tobacco      0.002847\n",
      "ldl          0.003555\n",
      "adiposity    0.525700\n",
      "typea        0.001310\n",
      "obesity      0.155095\n",
      "alcohol      0.978350\n",
      "age          0.000193\n",
      "dtype: float64\n"
     ]
    }
   ],
   "metadata": {}
  },
  {
   "cell_type": "code",
   "execution_count": 7,
   "source": [
    "# se eliminan aquellas con p-value > 0.05\r\n",
    "depurated_model = smf.logit('chd ~ famhist + tobacco + ldl + typea + age', df).fit()\r\n",
    "fit_depurated, estimates_depurated = concise_summary(depurated_model, True)"
   ],
   "outputs": [
    {
     "output_type": "stream",
     "name": "stdout",
     "text": [
      "Optimization terminated successfully.\n",
      "         Current function value: 0.514811\n",
      "         Iterations 6\n",
      "\n",
      "Goodness of Fit statistics\n",
      "         Statistics       Value\n",
      "2             BIC:    512.4990\n",
      "3  Log-Likelihood:     -237.84\n",
      "4         LL-Null:     -298.05\n",
      "5     LLR p-value:  2.5537e-24\n",
      "6           Scale:      1.0000\n",
      "7                             \n",
      "\n",
      "Point Estimates\n",
      "\n",
      "               Coef.  Std.Err.\n",
      "Intercept -6.446445  0.920872\n",
      "famhist    0.908175  0.225758\n",
      "tobacco    0.080375  0.025880\n",
      "ldl        0.161992  0.054969\n",
      "typea      0.037115  0.012167\n",
      "age        0.050460  0.010206\n"
     ]
    }
   ],
   "metadata": {}
  },
  {
   "cell_type": "markdown",
   "source": [
    "Se observa que el nuevo modelo tiene estadísticos de bondad muy parecidos al modelo original, siendo lo mas notable la disminución de <code>LLR p-value</code> en un par de ordenes de magnitud."
   ],
   "metadata": {}
  },
  {
   "cell_type": "markdown",
   "source": [
    "## Desafío 4: Estimación de perfiles\r\n",
    "A partir del modelo depurado, genere las estimaciones en log-odds y posteriormente\r\n",
    "transfórmelas a probabilidades con <code>inverse_logit</code>. Los perfiles a estimar son los\r\n",
    "siguientes:\r\n",
    "<ul>\r\n",
    "<li>La probabilidad de tener una enfermedad coronaria para un individuo con\r\n",
    "características similares a la muestra.</li>\r\n",
    "<li>La probabilidad de tener una enfermedad coronaria para un individuo con altos\r\n",
    "niveles de lipoproteína de baja densidad, <b>manteniendo todas las demás\r\n",
    "características constantes</b>.</li>\r\n",
    "<li>La probabilidad de tener una enfermedad coronaria para un individuo con bajos\r\n",
    "niveles de lipoproteína de baja densidad,<b> manteniendo todas las demás\r\n",
    "características constantes</b>.</li>\r\n",
    "</ul>"
   ],
   "metadata": {}
  },
  {
   "cell_type": "code",
   "execution_count": 8,
   "source": [
    "# conseguimos una persona cuyos valores sean igual a los promedios de cada columna respectivamente\r\n",
    "def getLogOdd(observation, columns, estimates):\r\n",
    "    logOdd = estimates['Coef.']['Intercept']\r\n",
    "    for i in columns:\r\n",
    "        logOdd += estimates['Coef.'][i]*observation[i]\r\n",
    "    return logOdd\r\n",
    "meanPerson = df.mean()\r\n",
    "\r\n",
    "meanLogOdd = getLogOdd(meanPerson, ['famhist', 'tobacco', 'ldl', 'typea', 'age'], estimates_depurated)\r\n",
    "print(\"Una persona promedio tiene log odd {} y probabilidad {} de tener una enfermedad coronaria\".format(round(meanLogOdd, 5), inverse_logit(meanLogOdd)))\r\n"
   ],
   "outputs": [
    {
     "output_type": "stream",
     "name": "stdout",
     "text": [
      "Una persona promedio tiene log odd -0.87744 y probabilidad 0.29 de tener una enfermedad coronaria\n"
     ]
    }
   ],
   "metadata": {}
  },
  {
   "cell_type": "code",
   "execution_count": 9,
   "source": [
    "# Para las siguientes consideraremos que todos las columnas son iguales al promedio previo, con la diferencia de ldl\r\n",
    "ldlStats = df['ldl'].describe()\r\n",
    "highLDL = meanPerson.copy()\r\n",
    "highLDL['ldl'] = ldlStats['max']\r\n",
    "minLDL = meanPerson.copy()\r\n",
    "minLDL['ldl'] = ldlStats['min']\r\n",
    "\r\n",
    "minLogOdd = getLogOdd(minLDL, ['famhist', 'tobacco', 'ldl', 'typea', 'age'], estimates_depurated)\r\n",
    "print(\"Una persona con bajo nivel de LDL tiene log odd {} y probabilidad {} de tener una enfermedad coronaria\".format(round(minLogOdd, 5), inverse_logit(minLogOdd)))\r\n",
    "maxLogOdd = getLogOdd(highLDL, ['famhist', 'tobacco', 'ldl', 'typea', 'age'], estimates_depurated)\r\n",
    "print(\"Una persona con alto nivel de LDL tiene log odd {} y probabilidad {} de tener una enfermedad coronaria\".format(round(maxLogOdd, 5), inverse_logit(maxLogOdd)))"
   ],
   "outputs": [
    {
     "output_type": "stream",
     "name": "stdout",
     "text": [
      "Una persona con bajo nivel de LDL tiene log odd -1.48658 y probabilidad 0.18 de tener una enfermedad coronaria\n",
      "Una persona con alto nivel de LDL tiene log odd 0.838 y probabilidad 0.7 de tener una enfermedad coronaria\n"
     ]
    }
   ],
   "metadata": {}
  }
 ],
 "metadata": {
  "orig_nbformat": 4,
  "language_info": {
   "name": "python",
   "version": "3.8.5",
   "mimetype": "text/x-python",
   "codemirror_mode": {
    "name": "ipython",
    "version": 3
   },
   "pygments_lexer": "ipython3",
   "nbconvert_exporter": "python",
   "file_extension": ".py"
  },
  "kernelspec": {
   "name": "python3",
   "display_name": "Python 3.8.5 64-bit ('base': conda)"
  },
  "interpreter": {
   "hash": "07efdcd4b820c98a756949507a4d29d7862823915ec7477944641bea022f4f62"
  }
 },
 "nbformat": 4,
 "nbformat_minor": 2
}