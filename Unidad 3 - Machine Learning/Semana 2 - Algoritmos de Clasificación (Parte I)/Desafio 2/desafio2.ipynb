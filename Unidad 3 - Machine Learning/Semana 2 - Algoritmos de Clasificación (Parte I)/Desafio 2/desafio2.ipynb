{
 "cells": [
  {
   "cell_type": "markdown",
   "source": [
    "# __Desafío - Análisis lineal discriminante__\r\n",
    "## Requerimientos\r\n",
    "Trabajaremos con una base de datos sobre clientes morosos de un banco. Dentro de ésta se\r\n",
    "registran las siguientes observaciones:\r\n",
    "<ul>\r\n",
    "<li><code>default</code>: Variable Binaria. Registra si el cliente entró en morosidad o no.</li>\r\n",
    "<li><code>income</code>: Ingreso promedio declarado por el cliente.</li>\r\n",
    "<li><code>balance</code>: total del saldo en la cuenta de crédito.</li>\r\n",
    "<li><code>student</code>: Variable binaria. Registra si el cliente es estudiante o no.</li>\r\n",
    "</ul>\r\n"
   ],
   "metadata": {}
  },
  {
   "cell_type": "markdown",
   "source": [
    "## Ejercicio 1: Preparación de ambiente de trabajo\r\n",
    "<ul>\r\n",
    "<li>Importe los módulos básicos para el análisis de datos.</li>\r\n",
    "<li>Importe las clases <code>LabelEncoder</code>, <code>StandardScaler</code> y <code>LabelBinarizer</code> de\r\n",
    "<code>preprocessing</code>.</li>\r\n",
    "<li>Importe las funciones <code>train_test_split</code> y <code>cross_val_score</code> de <code>model_selection</code></li>\r\n",
    "<li>Importe la función <code>classification_report</code> de <code>metrics</code>.</li>\r\n",
    "<li>Importe las clases <code>LinearDiscriminantAnalysis</code> y\r\n",
    "<code>QuadraticDiscriminantAnalysis</code>.</li>\r\n",
    "<li>Agregue la base de datos en el ambiente de trabajo.</li>\r\n",
    "<li>Inspeccione la distribución de cada atributo.</li>\r\n",
    "</ul>\r\n"
   ],
   "metadata": {}
  },
  {
   "cell_type": "code",
   "execution_count": 1,
   "source": [
    "import pandas as pd\r\n",
    "import numpy as np\r\n",
    "import matplotlib.pyplot as plt\r\n",
    "import seaborn as sns\r\n",
    "from sklearn.discriminant_analysis import LinearDiscriminantAnalysis, QuadraticDiscriminantAnalysis \r\n",
    "from sklearn.preprocessing import LabelEncoder, LabelBinarizer, StandardScaler\r\n",
    "from sklearn.model_selection import train_test_split, cross_val_score\r\n",
    "from sklearn.metrics import classification_report"
   ],
   "outputs": [],
   "metadata": {}
  },
  {
   "cell_type": "code",
   "execution_count": 18,
   "source": [
    "# Importamos la base de datos\r\n",
    "df = pd.read_csv('default_credit.csv').drop(columns=['index'])\r\n",
    "print(df.info())\r\n",
    "# Guardamos las columnas de estudio\r\n",
    "columns = ['student', 'balance', 'income']\r\n",
    "df.sample()"
   ],
   "outputs": [
    {
     "output_type": "stream",
     "name": "stdout",
     "text": [
      "<class 'pandas.core.frame.DataFrame'>\n",
      "RangeIndex: 10000 entries, 0 to 9999\n",
      "Data columns (total 4 columns):\n",
      " #   Column   Non-Null Count  Dtype  \n",
      "---  ------   --------------  -----  \n",
      " 0   default  10000 non-null  object \n",
      " 1   student  10000 non-null  object \n",
      " 2   balance  10000 non-null  float64\n",
      " 3   income   10000 non-null  float64\n",
      "dtypes: float64(2), object(2)\n",
      "memory usage: 312.6+ KB\n",
      "None\n"
     ]
    },
    {
     "output_type": "execute_result",
     "data": {
      "text/html": [
       "<div>\n",
       "<style scoped>\n",
       "    .dataframe tbody tr th:only-of-type {\n",
       "        vertical-align: middle;\n",
       "    }\n",
       "\n",
       "    .dataframe tbody tr th {\n",
       "        vertical-align: top;\n",
       "    }\n",
       "\n",
       "    .dataframe thead th {\n",
       "        text-align: right;\n",
       "    }\n",
       "</style>\n",
       "<table border=\"1\" class=\"dataframe\">\n",
       "  <thead>\n",
       "    <tr style=\"text-align: right;\">\n",
       "      <th></th>\n",
       "      <th>default</th>\n",
       "      <th>student</th>\n",
       "      <th>balance</th>\n",
       "      <th>income</th>\n",
       "    </tr>\n",
       "  </thead>\n",
       "  <tbody>\n",
       "    <tr>\n",
       "      <th>8460</th>\n",
       "      <td>No</td>\n",
       "      <td>Yes</td>\n",
       "      <td>284.841577</td>\n",
       "      <td>20477.837227</td>\n",
       "    </tr>\n",
       "  </tbody>\n",
       "</table>\n",
       "</div>"
      ],
      "text/plain": [
       "     default student     balance        income\n",
       "8460      No     Yes  284.841577  20477.837227"
      ]
     },
     "metadata": {},
     "execution_count": 18
    }
   ],
   "metadata": {}
  },
  {
   "cell_type": "code",
   "execution_count": 16,
   "source": [
    "# Creamos los ejes\r\n",
    "fig, ax = plt.subplots(1, 4, figsize =(15, 8))\r\n",
    "# Graficamos la variable default\r\n",
    "sns.histplot(df['default'], ax=ax[0])\r\n",
    "# Graficamos el resto de las variables\r\n",
    "for i, col in enumerate(columns):\r\n",
    "    sns.histplot(x=col, hue='default', data=df, alpha=.5, ax=ax[i + 1])\r\n",
    "plt.tight_layout()"
   ],
   "outputs": [
    {
     "output_type": "display_data",
     "data": {
      "image/png": "[encoded data removed]",
      "text/plain": [
       "<Figure size 1080x576 with 4 Axes>"
      ]
     },
     "metadata": {
      "needs_background": "light"
     }
    }
   ],
   "metadata": {}
  },
  {
   "cell_type": "markdown",
   "source": [
    "## Ejercicio 2: Modelo base\r\n",
    "<ul>\r\n",
    "<li>Recuerde que los modelos de <code>sklearn</code> no soportan datos que no sean numéricos.\r\n",
    "Transforme los atributos pertinentes con <code>LabelEncoder</code>.</li>\r\n",
    "<li>Genere muestras de validación y entrenamiento, reservando un 33% de los datos como\r\n",
    "validación.</li>\r\n",
    "<li>Genere un modelo con <code>LinearDiscriminantAnalysis</code> sin modificar los hiper\r\n",
    "parámetros. Genere métricas de evaluación utilizando <code>classification_report</code>.</li>\r\n",
    "<li>Comente sobre cuál es el desempeño del modelo en cada clase, así como en general</li>\r\n",
    "</ul>"
   ],
   "metadata": {}
  },
  {
   "cell_type": "code",
   "execution_count": 21,
   "source": [
    "#Instanciamos LabelEncoder\r\n",
    "lbl = LabelEncoder()\r\n",
    "# Generamos el nuevo dataframe\r\n",
    "parsedDf = df.copy()\r\n",
    "parsedDf['default'] = lbl.fit_transform(parsedDf['default'])\r\n",
    "parsedDf['student'] = lbl.fit_transform(parsedDf['student'])\r\n",
    "parsedDf.sample()"
   ],
   "outputs": [
    {
     "output_type": "execute_result",
     "data": {
      "text/html": [
       "<div>\n",
       "<style scoped>\n",
       "    .dataframe tbody tr th:only-of-type {\n",
       "        vertical-align: middle;\n",
       "    }\n",
       "\n",
       "    .dataframe tbody tr th {\n",
       "        vertical-align: top;\n",
       "    }\n",
       "\n",
       "    .dataframe thead th {\n",
       "        text-align: right;\n",
       "    }\n",
       "</style>\n",
       "<table border=\"1\" class=\"dataframe\">\n",
       "  <thead>\n",
       "    <tr style=\"text-align: right;\">\n",
       "      <th></th>\n",
       "      <th>default</th>\n",
       "      <th>student</th>\n",
       "      <th>balance</th>\n",
       "      <th>income</th>\n",
       "    </tr>\n",
       "  </thead>\n",
       "  <tbody>\n",
       "    <tr>\n",
       "      <th>6164</th>\n",
       "      <td>0</td>\n",
       "      <td>1</td>\n",
       "      <td>561.781867</td>\n",
       "      <td>18470.282612</td>\n",
       "    </tr>\n",
       "  </tbody>\n",
       "</table>\n",
       "</div>"
      ],
      "text/plain": [
       "      default  student     balance        income\n",
       "6164        0        1  561.781867  18470.282612"
      ]
     },
     "metadata": {},
     "execution_count": 21
    }
   ],
   "metadata": {}
  },
  {
   "cell_type": "code",
   "execution_count": 23,
   "source": [
    "# Generamos los modelos base\r\n",
    "X_train, X_test, y_train, y_test = train_test_split(parsedDf.loc[:, 'student' : 'income'], parsedDf['default'], test_size=.33, random_state=19137)\r\n",
    "# Entrenamos el modelo\r\n",
    "ldaModel = LinearDiscriminantAnalysis()\r\n",
    "ldaModel.fit(X_train, y_train)\r\n",
    "# Conseguimos las métricas\r\n",
    "print(classification_report(y_test, ldaModel.predict(X_test)))"
   ],
   "outputs": [
    {
     "output_type": "stream",
     "name": "stdout",
     "text": [
      "              precision    recall  f1-score   support\n",
      "\n",
      "           0       0.98      1.00      0.99      3200\n",
      "           1       0.86      0.24      0.38       100\n",
      "\n",
      "    accuracy                           0.98      3300\n",
      "   macro avg       0.92      0.62      0.68      3300\n",
      "weighted avg       0.97      0.98      0.97      3300\n",
      "\n"
     ]
    }
   ],
   "metadata": {}
  },
  {
   "cell_type": "markdown",
   "source": [
    "Vemos que el modelo no tiene problemas para identificar cuando no entra en morosidad, pero sólo acerta un 24% (recall) de los casos en que el cliente entra a morosidad. Vemos claramente que el <code>accuracy</code> está en 98%, pero esto es muy engañoso pues nuesro vector objetivo está fuertemente desbalanceado. "
   ],
   "metadata": {}
  },
  {
   "cell_type": "markdown",
   "source": [
    "## Ejercicio 3: Refactorización 1 - información a priori\r\n",
    "<ul>\r\n",
    "<li>Dado que trabajamos con modelos generativos, podemos incluir información exógena.\r\n",
    "Para este caso agregaremos dos distribuciones:\r\n",
    "<ul>\r\n",
    "<li>Asumamos que hay un 50/50 de morosos y no morosos.</li>\r\n",
    "<li>Asumamos que hay un 60/40 de morosos y no morosos.</li>\r\n",
    "</ul>\r\n",
    "</li>\r\n",
    "<li>Por cada modelo, reporte las métricas de clasificación.</li>\r\n",
    "</ul>"
   ],
   "metadata": {}
  },
  {
   "cell_type": "code",
   "execution_count": 28,
   "source": [
    "def ldaWithPriorsReport(trainTuple, testTuple, priors=None, label=''):\r\n",
    "    # conseguimos las bases\r\n",
    "    X_train_aux, y_train_aux = trainTuple\r\n",
    "    X_test_aux, y_test_aux = testTuple\r\n",
    "    # Entrenamos el modelo\r\n",
    "    ldaModel = LinearDiscriminantAnalysis(priors=priors)\r\n",
    "    ldaModel.fit(X_train_aux, y_train_aux)\r\n",
    "    # Conseguimos las métricas\r\n",
    "    print(\"=\"*20 + label + \"=\"*20)\r\n",
    "    print(classification_report(y_test_aux, ldaModel.predict(X_test_aux)))\r\n",
    "    return ldaModel\r\n"
   ],
   "outputs": [],
   "metadata": {}
  },
  {
   "cell_type": "code",
   "execution_count": 29,
   "source": [
    "ldaWithPriorsReport((X_train, y_train), (X_test, y_test), [.5, .5], 'Modelo 50/50')"
   ],
   "outputs": [
    {
     "output_type": "stream",
     "name": "stdout",
     "text": [
      "====================Modelo 50/50====================\n",
      "              precision    recall  f1-score   support\n",
      "\n",
      "           0       1.00      0.86      0.92      3200\n",
      "           1       0.16      0.88      0.28       100\n",
      "\n",
      "    accuracy                           0.86      3300\n",
      "   macro avg       0.58      0.87      0.60      3300\n",
      "weighted avg       0.97      0.86      0.90      3300\n",
      "\n"
     ]
    },
    {
     "output_type": "execute_result",
     "data": {
      "text/plain": [
       "LinearDiscriminantAnalysis(priors=[0.5, 0.5])"
      ]
     },
     "metadata": {},
     "execution_count": 29
    }
   ],
   "metadata": {}
  },
  {
   "cell_type": "code",
   "execution_count": 32,
   "source": [
    "ldaWithPriorsReport((X_train, y_train), (X_test, y_test), [.4, .6], 'Modelo 40/60')"
   ],
   "outputs": [
    {
     "output_type": "stream",
     "name": "stdout",
     "text": [
      "====================Modelo 40/60====================\n",
      "              precision    recall  f1-score   support\n",
      "\n",
      "           0       1.00      0.81      0.89      3200\n",
      "           1       0.13      0.93      0.23       100\n",
      "\n",
      "    accuracy                           0.81      3300\n",
      "   macro avg       0.56      0.87      0.56      3300\n",
      "weighted avg       0.97      0.81      0.87      3300\n",
      "\n"
     ]
    },
    {
     "output_type": "execute_result",
     "data": {
      "text/plain": [
       "LinearDiscriminantAnalysis(priors=[0.4, 0.6])"
      ]
     },
     "metadata": {},
     "execution_count": 32
    }
   ],
   "metadata": {}
  },
  {
   "cell_type": "markdown",
   "source": [
    "Vemos que en ambos modelos se bajó sustancialmente los falsos negativos de 'default' lo que arroja un <code>recall</code> del ~90% aprox. Sin embargo, la cantidad de falsos positivos aumentó mucho mas, dejando un peor <code>precision</code>  y empeorando en si el modelo debido a la baja del <code>f1-score</code>"
   ],
   "metadata": {}
  },
  {
   "cell_type": "markdown",
   "source": [
    "## Ejercicio 4: Refactorización 2 - oversampling\r\n",
    "### __Digresión: Synthetic Over(Under)Sampling__\r\n",
    "<ul>\r\n",
    "<li>Por lo general podemos intentar aliviar el problema del desbalance de clases mediante\r\n",
    "la ponderación dentro del algoritmo. Otra alternativa es el muestreo con reemplazo\r\n",
    "dentro de los conjuntos de entrenamiento. Estos métodos clásicos se conocen como\r\n",
    "<b>Oversampling</b> cuando repetimos registros aleatorios de la clase minoritaria, y\r\n",
    "<b>Undersampling</b> cuando eliminamos aleatoriamente registros de la clase mayoritaria.</li>\r\n",
    "<li>Un contratiempo de estos métodos clásicos es que pueden replicar información\r\n",
    "sesgada que afecte el desempeño de generalización del modelo. Si los datos son malos,\r\n",
    "estaremos replicando estas fallas.</li>\r\n",
    "<li>\r\n",
    "\r\n",
    "Otra solución es generar ejemplos de entrenamiento sintéticos mediante el\r\n",
    "entrenamiento de ejemplos de la clase minoritaria. A grandes rasgos la solución\r\n",
    "funciona de la siguiente forma: En función a un subconjunto de datos correspondientes\r\n",
    "a la clase minoritaria, entrenamos algún modelo no supervisado o generativo como\r\n",
    "Naive Bayes, KMeans o KNearestNeighbors para generar representaciones sintéticas de\r\n",
    "los datos <b>en el espacio de atributos de la clase específica</b> mediante\r\n",
    "$x_{nuevo-ejemplo} = x_i + \\lambda(x_{zi} - x_i )$ es un ejemplo de entrenamiento de la clase minoritaria y\r\n",
    "$\\lambda$ es un parámetro de interpolación aleatorio $\\lambda \\sim Uniforme(0, 1)$.</li>\r\n",
    "<li>Uno de los problemas más graves de esta base de datos, es el fuerte desbalance entre\r\n",
    "clases. Ahora generaremos observaciones sintéticas mediante SMOTE (Synthetic\r\n",
    "Minority Oversampling Technique). Para ello, debemos agregar el paquete a nuestro\r\n",
    "ambiente virtual. En nuestro terminal agregamos <code>conda install -c conda-forge\r\n",
    "imbalanced-learn</code>. Incorpore SMOTE en el ambiente de trabajo con la siguiente\r\n",
    "sintáxis <code>from imblearn.over_sampling import SMOTE</code>.</li>\r\n",
    "<li>Para implementar oversampling, debemos generar nuevos objetos que representan\r\n",
    "nuestra muestra de entrenamiento incrementada artificialmente. Para ello implemente\r\n",
    "la siguiente sintaxis:<br>\r\n",
    "\r\n",
    "```python\r\n",
    "from imblearn.over_sampling import SMOTE\r\n",
    "# Instanciamos la clase\r\n",
    "oversampler = SMOTE(random_state=11238, ratio='minority')\r\n",
    "# generamos el eversampling de la matriz de entrenamiento y\r\n",
    "X_train_oversamp, y_train_oversamp = oversampler.fit_sample(X_train, y_train)\r\n",
    "```\r\n",
    "<br>\r\n",
    "</li>\r\n",
    "<li>Vuelva a entrenar el modelo con los datos aumentados de forma artificial y comente\r\n",
    "sobre su desempeño.</li>\r\n",
    "\r\n",
    "</ul>\r\n"
   ],
   "metadata": {}
  },
  {
   "cell_type": "code",
   "execution_count": 34,
   "source": [
    "from imblearn.over_sampling import SMOTE\r\n",
    "# Instanciamos la clase\r\n",
    "oversampler = SMOTE(random_state=11238, sampling_strategy='minority')\r\n",
    "# generamos el eversampling de la matriz de entrenamiento y\r\n",
    "X_train_oversamp, y_train_oversamp = oversampler.fit_sample(X_train, y_train)"
   ],
   "outputs": [],
   "metadata": {}
  },
  {
   "cell_type": "code",
   "execution_count": 41,
   "source": [
    "ldaWithPriorsReport((X_train_oversamp, y_train_oversamp), (X_test, y_test), label='Modelo Sin Priors con Oversampling')"
   ],
   "outputs": [
    {
     "output_type": "stream",
     "name": "stdout",
     "text": [
      "====================Modelo Sin Priors con Oversampling====================\n",
      "              precision    recall  f1-score   support\n",
      "\n",
      "           0       1.00      0.86      0.92      3200\n",
      "           1       0.17      0.89      0.28       100\n",
      "\n",
      "    accuracy                           0.86      3300\n",
      "   macro avg       0.58      0.88      0.60      3300\n",
      "weighted avg       0.97      0.86      0.90      3300\n",
      "\n"
     ]
    },
    {
     "output_type": "execute_result",
     "data": {
      "text/plain": [
       "LinearDiscriminantAnalysis()"
      ]
     },
     "metadata": {},
     "execution_count": 41
    }
   ],
   "metadata": {}
  },
  {
   "cell_type": "markdown",
   "source": [
    "Vemos que el modelo es casi igual (sólo un pelo mejor) que el modelo sin Oversampling pero con priors de 50/50."
   ],
   "metadata": {}
  },
  {
   "cell_type": "markdown",
   "source": [
    "## Ejercicio 5: Refactorización 3 - QDA\r\n",
    "<ul>\r\n",
    "<li>Por último, implemente un modelo <code>QuadraticDiscriminantAnalysis</code> con los datos\r\n",
    "aumentados artificialmente. Genere las métricas de desempeño.</li>\r\n",
    "<li>Comente a grandes rasgos sobre el mejor modelo en su capacidad predictiva.</li>\r\n",
    "</ul>\r\n"
   ],
   "metadata": {}
  },
  {
   "cell_type": "code",
   "execution_count": 42,
   "source": [
    "def qdaWithPriorsReport(trainTuple, testTuple, priors=None, label=''):\r\n",
    "    # conseguimos las bases\r\n",
    "    X_train_aux, y_train_aux = trainTuple\r\n",
    "    X_test_aux, y_test_aux = testTuple\r\n",
    "    # Entrenamos el modelo\r\n",
    "    qdaModel = QuadraticDiscriminantAnalysis(priors=priors)\r\n",
    "    qdaModel.fit(X_train_aux, y_train_aux)\r\n",
    "    # Conseguimos las métricas\r\n",
    "    print(\"=\"*20 + label + \"=\"*20)\r\n",
    "    print(classification_report(y_test_aux, qdaModel.predict(X_test_aux)))\r\n",
    "    return qdaModel"
   ],
   "outputs": [],
   "metadata": {}
  },
  {
   "cell_type": "code",
   "execution_count": 44,
   "source": [
    "qdaWithPriorsReport((X_train_oversamp, y_train_oversamp), (X_test, y_test), label='Modelo Cuadrático Sin Priors con Oversampling')"
   ],
   "outputs": [
    {
     "output_type": "stream",
     "name": "stdout",
     "text": [
      "====================Modelo Cuadrático Sin Priors con Oversampling====================\n",
      "              precision    recall  f1-score   support\n",
      "\n",
      "           0       1.00      0.89      0.94      3200\n",
      "           1       0.19      0.86      0.32       100\n",
      "\n",
      "    accuracy                           0.89      3300\n",
      "   macro avg       0.59      0.87      0.63      3300\n",
      "weighted avg       0.97      0.89      0.92      3300\n",
      "\n"
     ]
    },
    {
     "output_type": "execute_result",
     "data": {
      "text/plain": [
       "QuadraticDiscriminantAnalysis()"
      ]
     },
     "metadata": {},
     "execution_count": 44
    }
   ],
   "metadata": {}
  },
  {
   "cell_type": "markdown",
   "source": [
    "Vemos que las estadísticas de este modelo son mejores que los anteriormente definidos con la excepción del primero. El mejor modelo dependerá de la tolerancia al error que podamos soportar como investigadores, pues el primer modelo es mucho mejor prediciendo cuando no es moroso pero tiene una tasa baja de acertar a la predicción de los morosos. Por otro lado este último modelo es mejor acertando cuando un cliente será moroso pero genera muchos mas falsos positivos, por tanto, empeorando un tanto la predicción de cuando no se es moroso."
   ],
   "metadata": {}
  }
 ],
 "metadata": {
  "orig_nbformat": 4,
  "language_info": {
   "name": "python",
   "version": "3.8.5",
   "mimetype": "text/x-python",
   "codemirror_mode": {
    "name": "ipython",
    "version": 3
   },
   "pygments_lexer": "ipython3",
   "nbconvert_exporter": "python",
   "file_extension": ".py"
  },
  "kernelspec": {
   "name": "python3",
   "display_name": "Python 3.8.5 64-bit ('base': conda)"
  },
  "interpreter": {
   "hash": "07efdcd4b820c98a756949507a4d29d7862823915ec7477944641bea022f4f62"
  }
 },
 "nbformat": 4,
 "nbformat_minor": 2
}