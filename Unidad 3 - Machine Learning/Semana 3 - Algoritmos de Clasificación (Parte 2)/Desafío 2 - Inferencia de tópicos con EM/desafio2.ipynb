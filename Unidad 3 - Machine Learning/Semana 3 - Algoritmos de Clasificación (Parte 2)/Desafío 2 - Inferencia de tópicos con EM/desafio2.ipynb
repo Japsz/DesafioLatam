{
 "cells": [
  {
   "cell_type": "markdown",
   "metadata": {},
   "source": [
    "# __Desafío - Inferencia de tópicos con EM__\n",
    "\n",
    "## Requerimientos\n",
    "- En esta sesión trabajaremos con una serie de base de datos sobre letras musicales de\n",
    "distintos artistas. Cada uno de los `csv` se encuentra en la carpeta `dump`.\n",
    "- Cada `csv` tiene el nombre del artista a analizar. Los archivos contienen el nombre del\n",
    "artista, el género musical del artista, el nombre de la canción y las letras.\n",
    "- En base a esta información, el objetivo del ejercicio es generar un modelo probabilístico\n",
    "que pueda identificar el género musical más probable dado la letra de una canción.\n",
    "- Para ello implementaremos un modelo conocido como Latent Dirichlet Allocation que\n",
    "hace uso de una variante del algoritmo EM para inferir clases latentes a partir de una\n",
    "matriz de documentos."
   ]
  },
  {
   "cell_type": "markdown",
   "metadata": {},
   "source": [
    "## Ejercicio 1: Preparar el ambiente de trabajo\n",
    "-  Importe los módulos `numpy`, `pandas`, `matplotlib`, `seaborn`, `glob` y `os` siguiendo las\n",
    "buenas prácticas. Los últimos dos módulos permitirán realizar la importación de\n",
    "múltiples archivos dentro de la carpeta `dump`.\n",
    "-  Para ello genere un objeto que guarde en una lista todos los archivos alojados en `dump`\n",
    "utilizando `glob.glob` y `os.getcwd()` para extraer las rutas absolutas. Posteriormente\n",
    "genere un objeto `pd.DataFrame` que contenga todos los `csv`.\n",
    "-  Asegúrese de eliminar la columna `Unnamed: 0` que se genera por defecto.\n"
   ]
  },
  {
   "cell_type": "code",
   "execution_count": 2,
   "metadata": {},
   "outputs": [],
   "source": [
    "import numpy as np\n",
    "import pandas as pd\n",
    "import matplotlib.pyplot as plt\n",
    "import seaborn as sns\n",
    "import glob\n",
    "import os"
   ]
  },
  {
   "cell_type": "code",
   "execution_count": 11,
   "metadata": {},
   "outputs": [
    {
     "name": "stdout",
     "output_type": "stream",
     "text": [
      "<class 'pandas.core.frame.DataFrame'>\n",
      "Int64Index: 9489 entries, 0 to 250\n",
      "Data columns (total 4 columns):\n",
      " #   Column  Non-Null Count  Dtype \n",
      "---  ------  --------------  ----- \n",
      " 0   0       9489 non-null   object\n",
      " 1   1       9489 non-null   object\n",
      " 2   2       9489 non-null   object\n",
      " 3   3       9489 non-null   object\n",
      "dtypes: object(4)\n",
      "memory usage: 370.7+ KB\n"
     ]
    }
   ],
   "source": [
    "paths = glob.glob(os.getcwd() + '/dump/*.csv')\n",
    "baseDf = pd.DataFrame()\n",
    "for path in paths:\n",
    "    artistDf = pd.read_csv(path).drop(columns=['Unnamed: 0'])\n",
    "    baseDf = pd.concat([baseDf, artistDf])\n",
    "baseDf.info()"
   ]
  },
  {
   "cell_type": "code",
   "execution_count": 14,
   "metadata": {},
   "outputs": [
    {
     "data": {
      "text/html": [
       "<div>\n",
       "<style scoped>\n",
       "    .dataframe tbody tr th:only-of-type {\n",
       "        vertical-align: middle;\n",
       "    }\n",
       "\n",
       "    .dataframe tbody tr th {\n",
       "        vertical-align: top;\n",
       "    }\n",
       "\n",
       "    .dataframe thead th {\n",
       "        text-align: right;\n",
       "    }\n",
       "</style>\n",
       "<table border=\"1\" class=\"dataframe\">\n",
       "  <thead>\n",
       "    <tr style=\"text-align: right;\">\n",
       "      <th></th>\n",
       "      <th>0</th>\n",
       "      <th>1</th>\n",
       "      <th>2</th>\n",
       "      <th>3</th>\n",
       "    </tr>\n",
       "  </thead>\n",
       "  <tbody>\n",
       "    <tr>\n",
       "      <th>70</th>\n",
       "      <td>Michael Jackson</td>\n",
       "      <td>pop</td>\n",
       "      <td>The Way You Make Me Feel</td>\n",
       "      <td>Hee! - hee! \\n Ooh! \\n Go on girl! \\n Aaow! \\n...</td>\n",
       "    </tr>\n",
       "    <tr>\n",
       "      <th>50</th>\n",
       "      <td>Killer Mike</td>\n",
       "      <td>hiphop</td>\n",
       "      <td>My Chrome</td>\n",
       "      <td>(Intro - Killer Mike) \\n (You don't have to go...</td>\n",
       "    </tr>\n",
       "    <tr>\n",
       "      <th>27</th>\n",
       "      <td>Britney Spears</td>\n",
       "      <td>pop</td>\n",
       "      <td>Heart</td>\n",
       "      <td>Heart \\n I know I've been hard on you \\n I'm s...</td>\n",
       "    </tr>\n",
       "    <tr>\n",
       "      <th>74</th>\n",
       "      <td>De La Soul</td>\n",
       "      <td>hiphop</td>\n",
       "      <td>Wonce Again Long Island</td>\n",
       "      <td>(Pos Plug Wonder Why) \\n (What the hell do you...</td>\n",
       "    </tr>\n",
       "    <tr>\n",
       "      <th>218</th>\n",
       "      <td>Kiss</td>\n",
       "      <td>rock</td>\n",
       "      <td>Right Here Right Now</td>\n",
       "      <td>I can see in your eyes \\n That you're tired of...</td>\n",
       "    </tr>\n",
       "  </tbody>\n",
       "</table>\n",
       "</div>"
      ],
      "text/plain": [
       "                   0       1                         2  \\\n",
       "70   Michael Jackson     pop  The Way You Make Me Feel   \n",
       "50       Killer Mike  hiphop                 My Chrome   \n",
       "27    Britney Spears     pop                     Heart   \n",
       "74        De La Soul  hiphop   Wonce Again Long Island   \n",
       "218             Kiss    rock      Right Here Right Now   \n",
       "\n",
       "                                                     3  \n",
       "70   Hee! - hee! \\n Ooh! \\n Go on girl! \\n Aaow! \\n...  \n",
       "50   (Intro - Killer Mike) \\n (You don't have to go...  \n",
       "27   Heart \\n I know I've been hard on you \\n I'm s...  \n",
       "74   (Pos Plug Wonder Why) \\n (What the hell do you...  \n",
       "218  I can see in your eyes \\n That you're tired of...  "
      ]
     },
     "execution_count": 14,
     "metadata": {},
     "output_type": "execute_result"
    }
   ],
   "source": [
    "baseDf.sample(5)"
   ]
  },
  {
   "cell_type": "code",
   "execution_count": 16,
   "metadata": {},
   "outputs": [
    {
     "data": {
      "text/plain": [
       "rock      4140\n",
       "hiphop    2535\n",
       "metal     1582\n",
       "pop       1232\n",
       "Name: 1, dtype: int64"
      ]
     },
     "execution_count": 16,
     "metadata": {},
     "output_type": "execute_result"
    }
   ],
   "source": [
    "baseDf['1'].value_counts()"
   ]
  },
  {
   "cell_type": "markdown",
   "metadata": {},
   "source": [
    "## Ejercicio 2: Matriz de ocurrencias\n",
    "- Importe la clase `CountVectorizer` dentro de los módulos `feature_extraction.text`\n",
    "de la librería `sklearn`.\n",
    "- Aplique la clase para extraer las 5000 palabras más repetidas en toda la base de datos.\n",
    "- Con la clase inicializada, incorpore las letras con el método `fit_transform` y guarde los\n",
    "resultados en un nuevo objeto.\n"
   ]
  },
  {
   "cell_type": "code",
   "execution_count": 7,
   "metadata": {},
   "outputs": [
    {
     "data": {
      "text/plain": [
       "like          19629\n",
       "don           17398\n",
       "know          14962\n",
       "got           14171\n",
       "just          13978\n",
       "              ...  \n",
       "mayor            31\n",
       "footprints       31\n",
       "tweedle          31\n",
       "crow             31\n",
       "pearl            31\n",
       "Length: 5000, dtype: int64"
      ]
     },
     "execution_count": 7,
     "metadata": {},
     "output_type": "execute_result"
    }
   ],
   "source": [
    "from sklearn.feature_extraction.text import CountVectorizer\n",
    "# instanciamos un objeto\n",
    "count_vectorizer=CountVectorizer(stop_words='english')\n",
    "# Implementamos los pasos fit y transform\n",
    "count_vectorizer_fit = count_vectorizer.fit_transform(baseDf['3'])\n",
    "# Extraemos tokens (palabras)\n",
    "words = count_vectorizer.get_feature_names()\n",
    "# extraemos frecuencia\n",
    "words_freq = count_vectorizer_fit.toarray().sum(axis=0)\n",
    "# Convertimos el arreglo de frecuencias en una serie\n",
    "wordSeries = pd.Series(words_freq, index=words).sort_values(ascending=False)\n",
    "# Se muestran las primeras 5000 palabras\n",
    "wordSeries.head(5000)"
   ]
  },
  {
   "cell_type": "markdown",
   "metadata": {},
   "source": [
    "## Ejercicio 3: Entrenamiento del Modelo\n",
    "- Importe `sklearn.decomposition.LatentDirichletAllocation` y\n",
    "`sklearn.model_selection.GridSearchCV`.\n",
    "- Genere una búsqueda de grilla con los siguientes hiper parámetros:\n",
    "  - `n_components: [5, 10, 15]`.\n",
    "  - `learning_decay: [0.7, 0.5]`.\n",
    "- Entrene la búsqueda de grilla con las letras en un formato vectorizado con\n",
    "`CountVectorizer`.\n",
    "- Reporte brevemente cuál es la mejor combinación de hiper parámetros.\n",
    "\n",
    "### Digresión: Latent Dirichlet Allocation\n",
    "Latent Dirichlet Allocatio (LDA) es un modelo probabilístico generativo basado en Inferencia\n",
    "Variacional EM. La principal utilidad de esto es la identificación de tópicos en un corpus de\n",
    "texto. El proceso de inferencia se puede resumir en los siguientes pasos:\n",
    "- Cada documento dentro del corpus se puede entender como una mezcla de tópicos\n",
    "__comunes a nivel de corpus__.\n",
    "- Esta mezcla de tópicos es latente: sólo observamos los documentos registrados y sus\n",
    "palabras.\n",
    "La API de `sklearn.decomposition.LatentDirichletAllocation` presenta la misma\n",
    "funcionalidad de todo modelo de sklearn. Algunos puntos a considerar en la\n",
    "inicialización de la clase son:\n",
    "  - `n_components`: Cantidad de tópicos a inferir en un corpus.\n",
    "  - `learning_method`: Forma en la que entran los datos en entrenamiento. Cuando\n",
    "es 'batch', se ingresa la matriz de entrenamiento completa. Cuando es 'online', la\n",
    "matriz de entrenamiento ingresa de manera secuencial en parcelas pequeñas.\n",
    "  - `learning_decay`: Tasa de aprendizaje en la función de pérdida. Cuando se\n",
    "implementa con `learning_method='online'`, el modelo se entrena con\n",
    "Gradiente Estocástico Descendente.\n",
    "  - `Perplejidad`: Busca aproximar el número óptimo de tópicos a inferir.\n",
    "Técnicamente evalúa qué tan bien predice una muestra específica. En función a\n",
    "un número de tópicos, define la distribución teórica de palabras representada por\n",
    "los tópicos y la compara con la ocurrencia empírica de palabras en tópicos.\n",
    "\n"
   ]
  },
  {
   "cell_type": "code",
   "execution_count": 90,
   "metadata": {},
   "outputs": [],
   "source": [
    "from sklearn.pipeline import Pipeline\n",
    "from sklearn.decomposition import LatentDirichletAllocation\n",
    "from sklearn.model_selection import GridSearchCV"
   ]
  },
  {
   "cell_type": "code",
   "execution_count": 57,
   "metadata": {},
   "outputs": [
    {
     "data": {
      "text/plain": [
       "Pipeline(steps=[('text_vectorize', CountVectorizer(stop_words='english')),\n",
       "                ('model',\n",
       "                 GridSearchCV(estimator=LatentDirichletAllocation(random_state=19137),\n",
       "                              param_grid={'learning_decay': [0.7, 0.5],\n",
       "                                          'n_components': [5, 10, 15]}))])"
      ]
     },
     "execution_count": 57,
     "metadata": {},
     "output_type": "execute_result"
    }
   ],
   "source": [
    "# Definimos los hiperparámetros de búsqueda\n",
    "n_components = [5, 10, 15]\n",
    "learning_decay = [0.7, 0.5]\n",
    "# Creamos el pipeline del modelo\n",
    "pipeline = Pipeline([\n",
    "    ('text_vectorize', CountVectorizer(stop_words ='english')),\n",
    "    ('model', GridSearchCV(LatentDirichletAllocation(random_state=19137), {'n_components': n_components, 'learning_decay': learning_decay}))\n",
    "])\n",
    "# Entrenamos\n",
    "pipeline.fit(baseDf['3'])"
   ]
  },
  {
   "cell_type": "code",
   "execution_count": 58,
   "metadata": {},
   "outputs": [
    {
     "data": {
      "text/plain": [
       "{'learning_decay': 0.7, 'n_components': 5}"
      ]
     },
     "execution_count": 58,
     "metadata": {},
     "output_type": "execute_result"
    }
   ],
   "source": [
    "# Conseguimos los mejores parámetros desde el GridSearchCV\n",
    "pipeline.get_params()['model'].best_params_"
   ]
  },
  {
   "cell_type": "markdown",
   "metadata": {},
   "source": [
    "Vemos que los mejores parámetros son `learning_decay= 0.7` y `n_components= 5`"
   ]
  },
  {
   "cell_type": "markdown",
   "metadata": {},
   "source": [
    "## Ejercicio 4 : Inferencia e Identificación de Tópicos\n",
    "- En base a la mejor combinación de hiper parámetros, entrene el modelo con la matriz de\n",
    "atributos de las letras.\n",
    "- Para identificar de qué se trata cada tópico, necesitamos identificar las principales 15\n",
    "palabras asociadas con éste. Puede implementar la siguiente línea de código para\n",
    "identificar las principales palabras en un tópico:\n",
    "```python\n",
    "# mediante .components_ podemos extraer una matriz que entrega las distribución de palabras por cada tópico.\n",
    "for topic_id, topic_name in enumerate(fit_best_lda.components_):\n",
    "    # para cada tópico\n",
    "    print(\"tópico: {}\".format(topic_id + 1))\n",
    "    # mediante argsort logramos ordenar los elementos por magnitud\n",
    "    # para los elementos más relevantes ordenados por argsort, buscamos su correlativo\n",
    "    # en la matriz dispersa y devolvemos el nombre.\n",
    "    # finalmente concatenamos las palabras\n",
    "    print(\" \".join([counter.get_feature_names()[i] for i in topic_name.argsort()[:-15 - 1: -1]]))\n",
    "```\n",
    "- Comente a qué tópicos está asociada cada clase inferida.\n",
    "\n"
   ]
  },
  {
   "cell_type": "code",
   "execution_count": 59,
   "metadata": {},
   "outputs": [
    {
     "name": "stdout",
     "output_type": "stream",
     "text": [
      "tópico: 1\n",
      "like got shit don ain yo nigga fuck know cause just man em niggas bitch\n",
      "tópico: 2\n",
      "yeah oh know baby got like ah ya wanna just let come rock don em\n",
      "tópico: 3\n",
      "like na blood black body come war yeah ba dem left mi everybody right head\n",
      "tópico: 4\n",
      "life la god time death die world soul man dead eyes ll like just blood\n",
      "tópico: 5\n",
      "don love know just oh ll yeah got ve like want baby let time come\n"
     ]
    }
   ],
   "source": [
    "# Creamos el contador fiteado con datos de entrenamiento\n",
    "counter_train = CountVectorizer(stop_words='english')\n",
    "# Creamos el modelo con la mejor combinación de parámetros\n",
    "fit_best_lda = LatentDirichletAllocation(n_components=5, learning_decay=0.7, random_state=19137).fit(counter_train.fit_transform(baseDf['3']))\n",
    "# mediante .components_ podemos extraer una matriz que entrega las distribución de palabras por cada tópico.\n",
    "for topic_id, topic_name in enumerate(fit_best_lda.components_):\n",
    "    # para cada tópico\n",
    "    print(\"tópico: {}\".format(topic_id + 1))\n",
    "    # mediante argsort logramos ordenar los elementos por magnitud\n",
    "    # para los elementos más relevantes ordenados por argsort, buscamos su correlativo\n",
    "    # en la matriz dispersa y devolvemos el nombre.\n",
    "    # finalmente concatenamos las palabras\n",
    "    print(\" \".join([counter_train.get_feature_names()[i] for i in topic_name.argsort()[:-15 - 1: -1]]))"
   ]
  },
  {
   "cell_type": "markdown",
   "metadata": {},
   "source": [
    "Podríamos inferir que:\n",
    "- Los topicos 3 y 4 serían los mas iguales hablando de violencia, siendo 4 un poco mas 'existencial'.\n",
    "- El tópico 2 sería algo mas pop o rock\n",
    "- El topico 1 tiene palabras mas groseras propias del hiphop y rap\n",
    "- El tópico 5 tiene palabras mas bien de nostalgia o sentimentales."
   ]
  },
  {
   "cell_type": "markdown",
   "metadata": {},
   "source": [
    "## Ejercicio 5: Identificación de probabilidades\n",
    "- En base a la información generada, es posible identificar cuales van a ser los géneros\n",
    "más probables de ocurrir para un artista.\n",
    "- Para ello necesitamos guardar la probabilidad de cada canción en nuestra base de\n",
    "datos original. Podemos implementar esto de la siguiente manera:\n",
    "```python\n",
    "# generamos una transformación de los datos a distribución de tópico por palabra en el documento\n",
    "fit_best_lda = best_lda.transform(transformed_feats)\n",
    "# esta transformación la podemos coercionar a un dataframe de la siguiente manera\n",
    "topics_for_each_doc = pd.DataFrame(np.round(fit_best_lda, 3), index=df_lyrics.index )\n",
    "#agregamos identificadores de columna\n",
    "topics_for_each_doc.columns = list(map(lambda x: \"T: {}\".format(x), range(1, best_lda.n_components + 1)))\n",
    "# concatenamos las probabilidades de tópico por documento a nuestra matriz original\n",
    "concatenated_df = pd.concat([df_lyrics, topics_for_each_doc], axis=1)\n",
    "# argmax en la matriz de tópicos\n",
    "concatenated_df['highest_topic'] = np.argmax(docs_topics.values, axis=1) + 1\n",
    "```\n",
    "- Genere una matriz de correlaciones entre la probabilidad de tópicos inferidos. Comente\n",
    "brevemente cuales son las principales asociaciones existentes.\n",
    "- Con esta nueva base de datos, identifique las probabilidades de pertenencia para un\n",
    "artista específico.\n",
    "- Grafique la distribución de las probabilidades para algún artista en específico\n"
   ]
  },
  {
   "cell_type": "code",
   "execution_count": 60,
   "metadata": {},
   "outputs": [],
   "source": [
    "transformed_feats = counter_train.fit_transform(baseDf['3'])\n",
    "# generamos una transformación de los datos a distribución de tópico por palabra en el documento\n",
    "predicted_lda = fit_best_lda.transform(transformed_feats)\n",
    "# esta transformación la podemos coercionar a un dataframe de la siguiente manera\n",
    "topics_for_each_doc = pd.DataFrame(np.round(predicted_lda, 3), index=baseDf.index )\n",
    "#agregamos identificadores de columna\n",
    "topics_for_each_doc.columns = list(map(lambda x: \"T: {}\".format(x), range(1, fit_best_lda.n_components + 1)))\n",
    "# concatenamos las probabilidades de tópico por documento a nuestra matriz original\n",
    "concatenated_df = pd.concat([baseDf, topics_for_each_doc], axis=1)\n",
    "# argmax en la matriz de tópicos\n",
    "concatenated_df['highest_topic'] = np.argmax(concatenated_df.loc[:,topics_for_each_doc.columns].values, axis=1) + 1"
   ]
  },
  {
   "cell_type": "code",
   "execution_count": 69,
   "metadata": {},
   "outputs": [
    {
     "data": {
      "text/plain": [
       "<AxesSubplot:>"
      ]
     },
     "execution_count": 69,
     "metadata": {},
     "output_type": "execute_result"
    },
    {
     "data": {
      "image/png": "[encoded data removed]",
      "text/plain": [
       "<Figure size 1080x576 with 2 Axes>"
      ]
     },
     "metadata": {
      "needs_background": "light"
     },
     "output_type": "display_data"
    }
   ],
   "source": [
    "# Graficamos la matriz de correlaciones para los tópicos inferidos\n",
    "plt.figure(figsize =(15, 8))\n",
    "sns.heatmap(concatenated_df.loc[:,topics_for_each_doc.columns].corr(), annot=True)\n"
   ]
  },
  {
   "cell_type": "markdown",
   "metadata": {},
   "source": [
    "Vemos que la correlación mas alta entre los tópicos es entre 3 y 4. Mientras que la correlación mas baja está entre los topicos 1 y 5, lo que condice nuestra sospecha de temas sentimentales y violencia."
   ]
  },
  {
   "cell_type": "code",
   "execution_count": 76,
   "metadata": {},
   "outputs": [
    {
     "data": {
      "text/html": [
       "<div>\n",
       "<style scoped>\n",
       "    .dataframe tbody tr th:only-of-type {\n",
       "        vertical-align: middle;\n",
       "    }\n",
       "\n",
       "    .dataframe tbody tr th {\n",
       "        vertical-align: top;\n",
       "    }\n",
       "\n",
       "    .dataframe thead th {\n",
       "        text-align: right;\n",
       "    }\n",
       "</style>\n",
       "<table border=\"1\" class=\"dataframe\">\n",
       "  <thead>\n",
       "    <tr style=\"text-align: right;\">\n",
       "      <th></th>\n",
       "      <th>T: 1</th>\n",
       "      <th>T: 2</th>\n",
       "      <th>T: 3</th>\n",
       "      <th>T: 4</th>\n",
       "      <th>T: 5</th>\n",
       "      <th>highest_topic</th>\n",
       "    </tr>\n",
       "    <tr>\n",
       "      <th>0</th>\n",
       "      <th></th>\n",
       "      <th></th>\n",
       "      <th></th>\n",
       "      <th></th>\n",
       "      <th></th>\n",
       "      <th></th>\n",
       "    </tr>\n",
       "  </thead>\n",
       "  <tbody>\n",
       "    <tr>\n",
       "      <th>A Tribe Called Quest</th>\n",
       "      <td>0.615798</td>\n",
       "      <td>0.132553</td>\n",
       "      <td>0.041404</td>\n",
       "      <td>0.088254</td>\n",
       "      <td>0.122158</td>\n",
       "      <td>1</td>\n",
       "    </tr>\n",
       "    <tr>\n",
       "      <th>Anthrax</th>\n",
       "      <td>0.089094</td>\n",
       "      <td>0.047812</td>\n",
       "      <td>0.069159</td>\n",
       "      <td>0.410788</td>\n",
       "      <td>0.383112</td>\n",
       "      <td>4</td>\n",
       "    </tr>\n",
       "    <tr>\n",
       "      <th>Black Star</th>\n",
       "      <td>0.407870</td>\n",
       "      <td>0.206739</td>\n",
       "      <td>0.179826</td>\n",
       "      <td>0.153696</td>\n",
       "      <td>0.052000</td>\n",
       "      <td>1</td>\n",
       "    </tr>\n",
       "    <tr>\n",
       "      <th>Bob Dylan</th>\n",
       "      <td>0.073685</td>\n",
       "      <td>0.078624</td>\n",
       "      <td>0.025172</td>\n",
       "      <td>0.262984</td>\n",
       "      <td>0.559570</td>\n",
       "      <td>5</td>\n",
       "    </tr>\n",
       "  </tbody>\n",
       "</table>\n",
       "</div>"
      ],
      "text/plain": [
       "                          T: 1      T: 2      T: 3      T: 4      T: 5  \\\n",
       "0                                                                        \n",
       "A Tribe Called Quest  0.615798  0.132553  0.041404  0.088254  0.122158   \n",
       "Anthrax               0.089094  0.047812  0.069159  0.410788  0.383112   \n",
       "Black Star            0.407870  0.206739  0.179826  0.153696  0.052000   \n",
       "Bob Dylan             0.073685  0.078624  0.025172  0.262984  0.559570   \n",
       "\n",
       "                      highest_topic  \n",
       "0                                    \n",
       "A Tribe Called Quest              1  \n",
       "Anthrax                           4  \n",
       "Black Star                        1  \n",
       "Bob Dylan                         5  "
      ]
     },
     "execution_count": 76,
     "metadata": {},
     "output_type": "execute_result"
    }
   ],
   "source": [
    "# Conseguimos las predicciones medias por artista\n",
    "artistsDf = concatenated_df.loc[:,['0',*topics_for_each_doc.columns]].groupby(by='0').mean()\n",
    "artistsDf['highest_topic'] = np.argmax(artistsDf.loc[:,topics_for_each_doc.columns].values, axis=1) + 1\n",
    "artistsDf.head(4)"
   ]
  },
  {
   "cell_type": "markdown",
   "metadata": {},
   "source": [
    "Vemos que para los artistas se condicen los topicos, siendo Bob Dylan mas sentimental, Anthrax como violento y A Tribe Called Quest como hiphop/rap"
   ]
  },
  {
   "cell_type": "code",
   "execution_count": 93,
   "metadata": {},
   "outputs": [
    {
     "data": {
      "image/png": "[encoded data removed]",
      "text/plain": [
       "<Figure size 1440x720 with 5 Axes>"
      ]
     },
     "metadata": {
      "needs_background": "light"
     },
     "output_type": "display_data"
    }
   ],
   "source": [
    "# Analizamos las predicciones de Kendrick Lamar\n",
    "kendrickDf = concatenated_df[concatenated_df['0'] == 'Kendrick Lamar'].loc[:,topics_for_each_doc.columns]\n",
    "fig, ax = plt.subplots(1, 5, sharey=True, figsize=(20,10))\n",
    "# Analizamos a Anthrax\n",
    "for i, col in enumerate(kendrickDf.columns):\n",
    "    sns.histplot(x=col, data=kendrickDf, ax=ax[i], kde=True, alpha=.6)"
   ]
  },
  {
   "cell_type": "markdown",
   "metadata": {},
   "source": [
    "Vemos que tiene valores muy bajos para los topicos 2 y 3, luego se remonta con el topico 4 pero aún con valores menores a 0.5. Finalmente se condice el mejor topico 1 con los topicos del hiphop y rap, influenciado moderadamente por temas sentimentales y nostálgicos del topico 5."
   ]
  }
 ],
 "metadata": {
  "interpreter": {
   "hash": "07efdcd4b820c98a756949507a4d29d7862823915ec7477944641bea022f4f62"
  },
  "kernelspec": {
   "display_name": "Python 3.8.5 64-bit ('base': conda)",
   "name": "python3"
  },
  "language_info": {
   "codemirror_mode": {
    "name": "ipython",
    "version": 3
   },
   "file_extension": ".py",
   "mimetype": "text/x-python",
   "name": "python",
   "nbconvert_exporter": "python",
   "pygments_lexer": "ipython3",
   "version": "3.8.5"
  },
  "orig_nbformat": 4
 },
 "nbformat": 4,
 "nbformat_minor": 2
}
