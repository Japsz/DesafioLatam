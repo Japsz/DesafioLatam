{
 "cells": [
  {
   "cell_type": "markdown",
   "metadata": {},
   "source": [
    "# __Desafío - Árboles de regresión__\n",
    "\n",
    "## Requerimientos\n",
    "- Para esta sesión trabajaremos con una base de datos sobre los precios de inmuebles en\n",
    "la ciudad de Ames, Iowa. La base se compone de 2930 registros y contiene un gran\n",
    "número de atributos.\n",
    "- Nuestro objetivo es generar un modelo que prediga de forma adecuada los precios de\n",
    "inmuebles, medidos con la variable `Sale_Price`.\n"
   ]
  },
  {
   "cell_type": "markdown",
   "metadata": {},
   "source": [
    "## Ejercicio 1: Preparación del ambiente de trabajo\n",
    "- Importe las librerías clásicas a utilizar.\n",
    "- Para este ejercicio implementaremos árboles de regresión, por lo que deberá importar la\n",
    "clase `DecisionTreeRegressor`.\n",
    "- De manera adicional importe las funciones y clases necesarias para generar un\n",
    "desempeño de métricas en problemas de regresión, división de muestras y búsqueda de\n",
    "grilla con validación cruzada.\n",
    "- Elimine la columna `'Unnamed: 0'` cuando cargue los datos.\n"
   ]
  },
  {
   "cell_type": "code",
   "execution_count": 2,
   "metadata": {},
   "outputs": [],
   "source": [
    "import numpy as np\n",
    "import pandas as pd\n",
    "import matplotlib.pyplot as plt\n",
    "import seaborn as sns\n",
    "from sklearn.model_selection import GridSearchCV, train_test_split\n",
    "from sklearn.tree import DecisionTreeRegressor\n",
    "from sklearn.preprocessing import StandardScaler\n",
    "from sklearn.metrics import mean_squared_error, r2_score, median_absolute_error"
   ]
  },
  {
   "cell_type": "code",
   "execution_count": 3,
   "metadata": {},
   "outputs": [],
   "source": [
    "df = pd.read_csv('ames_housing.csv').drop(columns=['Unnamed: 0'])"
   ]
  },
  {
   "cell_type": "code",
   "execution_count": 4,
   "metadata": {},
   "outputs": [
    {
     "data": {
      "text/plain": [
       "count      2930.000000\n",
       "mean     180796.060068\n",
       "std       79886.692357\n",
       "min       12789.000000\n",
       "25%      129500.000000\n",
       "50%      160000.000000\n",
       "75%      213500.000000\n",
       "max      755000.000000\n",
       "Name: Sale_Price, dtype: float64"
      ]
     },
     "execution_count": 4,
     "metadata": {},
     "output_type": "execute_result"
    }
   ],
   "source": [
    "df['Sale_Price'].describe()"
   ]
  },
  {
   "cell_type": "markdown",
   "metadata": {},
   "source": [
    "## Ejercicio 2: Feature engineering\n",
    "- Identifique si el `dtype` de cada `pd.Serie` en nuestra base de datos se considera\n",
    "`'object'` o no. Para todas las variables que sean `'object'`, realice lo siguiente:\n",
    "  - Genere una recodificación $k − 1$ en cada variable. Para efectos prácticos sólo\n",
    "necesitan eliminar una de las categorías, no se concentren en especificar la\n",
    "categoría a eliminar. Pueden utilizar la función con la opción `drop_first` para\n",
    "ello.\n",
    "  - Utilizando el método `pd.concat`, concatene a los atributos creados en la base de\n",
    "  datos.\n",
    "  \n",
    "  __Tip:__ No se olvide de eliminar los atributos recodificados, de esta forma evitará un\n",
    "  aumento artificial del desempeño del modelo.\n"
   ]
  },
  {
   "cell_type": "code",
   "execution_count": 5,
   "metadata": {},
   "outputs": [
    {
     "data": {
      "text/html": [
       "<div>\n",
       "<style scoped>\n",
       "    .dataframe tbody tr th:only-of-type {\n",
       "        vertical-align: middle;\n",
       "    }\n",
       "\n",
       "    .dataframe tbody tr th {\n",
       "        vertical-align: top;\n",
       "    }\n",
       "\n",
       "    .dataframe thead th {\n",
       "        text-align: right;\n",
       "    }\n",
       "</style>\n",
       "<table border=\"1\" class=\"dataframe\">\n",
       "  <thead>\n",
       "    <tr style=\"text-align: right;\">\n",
       "      <th></th>\n",
       "      <th>Lot_Frontage</th>\n",
       "      <th>Lot_Area</th>\n",
       "      <th>Year_Built</th>\n",
       "      <th>Year_Remod_Add</th>\n",
       "      <th>Mas_Vnr_Area</th>\n",
       "      <th>BsmtFin_SF_1</th>\n",
       "      <th>BsmtFin_SF_2</th>\n",
       "      <th>Bsmt_Unf_SF</th>\n",
       "      <th>Total_Bsmt_SF</th>\n",
       "      <th>First_Flr_SF</th>\n",
       "      <th>...</th>\n",
       "      <th>Sale_Type_ConLw</th>\n",
       "      <th>Sale_Type_New</th>\n",
       "      <th>Sale_Type_Oth</th>\n",
       "      <th>Sale_Type_VWD</th>\n",
       "      <th>Sale_Type_WD</th>\n",
       "      <th>Sale_Condition_AdjLand</th>\n",
       "      <th>Sale_Condition_Alloca</th>\n",
       "      <th>Sale_Condition_Family</th>\n",
       "      <th>Sale_Condition_Normal</th>\n",
       "      <th>Sale_Condition_Partial</th>\n",
       "    </tr>\n",
       "  </thead>\n",
       "  <tbody>\n",
       "    <tr>\n",
       "      <th>0</th>\n",
       "      <td>141</td>\n",
       "      <td>31770</td>\n",
       "      <td>1960</td>\n",
       "      <td>1960</td>\n",
       "      <td>112</td>\n",
       "      <td>2</td>\n",
       "      <td>0</td>\n",
       "      <td>441</td>\n",
       "      <td>1080</td>\n",
       "      <td>1656</td>\n",
       "      <td>...</td>\n",
       "      <td>0</td>\n",
       "      <td>0</td>\n",
       "      <td>0</td>\n",
       "      <td>0</td>\n",
       "      <td>1</td>\n",
       "      <td>0</td>\n",
       "      <td>0</td>\n",
       "      <td>0</td>\n",
       "      <td>1</td>\n",
       "      <td>0</td>\n",
       "    </tr>\n",
       "    <tr>\n",
       "      <th>1</th>\n",
       "      <td>80</td>\n",
       "      <td>11622</td>\n",
       "      <td>1961</td>\n",
       "      <td>1961</td>\n",
       "      <td>0</td>\n",
       "      <td>6</td>\n",
       "      <td>144</td>\n",
       "      <td>270</td>\n",
       "      <td>882</td>\n",
       "      <td>896</td>\n",
       "      <td>...</td>\n",
       "      <td>0</td>\n",
       "      <td>0</td>\n",
       "      <td>0</td>\n",
       "      <td>0</td>\n",
       "      <td>1</td>\n",
       "      <td>0</td>\n",
       "      <td>0</td>\n",
       "      <td>0</td>\n",
       "      <td>1</td>\n",
       "      <td>0</td>\n",
       "    </tr>\n",
       "    <tr>\n",
       "      <th>2</th>\n",
       "      <td>81</td>\n",
       "      <td>14267</td>\n",
       "      <td>1958</td>\n",
       "      <td>1958</td>\n",
       "      <td>108</td>\n",
       "      <td>1</td>\n",
       "      <td>0</td>\n",
       "      <td>406</td>\n",
       "      <td>1329</td>\n",
       "      <td>1329</td>\n",
       "      <td>...</td>\n",
       "      <td>0</td>\n",
       "      <td>0</td>\n",
       "      <td>0</td>\n",
       "      <td>0</td>\n",
       "      <td>1</td>\n",
       "      <td>0</td>\n",
       "      <td>0</td>\n",
       "      <td>0</td>\n",
       "      <td>1</td>\n",
       "      <td>0</td>\n",
       "    </tr>\n",
       "    <tr>\n",
       "      <th>3</th>\n",
       "      <td>93</td>\n",
       "      <td>11160</td>\n",
       "      <td>1968</td>\n",
       "      <td>1968</td>\n",
       "      <td>0</td>\n",
       "      <td>1</td>\n",
       "      <td>0</td>\n",
       "      <td>1045</td>\n",
       "      <td>2110</td>\n",
       "      <td>2110</td>\n",
       "      <td>...</td>\n",
       "      <td>0</td>\n",
       "      <td>0</td>\n",
       "      <td>0</td>\n",
       "      <td>0</td>\n",
       "      <td>1</td>\n",
       "      <td>0</td>\n",
       "      <td>0</td>\n",
       "      <td>0</td>\n",
       "      <td>1</td>\n",
       "      <td>0</td>\n",
       "    </tr>\n",
       "    <tr>\n",
       "      <th>4</th>\n",
       "      <td>74</td>\n",
       "      <td>13830</td>\n",
       "      <td>1997</td>\n",
       "      <td>1998</td>\n",
       "      <td>0</td>\n",
       "      <td>3</td>\n",
       "      <td>0</td>\n",
       "      <td>137</td>\n",
       "      <td>928</td>\n",
       "      <td>928</td>\n",
       "      <td>...</td>\n",
       "      <td>0</td>\n",
       "      <td>0</td>\n",
       "      <td>0</td>\n",
       "      <td>0</td>\n",
       "      <td>1</td>\n",
       "      <td>0</td>\n",
       "      <td>0</td>\n",
       "      <td>0</td>\n",
       "      <td>1</td>\n",
       "      <td>0</td>\n",
       "    </tr>\n",
       "  </tbody>\n",
       "</table>\n",
       "<p>5 rows × 307 columns</p>\n",
       "</div>"
      ],
      "text/plain": [
       "   Lot_Frontage  Lot_Area  Year_Built  Year_Remod_Add  Mas_Vnr_Area  \\\n",
       "0           141     31770        1960            1960           112   \n",
       "1            80     11622        1961            1961             0   \n",
       "2            81     14267        1958            1958           108   \n",
       "3            93     11160        1968            1968             0   \n",
       "4            74     13830        1997            1998             0   \n",
       "\n",
       "   BsmtFin_SF_1  BsmtFin_SF_2  Bsmt_Unf_SF  Total_Bsmt_SF  First_Flr_SF  ...  \\\n",
       "0             2             0          441           1080          1656  ...   \n",
       "1             6           144          270            882           896  ...   \n",
       "2             1             0          406           1329          1329  ...   \n",
       "3             1             0         1045           2110          2110  ...   \n",
       "4             3             0          137            928           928  ...   \n",
       "\n",
       "   Sale_Type_ConLw  Sale_Type_New  Sale_Type_Oth  Sale_Type_VWD  \\\n",
       "0                0              0              0              0   \n",
       "1                0              0              0              0   \n",
       "2                0              0              0              0   \n",
       "3                0              0              0              0   \n",
       "4                0              0              0              0   \n",
       "\n",
       "   Sale_Type_WD   Sale_Condition_AdjLand  Sale_Condition_Alloca  \\\n",
       "0              1                       0                      0   \n",
       "1              1                       0                      0   \n",
       "2              1                       0                      0   \n",
       "3              1                       0                      0   \n",
       "4              1                       0                      0   \n",
       "\n",
       "   Sale_Condition_Family  Sale_Condition_Normal  Sale_Condition_Partial  \n",
       "0                      0                      1                       0  \n",
       "1                      0                      1                       0  \n",
       "2                      0                      1                       0  \n",
       "3                      0                      1                       0  \n",
       "4                      0                      1                       0  \n",
       "\n",
       "[5 rows x 307 columns]"
      ]
     },
     "execution_count": 5,
     "metadata": {},
     "output_type": "execute_result"
    }
   ],
   "source": [
    "refactoredDf = df.copy()\n",
    "for col, dtype in df.dtypes.iteritems():\n",
    "    if dtype == 'object':\n",
    "        dummies = pd.get_dummies(refactoredDf[col], prefix=col, drop_first=True)\n",
    "        refactoredDf = pd.concat([refactoredDf, dummies], axis=1).drop(columns=[col])\n",
    "refactoredDf.head(5)"
   ]
  },
  {
   "cell_type": "markdown",
   "metadata": {},
   "source": [
    "## Ejercicio 3: Primer modelo\n",
    "- Genere muestras de entrenamiento y validación con `'Sale_Price'` como vector\n",
    "objetivo y los atributos de la base de datos como matriz.\n",
    "- Recuerde definir el porcentaje de casos en la muestra de validación y una semilla\n",
    "pseudoaleatoria.\n",
    "- Posteriormente, entrene un árbol de regresión en la muestra de entrenamiento sin\n",
    "modificar los hiper parámetros. Reporte las principales métricas de desempeño.\n",
    "- Comente sobre el desempeño."
   ]
  },
  {
   "cell_type": "code",
   "execution_count": 15,
   "metadata": {},
   "outputs": [
    {
     "name": "stdout",
     "output_type": "stream",
     "text": [
      "MSE: 1725866452.417787\n",
      "MAE: 16000.0\n",
      "R2 Score: 0.735495745992901\n"
     ]
    }
   ],
   "source": [
    "# Generamos el arreglo con columnas\n",
    "trainColumns = list(filter(lambda x: x != 'Sale_Price', refactoredDf.columns))\n",
    "# Generamos las muestras de entrenamiento\n",
    "X_train, X_test, y_train, y_test = train_test_split(refactoredDf.loc[:, trainColumns], refactoredDf['Sale_Price'], test_size=.33, random_state=19137)\n",
    "# Generamos el modelo\n",
    "model = DecisionTreeRegressor(random_state=19137).fit(X_train, y_train)\n",
    "# Generamos las predicciones\n",
    "y_hat = model.predict(X_test)\n",
    "# Analizamos las métricas\n",
    "print(f'MSE: {mean_squared_error(y_test, y_hat)}')\n",
    "print(f'MAE: {median_absolute_error(y_test, y_hat)}')\n",
    "print(f'R2 Score: {r2_score(y_test, y_hat)}')\n"
   ]
  },
  {
   "cell_type": "markdown",
   "metadata": {},
   "source": [
    "Vemos que el modelo tiene un alto MSE, lo que indica una alta sobreestimación por parte del modelo. Sin embargo se tiene un R2 alto, explicando el 73% de la muestra."
   ]
  },
  {
   "cell_type": "code",
   "execution_count": 7,
   "metadata": {},
   "outputs": [
    {
     "data": {
      "text/plain": [
       "array([2.65209052e-03, 9.18518607e-03, 5.64214235e-02, 7.08054114e-03,\n",
       "       1.60582680e-03, 4.06619349e-03, 1.32351644e-03, 1.03436004e-02,\n",
       "       9.12917742e-02, 5.34513788e-02, 3.38641318e-03, 3.55602717e-05,\n",
       "       1.99484195e-01, 5.37302048e-04, 3.18891465e-04, 2.50249855e-04,\n",
       "       7.45228286e-04, 4.15160407e-03, 1.11470757e-04, 2.60871193e-03,\n",
       "       2.60876186e-03, 3.87647573e-01, 4.61328973e-03, 9.11210125e-03,\n",
       "       3.59045871e-03, 3.10796549e-04, 0.00000000e+00, 6.29030874e-04,\n",
       "       1.34598070e-06, 6.83542838e-06, 1.30806069e-02, 8.06835064e-04,\n",
       "       1.54864901e-02, 4.84128230e-03, 1.80497275e-05, 1.05706972e-05,\n",
       "       4.03794210e-08, 0.00000000e+00, 3.38919017e-05, 0.00000000e+00,\n",
       "       0.00000000e+00, 0.00000000e+00, 0.00000000e+00, 8.17683275e-07,\n",
       "       1.26914502e-05, 3.93764018e-05, 2.78061364e-03, 1.00948552e-06,\n",
       "       0.00000000e+00, 0.00000000e+00, 3.75368141e-05, 0.00000000e+00,\n",
       "       0.00000000e+00, 6.43707940e-05, 2.74448724e-05, 0.00000000e+00,\n",
       "       2.40956241e-05, 5.38209982e-04, 8.29130840e-06, 4.85358884e-04,\n",
       "       3.35186018e-05, 1.00948552e-08, 2.65356991e-04, 4.23078360e-04,\n",
       "       0.00000000e+00, 0.00000000e+00, 4.90807555e-05, 3.27302455e-05,\n",
       "       0.00000000e+00, 2.56477968e-05, 2.71803432e-04, 2.32585465e-05,\n",
       "       0.00000000e+00, 0.00000000e+00, 6.49977444e-06, 3.63414789e-07,\n",
       "       1.69116297e-05, 4.45640021e-04, 3.05743851e-04, 1.13501106e-05,\n",
       "       0.00000000e+00, 0.00000000e+00, 7.23350217e-06, 0.00000000e+00,\n",
       "       0.00000000e+00, 8.36156860e-05, 6.34858716e-06, 0.00000000e+00,\n",
       "       0.00000000e+00, 2.30001182e-06, 3.27073310e-08, 1.08250498e-05,\n",
       "       2.79551442e-05, 1.53643697e-05, 2.64264749e-04, 0.00000000e+00,\n",
       "       0.00000000e+00, 1.36169486e-06, 0.00000000e+00, 1.07028863e-04,\n",
       "       2.38191058e-04, 0.00000000e+00, 0.00000000e+00, 0.00000000e+00,\n",
       "       2.40249527e-05, 0.00000000e+00, 0.00000000e+00, 0.00000000e+00,\n",
       "       0.00000000e+00, 0.00000000e+00, 0.00000000e+00, 0.00000000e+00,\n",
       "       0.00000000e+00, 0.00000000e+00, 2.15874601e-05, 5.50236910e-07,\n",
       "       1.85957328e-06, 3.34031368e-05, 1.22147748e-06, 2.52371381e-07,\n",
       "       1.61921478e-07, 3.98958641e-04, 1.56806751e-06, 0.00000000e+00,\n",
       "       0.00000000e+00, 3.37983501e-03, 4.80277275e-04, 2.09536183e-04,\n",
       "       4.30067053e-04, 1.12860844e-03, 1.18309714e-03, 1.10867717e-07,\n",
       "       1.24642637e-03, 0.00000000e+00, 1.56799650e-04, 1.14953942e-04,\n",
       "       0.00000000e+00, 3.71496534e-05, 1.27554021e-03, 1.23661977e-05,\n",
       "       7.36924433e-07, 0.00000000e+00, 7.34491319e-04, 0.00000000e+00,\n",
       "       7.81496886e-04, 6.46070735e-07, 0.00000000e+00, 0.00000000e+00,\n",
       "       0.00000000e+00, 0.00000000e+00, 0.00000000e+00, 0.00000000e+00,\n",
       "       0.00000000e+00, 1.58889128e-03, 0.00000000e+00, 0.00000000e+00,\n",
       "       4.44174000e-03, 0.00000000e+00, 6.84987363e-04, 6.02176622e-05,\n",
       "       0.00000000e+00, 1.40015349e-04, 4.08841637e-06, 0.00000000e+00,\n",
       "       0.00000000e+00, 1.45769710e-07, 7.84818623e-05, 8.63231356e-05,\n",
       "       2.23601044e-06, 0.00000000e+00, 4.63732413e-06, 6.87796137e-06,\n",
       "       0.00000000e+00, 8.55295397e-06, 1.10597552e-05, 1.68247587e-05,\n",
       "       3.73896782e-05, 0.00000000e+00, 1.74977491e-07, 0.00000000e+00,\n",
       "       0.00000000e+00, 1.00948552e-06, 2.41743881e-05, 2.94999889e-04,\n",
       "       0.00000000e+00, 4.92925679e-04, 0.00000000e+00, 1.86828618e-04,\n",
       "       3.21282067e-05, 0.00000000e+00, 1.47578762e-05, 4.45798095e-02,\n",
       "       1.83723108e-04, 1.38967655e-04, 0.00000000e+00, 8.46335476e-04,\n",
       "       1.36957061e-04, 3.45326752e-05, 0.00000000e+00, 0.00000000e+00,\n",
       "       0.00000000e+00, 3.76984966e-06, 3.98874734e-03, 1.58882927e-05,\n",
       "       0.00000000e+00, 2.13575558e-04, 0.00000000e+00, 6.54560673e-04,\n",
       "       2.15356912e-07, 0.00000000e+00, 3.01106272e-04, 4.42872295e-04,\n",
       "       1.14400553e-04, 2.61704331e-03, 4.03794210e-10, 4.88331623e-05,\n",
       "       1.96212138e-03, 4.88590994e-08, 2.30673563e-04, 3.68425162e-05,\n",
       "       9.76768508e-05, 9.08536972e-08, 2.52371381e-09, 1.34598070e-06,\n",
       "       1.29968076e-04, 2.36556108e-06, 1.05446253e-04, 0.00000000e+00,\n",
       "       3.10436988e-06, 0.00000000e+00, 0.00000000e+00, 0.00000000e+00,\n",
       "       5.33522023e-07, 1.57357376e-03, 0.00000000e+00, 1.72776792e-04,\n",
       "       4.34485324e-03, 9.08536972e-08, 0.00000000e+00, 0.00000000e+00,\n",
       "       1.35263753e-05, 0.00000000e+00, 1.40266184e-04, 6.35619670e-03,\n",
       "       0.00000000e+00, 6.67547724e-04, 0.00000000e+00, 3.63414789e-07,\n",
       "       1.97121926e-04, 8.61874513e-06, 0.00000000e+00, 0.00000000e+00,\n",
       "       1.14267665e-04, 1.14130168e-05, 7.80945987e-04, 1.98234965e-03,\n",
       "       1.03313923e-04, 7.22126737e-04, 2.10309484e-06, 4.80826580e-06,\n",
       "       0.00000000e+00, 5.20189595e-04, 0.00000000e+00, 1.01312294e-06,\n",
       "       5.85737151e-07, 3.14326669e-05, 2.67358902e-04, 1.25852981e-06,\n",
       "       5.41568163e-04, 0.00000000e+00, 1.50251825e-06, 0.00000000e+00,\n",
       "       7.92785029e-06, 0.00000000e+00, 3.51439371e-04, 0.00000000e+00,\n",
       "       3.12563989e-04, 1.78624225e-03, 1.08796270e-03, 0.00000000e+00,\n",
       "       0.00000000e+00, 0.00000000e+00, 0.00000000e+00, 9.08536972e-08,\n",
       "       2.35318905e-05, 0.00000000e+00, 1.95605586e-05, 0.00000000e+00,\n",
       "       2.24898051e-05, 0.00000000e+00, 1.45365915e-06, 0.00000000e+00,\n",
       "       6.59530542e-07, 0.00000000e+00, 1.45365915e-06, 0.00000000e+00,\n",
       "       0.00000000e+00, 1.12664331e-03, 0.00000000e+00, 0.00000000e+00,\n",
       "       1.99969178e-05, 2.81893291e-05, 0.00000000e+00, 7.07275556e-04,\n",
       "       5.68984373e-04, 6.11562239e-05])"
      ]
     },
     "execution_count": 7,
     "metadata": {},
     "output_type": "execute_result"
    }
   ],
   "source": [
    "model.feature_importances_\n"
   ]
  },
  {
   "cell_type": "markdown",
   "metadata": {},
   "source": [
    "## Ejercicio 4: Importancia relativa\n",
    "- Implemente el método `plot_importance` utilizado en la lectura para reportar la\n",
    "importancia relativa de los atributos.\n",
    "- Comente sobre cuáles son los principales 10 atributos que afectan la predicción de\n",
    "`Sale_Price`.\n",
    "- Separe estos 10 atributos en una nueva base de datos, junto con el vector objetivo.\n"
   ]
  },
  {
   "cell_type": "code",
   "execution_count": 8,
   "metadata": {},
   "outputs": [],
   "source": [
    "# Traemos el método de la lectura y le hacemos mejoras\n",
    "def plot_importance(fit_model, feat_names, number = 50, size=(20, 15), plot=True):\n",
    "    \"\"\"TODO: Docstring for plot_importance.\n",
    "\n",
    "    :fit_model: TODO\n",
    "    :: TODO\n",
    "    :returns: TODO\n",
    "\n",
    "    \"\"\"\n",
    "    tmp_importance = fit_model.feature_importances_\n",
    "    sort_importance = np.argsort(tmp_importance)[::-1]\n",
    "    names = [feat_names[i] for i in sort_importance]\n",
    "    if plot:\n",
    "        plt.figure(figsize=size)\n",
    "        plt.title(\"Feature importance\")\n",
    "        plt.barh(range(number), tmp_importance[sort_importance[:number]])\n",
    "        plt.yticks(range(number), names[:number], rotation=0)\n",
    "    return names[:number]"
   ]
  },
  {
   "cell_type": "code",
   "execution_count": 9,
   "metadata": {},
   "outputs": [
    {
     "data": {
      "image/png": "[encoded data removed]",
      "text/plain": [
       "<Figure size 1440x1080 with 1 Axes>"
      ]
     },
     "metadata": {
      "needs_background": "light"
     },
     "output_type": "display_data"
    }
   ],
   "source": [
    "\n",
    "plot_importance(model, X_train.columns);"
   ]
  },
  {
   "cell_type": "markdown",
   "metadata": {},
   "source": [
    "Vemos que lo mas importante es la cnatidad de estacionamientos para autos seguido por el año de construcción. Luego la importancia baja un 50% con respecto a la anterior hasta el cuarto atributo, luego se estabiliza un poco hasta caer fuertemente en el séptimo atributo con mas importancia. Los demas atributos son ya menores a ~0.025 y continuan bajando constantemente. "
   ]
  },
  {
   "cell_type": "code",
   "execution_count": 16,
   "metadata": {},
   "outputs": [
    {
     "data": {
      "text/plain": [
       "Index(['Garage_Cars', 'Gr_Liv_Area', 'Total_Bsmt_SF', 'Year_Built',\n",
       "       'First_Flr_SF', 'Exter_Qual_Typical', 'Longitude', 'Mo_Sold',\n",
       "       'Bsmt_Unf_SF', 'Lot_Area'],\n",
       "      dtype='object')"
      ]
     },
     "execution_count": 16,
     "metadata": {},
     "output_type": "execute_result"
    }
   ],
   "source": [
    "# Conseguimos una base de datos entrenados sólo con los 10 atributos mas importantes\n",
    "topTenFeatures = plot_importance(model, X_train.columns, number=10, plot=False)\n",
    "# Creamos los nuevos sets de entrenamiento\n",
    "X_train_depurated, X_test_depurated, y_train_depurated, y_test_depurated = train_test_split(refactoredDf.loc[:, topTenFeatures], refactoredDf['Sale_Price'], test_size=.33, random_state=19137)\n",
    "X_train_depurated.columns"
   ]
  },
  {
   "cell_type": "markdown",
   "metadata": {},
   "source": [
    "## Ejercicio 5: Refactorización del modelo y picklingpd.get_dummies\n",
    "- En función de los atributos seleccionados en el ejercicio anterior, vuelva a generar\n",
    "conjuntos de entrenamiento y validación.\n",
    "- __Dentro de los datos de entrenamiento__ genere una búsqueda de grilla con `GridSearchCV`\n",
    "utilizando los siguientes hiper parámetros:\n",
    "  - __Máximo de atributos__: Evalúe todos los posibles atributos.\n",
    "  - __Máximo de profundidad__: Entre 1 a 32.\n",
    "  - __Validaciones cruzadas__: 5.\n",
    "- Reporte la mejor combinación de hiper parámetros y su desempeño asociado. Compare\n",
    "el desempeño en la muestra de validación con el modelo por defecto.\n"
   ]
  },
  {
   "cell_type": "markdown",
   "metadata": {},
   "source": [
    "Consideramos que se crearin los conjuntos de entrenamiento en la sección anterior"
   ]
  },
  {
   "cell_type": "code",
   "execution_count": 17,
   "metadata": {},
   "outputs": [],
   "source": [
    "searchParams = {\n",
    "    'max_features': list(range(1,X_train_depurated.shape[1])),\n",
    "    'max_depth': np.linspace(1, 32, 32)\n",
    "}\n",
    "bestModel = GridSearchCV(DecisionTreeRegressor(random_state=19137), searchParams, cv=5).fit(X_train_depurated, y_train_depurated)\n"
   ]
  },
  {
   "cell_type": "code",
   "execution_count": 12,
   "metadata": {},
   "outputs": [
    {
     "data": {
      "text/plain": [
       "['Garage_Cars',\n",
       " 'Year_Built',\n",
       " 'Gr_Liv_Area',\n",
       " 'First_Flr_SF',\n",
       " 'Total_Bsmt_SF',\n",
       " 'Lot_Area',\n",
       " 'Longitude',\n",
       " 'Bsmt_Unf_SF',\n",
       " 'Mo_Sold',\n",
       " 'Exter_Qual_Typical']"
      ]
     },
     "execution_count": 12,
     "metadata": {},
     "output_type": "execute_result"
    },
    {
     "data": {
      "image/png": "[encoded data removed]",
      "text/plain": [
       "<Figure size 1440x1080 with 1 Axes>"
      ]
     },
     "metadata": {
      "needs_background": "light"
     },
     "output_type": "display_data"
    }
   ],
   "source": [
    "plot_importance(bestModel.best_estimator_, topTenFeatures, number=10)"
   ]
  },
  {
   "cell_type": "markdown",
   "metadata": {},
   "source": [
    "Vemos que el orden de las importancias cambió, aumentando la importancia de `Year_Built`, `Lot_Area` y `First_Flr_SF`, asi como bajando considerablemente la de `Exter_Qual_Typical`."
   ]
  },
  {
   "cell_type": "code",
   "execution_count": 18,
   "metadata": {},
   "outputs": [
    {
     "name": "stdout",
     "output_type": "stream",
     "text": [
      "MSE: 1712560283.3989375\n",
      "MAE: 16283.75\n",
      "R2 Score: 0.7375350337402772\n"
     ]
    }
   ],
   "source": [
    "# Generamos las predicciones\n",
    "y_hat_depurated = bestModel.best_estimator_.predict(X_test_depurated)\n",
    "# Analizamos las métricas\n",
    "print(f'MSE: {mean_squared_error(y_test_depurated, y_hat_depurated)}')\n",
    "print(f'MAE: {median_absolute_error(y_test_depurated, y_hat_depurated)}')\n",
    "print(f'R2 Score: {r2_score(y_test_depurated, y_hat_depurated)}')"
   ]
  },
  {
   "cell_type": "markdown",
   "metadata": {},
   "source": [
    "Podemos observar que el MSE baja un poco mas de ~12.500.000 pero el MAE aumenta ~280 puntos. Además el R2 Score aumenta pero en una cantidad minúscula de ~0.2%"
   ]
  },
  {
   "cell_type": "markdown",
   "metadata": {},
   "source": [
    "## Pickling"
   ]
  },
  {
   "cell_type": "markdown",
   "metadata": {},
   "source": [
    "Por [recomendación de scikit-learn](https://scikit-learn.org/stable/modules/model_persistence.html) se usará `joblib` como extensión de `pickle`"
   ]
  },
  {
   "cell_type": "code",
   "execution_count": 14,
   "metadata": {},
   "outputs": [
    {
     "data": {
      "text/plain": [
       "['pickle.joblib']"
      ]
     },
     "execution_count": 14,
     "metadata": {},
     "output_type": "execute_result"
    }
   ],
   "source": [
    "# Importamos la funció dump\n",
    "from joblib import dump\n",
    "# Guardamos los datos de entrenamiento y el modelo conseguido por gridsearch\n",
    "dump({'test_data': (X_train_depurated, X_test_depurated, y_train_depurated, y_test_depurated), 'model': bestModel}, 'pickle.joblib')\n",
    "\n",
    "\n",
    "\n",
    "\n"
   ]
  }
 ],
 "metadata": {
  "interpreter": {
   "hash": "07efdcd4b820c98a756949507a4d29d7862823915ec7477944641bea022f4f62"
  },
  "kernelspec": {
   "display_name": "Python 3.8.5 64-bit ('base': conda)",
   "name": "python3"
  },
  "language_info": {
   "codemirror_mode": {
    "name": "ipython",
    "version": 3
   },
   "file_extension": ".py",
   "mimetype": "text/x-python",
   "name": "python",
   "nbconvert_exporter": "python",
   "pygments_lexer": "ipython3",
   "version": "3.8.5"
  },
  "orig_nbformat": 4
 },
 "nbformat": 4,
 "nbformat_minor": 2
}
