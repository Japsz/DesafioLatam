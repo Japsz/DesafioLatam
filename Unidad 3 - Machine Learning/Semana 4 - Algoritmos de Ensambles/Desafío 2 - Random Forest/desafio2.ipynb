{
 "cells": [
  {
   "cell_type": "markdown",
   "metadata": {},
   "source": [
    "# __Desafio - Random forest__ \n",
    "`by Benjamín Meneses`\n",
    "\n",
    "## Requerimientos\n",
    "- Para esta sesión trabajaremos con una base de datos sobre los precios de inmuebles en\n",
    "la ciudad de Ames, Iowa. La base se compone de 2930 registros y contiene un gran\n",
    "número de atributos.\n",
    "- Nuestro objetivo es generar un modelo que prediga de forma adecuada los precios de\n",
    "inmuebles, medidos con la variable `Sale_Price`.\n",
    "- A diferencia de otras sesiones donde implementamos el preprocesamiento a mano,\n",
    "ahora haremos uso de los archivos serializados en la sesión pasada."
   ]
  },
  {
   "cell_type": "markdown",
   "metadata": {},
   "source": [
    "## Ejercicio 1: Preparación del ambiente de trabajo\n",
    "- Importe las librerías clásicas a utilizar.\n",
    "- Para este ejercicio Random Forest de Regresión\n",
    "- De manera adicional importe las funciones y clases necesarias para generar un\n",
    "desempeño de métricas en problemas de regresión.\n",
    "- Elimine la columna `'Unnamed: 0'` cuando cargue los datos."
   ]
  },
  {
   "cell_type": "code",
   "execution_count": 1,
   "metadata": {},
   "outputs": [],
   "source": [
    "import numpy as np\n",
    "import pandas as pd\n",
    "import seaborn as sns\n",
    "import matplotlib.pyplot as plt\n",
    "from sklearn.model_selection import train_test_split\n",
    "from sklearn.metrics import mean_squared_error, median_absolute_error, r2_score\n",
    "from sklearn.ensemble import RandomForestRegressor"
   ]
  },
  {
   "cell_type": "code",
   "execution_count": 2,
   "metadata": {},
   "outputs": [],
   "source": [
    "df = pd.read_csv('ames_housing.csv').drop(columns=['Unnamed: 0'])"
   ]
  },
  {
   "cell_type": "markdown",
   "metadata": {},
   "source": [
    "## Ejercicio 2: Importación de archivos serializados\n",
    "- Importe su modelo entrenado y sus conjuntos de entrenamiento y validación\n",
    "serializados la sesión pasada y evalúe el desempeño del modelo de su compañero con\n",
    "el suyo ¿Cuál es mejor? Si no puede ejecutar el modelo, comente cuáles pueden ser los\n",
    "causantes.\n",
    "- No es necesario que realice diagnósticos gráficos sobre el modelo, sólo reporte sus\n",
    "métricas.\n",
    "- Para importar un archivo serializado, puede ocupar la siguiente línea de código:\n",
    "```python\n",
    "import pickle\n",
    "read_model = pickle.load(open(\"ignacio-soto-act07.sav\",\"rb\"))\n",
    "```"
   ]
  },
  {
   "cell_type": "markdown",
   "metadata": {},
   "source": [
    "Por [recomendación de scikit-learn](https://scikit-learn.org/stable/modules/model_persistence.html) se usará `joblib` como extensión de `pickle`"
   ]
  },
  {
   "cell_type": "code",
   "execution_count": 3,
   "metadata": {},
   "outputs": [],
   "source": [
    "# Se usa joblib como extensión a pickle\n",
    "from joblib import load\n",
    "\n",
    "obj = load('pickle.joblib')"
   ]
  },
  {
   "cell_type": "code",
   "execution_count": 4,
   "metadata": {},
   "outputs": [],
   "source": [
    "# Desenpaquetamos los datos de entrenamiento\n",
    "X_train, X_test, y_train, y_test = obj['test_data']\n",
    "# Desenpaquetamos el gridsearch obtenido\n",
    "model = obj['model']\n"
   ]
  },
  {
   "cell_type": "code",
   "execution_count": 5,
   "metadata": {},
   "outputs": [
    {
     "name": "stdout",
     "output_type": "stream",
     "text": [
      "MSE: 1712560283.3989375\n",
      "MAE: 16283.75\n",
      "R2 Score: 0.7375350337402772\n"
     ]
    }
   ],
   "source": [
    "# Generamos las predicciones\n",
    "y_hat = model.best_estimator_.predict(X_test)\n",
    "# Analizamos las métricas\n",
    "print(f'MSE: {mean_squared_error(y_test, y_hat)}')\n",
    "print(f'MAE: {median_absolute_error(y_test, y_hat)}')\n",
    "print(f'R2 Score: {r2_score(y_test, y_hat)}')"
   ]
  },
  {
   "cell_type": "markdown",
   "metadata": {},
   "source": [
    "## Ejercicio 3: Evaluación Random Forest\n",
    "- En base a los conjuntos de entrenamiento serializados, genere un modelo utilizando\n",
    "`sklearn.ensemble.RandomForest` sin modificar hiper parámetros, sólo declarando la\n",
    "semilla pseudoaleatoria.\n",
    "- Reporte su desempeño y compárelo con su modelo de la sesión pasada, así como con\n",
    "el de su compañero.\n"
   ]
  },
  {
   "cell_type": "code",
   "execution_count": 6,
   "metadata": {},
   "outputs": [
    {
     "name": "stdout",
     "output_type": "stream",
     "text": [
      "MSE: 986423557.9078702\n",
      "MAE: 11645.73000000001\n",
      "R2 Score: 0.8488218906196751\n"
     ]
    }
   ],
   "source": [
    "modelRF = RandomForestRegressor(random_state=19137).fit(X_train, y_train)\n",
    "# Generamos las predicciones\n",
    "y_hat_rf = modelRF.predict(X_test)\n",
    "# Analizamos las métricas\n",
    "print(f'MSE: {mean_squared_error(y_test, y_hat_rf)}')\n",
    "print(f'MAE: {median_absolute_error(y_test, y_hat_rf)}')\n",
    "print(f'R2 Score: {r2_score(y_test, y_hat_rf)}')"
   ]
  },
  {
   "cell_type": "markdown",
   "metadata": {},
   "source": [
    "Vemos que el MSE cayó a casi la mitad, el MAE un tercio y el R2 notifica un aumento en la explicación del modelo en un ~11%"
   ]
  },
  {
   "cell_type": "markdown",
   "metadata": {},
   "source": [
    "## Ejercicio 4: Reporte las métricas de desempeño\n",
    "- Para afinar el comportamiento de nuestro modelo, evalúe su desempeño los siguientes\n",
    "hiper parámetros:\n",
    "  - `max_features`: `None`, `log2`, `sqrt`.\n",
    "  - `n_estimators`: Evaluar entre 20 y 1000 en pasos de 50.\n",
    "- Guarde la tasa de error en la exactitud medida con OOB.\n",
    "- Grafique el comportamiento.\n"
   ]
  },
  {
   "cell_type": "code",
   "execution_count": 7,
   "metadata": {},
   "outputs": [],
   "source": [
    "# generamos una serie de listas para guardar los valores\n",
    "tmp_oob_none, tmp_oob_sqrt,tmp_oob_log2 = [], [], []\n",
    "tmp_test_r2_none, tmp_test_r2_sqrt, tmp_test_r2_log = [], [], []\n",
    "n_estimators = range(20, 1000, 50)"
   ]
  },
  {
   "cell_type": "code",
   "execution_count": 8,
   "metadata": {},
   "outputs": [],
   "source": [
    "# para cada rango de modelos estimados\n",
    "for i in n_estimators:\n",
    "    # Implementamos una variante con todos los atributos\n",
    "    voting_rf_none = RandomForestRegressor(\n",
    "        n_estimators=i,\n",
    "        max_features=None,\n",
    "        oob_score=True,\n",
    "        random_state=19137\n",
    "    ).fit(X_train, y_train)\n",
    "    # Implementamos una variante donde los atributos se escogen con sqrt\n",
    "    voting_rf_sqrt = RandomForestRegressor(\n",
    "        n_estimators= i,\n",
    "        max_features=\"sqrt\",\n",
    "        warm_start=True,\n",
    "        oob_score=True,\n",
    "        random_state=19137\n",
    "    ).fit(X_train, y_train)\n",
    "    # Implementamos una variante donde los atributos se escogen con log\n",
    "    voting_rf_log = RandomForestRegressor(\n",
    "        n_estimators= i,\n",
    "        max_features=\"log2\",\n",
    "        warm_start=True,\n",
    "        oob_score=True,\n",
    "        random_state=19137\n",
    "    ).fit(X_train, y_train)\n",
    "    # Estimamos el error en OOB\n",
    "    tmp_oob_none.append(1 - voting_rf_none.oob_score_)\n",
    "    tmp_oob_sqrt.append(1 - voting_rf_sqrt.oob_score_)\n",
    "    tmp_oob_log2.append(1 - voting_rf_log.oob_score_)\n",
    "    # Estimamos el error en la exactitud\n",
    "    tmp_test_r2_none.append(1 - r2_score(y_test, voting_rf_none.predict(X_test)))\n",
    "    tmp_test_r2_sqrt.append(1 - r2_score(y_test, voting_rf_sqrt.predict(X_test)))\n",
    "    tmp_test_r2_log.append(1 - r2_score(y_test, voting_rf_log.predict(X_test)))"
   ]
  },
  {
   "cell_type": "code",
   "execution_count": 9,
   "metadata": {},
   "outputs": [
    {
     "data": {
      "image/png": "[encoded data removed]",
      "text/plain": [
       "<Figure size 1440x288 with 3 Axes>"
      ]
     },
     "metadata": {
      "needs_background": "light"
     },
     "output_type": "display_data"
    }
   ],
   "source": [
    "fig, axs = plt.subplots(1, 3, sharey=True, figsize=(20, 4))\n",
    "axs[0].plot(list(n_estimators), tmp_oob_log2, '.-', label='OOB error rate')\n",
    "axs[0].plot(list(n_estimators), tmp_test_r2_log, '.-', label='R2 Test')\n",
    "axs[0].set_title('Log2')\n",
    "axs[1].plot(list(n_estimators), tmp_oob_sqrt,'.-', label='OOB error rate')\n",
    "axs[1].plot(list(n_estimators), tmp_test_r2_sqrt,'.-', label='R2 Test')\n",
    "axs[1].set_title('Squared Root')\n",
    "axs[2].plot(list(n_estimators), tmp_oob_none, '.-', label='OOB error rate')\n",
    "axs[2].plot(list(n_estimators), tmp_test_r2_none,'.-', label='R2 Test')\n",
    "axs[2].set_title('None')\n",
    "plt.tight_layout()\n",
    "plt.legend();"
   ]
  },
  {
   "cell_type": "markdown",
   "metadata": {},
   "source": [
    "## Ejercicio 5: Refactoriza el modelo\n",
    "- En base a la mejor combinación de hiper parámetros, reentrene el modelo y comente su\n",
    "desempeño."
   ]
  },
  {
   "cell_type": "code",
   "execution_count": 12,
   "metadata": {},
   "outputs": [
    {
     "data": {
      "text/plain": [
       "120"
      ]
     },
     "execution_count": 12,
     "metadata": {},
     "output_type": "execute_result"
    }
   ],
   "source": [
    "# Conseguimos el mejor valor para n_estimator\n",
    "n_estimators[2]"
   ]
  },
  {
   "cell_type": "markdown",
   "metadata": {},
   "source": [
    "Vemos que los mejores hiperparámetros son:\n",
    "- `n_estimators`: 120\n",
    "- `max_features`: `log2` o `sqrt`\n",
    "\n",
    "Esto debido a que la combinación presenta un buen r2_score (notar que se grafica `1 - r2_score(...)`) además de un bajo OOB score. Si bien el OOB score no es el mas bajo de todas la combinaciónes, se mantiene dentro de un rango razonable de este. "
   ]
  },
  {
   "cell_type": "code",
   "execution_count": 13,
   "metadata": {},
   "outputs": [
    {
     "name": "stdout",
     "output_type": "stream",
     "text": [
      "Metricas usando max_features = log2\n",
      "MSE: 881886582.7333378\n",
      "MAE: 11295.208333333328\n",
      "R2 Score: 0.8648431039620877\n",
      "====================\n",
      "Metricas usando max_features = sqrt\n",
      "MSE: 881886582.7333378\n",
      "MAE: 11295.208333333328\n",
      "R2 Score: 0.8648431039620877\n"
     ]
    }
   ],
   "source": [
    "bestModelLog = RandomForestRegressor(random_state=19137, n_estimators=120, max_features='log2').fit(X_train, y_train)\n",
    "bestModelSqrt = RandomForestRegressor(random_state=19137, n_estimators=120, max_features='sqrt').fit(X_train, y_train)\n",
    "\n",
    "# Generamos las predicciones\n",
    "y_hat_best_log = bestModelLog.predict(X_test)\n",
    "y_hat_best_sqrt = bestModelSqrt.predict(X_test)\n",
    "# Analizamos las métricas\n",
    "print('Metricas usando max_features = log2')\n",
    "print(f'MSE: {mean_squared_error(y_test, y_hat_best_log)}')\n",
    "print(f'MAE: {median_absolute_error(y_test, y_hat_best_log)}')\n",
    "print(f'R2 Score: {r2_score(y_test, y_hat_best_log)}')\n",
    "print(\"=\"*20)\n",
    "# Analizamos las métricas\n",
    "print('Metricas usando max_features = sqrt')\n",
    "print(f'MSE: {mean_squared_error(y_test, y_hat_best_sqrt)}')\n",
    "print(f'MAE: {median_absolute_error(y_test, y_hat_best_sqrt)}')\n",
    "print(f'R2 Score: {r2_score(y_test, y_hat_best_sqrt)}')"
   ]
  },
  {
   "cell_type": "markdown",
   "metadata": {},
   "source": [
    "Vemos que todas las métricas mejoraron, además, notamos que los valores conseguido con `max_features` para `log2` y `sqrt` son idénticas. Esto es claro pues como nuestra base de entrenamiento tiene sólo 10 atributos, tanto el logarítmo en base 2 como la raíz cuadrada de 10 es ~3, redondeando al mismo `max_features=3`"
   ]
  }
 ],
 "metadata": {
  "interpreter": {
   "hash": "07efdcd4b820c98a756949507a4d29d7862823915ec7477944641bea022f4f62"
  },
  "kernelspec": {
   "display_name": "Python 3.8.5 64-bit ('base': conda)",
   "name": "python3"
  },
  "language_info": {
   "codemirror_mode": {
    "name": "ipython",
    "version": 3
   },
   "file_extension": ".py",
   "mimetype": "text/x-python",
   "name": "python",
   "nbconvert_exporter": "python",
   "pygments_lexer": "ipython3",
   "version": "3.8.5"
  },
  "orig_nbformat": 4
 },
 "nbformat": 4,
 "nbformat_minor": 2
}
