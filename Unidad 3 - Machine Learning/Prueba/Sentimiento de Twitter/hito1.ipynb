{
 "cells": [
  {
   "cell_type": "markdown",
   "metadata": {},
   "source": [
    "# __Prueba 1: Análisis de Sentimientos de Twitter__\n",
    "\n",
    "## Contexto\n",
    "A continuación se presenta un problema clásico en el análisis de texto: _Extraer la polaridad de sentimiento asociado a un texto_.\n",
    "\n",
    "Para esto, utilizaremos una base de datos provenientes de CrowdFlower que se entrega como archivo adjunto para esta prueba bajo el nombre de `training_tweets.csv`.\n",
    "\n",
    "Para descargar los datos puede ejecutar el siguiente código:\n",
    "```bash\n",
    "wget https://www.crowdflower.com/wp-content/uploads/2016/07/text_emotion.csv\n",
    "```\n",
    "El objetivo general de esta prueba es alcanzar el mejor desempeño posible para clasificar si un tweet tiene una polaridad positiva o negativa en cuanto al sentimiento que expresa.\n",
    "\n",
    "\n",
    "Para medir el desempeño, se evaluará con un conjunto de datos del cuál no tendrán acceso. De esta manera evitaremos que los modelos aprendan información sobre el conjunto de validación.\n"
   ]
  },
  {
   "cell_type": "markdown",
   "metadata": {},
   "source": [
    "## Objetivos\n",
    "Para alcanzar el objetivo general, su trabajo se puede desagregar en los siguientes puntos:\n",
    "<ol>\n",
    "<li>Generar un análisis exploratorio sobre los datos contenidos en el DataFrame,\n",
    "considerando palabras más comunes y distribución de las clases en el vector\n",
    "objetivo.</li>\n",
    "<li>Preprocesamiento de Texto:\n",
    "  <ul>\n",
    "    <li>Para trabajar adecuadamente con texto, debemos preprocesar y posteriormente representar cada oración como un conjunto de características.</li>\n",
    "    <li>Para preprocesar los tweets, debemos transformarlos a lower case. Un problema recurrente en el análisis de texto es la alta ocurrencia de palabras comunes. Se recomienda eliminarlas mediante la declaración de stopwords. Para generar la exclusión de stopwords, podemos utilizar la librería `nltk` (Natural Language ToolKit) y descargar los stopwords con la siguiente instrucción.</li>\n",
    "\n",
    "```python\n",
    "import nltk\n",
    "nltk.download('stopwords')\n",
    "```\n",
    "</li>\n",
    "<li>\n",
    "\n",
    "Puede refinar los atributos a capturar mediante el proceso de __lemantización__ (la\n",
    "reducción de variadas palabras con un tronco léxico común; ejemplo: _Organización,\n",
    "Organiza, y Organizado_ presentan `organi_` como tronco léxico en común) o\n",
    "__Stemming__ (la reducción de una palabra a una expresión generalizable). Cabe\n",
    "destacar que ésta última carece de análisis morfológico del lenguaje.</li>\n",
    "<li>\n",
    "\n",
    "Posterior a la refinación y preprocesamiento de las palabras, podemos representar\n",
    "cada oración en una matriz (o corpus) que permitirá reflejar la cantidad de\n",
    "ocurrencias de $W_i$ palabra en un registro. Para ello, pueden hacer uso de las librerías y\n",
    "de preprocesamiento `sklearn.feature_extraction.text.CountVectorizer` o\n",
    "`sklearn.feature_extraction.text.TfidfVectorizer`. De esta manera,\n",
    "tendremos un conjunto de características es mediante la frecuencia de ocurrencia de\n",
    "una palabra o término en el texto</li>\n",
    "</ul>\n",
    "</li>\n",
    "<li>\n",
    "Preparación del vector objetivo y las matrices de entrenamiento y validación:\n",
    "<ul>\n",
    "<li>Nos interesa trabajar con dos tipos de emociones: positivas o negativas. Para ello\n",
    "deberá generar la recodificación de cada una de las clases en una de las dos\n",
    "emociones:</li>\n",
    "<table width=\"80%\" style=\"margin: 20px 0px 20px 0px\">\n",
    "<tr><th>Original</th><th>Recodificación</th></tr>\n",
    "<tr><td>'worry'</td><td>Negativa</td></tr>\n",
    "<tr><td>'happiness'</td><td>Positiva</td></tr>\n",
    "<tr><td>'sadness'</td><td>Negativa</td></tr>\n",
    "<tr><td>'love'</td><td>Positiva</td></tr>\n",
    "<tr><td>'surprise'</td><td>Positiva</td></tr>\n",
    "<tr><td>'fun'</td><td>Positiva</td></tr>\n",
    "<tr><td>'relief'</td><td>Positiva</td></tr>\n",
    "<tr><td>'hate'</td><td>Negativa</td></tr>\n",
    "<tr><td>'empty'</td><td>Negativa</td></tr>\n",
    "<tr><td>'enthusiasm'</td><td>Positiva</td></tr>\n",
    "<tr><td>'boredom'</td><td>Negativa</td></tr>\n",
    "<tr><td>'anger'</td><td>Negativa</td></tr>\n",
    "</table>\n",
    "<li>Si el tweet está asignado como <code>neutral</code>, clasifíquelo aleatoriamente entre positivo o\n",
    "negativo.</li>\n",
    "</ul>\n",
    "</li>\n",
    "<li>Entrenamiento de modelos:\n",
    "\n",
    "- En base a los modelos vistos en clase, implemente por lo menos 5. Para cada\n",
    "uno de ellos justifique la elección de hiper parámetros. Si implementa\n",
    "búsqueda de grilla para cada uno de ellos, defina el rango de valores a tomar\n",
    "en cada hiper parámetro.\n",
    "- Reporte el desempeño de cada modelo en las muestras de entrenamiento y\n",
    "validación. Comente sobre la capacidad de generalización de cada uno de\n",
    "ellos haciendo uso de los conceptos vistos en el curso.</li>\n",
    "<li>Seleccione los 2 mejores modelos, serialicelos y envíalos a evaluación. Recuerde que\n",
    "el modelo serializado debe ser posterior al <code>fit</code>, para poder ejecutar <code>predict</code> en los\n",
    "nuevos datos.</li>\n",
    "\n",
    "</ol>\n"
   ]
  },
  {
   "cell_type": "markdown",
   "metadata": {},
   "source": [
    "## __Hito 1__\n",
    "\n",
    "### Preliminares\n",
    "Vemos que nos enfrentamos a un problema de clasificación, donde nuestro vector objetivo binario corresponderá a si una cadena de texto corresponde a un sentimiento Positivo o Negativo.\n",
    "\n",
    "Para atacar el problema realizaremos primero un preprocesamiento de los datos, usando `TfidVectorizer` de `sklearn.feature_extraction.text` para convertir el texto plano a matrices que nos serviran como atributos para el modelo. Refactorizaremos el atributo `'sentiment'` según las especificaciones y aleatorizando el valor `neutral` según un `GaussianNB` entrenado con el resto de los sentimientos. Luego haremos un análisis gráfico del vector objetivo frente a la ocurrencia de las palabras.\n",
    "\n",
    "Finalmente implementaremos 5 modelos usando distintos algoritmos, defieniendo para cada uno los hiperparámetros que correspondan y usando una búsqueda de grilla con validación cruzada cada vez que sea posible. Estos son:\n",
    "1. `LogisticRegression`:\n",
    "   - `penalty`: `['l2', 'l1', 'elasticnet']`\n",
    "   - `fit_intercept`: `[True, False]`\n",
    "   - `class_weight`: `[None, 'balanced', {'0': .4, '1': .5}, {'1': .4, '0': .5}]`\n",
    "2. `GDA`:\n",
    "   - `priors`: `[[.5, .5], [.33, .66], [.66, .33]]`\n",
    "3. `SVC`\n",
    "   - `class_weight`: `[None, 'balanced', {'0': .4, '1': .5}, {'1': .4, '0': .5}]`\n",
    "   - `kernel`: `['rbf', 'poly', 'linear', 'sigmoid']`\n",
    "   - `C`: `[0.1, 1, 10, 100, 1000]`\n",
    "   - `gamma`: `[0.000001, 0.001, 0.1, 0.5, 1]`\n",
    "4. `Decision Tree con GradientBoost`:\n",
    "   - `learning_rate`: `[0.01, 0.1, 0.5]`\n",
    "   - `n_estimators`: `[100, 500, 1000, 2000]`\n",
    "   - `subsample`: `[0.2,0.5,0.8]`\n",
    "5. `VotingClassifier`: Ensamblado con los modelos anteriores.\n"
   ]
  },
  {
   "cell_type": "markdown",
   "metadata": {},
   "source": [
    "### Aspectos Computacionales\n",
    "\n",
    "Importamos las librerías a utilizar"
   ]
  },
  {
   "cell_type": "code",
   "execution_count": 1,
   "metadata": {},
   "outputs": [],
   "source": [
    "import numpy as np\n",
    "import pandas as pd\n",
    "import missingno as msno\n",
    "import matplotlib.pyplot as plt\n",
    "import seaborn as sns\n",
    "import re\n",
    "from sklearn.model_selection import train_test_split\n",
    "from sklearn.metrics import accuracy_score, classification_report\n",
    "from sklearn.feature_extraction.text import TfidfVectorizer\n",
    "from sklearn.tree import DecisionTreeClassifier\n",
    "from sklearn.ensemble import GradientBoostingClassifier, VotingClassifier\n",
    "from sklearn.linear_model import LogisticRegression\n",
    "from sklearn.discriminant_analysis import QuadraticDiscriminantAnalysis\n",
    "from sklearn.naive_bayes import GaussianNB\n",
    "import nltk\n",
    "\n",
    "sentimientosPositivos = ['happiness', 'love', 'surprise', 'fun', 'relief', 'enthusiasm']\n",
    "sentimientosNegativos = ['worry', 'sadness', 'hate', 'empty', 'boredom', 'anger']"
   ]
  },
  {
   "cell_type": "code",
   "execution_count": 52,
   "metadata": {},
   "outputs": [
    {
     "name": "stdout",
     "output_type": "stream",
     "text": [
      "<class 'pandas.core.frame.DataFrame'>\n",
      "RangeIndex: 30000 entries, 0 to 29999\n",
      "Data columns (total 2 columns):\n",
      " #   Column     Non-Null Count  Dtype \n",
      "---  ------     --------------  ----- \n",
      " 0   content    30000 non-null  object\n",
      " 1   sentiment  30000 non-null  object\n",
      "dtypes: object(2)\n",
      "memory usage: 468.9+ KB\n"
     ]
    }
   ],
   "source": [
    "df = pd.read_csv('training_tweets.csv').drop(columns=['Unnamed: 0'])\n",
    "df.info()"
   ]
  },
  {
   "cell_type": "markdown",
   "metadata": {},
   "source": [
    "### Análisis exploratorio y Feature Engineering de espacio de atributos\n",
    "\n",
    "Importados los datos haremos la recodificación de `'content'`, aparte de la recodificación de palabras agregaremos mas metadata del atributo como:\n",
    "- la cantidad de palabras\n",
    "- el largo en caractéres\n",
    "\n",
    "Además, haremos una reescritura de los hastags y menciones a `'@@@'` y `'###'` respectivamente cosa de evitar que nuestro modelo se sesgue con los usuarios/hashtags que se les da mas odio o positividad y a la vez manteniendo la información de cuantas menciones y hashtags tiene el tweet. "
   ]
  },
  {
   "cell_type": "code",
   "execution_count": 53,
   "metadata": {},
   "outputs": [],
   "source": [
    "# Agregamos las columnas\n",
    "df['n_words'] = df['content'].apply(lambda x: len(x.split()))\n",
    "df['n_chars'] = df['content'].apply(lambda x: len(x))\n",
    "# Empezamos la refactorización del vector objetivo\n",
    "df['sentiment_positive'] = df['sentiment'].apply(lambda x: 1 if x in sentimientosPositivos else 0 if x in sentimientosNegativos else -1)"
   ]
  },
  {
   "cell_type": "code",
   "execution_count": 54,
   "metadata": {},
   "outputs": [],
   "source": [
    "# Reemplazar las menciones y hashtags por una palabra\n",
    "df['content'] = df['content'].apply(lambda x: re.sub(r'@\\w+', '@arroba', x))\n",
    "df['content'] = df['content'].apply(lambda x: re.sub(r'#\\w+', '#hashtag', x))\n"
   ]
  },
  {
   "cell_type": "markdown",
   "metadata": {},
   "source": [
    "Revisamos la pérdida de datos"
   ]
  },
  {
   "cell_type": "code",
   "execution_count": 5,
   "metadata": {},
   "outputs": [
    {
     "data": {
      "text/plain": [
       "<AxesSubplot:>"
      ]
     },
     "execution_count": 5,
     "metadata": {},
     "output_type": "execute_result"
    },
    {
     "data": {
      "image/png": "[encoded data removed]",
      "text/plain": [
       "<Figure size 720x720 with 2 Axes>"
      ]
     },
     "metadata": {
      "needs_background": "light"
     },
     "output_type": "display_data"
    }
   ],
   "source": [
    "msno.matrix(df, figsize=(10, 10))"
   ]
  },
  {
   "cell_type": "markdown",
   "metadata": {},
   "source": [
    "Vemos que no hay datos perdidos en la muestra lo que es bastante bueno.\n",
    "\n",
    "Luego implementaremos la refactorización de la cadena de texto a matrices usando `TfidfVectorizer`."
   ]
  },
  {
   "cell_type": "code",
   "execution_count": 55,
   "metadata": {},
   "outputs": [],
   "source": [
    "# Refactorizamos usando TfidfTransformer\n",
    "tfidf = TfidfVectorizer(stop_words=nltk.corpus.stopwords.words('spanish'), max_features=10000)\n",
    "tfidfMatrix = tfidf.fit_transform(df['content'])"
   ]
  },
  {
   "cell_type": "code",
   "execution_count": 56,
   "metadata": {},
   "outputs": [],
   "source": [
    "# Agregamos el Dataframe de features\n",
    "refactoredDf = pd.concat([df.drop(columns=['content']), pd.DataFrame(tfidfMatrix.toarray(), columns=tfidf.get_feature_names())], axis=1)\n"
   ]
  },
  {
   "cell_type": "markdown",
   "metadata": {},
   "source": [
    "### Análisis y refactoring de vector objetivo\n",
    "\n",
    "Primero haremos la aleatorización de la columna neutral, para ello usaremos un modelo de NaiveBayes con Gaussianas.\n",
    "\n",
    "Graficamos el vector objetivo"
   ]
  },
  {
   "cell_type": "code",
   "execution_count": 59,
   "metadata": {},
   "outputs": [
    {
     "data": {
      "text/plain": [
       "<AxesSubplot:xlabel='sentiment_positive', ylabel='count'>"
      ]
     },
     "execution_count": 59,
     "metadata": {},
     "output_type": "execute_result"
    },
    {
     "data": {
      "image/png": "[encoded data removed]",
      "text/plain": [
       "<Figure size 1440x360 with 1 Axes>"
      ]
     },
     "metadata": {
      "needs_background": "light"
     },
     "output_type": "display_data"
    }
   ],
   "source": [
    "plt.figure(figsize=(20,5))\n",
    "sns.countplot(x='sentiment_positive', hue='sentiment', data=refactoredDf)\n"
   ]
  },
  {
   "cell_type": "markdown",
   "metadata": {},
   "source": [
    "Vemos que los sentimientos positivos tienen una distribución un poco mas pareja que los sentimientos negativos, ya que hay muy pocos ejemplos de `'boredom'` y `'anger'` comparados con las de `'worry'`.\n",
    "\n",
    "Vemos que hay muchos tweets como `'neutral'`, lo que indica que la aleatorización es importante para le desempeño final del modelo. Continuamos con el entrenamiento del modelo para aleatorizar estas observaciones."
   ]
  },
  {
   "cell_type": "code",
   "execution_count": 60,
   "metadata": {},
   "outputs": [],
   "source": [
    "# Separamos las muestra según si son neutrales o no\n",
    "nonNeutral = refactoredDf[refactoredDf['sentiment_positive'] != -1].drop(columns=['sentiment'])\n",
    "neutral = refactoredDf[refactoredDf['sentiment_positive'] == -1].drop(columns=['sentiment', 'sentiment_positive'])\n",
    "# Separamos las muestras de entrenamiento y prueba\n",
    "X_train, X_test, y_train, y_test = train_test_split(nonNeutral.drop(columns=['sentiment_positive']), nonNeutral['sentiment_positive'], test_size=0.33, random_state=42)\n"
   ]
  },
  {
   "cell_type": "code",
   "execution_count": 61,
   "metadata": {},
   "outputs": [
    {
     "name": "stdout",
     "output_type": "stream",
     "text": [
      "              precision    recall  f1-score   support\n",
      "\n",
      "           0       0.63      0.56      0.59      3957\n",
      "           1       0.59      0.66      0.62      3815\n",
      "\n",
      "    accuracy                           0.61      7772\n",
      "   macro avg       0.61      0.61      0.61      7772\n",
      "weighted avg       0.61      0.61      0.61      7772\n",
      "\n"
     ]
    }
   ],
   "source": [
    "# Entrenamos el modelo\n",
    "nbModel = GaussianNB()\n",
    "nbModel.fit(X_train, y_train)\n",
    "# Reportamos las métricas\n",
    "print(classification_report(y_test, nbModel.predict(X_test)))"
   ]
  },
  {
   "cell_type": "markdown",
   "metadata": {},
   "source": [
    "Vemos que a lo menos es mejor que una predicción aleatoria equi-probable por lo que continuamos a la refactorizacion de los valores neutrales en `'sentiment'`"
   ]
  },
  {
   "cell_type": "code",
   "execution_count": 62,
   "metadata": {},
   "outputs": [],
   "source": [
    "# guardamos las predicciones de las clases 'neutral'\n",
    "neutral['sentiment_positive'] = nbModel.predict(neutral)\n",
    "# Guardamos el espacio de atributos final\n",
    "refactoredDf = pd.concat([neutral, nonNeutral])"
   ]
  },
  {
   "cell_type": "code",
   "execution_count": 63,
   "metadata": {},
   "outputs": [
    {
     "data": {
      "text/plain": [
       "1    15325\n",
       "0    14675\n",
       "Name: sentiment_positive, dtype: int64"
      ]
     },
     "execution_count": 63,
     "metadata": {},
     "output_type": "execute_result"
    }
   ],
   "source": [
    "# Verificamos que nuestro vector objetivo sea binario\n",
    "refactoredDf['sentiment_positive'].value_counts()"
   ]
  },
  {
   "cell_type": "markdown",
   "metadata": {},
   "source": []
  },
  {
   "cell_type": "code",
   "execution_count": null,
   "metadata": {},
   "outputs": [],
   "source": [
    "\n"
   ]
  }
 ],
 "metadata": {
  "interpreter": {
   "hash": "07efdcd4b820c98a756949507a4d29d7862823915ec7477944641bea022f4f62"
  },
  "kernelspec": {
   "display_name": "Python 3.8.5 64-bit ('base': conda)",
   "name": "python3"
  },
  "language_info": {
   "codemirror_mode": {
    "name": "ipython",
    "version": 3
   },
   "file_extension": ".py",
   "mimetype": "text/x-python",
   "name": "python",
   "nbconvert_exporter": "python",
   "pygments_lexer": "ipython3",
   "version": "3.8.5"
  },
  "orig_nbformat": 4
 },
 "nbformat": 4,
 "nbformat_minor": 2
}
