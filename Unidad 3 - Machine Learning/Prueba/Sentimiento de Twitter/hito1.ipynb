{
 "cells": [
  {
   "cell_type": "markdown",
   "metadata": {},
   "source": [
    "# __Prueba 1: Análisis de Sentimientos de Twitter__\n",
    "`Benjamín Meneses`\n",
    "## Contexto\n",
    "A continuación se presenta un problema clásico en el análisis de texto: _Extraer la polaridad de sentimiento asociado a un texto_.\n",
    "\n",
    "Para esto, utilizaremos una base de datos provenientes de CrowdFlower que se entrega como archivo adjunto para esta prueba bajo el nombre de `training_tweets.csv`.\n",
    "\n",
    "Para descargar los datos puede ejecutar el siguiente código:\n",
    "```bash\n",
    "wget https://www.crowdflower.com/wp-content/uploads/2016/07/text_emotion.csv\n",
    "```\n",
    "El objetivo general de esta prueba es alcanzar el mejor desempeño posible para clasificar si un tweet tiene una polaridad positiva o negativa en cuanto al sentimiento que expresa.\n",
    "\n",
    "\n",
    "Para medir el desempeño, se evaluará con un conjunto de datos del cuál no tendrán acceso. De esta manera evitaremos que los modelos aprendan información sobre el conjunto de validación.\n"
   ]
  },
  {
   "cell_type": "markdown",
   "metadata": {},
   "source": [
    "## Objetivos\n",
    "Para alcanzar el objetivo general, su trabajo se puede desagregar en los siguientes puntos:\n",
    "<ol>\n",
    "<li>Generar un análisis exploratorio sobre los datos contenidos en el DataFrame,\n",
    "considerando palabras más comunes y distribución de las clases en el vector\n",
    "objetivo.</li>\n",
    "<li>Preprocesamiento de Texto:\n",
    "  <ul>\n",
    "    <li>Para trabajar adecuadamente con texto, debemos preprocesar y posteriormente representar cada oración como un conjunto de características.</li>\n",
    "    <li>Para preprocesar los tweets, debemos transformarlos a lower case. Un problema recurrente en el análisis de texto es la alta ocurrencia de palabras comunes. Se recomienda eliminarlas mediante la declaración de stopwords. Para generar la exclusión de stopwords, podemos utilizar la librería `nltk` (Natural Language ToolKit) y descargar los stopwords con la siguiente instrucción.</li>\n",
    "\n",
    "```python\n",
    "import nltk\n",
    "nltk.download('stopwords')\n",
    "```\n",
    "</li>\n",
    "<li>\n",
    "\n",
    "Puede refinar los atributos a capturar mediante el proceso de __lemantización__ (la\n",
    "reducción de variadas palabras con un tronco léxico común; ejemplo: _Organización,\n",
    "Organiza, y Organizado_ presentan `organi_` como tronco léxico en común) o\n",
    "__Stemming__ (la reducción de una palabra a una expresión generalizable). Cabe\n",
    "destacar que ésta última carece de análisis morfológico del lenguaje.</li>\n",
    "<li>\n",
    "\n",
    "Posterior a la refinación y preprocesamiento de las palabras, podemos representar\n",
    "cada oración en una matriz (o corpus) que permitirá reflejar la cantidad de\n",
    "ocurrencias de $W_i$ palabra en un registro. Para ello, pueden hacer uso de las librerías y\n",
    "de preprocesamiento `sklearn.feature_extraction.text.CountVectorizer` o\n",
    "`sklearn.feature_extraction.text.TfidfVectorizer`. De esta manera,\n",
    "tendremos un conjunto de características es mediante la frecuencia de ocurrencia de\n",
    "una palabra o término en el texto</li>\n",
    "</ul>\n",
    "</li>\n",
    "<li>\n",
    "Preparación del vector objetivo y las matrices de entrenamiento y validación:\n",
    "<ul>\n",
    "<li>Nos interesa trabajar con dos tipos de emociones: positivas o negativas. Para ello\n",
    "deberá generar la recodificación de cada una de las clases en una de las dos\n",
    "emociones:</li>\n",
    "<table width=\"80%\" style=\"margin: 20px 0px 20px 0px\">\n",
    "<tr><th>Original</th><th>Recodificación</th></tr>\n",
    "<tr><td>'worry'</td><td>Negativa</td></tr>\n",
    "<tr><td>'happiness'</td><td>Positiva</td></tr>\n",
    "<tr><td>'sadness'</td><td>Negativa</td></tr>\n",
    "<tr><td>'love'</td><td>Positiva</td></tr>\n",
    "<tr><td>'surprise'</td><td>Positiva</td></tr>\n",
    "<tr><td>'fun'</td><td>Positiva</td></tr>\n",
    "<tr><td>'relief'</td><td>Positiva</td></tr>\n",
    "<tr><td>'hate'</td><td>Negativa</td></tr>\n",
    "<tr><td>'empty'</td><td>Negativa</td></tr>\n",
    "<tr><td>'enthusiasm'</td><td>Positiva</td></tr>\n",
    "<tr><td>'boredom'</td><td>Negativa</td></tr>\n",
    "<tr><td>'anger'</td><td>Negativa</td></tr>\n",
    "</table>\n",
    "<li>Si el tweet está asignado como <code>neutral</code>, clasifíquelo aleatoriamente entre positivo o\n",
    "negativo.</li>\n",
    "</ul>\n",
    "</li>\n",
    "<li>Entrenamiento de modelos:\n",
    "\n",
    "- En base a los modelos vistos en clase, implemente por lo menos 5. Para cada\n",
    "uno de ellos justifique la elección de hiper parámetros. Si implementa\n",
    "búsqueda de grilla para cada uno de ellos, defina el rango de valores a tomar\n",
    "en cada hiper parámetro.\n",
    "- Reporte el desempeño de cada modelo en las muestras de entrenamiento y\n",
    "validación. Comente sobre la capacidad de generalización de cada uno de\n",
    "ellos haciendo uso de los conceptos vistos en el curso.</li>\n",
    "<li>Seleccione los 2 mejores modelos, serialicelos y envíalos a evaluación. Recuerde que\n",
    "el modelo serializado debe ser posterior al <code>fit</code>, para poder ejecutar <code>predict</code> en los\n",
    "nuevos datos.</li>\n",
    "\n",
    "</ol>\n"
   ]
  },
  {
   "cell_type": "markdown",
   "metadata": {},
   "source": [
    "## __Hito 1__"
   ]
  },
  {
   "cell_type": "markdown",
   "metadata": {},
   "source": [
    "### Preliminares\n",
    "Vemos que nos enfrentamos a un problema de clasificación, donde nuestro vector objetivo binario corresponderá a si una cadena de texto corresponde a un sentimiento Positivo o Negativo.\n",
    "\n",
    "Para atacar el problema realizaremos primero un preprocesamiento de los datos, usando `TfidVectorizer` de `sklearn.feature_extraction.text` para convertir el texto plano a matrices que nos serviran como atributos para el modelo. Refactorizaremos el atributo `'sentiment'` según las especificaciones y aleatorizando el valor `neutral` según un `GaussianNB` entrenado con el resto de los sentimientos. Luego haremos un análisis gráfico del vector objetivo frente a la ocurrencia de las palabras.\n",
    "\n",
    "Finalmente implementaremos 5 modelos usando distintos algoritmos, defieniendo para cada uno los hiperparámetros que correspondan y usando una búsqueda de grilla con validación cruzada cada vez que sea posible. Estos son:\n",
    "1. `LogisticRegression`:\n",
    "   - `penalty`: `['l2', 'l1', 'elasticnet']`\n",
    "   - `fit_intercept`: `[True, False]`\n",
    "   - `class_weight`: `[None, 'balanced']`\n",
    "2. `QDA`:\n",
    "   - `priors`: `[[.5, .5], [.33, .66], [.66, .33]]`\n",
    "3. `RandomForestClassifier`\n",
    "   - `max_depth`: `[None, 5, 15, 25]`\n",
    "   - `n_estimators`: `[50, 200, 500]`\n",
    "   - `max_features`: `['auto', 'sqrt', 'log2']`\n",
    "4. `Decision Tree con GradientBoost`:\n",
    "   - `learning_rate`: `[0.1, 0.5]`\n",
    "   - `max_features`: `[25, 'sqrt', 'log2']`\n",
    "   - `max_depth`: `[25, 50, 100]`\n",
    "   - `subsample`: `[0.3,0.5, 1]`\n",
    "5. `VotingClassifier`: Ensamblado con los 3 mejores modelos anteriores.\n"
   ]
  },
  {
   "cell_type": "markdown",
   "metadata": {},
   "source": [
    "### Aspectos Computacionales\n",
    "\n",
    "Importamos las librerías a utilizar"
   ]
  },
  {
   "cell_type": "code",
   "execution_count": 1,
   "metadata": {},
   "outputs": [
    {
     "name": "stderr",
     "output_type": "stream",
     "text": [
      "<frozen importlib._bootstrap>:219: RuntimeWarning: numpy.ufunc size changed, may indicate binary incompatibility. Expected 192 from C header, got 216 from PyObject\n",
      "<frozen importlib._bootstrap>:219: RuntimeWarning: numpy.ufunc size changed, may indicate binary incompatibility. Expected 192 from C header, got 216 from PyObject\n",
      "<frozen importlib._bootstrap>:219: RuntimeWarning: numpy.ufunc size changed, may indicate binary incompatibility. Expected 192 from C header, got 216 from PyObject\n"
     ]
    }
   ],
   "source": [
    "import numpy as np\n",
    "import pandas as pd\n",
    "import missingno as msno\n",
    "import matplotlib.pyplot as plt\n",
    "import seaborn as sns\n",
    "import re\n",
    "from sklearn.model_selection import train_test_split, GridSearchCV\n",
    "from sklearn.preprocessing import StandardScaler\n",
    "from sklearn.metrics import accuracy_score, classification_report, roc_curve\n",
    "from sklearn.feature_extraction.text import TfidfVectorizer, CountVectorizer\n",
    "from sklearn.decomposition import LatentDirichletAllocation\n",
    "from sklearn.ensemble import GradientBoostingClassifier, VotingClassifier, RandomForestClassifier\n",
    "from sklearn.linear_model import LogisticRegression\n",
    "from sklearn.discriminant_analysis import QuadraticDiscriminantAnalysis\n",
    "from sklearn.naive_bayes import GaussianNB\n",
    "\n",
    "import nltk\n",
    "\n",
    "sentimientosPositivos = ['happiness', 'love', 'surprise', 'fun', 'relief', 'enthusiasm']\n",
    "sentimientosNegativos = ['worry', 'sadness', 'hate', 'empty', 'boredom', 'anger']"
   ]
  },
  {
   "cell_type": "code",
   "execution_count": 2,
   "metadata": {},
   "outputs": [
    {
     "name": "stdout",
     "output_type": "stream",
     "text": [
      "<class 'pandas.core.frame.DataFrame'>\n",
      "RangeIndex: 30000 entries, 0 to 29999\n",
      "Data columns (total 2 columns):\n",
      " #   Column     Non-Null Count  Dtype \n",
      "---  ------     --------------  ----- \n",
      " 0   content    30000 non-null  object\n",
      " 1   sentiment  30000 non-null  object\n",
      "dtypes: object(2)\n",
      "memory usage: 468.9+ KB\n"
     ]
    }
   ],
   "source": [
    "df = pd.read_csv('training_tweets.csv').drop(columns=['Unnamed: 0'])\n",
    "df.info()"
   ]
  },
  {
   "cell_type": "markdown",
   "metadata": {},
   "source": [
    "### Análisis exploratorio y Feature Engineering de espacio de atributos\n",
    "\n",
    "Importados los datos haremos la recodificación de `'content'`, aparte de la recodificación de palabras agregaremos mas metadata del atributo como:\n",
    "- la cantidad de palabras\n",
    "- el largo en caractéres\n",
    "\n",
    "Además, Conseguiremos la cantidad de menciones y hashtags y luego los reemplazaremos en los textos a `'@@@'` y `'###'` respectivamente. Esto con el objetivo de evitar que nuestro modelo se sesgue con los usuarios/hashtags que se les da mas odio o positividad y a la vez manteniendo la información de cuantas menciones y hashtags tiene el tweet. Como sólo usaremos algorítmos que usan la frecuencia de las palabras y documentos, no habrá pérdida de información al quitar las palabras."
   ]
  },
  {
   "cell_type": "code",
   "execution_count": 3,
   "metadata": {},
   "outputs": [],
   "source": [
    "# Creamos la función para preprocesar los tweets\n",
    "def intialParsing(df):\n",
    "    copy = df.copy()\n",
    "    # Agregamos las columnas\n",
    "    copy['n_words'] = df['content'].apply(lambda x: len(x.split()))\n",
    "    copy['n_chars'] = df['content'].apply(lambda x: len(x))\n",
    "    # Conseguir la cantidad de menciones y hashtags\n",
    "    copy['n_mentions'] = df['content'].apply(lambda x: len(re.findall(r'@\\w+', x)))\n",
    "    copy['n_hashtags'] = df['content'].apply(lambda x: len(re.findall(r'#\\w+', x)))\n",
    "    # Reemplazar las menciones y hashtags por una palabra\n",
    "    copy['content'] = df['content'].apply(lambda x: re.sub(r'@\\w+', '@@@', x))\n",
    "    copy['content'] = copy['content'].apply(lambda x: re.sub(r'#\\w+', '###', x))\n",
    "    return copy\n",
    "\n",
    "df = intialParsing(df)"
   ]
  },
  {
   "cell_type": "markdown",
   "metadata": {},
   "source": [
    "Revisamos la pérdida de datos"
   ]
  },
  {
   "cell_type": "code",
   "execution_count": 6,
   "metadata": {},
   "outputs": [
    {
     "data": {
      "text/plain": [
       "<AxesSubplot:>"
      ]
     },
     "execution_count": 6,
     "metadata": {},
     "output_type": "execute_result"
    },
    {
     "data": {
      "image/png": "[encoded data removed]",
      "text/plain": [
       "<Figure size 1440x360 with 2 Axes>"
      ]
     },
     "metadata": {
      "needs_background": "light"
     },
     "output_type": "display_data"
    }
   ],
   "source": [
    "msno.matrix(df, figsize=(20, 5))"
   ]
  },
  {
   "cell_type": "markdown",
   "metadata": {},
   "source": [
    "Vemos que no hay datos perdidos en la muestra lo que es bastante bueno.\n",
    "\n",
    "Luego implementaremos la refactorización de la cadena de texto a matrices usando `TfidfVectorizer`."
   ]
  },
  {
   "cell_type": "code",
   "execution_count": 4,
   "metadata": {},
   "outputs": [
    {
     "data": {
      "text/plain": [
       "(30000, 26732)"
      ]
     },
     "execution_count": 4,
     "metadata": {},
     "output_type": "execute_result"
    }
   ],
   "source": [
    "# Vemos el total de palabras de los tweets\n",
    "words_vectorizer = CountVectorizer(stop_words=nltk.corpus.stopwords.words('english'))\n",
    "words_vectorizer.fit(df['content'])\n",
    "wordsMatrixDf = pd.DataFrame(words_vectorizer.transform(df['content']).toarray(), columns=words_vectorizer.get_feature_names())\n",
    "wordsMatrixDf.shape"
   ]
  },
  {
   "cell_type": "markdown",
   "metadata": {},
   "source": [
    "Vemos que son 26732 palabras distintas, por lo tanto sería bueno poder disminuir la dimensionalidad.\n",
    "\n",
    "Haremos entonces un análisis de la frecuencia de las palabras para así buscar límites superiores e inferiores para nuestro algorítmo `TfidTransformer`. Luego con las palabras ignoradas haremos un modelo usando `LatentDirchletAllocation` y agregaremos las probabilidades de los tópicos inferidos como columnas a nuestro espacio de atributos."
   ]
  },
  {
   "cell_type": "code",
   "execution_count": 5,
   "metadata": {},
   "outputs": [
    {
     "data": {
      "text/plain": [
       "Text(0.5, 1.0, 'mas de 2000 ocurrencias')"
      ]
     },
     "execution_count": 5,
     "metadata": {},
     "output_type": "execute_result"
    },
    {
     "data": {
      "image/png": "[encoded data removed]",
      "text/plain": [
       "<Figure size 1440x720 with 4 Axes>"
      ]
     },
     "metadata": {
      "needs_background": "light"
     },
     "output_type": "display_data"
    }
   ],
   "source": [
    "# Convertimos el arreglo de frecuencias en una serie\n",
    "wordSeries = wordsMatrixDf.sum(axis=0)\n",
    "# Graficamos los rangos de frecuencia de las palabras\n",
    "fig, ax = plt.subplots(1, 4, figsize=(20, 10))\n",
    "sns.histplot(x=wordSeries.loc[lambda x: (x > 0) & (x < 30)], data=wordSeries, bins=30, ax=ax[0])\n",
    "ax[0].set_title('entre 1 y 29 ocurrencias')\n",
    "sns.histplot(x=wordSeries.loc[lambda x: (x >= 30) & (x < 501)], data=wordSeries, bins=30, ax=ax[1])\n",
    "ax[1].set_title('entre 30 y 299 ocurrencias')\n",
    "sns.histplot(x=wordSeries.loc[lambda x: (x >= 501) & (x < 2001)], data=wordSeries, bins=30, ax=ax[2])\n",
    "ax[2].set_title('entre 300 y 1999 ocurrencias')\n",
    "sns.histplot(x=wordSeries.loc[lambda x: (x >= 2001)], data=wordSeries, bins=30, ax=ax[3])\n",
    "ax[3].set_title('mas de 2000 ocurrencias')"
   ]
  },
  {
   "cell_type": "markdown",
   "metadata": {},
   "source": [
    "Vemos que si definieramos un límite inferior $freq < 3$ eliminaríamos casi 20.000 palabras. Por otro lado, un límite superior tentativo sería $freq > 1000$, pues así no quitamos tantas palabras más y dejamos al menos 3 ordenes de magnitud en frecuencias para el posterior algorítmo `Tfidf`."
   ]
  },
  {
   "cell_type": "code",
   "execution_count": 6,
   "metadata": {},
   "outputs": [
    {
     "data": {
      "text/plain": [
       "19502"
      ]
     },
     "execution_count": 6,
     "metadata": {},
     "output_type": "execute_result"
    }
   ],
   "source": [
    "discardedWords = wordSeries.loc[lambda x: (x < 3)].index\n",
    "len(discardedWords)"
   ]
  },
  {
   "cell_type": "code",
   "execution_count": 7,
   "metadata": {},
   "outputs": [],
   "source": [
    "# Conseguimos la matriz TF-IDF de las columnas apartadas\n",
    "tfidfLatent = TfidfVectorizer(stop_words=nltk.corpus.stopwords.words('english'), max_df=2)\n",
    "tfidfLatentMatrix = tfidfLatent.fit_transform(df['content'])"
   ]
  },
  {
   "cell_type": "code",
   "execution_count": 19,
   "metadata": {},
   "outputs": [
    {
     "name": "stdout",
     "output_type": "stream",
     "text": [
      "Fitting 5 folds for each of 16 candidates, totalling 80 fits\n"
     ]
    },
    {
     "name": "stderr",
     "output_type": "stream",
     "text": [
      "[Parallel(n_jobs=3)]: Using backend LokyBackend with 3 concurrent workers.\n",
      "[Parallel(n_jobs=3)]: Done  44 tasks      | elapsed:  5.2min\n",
      "[Parallel(n_jobs=3)]: Done  80 out of  80 | elapsed:  9.2min finished\n"
     ]
    },
    {
     "data": {
      "text/plain": [
       "{'learning_decay': 0.8, 'max_iter': 10, 'n_components': 3}"
      ]
     },
     "execution_count": 19,
     "metadata": {},
     "output_type": "execute_result"
    }
   ],
   "source": [
    "# Definimos los hiperparámetros de búsqueda\n",
    "n_components = [3, 5, 10, 15]\n",
    "learning_decay = [0.8, 0.7, 0.65, 0.5]\n",
    "max_iter = [10]\n",
    "# Creamos el pipeline del modelo\n",
    "dirchletModel = GridSearchCV(LatentDirichletAllocation(random_state=19137, n_jobs=3), {'n_components': n_components, 'learning_decay': learning_decay, 'max_iter': max_iter}, cv=5, n_jobs=3, verbose=1)\n",
    "# Entrenamos y mostramos los mejores parámetros\n",
    "dirchletModel.fit(tfidfLatentMatrix)\n",
    "dirchletModel.best_params_"
   ]
  },
  {
   "cell_type": "markdown",
   "metadata": {},
   "source": [
    "Vemos que la mejor combinación es `'learning_decay': 0.8, 'max_iter': 10, 'n_components': 3`"
   ]
  },
  {
   "cell_type": "code",
   "execution_count": 8,
   "metadata": {},
   "outputs": [
    {
     "data": {
      "text/plain": [
       "LatentDirichletAllocation(learning_decay=0.8, n_components=3, n_jobs=-1,\n",
       "                          random_state=19137)"
      ]
     },
     "execution_count": 8,
     "metadata": {},
     "output_type": "execute_result"
    }
   ],
   "source": [
    "# Instanciamos el mejor modelo\n",
    "ldaModel = LatentDirichletAllocation(random_state=19137, n_components=3, learning_decay=0.8, max_iter=10, n_jobs=-1)\n",
    "ldaModel.fit(tfidfLatentMatrix)"
   ]
  },
  {
   "cell_type": "code",
   "execution_count": 10,
   "metadata": {},
   "outputs": [
    {
     "name": "stdout",
     "output_type": "stream",
     "text": [
      "Topic 0: buried internship donating clapping belt eastenders packaging giddy embarrassed luis attract chickened goodbyes architecture\n",
      "Topic 1: nigh pours mommie 108 kiddie richmond hc argentina passengers swag migrate chrissy prank lonelyyyy\n",
      "Topic 2: friendorfollow donny fle9j wookie uuuup 365 icurve hopfully nike shaven oli tore bsc cranky\n"
     ]
    }
   ],
   "source": [
    "# Conseguimos las palabras descartadas\n",
    "discardedWords = tfidfLatent.get_feature_names()\n",
    "# Mostramos las mejores palabras\n",
    "for i, topic_dist in enumerate(ldaModel.components_):\n",
    "    topic_words = [discardedWords[i] for i in np.argsort(topic_dist)][:-15:-1]\n",
    "    print('Topic {}: {}'.format(i, ' '.join(topic_words)))"
   ]
  },
  {
   "cell_type": "markdown",
   "metadata": {},
   "source": [
    "Agregaremos entonces las columnas probabilidad de pertenencia a cada tópico inferido  "
   ]
  },
  {
   "cell_type": "code",
   "execution_count": 11,
   "metadata": {},
   "outputs": [],
   "source": [
    "# esta transformación la podemos coercionar a un dataframe de la siguiente manera\n",
    "topics_for_each_doc = pd.DataFrame(np.round(ldaModel.transform(tfidfLatentMatrix), 3), index=df.index )\n",
    "#agregamos identificadores de columna\n",
    "topics_for_each_doc.columns = list(map(lambda x: \"T: {}\".format(x), range(1, ldaModel.n_components + 1)))\n",
    "# concatenamos las probabilidades de tópico por documento a nuestra matriz original\n",
    "concatenated_df = pd.concat([df.drop(columns=['content']), topics_for_each_doc], axis=1)"
   ]
  },
  {
   "cell_type": "code",
   "execution_count": 30,
   "metadata": {},
   "outputs": [
    {
     "data": {
      "text/plain": [
       "Index(['sentiment', 'n_words', 'n_chars', 'sentiment_positive', 'n_mentions',\n",
       "       'n_hashtags', 'T: 1', 'T: 2', 'T: 3'],\n",
       "      dtype='object')"
      ]
     },
     "execution_count": 30,
     "metadata": {},
     "output_type": "execute_result"
    }
   ],
   "source": [
    "concatenated_df.columns"
   ]
  },
  {
   "cell_type": "code",
   "execution_count": 12,
   "metadata": {},
   "outputs": [
    {
     "data": {
      "text/plain": [
       "(30000, 7113)"
      ]
     },
     "execution_count": 12,
     "metadata": {},
     "output_type": "execute_result"
    }
   ],
   "source": [
    "# Refactorizamos usando TfidfTransformer\n",
    "tfidf = TfidfVectorizer(stop_words=nltk.corpus.stopwords.words('english'), min_df=3)\n",
    "tfidfMatrix = tfidf.fit_transform(df['content'])\n",
    "tfidfMatrix.shape"
   ]
  },
  {
   "cell_type": "code",
   "execution_count": 13,
   "metadata": {},
   "outputs": [],
   "source": [
    "# Agregamos el Dataframe de features\n",
    "refactoredDf = pd.concat([concatenated_df, pd.DataFrame(tfidfMatrix.toarray(), columns=tfidf.get_feature_names())], axis=1)"
   ]
  },
  {
   "cell_type": "markdown",
   "metadata": {},
   "source": [
    "### Análisis y refactoring de vector objetivo\n",
    "\n",
    "Primero haremos la aleatorización de la columna neutral, para ello usaremos un modelo de NaiveBayes con Gaussianas.\n",
    "\n",
    "Graficamos el vector objetivo"
   ]
  },
  {
   "cell_type": "code",
   "execution_count": 14,
   "metadata": {},
   "outputs": [
    {
     "data": {
      "text/plain": [
       "<AxesSubplot:xlabel='sentiment_positive', ylabel='count'>"
      ]
     },
     "execution_count": 14,
     "metadata": {},
     "output_type": "execute_result"
    },
    {
     "data": {
      "image/png": "[encoded data removed]",
      "text/plain": [
       "<Figure size 1440x360 with 1 Axes>"
      ]
     },
     "metadata": {
      "needs_background": "light"
     },
     "output_type": "display_data"
    }
   ],
   "source": [
    "# Empezamos la refactorización del vector objetivo\n",
    "refactoredDf['sentiment_positive'] = df['sentiment'].apply(lambda x: 1 if x in sentimientosPositivos else 0 if x in sentimientosNegativos else -1)\n",
    "# Graficamos la distribución de los valores\n",
    "plt.figure(figsize=(20,5))\n",
    "sns.countplot(x='sentiment_positive', hue='sentiment', data=refactoredDf)\n"
   ]
  },
  {
   "cell_type": "markdown",
   "metadata": {},
   "source": [
    "Vemos que los sentimientos positivos tienen una distribución un poco mas pareja que los sentimientos negativos, ya que hay muy pocos ejemplos de `'boredom'` y `'anger'` comparados con las de `'worry'`.\n",
    "\n",
    "Vemos que hay muchos tweets como `'neutral'`, lo que indica que la aleatorización es importante para le desempeño final del modelo. Continuamos con el entrenamiento del modelo para aleatorizar estas observaciones."
   ]
  },
  {
   "cell_type": "code",
   "execution_count": 15,
   "metadata": {},
   "outputs": [],
   "source": [
    "# Separamos las muestra según si son neutrales o no\n",
    "nonNeutral = refactoredDf[refactoredDf['sentiment_positive'] != -1].drop(columns=['sentiment'])\n",
    "neutral = refactoredDf[refactoredDf['sentiment_positive'] == -1].drop(columns=['sentiment', 'sentiment_positive'])\n",
    "# Separamos las muestras de entrenamiento y prueba\n",
    "X_train, X_test, y_train, y_test = train_test_split(nonNeutral.drop(columns=['sentiment_positive']), nonNeutral['sentiment_positive'], test_size=0.33, random_state=42)\n"
   ]
  },
  {
   "cell_type": "code",
   "execution_count": 16,
   "metadata": {},
   "outputs": [
    {
     "name": "stdout",
     "output_type": "stream",
     "text": [
      "              precision    recall  f1-score   support\n",
      "\n",
      "           0       0.63      0.51      0.56      3957\n",
      "           1       0.58      0.69      0.63      3815\n",
      "\n",
      "    accuracy                           0.60      7772\n",
      "   macro avg       0.60      0.60      0.60      7772\n",
      "weighted avg       0.60      0.60      0.60      7772\n",
      "\n"
     ]
    }
   ],
   "source": [
    "# Entrenamos el modelo\n",
    "nbModel = GaussianNB()\n",
    "nbModel.fit(X_train, y_train)\n",
    "# Reportamos las métricas\n",
    "print(classification_report(y_test, nbModel.predict(X_test)))"
   ]
  },
  {
   "cell_type": "markdown",
   "metadata": {},
   "source": [
    "Vemos que a lo menos es mejor que una predicción aleatoria equi-probable por lo que continuamos a la refactorizacion de los valores neutrales en `'sentiment'`"
   ]
  },
  {
   "cell_type": "code",
   "execution_count": 17,
   "metadata": {},
   "outputs": [],
   "source": [
    "# guardamos las predicciones de las clases 'neutral'\n",
    "neutral['sentiment_positive'] = nbModel.predict(neutral)\n",
    "# Guardamos el espacio de atributos final\n",
    "refactoredDf = pd.concat([neutral, nonNeutral])"
   ]
  },
  {
   "cell_type": "code",
   "execution_count": 18,
   "metadata": {},
   "outputs": [
    {
     "data": {
      "text/plain": [
       "1    15593\n",
       "0    14407\n",
       "Name: sentiment_positive, dtype: int64"
      ]
     },
     "execution_count": 18,
     "metadata": {},
     "output_type": "execute_result"
    }
   ],
   "source": [
    "# Verificamos que nuestro vector objetivo sea binario\n",
    "refactoredDf['sentiment_positive'].value_counts()"
   ]
  },
  {
   "cell_type": "markdown",
   "metadata": {},
   "source": [
    "## __Hito 2__\n",
    "\n",
    "\n"
   ]
  },
  {
   "cell_type": "markdown",
   "metadata": {},
   "source": [
    "Comenzaremos con la separación de muestras:"
   ]
  },
  {
   "cell_type": "code",
   "execution_count": 19,
   "metadata": {},
   "outputs": [],
   "source": [
    "# Separamos la muestra de entrenamiento y prueba\n",
    "X_train, X_test, y_train, y_test = train_test_split(refactoredDf.drop(columns=['sentiment_positive']), refactoredDf['sentiment_positive'], test_size=0.33, random_state=42)"
   ]
  },
  {
   "cell_type": "markdown",
   "metadata": {},
   "source": [
    "1. `LogisticRegression`:\n",
    "   - `penalty`: `['l2', 'l1', 'elasticnet']`\n",
    "   - `fit_intercept`: `[True, False]`\n",
    "   - `class_weight`: `[None, 'balanced']`\n"
   ]
  },
  {
   "cell_type": "code",
   "execution_count": 79,
   "metadata": {},
   "outputs": [
    {
     "name": "stdout",
     "output_type": "stream",
     "text": [
      "Fitting 5 folds for each of 12 candidates, totalling 60 fits\n"
     ]
    },
    {
     "name": "stderr",
     "output_type": "stream",
     "text": [
      "[Parallel(n_jobs=-1)]: Using backend LokyBackend with 6 concurrent workers.\n",
      "[Parallel(n_jobs=-1)]: Done  38 tasks      | elapsed:  2.5min\n",
      "[Parallel(n_jobs=-1)]: Done  60 out of  60 | elapsed:  3.8min finished\n",
      "D:\\Anaconda\\lib\\site-packages\\sklearn\\linear_model\\_logistic.py:762: ConvergenceWarning: lbfgs failed to converge (status=1):\n",
      "STOP: TOTAL NO. of ITERATIONS REACHED LIMIT.\n",
      "\n",
      "Increase the number of iterations (max_iter) or scale the data as shown in:\n",
      "    https://scikit-learn.org/stable/modules/preprocessing.html\n",
      "Please also refer to the documentation for alternative solver options:\n",
      "    https://scikit-learn.org/stable/modules/linear_model.html#logistic-regression\n",
      "  n_iter_i = _check_optimize_result(\n"
     ]
    },
    {
     "data": {
      "text/plain": [
       "GridSearchCV(cv=5, estimator=LogisticRegression(random_state=19137), n_jobs=-1,\n",
       "             param_grid={'class_weight': ['balanced', None],\n",
       "                         'fit_intercept': [True, False],\n",
       "                         'penalty': ['l1', 'l2', 'elasticnet']},\n",
       "             verbose=1)"
      ]
     },
     "execution_count": 79,
     "metadata": {},
     "output_type": "execute_result"
    }
   ],
   "source": [
    "# Definimos los hiperparámetros de búsqueda\n",
    "penalty = ['l1', 'l2', 'elasticnet']\n",
    "fit_intercept = [True, False]\n",
    "class_weight = ['balanced', None]\n",
    "# Entrenamos el modelo\n",
    "logisticSearch = GridSearchCV(LogisticRegression(random_state=19137), {'penalty': penalty, 'fit_intercept': fit_intercept, 'class_weight': class_weight}, cv=5, n_jobs=-1, verbose=1)\n",
    "logisticSearch.fit(X_train, y_train)"
   ]
  },
  {
   "cell_type": "code",
   "execution_count": 80,
   "metadata": {},
   "outputs": [
    {
     "name": "stdout",
     "output_type": "stream",
     "text": [
      "Mejores Hiperparametros: {'class_weight': None, 'fit_intercept': False, 'penalty': 'l2'}\n",
      "              precision    recall  f1-score   support\n",
      "\n",
      "           0       0.71      0.68      0.69      4752\n",
      "           1       0.72      0.75      0.73      5148\n",
      "\n",
      "    accuracy                           0.71      9900\n",
      "   macro avg       0.71      0.71      0.71      9900\n",
      "weighted avg       0.71      0.71      0.71      9900\n",
      "\n"
     ]
    }
   ],
   "source": [
    "# Evaluamos el desempeño del modelo\n",
    "print(f'Mejores Hiperparametros: {logisticSearch.best_params_}')\n",
    "print(classification_report(y_test, logisticSearch.predict(X_test)))"
   ]
  },
  {
   "cell_type": "markdown",
   "metadata": {},
   "source": [
    "Los mejores parámetros son `{'class_weight': 'balanced', 'fit_intercept': False, 'penalty': 'l2'}`"
   ]
  },
  {
   "cell_type": "code",
   "execution_count": 21,
   "metadata": {},
   "outputs": [
    {
     "name": "stderr",
     "output_type": "stream",
     "text": [
      "D:\\Anaconda\\lib\\site-packages\\sklearn\\linear_model\\_logistic.py:762: ConvergenceWarning: lbfgs failed to converge (status=1):\n",
      "STOP: TOTAL NO. of ITERATIONS REACHED LIMIT.\n",
      "\n",
      "Increase the number of iterations (max_iter) or scale the data as shown in:\n",
      "    https://scikit-learn.org/stable/modules/preprocessing.html\n",
      "Please also refer to the documentation for alternative solver options:\n",
      "    https://scikit-learn.org/stable/modules/linear_model.html#logistic-regression\n",
      "  n_iter_i = _check_optimize_result(\n"
     ]
    }
   ],
   "source": [
    "# Guardamos el modelo\n",
    "bestLogisticModel = LogisticRegression(random_state=19137, penalty='l2', fit_intercept=False, class_weight='balanced').fit(X_train, y_train)"
   ]
  },
  {
   "cell_type": "markdown",
   "metadata": {},
   "source": [
    "2. `QDA`:\n",
    "   - `priors`: `[[.5, .5], [.33, .66], [.66, .33]]`"
   ]
  },
  {
   "cell_type": "code",
   "execution_count": 41,
   "metadata": {},
   "outputs": [
    {
     "name": "stdout",
     "output_type": "stream",
     "text": [
      "Fitting 5 folds for each of 3 candidates, totalling 15 fits\n"
     ]
    },
    {
     "name": "stderr",
     "output_type": "stream",
     "text": [
      "[Parallel(n_jobs=-1)]: Using backend LokyBackend with 6 concurrent workers.\n",
      "[Parallel(n_jobs=-1)]: Done  15 out of  15 | elapsed: 40.6min finished\n",
      "D:\\Anaconda\\lib\\site-packages\\sklearn\\discriminant_analysis.py:715: UserWarning: Variables are collinear\n",
      "  warnings.warn(\"Variables are collinear\")\n"
     ]
    },
    {
     "data": {
      "text/plain": [
       "GridSearchCV(cv=5, estimator=QuadraticDiscriminantAnalysis(), n_jobs=-1,\n",
       "             param_grid={'priors': [None, [0.33, 0.66], [0.66, 0.33]]},\n",
       "             verbose=1)"
      ]
     },
     "execution_count": 41,
     "metadata": {},
     "output_type": "execute_result"
    }
   ],
   "source": [
    "# Definimos los hiperparámetros de búsqueda para QDA\n",
    "priors = [None, [.33, .66], [.66, .33]]\n",
    "# Entrenamos el modelo\n",
    "qdaSearch = GridSearchCV(QuadraticDiscriminantAnalysis(), {'priors': priors}, cv=5, n_jobs=-1, verbose=1)\n",
    "qdaSearch.fit(X_train, y_train)"
   ]
  },
  {
   "cell_type": "code",
   "execution_count": 42,
   "metadata": {},
   "outputs": [
    {
     "name": "stdout",
     "output_type": "stream",
     "text": [
      "Mejores Hiperparametros: {'priors': None}\n",
      "              precision    recall  f1-score   support\n",
      "\n",
      "           0       0.54      0.73      0.62      3957\n",
      "           1       0.56      0.36      0.44      3815\n",
      "\n",
      "    accuracy                           0.55      7772\n",
      "   macro avg       0.55      0.54      0.53      7772\n",
      "weighted avg       0.55      0.55      0.53      7772\n",
      "\n"
     ]
    }
   ],
   "source": [
    "# Evaluamos el desempeño del modelo\n",
    "print(f'Mejores Hiperparametros: {qdaSearch.best_params_}')\n",
    "print(classification_report(y_test, qdaSearch.predict(X_test)))"
   ]
  },
  {
   "cell_type": "markdown",
   "metadata": {},
   "source": [
    "Mejor hiperparámetro `{'priors': None}`"
   ]
  },
  {
   "cell_type": "code",
   "execution_count": 20,
   "metadata": {},
   "outputs": [
    {
     "name": "stderr",
     "output_type": "stream",
     "text": [
      "D:\\Anaconda\\lib\\site-packages\\sklearn\\discriminant_analysis.py:715: UserWarning: Variables are collinear\n",
      "  warnings.warn(\"Variables are collinear\")\n"
     ]
    }
   ],
   "source": [
    "# Guardamos el modelo\n",
    "bestQDA = QuadraticDiscriminantAnalysis(priors=None).fit(X_train, y_train)"
   ]
  },
  {
   "cell_type": "markdown",
   "metadata": {},
   "source": [
    "3. `RandomForestClassifier`\n",
    "   - `max_depth`: `[None, 5, 15, 25]`\n",
    "   - `n_estimators`: `[50, 200, 500]`\n",
    "   - `max_features`: `['auto', 'sqrt', 'log2']`\n"
   ]
  },
  {
   "cell_type": "markdown",
   "metadata": {},
   "source": [
    "Este modelo es pesado computacionalmente, y como usaremos `oob_score = True` disminuiremos la cantidad de validaciones cruzadas"
   ]
  },
  {
   "cell_type": "code",
   "execution_count": 21,
   "metadata": {},
   "outputs": [
    {
     "name": "stdout",
     "output_type": "stream",
     "text": [
      "Fitting 2 folds for each of 36 candidates, totalling 72 fits\n"
     ]
    },
    {
     "name": "stderr",
     "output_type": "stream",
     "text": [
      "[Parallel(n_jobs=-1)]: Using backend LokyBackend with 6 concurrent workers.\n",
      "[Parallel(n_jobs=-1)]: Done  38 tasks      | elapsed: 16.8min\n",
      "[Parallel(n_jobs=-1)]: Done  72 out of  72 | elapsed: 27.1min finished\n"
     ]
    },
    {
     "data": {
      "text/plain": [
       "GridSearchCV(cv=2,\n",
       "             estimator=RandomForestClassifier(oob_score=True,\n",
       "                                              random_state=19137),\n",
       "             n_jobs=-1,\n",
       "             param_grid={'max_depth': [None, 5, 15, 25],\n",
       "                         'max_features': ['auto', 'sqrt', 'log2'],\n",
       "                         'n_estimators': [50, 200, 500]},\n",
       "             verbose=1)"
      ]
     },
     "execution_count": 21,
     "metadata": {},
     "output_type": "execute_result"
    }
   ],
   "source": [
    "# Definimos los hiperparámetros de búsqueda para Random Forest\n",
    "max_depth = [None, 5, 15, 25]\n",
    "n_estimators = [50, 200, 500]\n",
    "max_features = ['auto', 'sqrt', 'log2']\n",
    "# Entrenamos el modelo\n",
    "rfSearch = GridSearchCV(RandomForestClassifier(random_state=19137, oob_score=True), {'max_depth': max_depth, 'n_estimators': n_estimators, 'max_features': max_features}, cv=2, n_jobs=-1, verbose=1)\n",
    "rfSearch.fit(X_train, y_train)"
   ]
  },
  {
   "cell_type": "code",
   "execution_count": 22,
   "metadata": {},
   "outputs": [
    {
     "name": "stdout",
     "output_type": "stream",
     "text": [
      "Mejores Hiperparametros: {'max_depth': None, 'max_features': 'log2', 'n_estimators': 500}\n",
      "              precision    recall  f1-score   support\n",
      "\n",
      "           0       0.69      0.69      0.69      4752\n",
      "           1       0.71      0.72      0.72      5148\n",
      "\n",
      "    accuracy                           0.70      9900\n",
      "   macro avg       0.70      0.70      0.70      9900\n",
      "weighted avg       0.70      0.70      0.70      9900\n",
      "\n"
     ]
    }
   ],
   "source": [
    "# Evaluamos el desempeño del modelo\n",
    "print(f'Mejores Hiperparametros: {rfSearch.best_params_}')\n",
    "print(classification_report(y_test, rfSearch.predict(X_test)))"
   ]
  },
  {
   "cell_type": "markdown",
   "metadata": {},
   "source": [
    "Mejores hiperparámetros son `{'max_depth': None, 'max_features': 'log2', 'n_estimators': 500}`"
   ]
  },
  {
   "cell_type": "code",
   "execution_count": 22,
   "metadata": {},
   "outputs": [],
   "source": [
    "# Guardamos el modelo\n",
    "bestRF = RandomForestClassifier(random_state=19137, max_depth=None, n_estimators=500, max_features='log2').fit(X_train, y_train)"
   ]
  },
  {
   "cell_type": "markdown",
   "metadata": {},
   "source": [
    "4. `Decision Tree con GradientBoost`:\n",
    "   - `learning_rate`: `[0.01, 0.1, 0.5]`\n",
    "   - `n_estimators`: `[100, 500, 1000, 2000]`\n",
    "   - `subsample`: `[0.2,0.5,0.8]`"
   ]
  },
  {
   "cell_type": "code",
   "execution_count": 24,
   "metadata": {},
   "outputs": [],
   "source": [
    "import time"
   ]
  },
  {
   "cell_type": "code",
   "execution_count": 30,
   "metadata": {},
   "outputs": [
    {
     "name": "stdout",
     "output_type": "stream",
     "text": [
      "Hiperparametros: max_features:25 learning_rate:0.01 max_depth:25 subsample:0.3\n",
      "Tiempo de entrenamiento: 24.5745 segundos.\n",
      "              precision    recall  f1-score   support\n",
      "\n",
      "           0       0.72      0.60      0.65       983\n",
      "           1       0.67      0.77      0.72      1027\n",
      "\n",
      "    accuracy                           0.69      2010\n",
      "   macro avg       0.69      0.69      0.68      2010\n",
      "weighted avg       0.69      0.69      0.68      2010\n",
      "\n",
      "================================\n",
      "Hiperparametros: max_features:25 learning_rate:0.01 max_depth:25 subsample:0.5\n",
      "Tiempo de entrenamiento: 35.1525 segundos.\n",
      "              precision    recall  f1-score   support\n",
      "\n",
      "           0       0.73      0.60      0.66       983\n",
      "           1       0.67      0.78      0.72      1027\n",
      "\n",
      "    accuracy                           0.69      2010\n",
      "   macro avg       0.70      0.69      0.69      2010\n",
      "weighted avg       0.70      0.69      0.69      2010\n",
      "\n",
      "================================\n",
      "Hiperparametros: max_features:25 learning_rate:0.01 max_depth:25 subsample:1\n",
      "Tiempo de entrenamiento: 60.1180 segundos.\n",
      "              precision    recall  f1-score   support\n",
      "\n",
      "           0       0.72      0.58      0.65       983\n",
      "           1       0.66      0.79      0.72      1027\n",
      "\n",
      "    accuracy                           0.69      2010\n",
      "   macro avg       0.69      0.69      0.68      2010\n",
      "weighted avg       0.69      0.69      0.68      2010\n",
      "\n",
      "================================\n",
      "Hiperparametros: max_features:25 learning_rate:0.01 max_depth:50 subsample:0.3\n",
      "Tiempo de entrenamiento: 44.3872 segundos.\n",
      "              precision    recall  f1-score   support\n",
      "\n",
      "           0       0.71      0.63      0.67       983\n",
      "           1       0.68      0.75      0.71      1027\n",
      "\n",
      "    accuracy                           0.69      2010\n",
      "   macro avg       0.69      0.69      0.69      2010\n",
      "weighted avg       0.69      0.69      0.69      2010\n",
      "\n",
      "================================\n",
      "Hiperparametros: max_features:25 learning_rate:0.01 max_depth:50 subsample:0.5\n",
      "Tiempo de entrenamiento: 67.2852 segundos.\n",
      "              precision    recall  f1-score   support\n",
      "\n",
      "           0       0.72      0.64      0.68       983\n",
      "           1       0.69      0.76      0.72      1027\n",
      "\n",
      "    accuracy                           0.70      2010\n",
      "   macro avg       0.70      0.70      0.70      2010\n",
      "weighted avg       0.70      0.70      0.70      2010\n",
      "\n",
      "================================\n",
      "Hiperparametros: max_features:25 learning_rate:0.01 max_depth:50 subsample:1\n",
      "Tiempo de entrenamiento: 122.0844 segundos.\n",
      "              precision    recall  f1-score   support\n",
      "\n",
      "           0       0.72      0.63      0.67       983\n",
      "           1       0.68      0.76      0.72      1027\n",
      "\n",
      "    accuracy                           0.70      2010\n",
      "   macro avg       0.70      0.70      0.70      2010\n",
      "weighted avg       0.70      0.70      0.70      2010\n",
      "\n",
      "================================\n",
      "Hiperparametros: max_features:25 learning_rate:0.01 max_depth:100 subsample:0.3\n",
      "Tiempo de entrenamiento: 79.3906 segundos.\n",
      "              precision    recall  f1-score   support\n",
      "\n",
      "           0       0.70      0.65      0.68       983\n",
      "           1       0.69      0.74      0.71      1027\n",
      "\n",
      "    accuracy                           0.69      2010\n",
      "   macro avg       0.69      0.69      0.69      2010\n",
      "weighted avg       0.69      0.69      0.69      2010\n",
      "\n",
      "================================\n",
      "Hiperparametros: max_features:25 learning_rate:0.01 max_depth:100 subsample:0.5\n",
      "Tiempo de entrenamiento: 126.0604 segundos.\n",
      "              precision    recall  f1-score   support\n",
      "\n",
      "           0       0.71      0.67      0.69       983\n",
      "           1       0.70      0.73      0.72      1027\n",
      "\n",
      "    accuracy                           0.70      2010\n",
      "   macro avg       0.70      0.70      0.70      2010\n",
      "weighted avg       0.70      0.70      0.70      2010\n",
      "\n",
      "================================\n",
      "Hiperparametros: max_features:25 learning_rate:0.01 max_depth:100 subsample:1\n",
      "Tiempo de entrenamiento: 273.5672 segundos.\n",
      "              precision    recall  f1-score   support\n",
      "\n",
      "           0       0.71      0.66      0.68       983\n",
      "           1       0.69      0.74      0.71      1027\n",
      "\n",
      "    accuracy                           0.70      2010\n",
      "   macro avg       0.70      0.70      0.70      2010\n",
      "weighted avg       0.70      0.70      0.70      2010\n",
      "\n",
      "================================\n",
      "Hiperparametros: max_features:25 learning_rate:0.5 max_depth:25 subsample:0.3\n",
      "Tiempo de entrenamiento: 4.4158 segundos.\n",
      "              precision    recall  f1-score   support\n",
      "\n",
      "           0       0.62      0.60      0.61       983\n",
      "           1       0.63      0.65      0.64      1027\n",
      "\n",
      "    accuracy                           0.63      2010\n",
      "   macro avg       0.63      0.63      0.63      2010\n",
      "weighted avg       0.63      0.63      0.63      2010\n",
      "\n",
      "================================\n",
      "Hiperparametros: max_features:25 learning_rate:0.5 max_depth:25 subsample:0.5\n",
      "Tiempo de entrenamiento: 5.2244 segundos.\n",
      "              precision    recall  f1-score   support\n",
      "\n",
      "           0       0.66      0.63      0.64       983\n",
      "           1       0.66      0.69      0.67      1027\n",
      "\n",
      "    accuracy                           0.66      2010\n",
      "   macro avg       0.66      0.66      0.66      2010\n",
      "weighted avg       0.66      0.66      0.66      2010\n",
      "\n",
      "================================\n",
      "Hiperparametros: max_features:25 learning_rate:0.5 max_depth:25 subsample:1\n",
      "Tiempo de entrenamiento: 11.3099 segundos.\n",
      "              precision    recall  f1-score   support\n",
      "\n",
      "           0       0.67      0.61      0.64       983\n",
      "           1       0.66      0.71      0.68      1027\n",
      "\n",
      "    accuracy                           0.66      2010\n",
      "   macro avg       0.66      0.66      0.66      2010\n",
      "weighted avg       0.66      0.66      0.66      2010\n",
      "\n",
      "================================\n",
      "Hiperparametros: max_features:25 learning_rate:0.5 max_depth:50 subsample:0.3\n",
      "Tiempo de entrenamiento: 5.9164 segundos.\n",
      "              precision    recall  f1-score   support\n",
      "\n",
      "           0       0.63      0.62      0.62       983\n",
      "           1       0.64      0.65      0.65      1027\n",
      "\n",
      "    accuracy                           0.64      2010\n",
      "   macro avg       0.64      0.63      0.64      2010\n",
      "weighted avg       0.64      0.64      0.64      2010\n",
      "\n",
      "================================\n",
      "Hiperparametros: max_features:25 learning_rate:0.5 max_depth:50 subsample:0.5\n",
      "Tiempo de entrenamiento: 8.3297 segundos.\n",
      "              precision    recall  f1-score   support\n",
      "\n",
      "           0       0.63      0.61      0.62       983\n",
      "           1       0.64      0.66      0.65      1027\n",
      "\n",
      "    accuracy                           0.63      2010\n",
      "   macro avg       0.63      0.63      0.63      2010\n",
      "weighted avg       0.63      0.63      0.63      2010\n",
      "\n",
      "================================\n",
      "Hiperparametros: max_features:25 learning_rate:0.5 max_depth:50 subsample:1\n",
      "Tiempo de entrenamiento: 16.3760 segundos.\n",
      "              precision    recall  f1-score   support\n",
      "\n",
      "           0       0.67      0.63      0.65       983\n",
      "           1       0.66      0.70      0.68      1027\n",
      "\n",
      "    accuracy                           0.67      2010\n",
      "   macro avg       0.67      0.67      0.67      2010\n",
      "weighted avg       0.67      0.67      0.67      2010\n",
      "\n",
      "================================\n",
      "Hiperparametros: max_features:25 learning_rate:0.5 max_depth:100 subsample:0.3\n",
      "Tiempo de entrenamiento: 9.2786 segundos.\n",
      "              precision    recall  f1-score   support\n",
      "\n",
      "           0       0.63      0.62      0.62       983\n",
      "           1       0.64      0.65      0.65      1027\n",
      "\n",
      "    accuracy                           0.63      2010\n",
      "   macro avg       0.63      0.63      0.63      2010\n",
      "weighted avg       0.63      0.63      0.63      2010\n",
      "\n",
      "================================\n",
      "Hiperparametros: max_features:25 learning_rate:0.5 max_depth:100 subsample:0.5\n",
      "Tiempo de entrenamiento: 14.2187 segundos.\n",
      "              precision    recall  f1-score   support\n",
      "\n",
      "           0       0.63      0.64      0.64       983\n",
      "           1       0.65      0.65      0.65      1027\n",
      "\n",
      "    accuracy                           0.64      2010\n",
      "   macro avg       0.64      0.64      0.64      2010\n",
      "weighted avg       0.64      0.64      0.64      2010\n",
      "\n",
      "================================\n",
      "Hiperparametros: max_features:25 learning_rate:0.5 max_depth:100 subsample:1\n",
      "Tiempo de entrenamiento: 27.3212 segundos.\n",
      "              precision    recall  f1-score   support\n",
      "\n",
      "           0       0.67      0.66      0.67       983\n",
      "           1       0.68      0.69      0.69      1027\n",
      "\n",
      "    accuracy                           0.68      2010\n",
      "   macro avg       0.68      0.68      0.68      2010\n",
      "weighted avg       0.68      0.68      0.68      2010\n",
      "\n",
      "================================\n",
      "Hiperparametros: max_features:sqrt learning_rate:0.01 max_depth:25 subsample:0.3\n",
      "Tiempo de entrenamiento: 56.4772 segundos.\n",
      "              precision    recall  f1-score   support\n",
      "\n",
      "           0       0.71      0.63      0.67       983\n",
      "           1       0.68      0.75      0.71      1027\n",
      "\n",
      "    accuracy                           0.69      2010\n",
      "   macro avg       0.69      0.69      0.69      2010\n",
      "weighted avg       0.69      0.69      0.69      2010\n",
      "\n",
      "================================\n",
      "Hiperparametros: max_features:sqrt learning_rate:0.01 max_depth:25 subsample:0.5\n",
      "Tiempo de entrenamiento: 94.7166 segundos.\n",
      "              precision    recall  f1-score   support\n",
      "\n",
      "           0       0.70      0.62      0.66       983\n",
      "           1       0.68      0.75      0.71      1027\n",
      "\n",
      "    accuracy                           0.69      2010\n",
      "   macro avg       0.69      0.69      0.69      2010\n",
      "weighted avg       0.69      0.69      0.69      2010\n",
      "\n",
      "================================\n",
      "Hiperparametros: max_features:sqrt learning_rate:0.01 max_depth:25 subsample:1\n",
      "Tiempo de entrenamiento: 198.8340 segundos.\n",
      "              precision    recall  f1-score   support\n",
      "\n",
      "           0       0.71      0.63      0.66       983\n",
      "           1       0.68      0.75      0.71      1027\n",
      "\n",
      "    accuracy                           0.69      2010\n",
      "   macro avg       0.69      0.69      0.69      2010\n",
      "weighted avg       0.69      0.69      0.69      2010\n",
      "\n",
      "================================\n",
      "Hiperparametros: max_features:sqrt learning_rate:0.01 max_depth:50 subsample:0.3\n",
      "Tiempo de entrenamiento: 105.7184 segundos.\n",
      "              precision    recall  f1-score   support\n",
      "\n",
      "           0       0.69      0.65      0.67       983\n",
      "           1       0.68      0.73      0.70      1027\n",
      "\n",
      "    accuracy                           0.69      2010\n",
      "   macro avg       0.69      0.69      0.69      2010\n",
      "weighted avg       0.69      0.69      0.69      2010\n",
      "\n",
      "================================\n",
      "Hiperparametros: max_features:sqrt learning_rate:0.01 max_depth:50 subsample:0.5\n",
      "Tiempo de entrenamiento: 179.1769 segundos.\n",
      "              precision    recall  f1-score   support\n",
      "\n",
      "           0       0.70      0.65      0.68       983\n",
      "           1       0.69      0.74      0.71      1027\n",
      "\n",
      "    accuracy                           0.69      2010\n",
      "   macro avg       0.69      0.69      0.69      2010\n",
      "weighted avg       0.69      0.69      0.69      2010\n",
      "\n",
      "================================\n",
      "Hiperparametros: max_features:sqrt learning_rate:0.01 max_depth:50 subsample:1\n",
      "Tiempo de entrenamiento: 368.8555 segundos.\n",
      "              precision    recall  f1-score   support\n",
      "\n",
      "           0       0.71      0.67      0.69       983\n",
      "           1       0.70      0.74      0.72      1027\n",
      "\n",
      "    accuracy                           0.70      2010\n",
      "   macro avg       0.70      0.70      0.70      2010\n",
      "weighted avg       0.70      0.70      0.70      2010\n",
      "\n",
      "================================\n",
      "Hiperparametros: max_features:sqrt learning_rate:0.01 max_depth:100 subsample:0.3\n",
      "Tiempo de entrenamiento: 175.9779 segundos.\n",
      "              precision    recall  f1-score   support\n",
      "\n",
      "           0       0.70      0.66      0.68       983\n",
      "           1       0.69      0.72      0.71      1027\n",
      "\n",
      "    accuracy                           0.69      2010\n",
      "   macro avg       0.69      0.69      0.69      2010\n",
      "weighted avg       0.69      0.69      0.69      2010\n",
      "\n",
      "================================\n",
      "Hiperparametros: max_features:sqrt learning_rate:0.01 max_depth:100 subsample:0.5\n",
      "Tiempo de entrenamiento: 316.3238 segundos.\n",
      "              precision    recall  f1-score   support\n",
      "\n",
      "           0       0.70      0.66      0.68       983\n",
      "           1       0.69      0.72      0.71      1027\n",
      "\n",
      "    accuracy                           0.69      2010\n",
      "   macro avg       0.69      0.69      0.69      2010\n",
      "weighted avg       0.69      0.69      0.69      2010\n",
      "\n",
      "================================\n",
      "Hiperparametros: max_features:sqrt learning_rate:0.01 max_depth:100 subsample:1\n",
      "Tiempo de entrenamiento: 393.2333 segundos.\n",
      "              precision    recall  f1-score   support\n",
      "\n",
      "           0       0.70      0.66      0.68       983\n",
      "           1       0.69      0.73      0.71      1027\n",
      "\n",
      "    accuracy                           0.70      2010\n",
      "   macro avg       0.70      0.69      0.69      2010\n",
      "weighted avg       0.70      0.70      0.69      2010\n",
      "\n",
      "================================\n",
      "Hiperparametros: max_features:sqrt learning_rate:0.5 max_depth:25 subsample:0.3\n",
      "Tiempo de entrenamiento: 7.6418 segundos.\n",
      "              precision    recall  f1-score   support\n",
      "\n",
      "           0       0.62      0.57      0.60       983\n",
      "           1       0.62      0.67      0.64      1027\n",
      "\n",
      "    accuracy                           0.62      2010\n",
      "   macro avg       0.62      0.62      0.62      2010\n",
      "weighted avg       0.62      0.62      0.62      2010\n",
      "\n",
      "================================\n",
      "Hiperparametros: max_features:sqrt learning_rate:0.5 max_depth:25 subsample:0.5\n",
      "Tiempo de entrenamiento: 11.2583 segundos.\n",
      "              precision    recall  f1-score   support\n",
      "\n",
      "           0       0.66      0.63      0.64       983\n",
      "           1       0.66      0.68      0.67      1027\n",
      "\n",
      "    accuracy                           0.66      2010\n",
      "   macro avg       0.66      0.66      0.66      2010\n",
      "weighted avg       0.66      0.66      0.66      2010\n",
      "\n",
      "================================\n",
      "Hiperparametros: max_features:sqrt learning_rate:0.5 max_depth:25 subsample:1\n",
      "Tiempo de entrenamiento: 25.6063 segundos.\n",
      "              precision    recall  f1-score   support\n",
      "\n",
      "           0       0.65      0.64      0.65       983\n",
      "           1       0.66      0.67      0.67      1027\n",
      "\n",
      "    accuracy                           0.66      2010\n",
      "   macro avg       0.66      0.66      0.66      2010\n",
      "weighted avg       0.66      0.66      0.66      2010\n",
      "\n",
      "================================\n",
      "Hiperparametros: max_features:sqrt learning_rate:0.5 max_depth:50 subsample:0.3\n",
      "Tiempo de entrenamiento: 12.1749 segundos.\n",
      "              precision    recall  f1-score   support\n",
      "\n",
      "           0       0.63      0.59      0.61       983\n",
      "           1       0.63      0.67      0.65      1027\n",
      "\n",
      "    accuracy                           0.63      2010\n",
      "   macro avg       0.63      0.63      0.63      2010\n",
      "weighted avg       0.63      0.63      0.63      2010\n",
      "\n",
      "================================\n",
      "Hiperparametros: max_features:sqrt learning_rate:0.5 max_depth:50 subsample:0.5\n",
      "Tiempo de entrenamiento: 19.6801 segundos.\n",
      "              precision    recall  f1-score   support\n",
      "\n",
      "           0       0.65      0.65      0.65       983\n",
      "           1       0.67      0.67      0.67      1027\n",
      "\n",
      "    accuracy                           0.66      2010\n",
      "   macro avg       0.66      0.66      0.66      2010\n",
      "weighted avg       0.66      0.66      0.66      2010\n",
      "\n",
      "================================\n",
      "Hiperparametros: max_features:sqrt learning_rate:0.5 max_depth:50 subsample:1\n",
      "Tiempo de entrenamiento: 46.8651 segundos.\n",
      "              precision    recall  f1-score   support\n",
      "\n",
      "           0       0.67      0.64      0.65       983\n",
      "           1       0.67      0.70      0.68      1027\n",
      "\n",
      "    accuracy                           0.67      2010\n",
      "   macro avg       0.67      0.67      0.67      2010\n",
      "weighted avg       0.67      0.67      0.67      2010\n",
      "\n",
      "================================\n",
      "Hiperparametros: max_features:sqrt learning_rate:0.5 max_depth:100 subsample:0.3\n",
      "Tiempo de entrenamiento: 20.3396 segundos.\n",
      "              precision    recall  f1-score   support\n",
      "\n",
      "           0       0.61      0.61      0.61       983\n",
      "           1       0.62      0.62      0.62      1027\n",
      "\n",
      "    accuracy                           0.61      2010\n",
      "   macro avg       0.61      0.61      0.61      2010\n",
      "weighted avg       0.61      0.61      0.61      2010\n",
      "\n",
      "================================\n",
      "Hiperparametros: max_features:sqrt learning_rate:0.5 max_depth:100 subsample:0.5\n",
      "Tiempo de entrenamiento: 36.1347 segundos.\n",
      "              precision    recall  f1-score   support\n",
      "\n",
      "           0       0.67      0.65      0.66       983\n",
      "           1       0.67      0.69      0.68      1027\n",
      "\n",
      "    accuracy                           0.67      2010\n",
      "   macro avg       0.67      0.67      0.67      2010\n",
      "weighted avg       0.67      0.67      0.67      2010\n",
      "\n",
      "================================\n",
      "Hiperparametros: max_features:sqrt learning_rate:0.5 max_depth:100 subsample:1\n",
      "Tiempo de entrenamiento: 84.2623 segundos.\n",
      "              precision    recall  f1-score   support\n",
      "\n",
      "           0       0.66      0.65      0.66       983\n",
      "           1       0.67      0.68      0.68      1027\n",
      "\n",
      "    accuracy                           0.67      2010\n",
      "   macro avg       0.67      0.67      0.67      2010\n",
      "weighted avg       0.67      0.67      0.67      2010\n",
      "\n",
      "================================\n",
      "Hiperparametros: max_features:log2 learning_rate:0.01 max_depth:25 subsample:0.3\n",
      "Tiempo de entrenamiento: 15.7798 segundos.\n",
      "              precision    recall  f1-score   support\n",
      "\n",
      "           0       0.73      0.53      0.61       983\n",
      "           1       0.64      0.81      0.72      1027\n",
      "\n",
      "    accuracy                           0.67      2010\n",
      "   macro avg       0.69      0.67      0.66      2010\n",
      "weighted avg       0.68      0.67      0.67      2010\n",
      "\n",
      "================================\n",
      "Hiperparametros: max_features:log2 learning_rate:0.01 max_depth:25 subsample:0.5\n",
      "Tiempo de entrenamiento: 22.4706 segundos.\n",
      "              precision    recall  f1-score   support\n",
      "\n",
      "           0       0.74      0.52      0.61       983\n",
      "           1       0.64      0.82      0.72      1027\n",
      "\n",
      "    accuracy                           0.67      2010\n",
      "   macro avg       0.69      0.67      0.67      2010\n",
      "weighted avg       0.69      0.67      0.67      2010\n",
      "\n",
      "================================\n",
      "Hiperparametros: max_features:log2 learning_rate:0.01 max_depth:25 subsample:1\n",
      "Tiempo de entrenamiento: 36.2825 segundos.\n",
      "              precision    recall  f1-score   support\n",
      "\n",
      "           0       0.75      0.52      0.62       983\n",
      "           1       0.65      0.84      0.73      1027\n",
      "\n",
      "    accuracy                           0.68      2010\n",
      "   macro avg       0.70      0.68      0.67      2010\n",
      "weighted avg       0.70      0.68      0.67      2010\n",
      "\n",
      "================================\n",
      "Hiperparametros: max_features:log2 learning_rate:0.01 max_depth:50 subsample:0.3\n",
      "Tiempo de entrenamiento: 28.8777 segundos.\n",
      "              precision    recall  f1-score   support\n",
      "\n",
      "           0       0.72      0.60      0.65       983\n",
      "           1       0.67      0.78      0.72      1027\n",
      "\n",
      "    accuracy                           0.69      2010\n",
      "   macro avg       0.69      0.69      0.68      2010\n",
      "weighted avg       0.69      0.69      0.69      2010\n",
      "\n",
      "================================\n",
      "Hiperparametros: max_features:log2 learning_rate:0.01 max_depth:50 subsample:0.5\n",
      "Tiempo de entrenamiento: 43.4275 segundos.\n",
      "              precision    recall  f1-score   support\n",
      "\n",
      "           0       0.72      0.60      0.65       983\n",
      "           1       0.67      0.78      0.72      1027\n",
      "\n",
      "    accuracy                           0.69      2010\n",
      "   macro avg       0.70      0.69      0.69      2010\n",
      "weighted avg       0.70      0.69      0.69      2010\n",
      "\n",
      "================================\n",
      "Hiperparametros: max_features:log2 learning_rate:0.01 max_depth:50 subsample:1\n",
      "Tiempo de entrenamiento: 74.6049 segundos.\n",
      "              precision    recall  f1-score   support\n",
      "\n",
      "           0       0.72      0.59      0.65       983\n",
      "           1       0.67      0.79      0.72      1027\n",
      "\n",
      "    accuracy                           0.69      2010\n",
      "   macro avg       0.70      0.69      0.68      2010\n",
      "weighted avg       0.69      0.69      0.69      2010\n",
      "\n",
      "================================\n",
      "Hiperparametros: max_features:log2 learning_rate:0.01 max_depth:100 subsample:0.3\n",
      "Tiempo de entrenamiento: 53.2357 segundos.\n",
      "              precision    recall  f1-score   support\n",
      "\n",
      "           0       0.71      0.64      0.68       983\n",
      "           1       0.69      0.75      0.72      1027\n",
      "\n",
      "    accuracy                           0.70      2010\n",
      "   macro avg       0.70      0.70      0.70      2010\n",
      "weighted avg       0.70      0.70      0.70      2010\n",
      "\n",
      "================================\n",
      "Hiperparametros: max_features:log2 learning_rate:0.01 max_depth:100 subsample:0.5\n",
      "Tiempo de entrenamiento: 83.4882 segundos.\n",
      "              precision    recall  f1-score   support\n",
      "\n",
      "           0       0.72      0.64      0.68       983\n",
      "           1       0.69      0.76      0.73      1027\n",
      "\n",
      "    accuracy                           0.70      2010\n",
      "   macro avg       0.71      0.70      0.70      2010\n",
      "weighted avg       0.71      0.70      0.70      2010\n",
      "\n",
      "================================\n",
      "Hiperparametros: max_features:log2 learning_rate:0.01 max_depth:100 subsample:1\n",
      "Tiempo de entrenamiento: 152.2074 segundos.\n",
      "              precision    recall  f1-score   support\n",
      "\n",
      "           0       0.73      0.62      0.67       983\n",
      "           1       0.68      0.78      0.72      1027\n",
      "\n",
      "    accuracy                           0.70      2010\n",
      "   macro avg       0.70      0.70      0.70      2010\n",
      "weighted avg       0.70      0.70      0.70      2010\n",
      "\n",
      "================================\n",
      "Hiperparametros: max_features:log2 learning_rate:0.5 max_depth:25 subsample:0.3\n",
      "Tiempo de entrenamiento: 3.3403 segundos.\n",
      "              precision    recall  f1-score   support\n",
      "\n",
      "           0       0.64      0.58      0.61       983\n",
      "           1       0.63      0.69      0.66      1027\n",
      "\n",
      "    accuracy                           0.64      2010\n",
      "   macro avg       0.64      0.63      0.63      2010\n",
      "weighted avg       0.64      0.64      0.63      2010\n",
      "\n",
      "================================\n",
      "Hiperparametros: max_features:log2 learning_rate:0.5 max_depth:25 subsample:0.5\n",
      "Tiempo de entrenamiento: 4.0290 segundos.\n",
      "              precision    recall  f1-score   support\n",
      "\n",
      "           0       0.66      0.57      0.61       983\n",
      "           1       0.63      0.71      0.67      1027\n",
      "\n",
      "    accuracy                           0.64      2010\n",
      "   macro avg       0.64      0.64      0.64      2010\n",
      "weighted avg       0.64      0.64      0.64      2010\n",
      "\n",
      "================================\n",
      "Hiperparametros: max_features:log2 learning_rate:0.5 max_depth:25 subsample:1\n",
      "Tiempo de entrenamiento: 8.7612 segundos.\n",
      "              precision    recall  f1-score   support\n",
      "\n",
      "           0       0.67      0.60      0.64       983\n",
      "           1       0.65      0.72      0.69      1027\n",
      "\n",
      "    accuracy                           0.66      2010\n",
      "   macro avg       0.66      0.66      0.66      2010\n",
      "weighted avg       0.66      0.66      0.66      2010\n",
      "\n",
      "================================\n",
      "Hiperparametros: max_features:log2 learning_rate:0.5 max_depth:50 subsample:0.3\n",
      "Tiempo de entrenamiento: 4.4256 segundos.\n",
      "              precision    recall  f1-score   support\n",
      "\n",
      "           0       0.61      0.57      0.59       983\n",
      "           1       0.61      0.64      0.63      1027\n",
      "\n",
      "    accuracy                           0.61      2010\n",
      "   macro avg       0.61      0.61      0.61      2010\n",
      "weighted avg       0.61      0.61      0.61      2010\n",
      "\n",
      "================================\n",
      "Hiperparametros: max_features:log2 learning_rate:0.5 max_depth:50 subsample:0.5\n",
      "Tiempo de entrenamiento: 5.7265 segundos.\n",
      "              precision    recall  f1-score   support\n",
      "\n",
      "           0       0.63      0.64      0.64       983\n",
      "           1       0.65      0.65      0.65      1027\n",
      "\n",
      "    accuracy                           0.64      2010\n",
      "   macro avg       0.64      0.64      0.64      2010\n",
      "weighted avg       0.64      0.64      0.64      2010\n",
      "\n",
      "================================\n",
      "Hiperparametros: max_features:log2 learning_rate:0.5 max_depth:50 subsample:1\n",
      "Tiempo de entrenamiento: 12.1858 segundos.\n",
      "              precision    recall  f1-score   support\n",
      "\n",
      "           0       0.68      0.60      0.64       983\n",
      "           1       0.66      0.73      0.69      1027\n",
      "\n",
      "    accuracy                           0.67      2010\n",
      "   macro avg       0.67      0.66      0.66      2010\n",
      "weighted avg       0.67      0.67      0.66      2010\n",
      "\n",
      "================================\n",
      "Hiperparametros: max_features:log2 learning_rate:0.5 max_depth:100 subsample:0.3\n",
      "Tiempo de entrenamiento: 6.7757 segundos.\n",
      "              precision    recall  f1-score   support\n",
      "\n",
      "           0       0.60      0.61      0.60       983\n",
      "           1       0.62      0.62      0.62      1027\n",
      "\n",
      "    accuracy                           0.61      2010\n",
      "   macro avg       0.61      0.61      0.61      2010\n",
      "weighted avg       0.61      0.61      0.61      2010\n",
      "\n",
      "================================\n",
      "Hiperparametros: max_features:log2 learning_rate:0.5 max_depth:100 subsample:0.5\n",
      "Tiempo de entrenamiento: 9.1800 segundos.\n",
      "              precision    recall  f1-score   support\n",
      "\n",
      "           0       0.64      0.61      0.62       983\n",
      "           1       0.64      0.67      0.66      1027\n",
      "\n",
      "    accuracy                           0.64      2010\n",
      "   macro avg       0.64      0.64      0.64      2010\n",
      "weighted avg       0.64      0.64      0.64      2010\n",
      "\n",
      "================================\n",
      "Hiperparametros: max_features:log2 learning_rate:0.5 max_depth:100 subsample:1\n",
      "Tiempo de entrenamiento: 16.4756 segundos.\n",
      "              precision    recall  f1-score   support\n",
      "\n",
      "           0       0.67      0.62      0.64       983\n",
      "           1       0.66      0.70      0.68      1027\n",
      "\n",
      "    accuracy                           0.66      2010\n",
      "   macro avg       0.66      0.66      0.66      2010\n",
      "weighted avg       0.66      0.66      0.66      2010\n",
      "\n",
      "================================\n"
     ]
    }
   ],
   "source": [
    "# Definimos los hiperparámetros de búsqueda para Gradient Boost\n",
    "learning_rate = [.01, .5]\n",
    "max_features = [25, 'sqrt', 'log2']\n",
    "max_depth = [25, 50, 100]\n",
    "subsample = [.3, .5, 1]\n",
    "\n",
    "# Definimos el holdout para validar el modelo\n",
    "X_hold_train, X_hold_test, y_hold_train, y_hold_test = train_test_split(X_train, y_train, test_size=0.1, random_state=42)\n",
    "\n",
    "for i in max_features:\n",
    "    for j in learning_rate:\n",
    "        for k in max_depth:\n",
    "            for l in subsample:\n",
    "                print(f'Hiperparametros: max_features:{i} learning_rate:{j} max_depth:{k} subsample:{l}')\n",
    "                gbm = GradientBoostingClassifier(random_state=19137, learning_rate=j, n_estimators=500, max_depth=k, subsample=l, max_features=i, n_iter_no_change=50, validation_fraction=.33)\n",
    "                tic = time.perf_counter()\n",
    "                gbm.fit(X_hold_train, y_hold_train)\n",
    "                toc = time.perf_counter()\n",
    "                print(f'Tiempo de entrenamiento: {toc - tic:0.4f} segundos.')\n",
    "                print(classification_report(y_hold_test, gbm.predict(X_hold_test)))\n",
    "                print(\"==\"*16)"
   ]
  },
  {
   "cell_type": "markdown",
   "metadata": {},
   "source": [
    "Vemos que la mejor selección de hiperparámetros es: `{max_features:'sqrt', learning_rate:0.01, max_depth:50, subsample:1}`"
   ]
  },
  {
   "cell_type": "code",
   "execution_count": 23,
   "metadata": {},
   "outputs": [],
   "source": [
    "# Guardamos el modelo\n",
    "bestGBM = GradientBoostingClassifier(random_state=19137, learning_rate=.01, n_estimators=500, max_depth=50, subsample=1, max_features='sqrt').fit(X_train, y_train)"
   ]
  },
  {
   "cell_type": "markdown",
   "metadata": {},
   "source": [
    "5. `VotingClassifier`: Ensamblado con los modelos anteriores.\n",
    "\n",
    "Finalmente instanciaremos todos los mejores modelos en un Voting Classifier, omitiremos QDA debido a su pésimo desempeño."
   ]
  },
  {
   "cell_type": "code",
   "execution_count": 24,
   "metadata": {},
   "outputs": [
    {
     "data": {
      "text/plain": [
       "VotingClassifier(estimators=[('LogisticRegression',\n",
       "                              LogisticRegression(class_weight='balanced',\n",
       "                                                 fit_intercept=False,\n",
       "                                                 random_state=19137)),\n",
       "                             ('RandomForest',\n",
       "                              RandomForestClassifier(max_features='log2',\n",
       "                                                     n_estimators=500,\n",
       "                                                     oob_score=True,\n",
       "                                                     random_state=19137)),\n",
       "                             ('GradientBoosting',\n",
       "                              GradientBoostingClassifier(learning_rate=0.01,\n",
       "                                                         max_depth=50,\n",
       "                                                         max_features='sqrt',\n",
       "                                                         n_estimators=500,\n",
       "                                                         random_state=19137,\n",
       "                                                         subsample=1))],\n",
       "                 n_jobs=-1, verbose=1, voting='soft')"
      ]
     },
     "execution_count": 24,
     "metadata": {},
     "output_type": "execute_result"
    }
   ],
   "source": [
    "# Creamos el VotingClassifier\n",
    "estimators = [(\n",
    "    'LogisticRegression', LogisticRegression(random_state=19137, penalty='l2', fit_intercept=False, class_weight='balanced'),\n",
    "), (\n",
    "    'RandomForest', RandomForestClassifier(random_state=19137, max_depth=None, n_estimators=500, max_features='log2', oob_score=True),\n",
    "), (\n",
    "    'GradientBoosting', GradientBoostingClassifier(random_state = 19137, learning_rate = .01, n_estimators = 500, max_depth = 50, subsample = 1, max_features = 'sqrt'),\n",
    ")]\n",
    "# Entrenamos el modelo\n",
    "votingModel=VotingClassifier(estimators=estimators, voting='soft', n_jobs=-1, verbose=1)\n",
    "votingModel.fit(X_train, y_train)\n"
   ]
  },
  {
   "cell_type": "code",
   "execution_count": 86,
   "metadata": {},
   "outputs": [
    {
     "name": "stdout",
     "output_type": "stream",
     "text": [
      "              precision    recall  f1-score   support\n",
      "\n",
      "           0       0.70      0.70      0.70      4752\n",
      "           1       0.72      0.73      0.73      5148\n",
      "\n",
      "    accuracy                           0.71      9900\n",
      "   macro avg       0.71      0.71      0.71      9900\n",
      "weighted avg       0.71      0.71      0.71      9900\n",
      "\n"
     ]
    }
   ],
   "source": [
    "# Evaluamos el desempeño del modelo\n",
    "print(classification_report(y_test, votingModel.predict(X_test)))"
   ]
  },
  {
   "cell_type": "markdown",
   "metadata": {},
   "source": [
    "## __Hito 3__\n"
   ]
  },
  {
   "cell_type": "markdown",
   "metadata": {},
   "source": [
    "Ananalizaremos el desempeño de los modelos generados"
   ]
  },
  {
   "cell_type": "code",
   "execution_count": 32,
   "metadata": {},
   "outputs": [
    {
     "name": "stderr",
     "output_type": "stream",
     "text": [
      "<ipython-input-32-a10829ac15d9>:6: DeprecationWarning: The default dtype for empty Series will be 'object' instead of 'float64' in a future version. Specify a dtype explicitly to silence this warning.\n",
      "  accuracies = pd.Series([])\n"
     ]
    }
   ],
   "source": [
    "# Generamos las curvas ROC para los 5 modelos\n",
    "fprs = []\n",
    "tprs = []\n",
    "thresholds = []\n",
    "\n",
    "accuracies = pd.Series([], dtype=float)\n",
    "for model in [bestLogisticModel, bestQDA, bestRF, bestGBM, votingModel]:\n",
    "    fpr, tpr, threshold = roc_curve(y_test, model.predict_proba(X_test)[:, 1])\n",
    "    fprs.append(fpr)\n",
    "    tprs.append(tpr)\n",
    "    thresholds.append(threshold)\n",
    "    accuracies.at[model.__class__.__name__] = accuracy_score(y_test, model.predict(X_test))"
   ]
  },
  {
   "cell_type": "code",
   "execution_count": 38,
   "metadata": {},
   "outputs": [
    {
     "data": {
      "text/plain": [
       "Text(0.5, 1.0, 'Accuracy')"
      ]
     },
     "execution_count": 38,
     "metadata": {},
     "output_type": "execute_result"
    },
    {
     "data": {
      "image/png": "[encoded data removed]",
      "text/plain": [
       "<Figure size 720x360 with 1 Axes>"
      ]
     },
     "metadata": {
      "needs_background": "light"
     },
     "output_type": "display_data"
    }
   ],
   "source": [
    "plt.figure(figsize=(10, 5))\n",
    "sns.barplot(y=accuracies.index, x=accuracies)\n",
    "plt.title('Accuracy')"
   ]
  },
  {
   "cell_type": "code",
   "execution_count": 37,
   "metadata": {},
   "outputs": [
    {
     "data": {
      "text/plain": [
       "<matplotlib.legend.Legend at 0x134046d1a60>"
      ]
     },
     "execution_count": 37,
     "metadata": {},
     "output_type": "execute_result"
    },
    {
     "data": {
      "image/png": "[encoded data removed]",
      "text/plain": [
       "<Figure size 720x720 with 1 Axes>"
      ]
     },
     "metadata": {
      "needs_background": "light"
     },
     "output_type": "display_data"
    }
   ],
   "source": [
    "# Graficamos las curvas ROC\n",
    "plt.figure(figsize=(10, 10))\n",
    "for i in range(len(fprs)):\n",
    "    plt.plot(fprs[i], tprs[i], label=f'Modelo {i+1}')\n",
    "plt.plot([0, 1], [0, 1], 'k--')\n",
    "plt.xlim([0.0, 1.0])\n",
    "plt.title('Curvas ROC')\n",
    "plt.legend(['LogisticRegression', 'QuadraticDiscriminantAnalysis', 'RandomForest', 'GradientBoosting', 'VotingClassifier'], loc='upper left')"
   ]
  },
  {
   "cell_type": "markdown",
   "metadata": {},
   "source": [
    "Vemos que los dos mejores modelos son los de Regresión Logística y el Voting Classifier debido a que tienen curvas ROC parecidas y un accuracy mayor al resto.\n",
    "\n",
    "Para serializarlo crearemos nuestra propia clase para hacer predict."
   ]
  },
  {
   "cell_type": "code",
   "execution_count": 111,
   "metadata": {},
   "outputs": [],
   "source": [
    "# Creamos nuestra clase customizada para nuestro modelo\n",
    "class CustomModel:\n",
    "    def __init__(self, model, tfidfLatentVectorizer, ldaModel, tfidfVectorizer):\n",
    "        self.model = model\n",
    "        self.ldaModel = ldaModel\n",
    "        self.tfidfVectorizer = tfidfVectorizer\n",
    "        self.tfidfLatentVectorizer = tfidfLatentVectorizer\n",
    "\n",
    "    def predict(self, X):\n",
    "        refactoredDf = self.transform(X)\n",
    "        return self.model.predict(refactoredDf)\n",
    "\n",
    "    def predict_proba(self, X):\n",
    "        refactoredDf = self.transform(X)\n",
    "        return self.model.predict_proba(refactoredDf)\n",
    "    def preprocess(self, tweetSeries):\n",
    "        copy = pd.DataFrame([])\n",
    "        # Agregamos las columnas\n",
    "        copy['n_words'] = tweetSeries.apply(lambda x: len(x.split()))\n",
    "        copy['n_chars'] = tweetSeries.apply(lambda x: len(x))\n",
    "        # Conseguir la cantidad de menciones y hashtags\n",
    "        copy['n_mentions'] = tweetSeries.apply(lambda x: len(re.findall(r'@\\w+', x)))\n",
    "        copy['n_hashtags'] = tweetSeries.apply(lambda x: len(re.findall(r'#\\w+', x)))\n",
    "        # Reemplazar las menciones y hashtags por una palabra\n",
    "        copy['content'] = tweetSeries.apply(lambda x: re.sub(r'@\\w+', '@@@', x))\n",
    "        copy['content'] = copy['content'].apply(lambda x: re.sub(r'#\\w+', '###', x))\n",
    "        return copy\n",
    "    def transform(self, X):\n",
    "        df = self.preprocess(X)\n",
    "        # Conseguimos la matriz TF-IDF de las columnas apartadas\n",
    "        testLatentMatrix = self.tfidfLatentVectorizer.transform(df['content'])\n",
    "        # Generamos el dataframe con las probabilidades de tópico por documento y lo concatenamos al dataframe original\n",
    "        topics_for_each_doc_test = pd.DataFrame(np.round(self.ldaModel.transform(testLatentMatrix), 3), index=df.index )\n",
    "        topics_for_each_doc_test.columns = list(map(lambda x: \"T: {}\".format(x), range(1, self.ldaModel.n_components + 1)))\n",
    "        partialDf = pd.concat([df.drop(columns=['content']), topics_for_each_doc_test], axis=1)\n",
    "        # Generamos la transformación TF-IDF de las columnas conservadas\n",
    "        tfidfMatrix = self.tfidfVectorizer.transform(df['content'])\n",
    "        # Retornamos el df final con toda la información\n",
    "        return pd.concat([partialDf, pd.DataFrame(tfidfMatrix.toarray(), columns=self.tfidfVectorizer.get_feature_names())], axis=1)\n"
   ]
  },
  {
   "cell_type": "code",
   "execution_count": 112,
   "metadata": {},
   "outputs": [],
   "source": [
    "serializedVotingModel = CustomModel(votingModel, tfidfLatent, ldaModel, tfidf)\n",
    "serializedLogisticModel = CustomModel(bestLogisticModel, tfidfLatent, ldaModel, tfidf)"
   ]
  },
  {
   "cell_type": "code",
   "execution_count": 113,
   "metadata": {},
   "outputs": [
    {
     "data": {
      "text/plain": [
       "['logisticModel.joblib']"
      ]
     },
     "execution_count": 113,
     "metadata": {},
     "output_type": "execute_result"
    }
   ],
   "source": [
    "# Serializamos\n",
    "import joblib\n",
    "\n",
    "joblib.dump(serializedVotingModel, 'votingModel.joblib')\n",
    "joblib.dump(serializedLogisticModel, 'logisticModel.joblib')"
   ]
  }
 ],
 "metadata": {
  "interpreter": {
   "hash": "07efdcd4b820c98a756949507a4d29d7862823915ec7477944641bea022f4f62"
  },
  "kernelspec": {
   "display_name": "Python 3.8.5 64-bit ('base': conda)",
   "name": "python3"
  },
  "language_info": {
   "codemirror_mode": {
    "name": "ipython",
    "version": 3
   },
   "file_extension": ".py",
   "mimetype": "text/x-python",
   "name": "python",
   "nbconvert_exporter": "python",
   "pygments_lexer": "ipython3",
   "version": "3.8.5"
  },
  "orig_nbformat": 4
 },
 "nbformat": 4,
 "nbformat_minor": 2
}
