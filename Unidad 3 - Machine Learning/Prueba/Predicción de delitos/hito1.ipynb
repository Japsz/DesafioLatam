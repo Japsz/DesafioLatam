{
 "cells": [
  {
   "cell_type": "markdown",
   "metadata": {},
   "source": [
    "# __Prueba 2: Analizado los crímenes en la Ciudad de Nueva York__\n",
    "\n",
    "`Benjamín Meneses`\n",
    "## Contexto\n",
    "En esta ocasión trabajaremos con datos públicos del departamento de policía de New York.\n",
    "El dataset es llamado `stop_and_frisk_data` y contiene información sobre interrogaciones\n",
    "y detenciones realizadas por el departamento de policía de NY en la vía pública. El\n",
    "diccionario de atributos se encuentra en el archivo `2009 SQF File Spec.xls`.\n",
    "\n",
    "Para todo nuestro estudio utilizaremos los datos correspondientes al año 2009 como\n",
    "conjunto de entrenamiento y los datos del 2010 como conjunto de pruebas. Hay que hacer\n",
    "notar que los datos que estamos utilizando son un muestreo del de la cantidad de registros\n",
    "reales que contiene el dataset, esta decisión fue tomada debido a los largos tiempos de\n",
    "entrenamiento y procesamiento que requiere el volumen de datos reales.\n",
    "\n"
   ]
  },
  {
   "cell_type": "markdown",
   "metadata": {},
   "source": [
    "## Objetivos\n",
    "Para alcanzar el objetivo general, su trabajo se puede desagregar en los siguientes puntos:\n",
    "1. Debe analizar de forma exploratoria los atributos. Reporte la cantidad de datos\n",
    "perdidos y presente su esquema de recodificación. Tenga presente que lo que\n",
    "observe en el análisis exploratorio debe guiar su proceso de ingeniería de atributos,\n",
    "por lo que se le recomienda que piense en aspectos de las variables involucradas\n",
    "que puedan afectar el proceso mencionado.\n",
    "2. Reporte la probabilidad que un individuo sea arrestado en uno de los cinco barrios,\n",
    "condicional al género y a la raza. Concluya, ¿qué implicancias éticas tienen algunas\n",
    "conclusiones de lo que observa?.\n",
    "3. Entregue un modelo predictivo que prediga efectivamente si un determinado\n",
    "procedimiento concluirá en un arresto o no. Para ello, guíate por los siguientes\n",
    "lineamientos:\n",
    "   - Entrene por lo menos 3 modelos que sean capaces de predecir si se\n",
    "producirá un arresto o no. Una vez que encuentre un modelo satisfactorio,\n",
    "reporte al menos dos métricas de desempeño.\n",
    "   - Refine aquellos atributos relevantes con alguna estrategia que crea\n",
    "conveniente y reporte por lo menos 5 atributos relevantes para realizar la\n",
    "predicción.\n",
    "4. Genere al menos cinco modelos predictivos que permitan determinar si el\n",
    "procedimiento policial concluirá en alguna acción violenta.\n",
    "   - Para ello, debe generar un nuevo atributo como vector objetivo que indique\n",
    "cuándo hubo violencia o no. Éste debe ser creado a partir de atributos\n",
    "existentes que indiquen el tipo de violencia.\n",
    "5. Seleccione los 2 mejores modelos, serialicelos y envíalos a evaluación. Recuerde que\n",
    "el modelo serializado debe ser posterior al `fit`, para poder ejecutar `predict` en los\n",
    "nuevos datos.\n"
   ]
  },
  {
   "cell_type": "markdown",
   "metadata": {},
   "source": [
    "## __Hito 1__"
   ]
  },
  {
   "cell_type": "markdown",
   "metadata": {},
   "source": [
    "### Preliminares\n",
    "Vemos que nos encontramos nuevamente con un problema de clasificación, tanto para la predicción de arresto o la predicción de accion violenta.\n",
    "\n",
    "Primero se hará un análisis de la probabilidad de arrestos según los atributos pedidos, haremos también el análisis de datos perdidos\n",
    "\n",
    "Para atacar el problema realizaremos luego un preprocesamiento de los datos, usando el diccionario de datos, se refactorizarán los números a texto, cosa de cuando se implemente el One-hot-encoding conseguir columnas con nombres semánticos.\n",
    "\n",
    "Finalmente implementaremos 5 modelos usando distintos algoritmos, defieniendo para cada uno los hiperparámetros que correspondan y usando una búsqueda de grilla con validación cruzada cada vez que sea posible. Estos son:\n",
    "#### Predicción de Arresto\n",
    "1. `Random Forest`:\n",
    "   - `max_depth`: `[2, 4, 6]`\n",
    "   - `n_estimators`: `[100, 500, 1500]`\n",
    "   - `max_features`: `['auto', 'sqrt', 'log2']`\n",
    "   - `oob_score`: `[True]`\n",
    "2. `GaussianNB`\n",
    "   - `covariance_type`: `['full', 'tied', 'diag', 'spherical']`\n",
    "3. `Decision Tree con GradientBoost`:\n",
    "   - `learning_rate`: `[0.01, 0.1, 0.5]`\n",
    "   - `n_estimators`: `[100, 500, 1500]`\n",
    "   - `subsample`: `[0.2,0.5,0.8]`\n",
    "#### Predicción de uso de violencia\n",
    "1. `GMM`\n",
    "   - `covariance_type`: `['full', 'tied', 'diag', 'spherical']`\n",
    "2. `QDA`:\n",
    "   - `priors`: `[[.5, .5], [.33, .66], [.66, .33]]`\n",
    "3. `SVC`\n",
    "   - `class_weight`: `[None, 'balanced', {'0': .33, '1': .66}, {'1': .33, '0': .66}]`\n",
    "   - `kernel`: `['rbf', 'poly', 'linear', 'sigmoid']`\n",
    "   - `C`: `[0.1, 1, 10, 100, 1000]`\n",
    "   - `gamma`: `[0.000001, 0.001, 0.1, 0.5, 1]`\n",
    "4. `Random Forest`:\n",
    "   - `max_depth`: `[2, 4, 6]`\n",
    "   - `n_estimators`: `[100, 500, 1500]`\n",
    "   - `max_features`: `['auto', 'sqrt', 'log2']`\n",
    "   - `oob_score`: `[True]`\n",
    "5. `Decision Tree con GradientBoost`:\n",
    "   - `learning_rate`: `[0.01, 0.1, 0.5]`\n",
    "   - `n_estimators`: `[100, 500, 1000, 2000]`\n",
    "   - `subsample`: `[0.2,0.5,0.8]`\n"
   ]
  },
  {
   "cell_type": "markdown",
   "metadata": {},
   "source": [
    "### Aspectos computacionales\n",
    "\n",
    "Importamos las librerías a utilizar y lo necesario para hacer el refactoring de las columnas multiclase."
   ]
  },
  {
   "cell_type": "code",
   "execution_count": 3,
   "metadata": {},
   "outputs": [],
   "source": [
    "import numpy as np\n",
    "import pandas as pd\n",
    "import datetime\n",
    "import matplotlib.pyplot as plt\n",
    "import seaborn as sns\n",
    "import missingno as msno\n",
    "from sklearn.model_selection import train_test_split, GridSearchCV\n",
    "from sklearn.preprocessing import StandardScaler\n",
    "from sklearn.ensemble import RandomForestClassifier, GradientBoostingClassifier\n",
    "from sklearn.svm import SVC\n",
    "from sklearn.naive_bayes import GaussianNB\n",
    "from sklearn.discriminant_analysis import QuadraticDiscriminantAnalysis\n",
    "from sklearn.mixture import GaussianMixture\n",
    "from sklearn.metrics import classification_report, roc_curve, accuracy_score\n",
    "import helpers as hlp\n",
    "plt.rcParams['figure.figsize'] = (12.0, 6.0)"
   ]
  },
  {
   "cell_type": "code",
   "execution_count": 4,
   "metadata": {},
   "outputs": [
    {
     "name": "stdout",
     "output_type": "stream",
     "text": [
      "<class 'pandas.core.frame.DataFrame'>\n",
      "RangeIndex: 5812 entries, 0 to 5811\n",
      "Columns: 111 entries, year to detailcm\n",
      "dtypes: float64(1), int64(18), object(92)\n",
      "memory usage: 4.9+ MB\n"
     ]
    }
   ],
   "source": [
    "# Importamos las base de entrenamiento\n",
    "df = pd.read_csv('2009_1perc.csv').drop(columns=['Unnamed: 0'])\n",
    "df.info()"
   ]
  },
  {
   "cell_type": "markdown",
   "metadata": {},
   "source": [
    "### Análisis Exploratorio\n",
    "Visualizaremos la probabilidad de arresto según el barrio (`city`)"
   ]
  },
  {
   "cell_type": "code",
   "execution_count": 3,
   "metadata": {},
   "outputs": [
    {
     "data": {
      "text/plain": [
       "<seaborn.axisgrid.FacetGrid at 0x1229fd073a0>"
      ]
     },
     "execution_count": 3,
     "metadata": {},
     "output_type": "execute_result"
    },
    {
     "data": {
      "image/png": "[encoded data removed]",
      "text/plain": [
       "<Figure size 1207.62x864 with 5 Axes>"
      ]
     },
     "metadata": {
      "needs_background": "light"
     },
     "output_type": "display_data"
    }
   ],
   "source": [
    "arrestGrid = sns.FacetGrid(df, col='city', hue='arstmade', col_wrap=2, sharex=False, sharey=False, height=4, aspect=2)\n",
    "arrestGrid.map(sns.histplot, 'race').add_legend()\n"
   ]
  },
  {
   "cell_type": "code",
   "execution_count": 4,
   "metadata": {},
   "outputs": [
    {
     "data": {
      "text/plain": [
       "Text(0.5, 1.0, 'arstmade = Y')"
      ]
     },
     "execution_count": 4,
     "metadata": {},
     "output_type": "execute_result"
    },
    {
     "data": {
      "image/png": "[encoded data removed]",
      "text/plain": [
       "<Figure size 864x432 with 1 Axes>"
      ]
     },
     "metadata": {
      "needs_background": "light"
     },
     "output_type": "display_data"
    }
   ],
   "source": [
    "# Vemos también la distribución total de razas para arstmade = Y\n",
    "sns.countplot(x='race', data=df[df['arstmade'] == 'Y'])\n",
    "plt.title('arstmade = Y')"
   ]
  },
  {
   "cell_type": "markdown",
   "metadata": {},
   "source": [
    "Vemos claramente que en general la mayor cantidad de arrestos se hace a personas de raza negra, seguido por blanco-hispánicos, blancos y negro-hispánicos. Este desbalance de clases sesgará el aprendizaje del modelo y pocas veces predecirá un arresto a las razas con menos observaciones.\n",
    "\n",
    "Continuamos con el género"
   ]
  },
  {
   "cell_type": "code",
   "execution_count": 5,
   "metadata": {},
   "outputs": [
    {
     "data": {
      "text/plain": [
       "<seaborn.axisgrid.FacetGrid at 0x122a018ce20>"
      ]
     },
     "execution_count": 5,
     "metadata": {},
     "output_type": "execute_result"
    },
    {
     "data": {
      "image/png": "[encoded data removed]",
      "text/plain": [
       "<Figure size 1207.62x864 with 5 Axes>"
      ]
     },
     "metadata": {
      "needs_background": "light"
     },
     "output_type": "display_data"
    }
   ],
   "source": [
    "arrestGrid2 = sns.FacetGrid(df, col='city', hue='arstmade', col_wrap=2, sharex=False, sharey=False, height=4, aspect=2)\n",
    "arrestGrid2.map(sns.histplot, 'sex').add_legend()"
   ]
  },
  {
   "cell_type": "code",
   "execution_count": 6,
   "metadata": {},
   "outputs": [
    {
     "data": {
      "text/plain": [
       "Text(0.5, 1.0, 'arstmade = Y')"
      ]
     },
     "execution_count": 6,
     "metadata": {},
     "output_type": "execute_result"
    },
    {
     "data": {
      "image/png": "[encoded data removed]",
      "text/plain": [
       "<Figure size 864x432 with 1 Axes>"
      ]
     },
     "metadata": {
      "needs_background": "light"
     },
     "output_type": "display_data"
    }
   ],
   "source": [
    "# Vemos también la distribución total de generos para arstmade = Y\n",
    "sns.countplot(x='sex', data=df[df['arstmade'] == 'Y'])\n",
    "plt.title('arstmade = Y')"
   ]
  },
  {
   "cell_type": "markdown",
   "metadata": {},
   "source": [
    "Vemos que la mayoría de los arrestos son a hombres y muy pocos para mujeres, siendo la mayoría de los arrestos mujeres en brooklyn.\n",
    "\n",
    "Vemos también que la cantidad de observaciones para cada barrio varía demasiado, esto claramente por temas demográficos, siendo brooklyn el con mayor representación y staten island el con menor."
   ]
  },
  {
   "cell_type": "markdown",
   "metadata": {},
   "source": [
    "### Feature Engineering\n",
    "A continuación haremos el análisis de datos perdidos"
   ]
  },
  {
   "cell_type": "code",
   "execution_count": 7,
   "metadata": {},
   "outputs": [
    {
     "data": {
      "text/plain": [
       "<AxesSubplot:>"
      ]
     },
     "execution_count": 7,
     "metadata": {},
     "output_type": "execute_result"
    },
    {
     "data": {
      "image/png": "[encoded data removed]",
      "text/plain": [
       "<Figure size 1800x720 with 2 Axes>"
      ]
     },
     "metadata": {
      "needs_background": "light"
     },
     "output_type": "display_data"
    }
   ],
   "source": [
    "msno.matrix(df)"
   ]
  },
  {
   "cell_type": "markdown",
   "metadata": {},
   "source": [
    "Al parecer no hay ninguno lo que es bastante bueno. Continuaremos con la refactorización de valores"
   ]
  },
  {
   "cell_type": "code",
   "execution_count": 5,
   "metadata": {},
   "outputs": [],
   "source": [
    "# importamos el hash de labels de nuestro archivo helper creado en base al archivo xlsx\n",
    "import refactoringParams as rfParams2"
   ]
  },
  {
   "cell_type": "markdown",
   "metadata": {},
   "source": [
    "Este archivo nos entregará listas para cómo utilizar cada columna del dataframe. Además de reformatear algunas columnas, se eliminarán otras que se detallan a continuación:\n",
    "\n",
    "- [`addrnum`, `arstoffn`, `addrtyp`, `aptnum`, `crossst`, `arstoffn`, `premname`, `stinter`, `stname`, `xcoord` y `ycoord`, `year`, `beat`, `post`]: Presentan información en texto respecto a lugar de parada o del domicilio del precinto. El cual se puede correlacionar facilmente con otros atributos como `city` y `sector`.\n",
    "- [`comppct`, `compyear`, `dettypcm`, `state`, `dob`, `premtype`, `rescode`, `zip`, `ser_num`, `linecm`, `othfeatr`]: Variables que después de un análisis se ve no aportan información considerable.\n",
    "\n",
    "Aparte agregaremos ciertas columnas usando otras con el objetivo de minimizar la dimensionalidad o en otros casos conseguir mejores datos \n",
    "- `imc`: se calculará en base a `weight`, `ht_feet` y `ht_inch`\n",
    "- `day`: el día de la semana para la parada\n",
    "- `month`: el mes de la parada\n",
    "- `daytime`: El momento del día según la hora, pueden ser:\n",
    "  - `early_morning`: entre 00am y 06am\n",
    "  - `morning`: entre 06am y 12pm\n",
    "  - `afternoon`: entre 12pm y 6pm\n",
    "  - `night`: entre 6pm y 00am\n",
    "Estos 3 últimos calculados según `datestop` y `timestop`"
   ]
  },
  {
   "cell_type": "code",
   "execution_count": 6,
   "metadata": {},
   "outputs": [],
   "source": [
    "# Funcion que refactoriza el dataframe de la base de datos\n",
    "def refactorDataframe(df):\n",
    "    # Quitamos los atributos que no nos interesan\n",
    "    refactoredDf = df.drop(columns=rfParams2.removeLabels)\n",
    "\n",
    "    # Se inicializan las series para los atributos a agregar\n",
    "    imcSerie = pd.Series(dtype='float64')\n",
    "    dateSerie = pd.Series(dtype='object')\n",
    "    monthSerie = pd.Series(dtype='object')\n",
    "    daytimeSerie = pd.Series(dtype='object')\n",
    "    # Se itera sobre las filas del df original\n",
    "    for i, row in df.iterrows():\n",
    "        # Se agrega el imc en kg/m2 (considerando weight en lb y height en ft)\n",
    "        imcSerie.at[i] = (row['weight']*.453)/((row['ht_feet']*12*.0254) + (row['ht_inch']*.0254))**2\n",
    "        # Se parsea la fecha y hora del parametro en un string ISO\n",
    "        strdate = str(row['datestop'])\n",
    "        strTime = str(row['timestop'])\n",
    "        year = strdate[-4:]\n",
    "        date = strdate[-6:-4]\n",
    "        month = strdate[0:-6]\n",
    "        hour= strTime[-4:-2]\n",
    "        minute = strTime[-2:]\n",
    "        if hour == '' or int(hour) >= 24:\n",
    "            hour = '00'\n",
    "        if len(hour) == 1:\n",
    "            hour = '0' + hour\n",
    "        if len(minute) == 1:\n",
    "            minute = '0' + minute\n",
    "        if len(month) == 1:\n",
    "            month = '0' + month\n",
    "        # Se consigue la instancia de fecha considerando la hora en NYC\n",
    "        isoString = f'{year}-{month}-{date}T{hour}:{minute}:00-04:00'\n",
    "        dateStop = datetime.datetime.fromisoformat(isoString)\n",
    "        # Se agrega la info a la serie con información de dia y mes\n",
    "        dateSerie.at[i] = dateStop.strftime('%a')\n",
    "        monthSerie.at[i] = dateStop.strftime('%b')\n",
    "        # Se agrega el valor del daytime\n",
    "        if int(hour) >= 6 and int(hour) <= 11:\n",
    "            daytimeSerie.at[i] = 'morning'\n",
    "        elif int(hour) >= 12 and int(hour) <= 17:\n",
    "            daytimeSerie.at[i] = 'afternoon'\n",
    "        elif int(hour) >= 18 and int(hour) <= 23:\n",
    "            daytimeSerie.at[i] = 'night'\n",
    "        else:\n",
    "            daytimeSerie.at[i] = 'early_morning'\n",
    "    # Se agrega la serie al dataframe\n",
    "    refactoredDf = pd.concat([\n",
    "        refactoredDf,\n",
    "        pd.get_dummies(dateSerie, prefix='day'),\n",
    "        pd.get_dummies(monthSerie, prefix='month'),\n",
    "        pd.get_dummies(daytimeSerie, prefix='daytime')\n",
    "    ], axis=1)\n",
    "    refactoredDf['imc'] = imcSerie\n",
    "\n",
    "    # Se hace one-hot encoding de los atributos categoricos multiclase\n",
    "    for col in rfParams2.multiClassLabels:\n",
    "        refactoredDf = pd.concat([refactoredDf, pd.get_dummies(refactoredDf[col], prefix=col)], axis=1)\n",
    "        refactoredDf = refactoredDf.drop(columns=col)\n",
    "    # Se hace one-hot encoding de los atributos categoricos binarios\n",
    "    for col in rfParams2.binaryLabels:\n",
    "        refactoredDf = pd.concat([refactoredDf, pd.get_dummies(refactoredDf[col], prefix=col, drop_first=True)], axis=1)\n",
    "        refactoredDf = refactoredDf.drop(columns=col)\n",
    "    # Nos aseguramos de convertir las variables numéricas a float\n",
    "    for col in rfParams2.numericLabels:\n",
    "        refactoredDf[col] = refactoredDf[col].astype('float64')\n",
    "    return refactoredDf\n",
    "refactoredDf = refactorDataframe(df)"
   ]
  },
  {
   "cell_type": "code",
   "execution_count": 10,
   "metadata": {},
   "outputs": [
    {
     "data": {
      "text/plain": [
       "<AxesSubplot:>"
      ]
     },
     "execution_count": 10,
     "metadata": {},
     "output_type": "execute_result"
    },
    {
     "data": {
      "image/png": "[encoded data removed]",
      "text/plain": [
       "<Figure size 1800x720 with 2 Axes>"
      ]
     },
     "metadata": {
      "needs_background": "light"
     },
     "output_type": "display_data"
    }
   ],
   "source": [
    "msno.matrix(refactoredDf)"
   ]
  },
  {
   "cell_type": "markdown",
   "metadata": {},
   "source": [
    "Finalmente haremos a una mezcla de gaussianas usando atributos multiclases con espacios muestrales muy grandes como:\n",
    "- `pct` y `addrpct`: códigos del precinto de la detención y de procesamiento de la misma.\n",
    "- `detailcm`, `sumooffen` y `crimsusp`: Información respecto al crimen sospechado y cometido en cada detención.\n",
    "- `repcmd` y `revcmd`: información del cargo del que ordenó y revisó la detención.\n",
    "\n",
    "Luego agregaremos la probabilidad de predicción de cada clase y la agregaremos al espacio de atributos final."
   ]
  },
  {
   "cell_type": "code",
   "execution_count": 7,
   "metadata": {},
   "outputs": [],
   "source": [
    "# Intentaremos hacer un modelo Mezcla de Gaussianas con una mezcla de las variables categoricas para sospecha de crímenes\n",
    "n_components = np.linspace(1, 15, 15, dtype='int')\n",
    "# Separamos las columnas para hacer la mezcla de gaussianas\n",
    "X = pd.concat([\n",
    "    df.loc[:, ['repcmd', 'revcmd']],\n",
    "    pd.get_dummies(df.loc[:, ['pct', 'addrpct', 'detailcm']]),\n",
    "    pd.get_dummies(df['sumoffen']),\n",
    "    pd.get_dummies(df['crimsusp']),\n",
    "], axis=1)\n",
    "# Escalamos nuestro espacio de atributos con StandardScaler\n",
    "gaussianScaler = StandardScaler()\n",
    "X = gaussianScaler.fit_transform(X)"
   ]
  },
  {
   "cell_type": "markdown",
   "metadata": {},
   "source": [
    "Traemos una función de la lectura para poder poder elegir la mejor mezcla según AIC y BIC."
   ]
  },
  {
   "cell_type": "code",
   "execution_count": 7,
   "metadata": {},
   "outputs": [],
   "source": [
    "# Hacemos la busqueda de grilla manual con los mismos parámetros pero ahora usando el criterio AIC y BIC para estimar el número de clusters\n",
    "def gmm_information_criteria_report(X_mat, k = np.arange(1, 20), covar_type = ['full', 'tied', 'diag', 'spherical'], random_seed=11238, out=\"Graph\"):\n",
    "    # Dataframe transposing closure type funct\n",
    "    def handle_df(list_of_list, covar_type):\n",
    "        tmp_df = pd.DataFrame(list_of_list).T\n",
    "        tmp_df.columns = covar_type\n",
    "        tmp_df['n_components'] = tmp_df.index\n",
    "        return tmp_df\n",
    "    tmp_global_aic, tmp_global_bic = [], []\n",
    "    for i in covar_type:\n",
    "        tmp_iter_aic, tmp_iter_bic = [], []\n",
    "        for j in k:\n",
    "            tmp_model = GaussianMixture(j, covariance_type=i,\n",
    "                                        random_state = random_seed).fit(X_mat)\n",
    "            tmp_iter_aic.append(tmp_model.aic(X_mat))\n",
    "            tmp_iter_bic.append(tmp_model.bic(X_mat))\n",
    "        tmp_global_aic.append(tmp_iter_aic)\n",
    "        tmp_global_bic.append(tmp_iter_bic)\n",
    "\n",
    "    covar_type = covar_type\n",
    "    tmp_get_aic = handle_df(tmp_global_aic, covar_type)\n",
    "    tmp_get_bic = handle_df(tmp_global_bic, covar_type)\n",
    "    tmp_get_aic_max = pd.melt(tmp_get_aic, id_vars=['n_components'],\n",
    "                              value_vars = covar_type).sort_values(by='value')\n",
    "    tmp_get_bic_max = pd.melt(tmp_get_bic, id_vars=['n_components'],\n",
    "                              value_vars = covar_type).sort_values(by='value')\n",
    "    tmp_top_aic = tmp_get_aic_max.head(3)\n",
    "    tmp_top_bic = tmp_get_bic_max.head(3)\n",
    "\n",
    "    if out == \"Graph\":\n",
    "        plt.subplot(2, 1, 1)\n",
    "        for colname, index in tmp_get_aic.drop(columns='n_components').iteritems():\n",
    "            plt.plot(index, label=colname)\n",
    "        plt.scatter(tmp_top_aic['n_components'],\n",
    "                    tmp_top_aic['value'], edgecolors='slategrey',\n",
    "                    facecolor='none', lw=2, label=\"Best hyperparams\")\n",
    "        plt.title('Akaike Information Criteria')\n",
    "        plt.xticks(k - 1, k)\n",
    "        plt.xlabel('Number of clusters estimated')\n",
    "        plt.ylabel('AIC')\n",
    "        plt.legend(loc='center left', bbox_to_anchor=(1, .5))\n",
    "\n",
    "        plt.subplot(2, 1, 2)\n",
    "        for colname, index, in tmp_get_bic.drop(columns='n_components').iteritems():\n",
    "            plt.plot(index, label=colname)\n",
    "        plt.scatter(tmp_top_bic['n_components'],\n",
    "                    tmp_top_bic['value'], edgecolors='slategrey',\n",
    "                    facecolor='none', lw=2, label=\"Best hyperparams\")\n",
    "        plt.title('Bayesian Information Criteria')\n",
    "        plt.xticks(k - 1, k)\n",
    "        plt.xlabel('Number of clusters estimated')\n",
    "        plt.ylabel('BIC')\n",
    "        plt.legend(loc='center left', bbox_to_anchor=(1, .5))\n",
    "\n",
    "    elif out != \"Graph\":\n",
    "        return tmp_get_aic_max, tmp_get_bic_max\n"
   ]
  },
  {
   "cell_type": "code",
   "execution_count": 8,
   "metadata": {},
   "outputs": [
    {
     "data": {
      "image/png": "[encoded data removed]",
      "text/plain": [
       "<Figure size 864x432 with 2 Axes>"
      ]
     },
     "metadata": {
      "needs_background": "light"
     },
     "output_type": "display_data"
    }
   ],
   "source": [
    "gmm_information_criteria_report(X, k=n_components, random_seed=19137)\n",
    "plt.tight_layout()"
   ]
  },
  {
   "cell_type": "markdown",
   "metadata": {},
   "source": [
    "Como queremos minimizar la cantidad de atributos, elegiremos `n_components=9` pues no presenta mucha diferencia con respecto a los otros atributos."
   ]
  },
  {
   "cell_type": "code",
   "execution_count": 8,
   "metadata": {},
   "outputs": [],
   "source": [
    "bestGMM = GaussianMixture(n_components=9, covariance_type='diag', random_state=19137).fit(X)"
   ]
  },
  {
   "cell_type": "code",
   "execution_count": 9,
   "metadata": {},
   "outputs": [],
   "source": [
    "# Guardamos el dataframe con las probabilidades de cada cluster\n",
    "gmmProbaDf = pd.DataFrame(bestGMM.predict_proba(X), columns=['GMM_' + str(x) for x in range(9)])"
   ]
  },
  {
   "cell_type": "markdown",
   "metadata": {},
   "source": [
    "## __Hito 2__"
   ]
  },
  {
   "cell_type": "markdown",
   "metadata": {},
   "source": [
    "### Predicción de Arresto\n",
    "Primero haremos la separación de conjuntos para entrenamiento y prueba"
   ]
  },
  {
   "cell_type": "code",
   "execution_count": 18,
   "metadata": {},
   "outputs": [],
   "source": [
    "# Separamos nuestra muestra para el entrenamiento y prueba\n",
    "X_train, X_test, y_train, y_test = train_test_split(refactoredDf.drop(columns=['arstmade_Y']), refactoredDf['arstmade_Y'], test_size=0.33, random_state=19137)\n",
    "# Escalamos nuestro espacio de atributos con StandardScaler\n",
    "baseScaler = StandardScaler()\n",
    "X_train = baseScaler.fit_transform(X_train)\n",
    "X_test = baseScaler.transform(X_test)"
   ]
  },
  {
   "cell_type": "code",
   "execution_count": 19,
   "metadata": {},
   "outputs": [],
   "source": [
    "# Rehacemos el proceso agregando las probabilidades de nuestro modelo generativo\n",
    "X_GMM_train, X_GMM_test, y_GMM_train, y_GMM_test = train_test_split(pd.concat([refactoredDf.drop(columns=['arstmade_Y']), gmmProbaDf], axis=1), refactoredDf['arstmade_Y'], test_size=0.33, random_state=19137)\n",
    "gmmScaler = StandardScaler()\n",
    "X_GMM_train = gmmScaler.fit_transform(X_GMM_train)\n",
    "X_GMM_test = gmmScaler.transform(X_GMM_test)"
   ]
  },
  {
   "cell_type": "markdown",
   "metadata": {},
   "source": [
    "Luego comenzamos haciendo los modelo de predicción de arresto con los tres métodos antes mencionados:\n",
    "\n",
    "1. `Random Forest`:\n",
    "   - `max_depth`: 10 valores entre `1` y `30`\n",
    "   - `n_estimators`: 5 valores entre `50` y `500`\n",
    "   - `max_features`: `['auto', 'sqrt', 'log2']`\n",
    "   - `oob_score`: `[True]`"
   ]
  },
  {
   "cell_type": "code",
   "execution_count": 12,
   "metadata": {},
   "outputs": [],
   "source": [
    "# Implementamos el modelo con Random Forest\n",
    "max_depth = np.linspace(1, 30, 10, dtype=int)\n",
    "n_estimators = np.linspace(50, 500, 5, dtype=int)\n",
    "max_features = ['auto', 'sqrt', 'log2']"
   ]
  },
  {
   "cell_type": "code",
   "execution_count": 11,
   "metadata": {},
   "outputs": [
    {
     "name": "stdout",
     "output_type": "stream",
     "text": [
      "Fitting 5 folds for each of 150 candidates, totalling 750 fits\n"
     ]
    },
    {
     "name": "stderr",
     "output_type": "stream",
     "text": [
      "[Parallel(n_jobs=-1)]: Using backend LokyBackend with 6 concurrent workers.\n",
      "[Parallel(n_jobs=-1)]: Done  38 tasks      | elapsed:    9.7s\n",
      "[Parallel(n_jobs=-1)]: Done 188 tasks      | elapsed:   47.7s\n",
      "[Parallel(n_jobs=-1)]: Done 438 tasks      | elapsed:  2.1min\n",
      "[Parallel(n_jobs=-1)]: Done 750 out of 750 | elapsed:  3.9min finished\n"
     ]
    },
    {
     "data": {
      "text/plain": [
       "GridSearchCV(cv=5,\n",
       "             estimator=RandomForestClassifier(oob_score=True,\n",
       "                                              random_state=19137),\n",
       "             n_jobs=-1,\n",
       "             param_grid={'max_depth': array([ 1,  4,  7, 10, 13, 17, 20, 23, 26, 30]),\n",
       "                         'max_features': ['auto', 'sqrt', 'log2'],\n",
       "                         'n_estimators': array([ 50, 162, 275, 387, 500])},\n",
       "             scoring='roc_auc', verbose=1)"
      ]
     },
     "execution_count": 11,
     "metadata": {},
     "output_type": "execute_result"
    }
   ],
   "source": [
    "# Instanciamos el modelo y lo entrenamos\n",
    "rfModel = GridSearchCV(RandomForestClassifier(random_state=19137, oob_score=True), {'max_depth': max_depth, 'n_estimators': n_estimators, 'max_features': max_features}, cv=5, scoring='roc_auc', n_jobs=-1, verbose=1)\n",
    "rfModel.fit(X_train, y_train)"
   ]
  },
  {
   "cell_type": "code",
   "execution_count": 12,
   "metadata": {},
   "outputs": [
    {
     "name": "stdout",
     "output_type": "stream",
     "text": [
      "Best parameters:  {'max_depth': 17, 'max_features': 'log2', 'n_estimators': 387}\n",
      "              precision    recall  f1-score   support\n",
      "\n",
      "           0       0.97      1.00      0.98      1801\n",
      "           1       0.87      0.47      0.61       117\n",
      "\n",
      "    accuracy                           0.96      1918\n",
      "   macro avg       0.92      0.73      0.80      1918\n",
      "weighted avg       0.96      0.96      0.96      1918\n",
      "\n"
     ]
    }
   ],
   "source": [
    "# Notificamos los mejores hiperámetros y las métricas\n",
    "print('Best parameters: ', rfModel.best_params_)\n",
    "print(classification_report(y_test, rfModel.predict(X_test)))"
   ]
  },
  {
   "cell_type": "markdown",
   "metadata": {},
   "source": [
    "Vemos que el modelo pudo identificar correctamente el 100% de cuando no hay arresto, sin embargo sólo identificó correctamente el 47% de los casos en que si hubo arresto. Por otro lado, se presenta una buena precisión para ambas clases, siendo de un 97% para '0' y 87% para '1' "
   ]
  },
  {
   "cell_type": "code",
   "execution_count": 13,
   "metadata": {},
   "outputs": [
    {
     "name": "stdout",
     "output_type": "stream",
     "text": [
      "Fitting 5 folds for each of 150 candidates, totalling 750 fits\n"
     ]
    },
    {
     "name": "stderr",
     "output_type": "stream",
     "text": [
      "[Parallel(n_jobs=-1)]: Using backend LokyBackend with 6 concurrent workers.\n",
      "[Parallel(n_jobs=-1)]: Done  38 tasks      | elapsed:    6.4s\n",
      "[Parallel(n_jobs=-1)]: Done 188 tasks      | elapsed:   30.0s\n",
      "[Parallel(n_jobs=-1)]: Done 438 tasks      | elapsed:  1.5min\n",
      "[Parallel(n_jobs=-1)]: Done 750 out of 750 | elapsed:  2.8min finished\n"
     ]
    },
    {
     "data": {
      "text/plain": [
       "GridSearchCV(cv=5,\n",
       "             estimator=RandomForestClassifier(oob_score=True,\n",
       "                                              random_state=19137),\n",
       "             n_jobs=-1,\n",
       "             param_grid={'max_depth': array([ 1,  4,  7, 10, 13, 17, 20, 23, 26, 30]),\n",
       "                         'max_features': ['auto', 'sqrt', 'log2'],\n",
       "                         'n_estimators': array([ 50, 162, 275, 387, 500])},\n",
       "             scoring='roc_auc', verbose=1)"
      ]
     },
     "execution_count": 13,
     "metadata": {},
     "output_type": "execute_result"
    }
   ],
   "source": [
    "# Instanciamos y entrenamos el modelo con las columnas de GMM\n",
    "rfGmmModel = GridSearchCV(RandomForestClassifier(random_state=19137, oob_score=True), {'max_depth': max_depth, 'n_estimators': n_estimators, 'max_features': max_features}, cv=5, scoring='roc_auc', n_jobs=-1, verbose=1)\n",
    "rfGmmModel.fit(X_GMM_train, y_GMM_train)"
   ]
  },
  {
   "cell_type": "code",
   "execution_count": 14,
   "metadata": {},
   "outputs": [
    {
     "name": "stdout",
     "output_type": "stream",
     "text": [
      "Best parameters:  {'max_depth': 10, 'max_features': 'auto', 'n_estimators': 387}\n",
      "              precision    recall  f1-score   support\n",
      "\n",
      "           0       0.97      1.00      0.98      1801\n",
      "           1       0.87      0.52      0.65       117\n",
      "\n",
      "    accuracy                           0.97      1918\n",
      "   macro avg       0.92      0.76      0.82      1918\n",
      "weighted avg       0.96      0.97      0.96      1918\n",
      "\n"
     ]
    }
   ],
   "source": [
    "# Evaluamos el modelo y los mejores hiperparámetros\n",
    "print('Best parameters: ', rfGmmModel.best_params_)\n",
    "print(classification_report(y_GMM_test, rfGmmModel.predict(X_GMM_test)))"
   ]
  },
  {
   "cell_type": "markdown",
   "metadata": {},
   "source": [
    "Vemos que al agregar las probabilidades de la GMM al espacio de atributos se mejora en un 5% el recall de la clase '1', es decir, se identificó correctamente un 5% mas de la muestra que con el modelo anterior."
   ]
  },
  {
   "cell_type": "markdown",
   "metadata": {},
   "source": [
    "El mejor modelo fue el con la mezcla de gaussianas, por lo que lo instaciaremos"
   ]
  },
  {
   "cell_type": "code",
   "execution_count": 13,
   "metadata": {},
   "outputs": [
    {
     "data": {
      "text/plain": [
       "RandomForestClassifier(max_depth=10, n_estimators=387, oob_score=True,\n",
       "                       random_state=19137)"
      ]
     },
     "execution_count": 13,
     "metadata": {},
     "output_type": "execute_result"
    }
   ],
   "source": [
    "# Instanciamos el modelo con lo mejores hiperámetros y lo entrenamos\n",
    "bestRf = RandomForestClassifier(max_depth=10, n_estimators=387, max_features='auto', random_state=19137, oob_score=True)\n",
    "bestRf.fit(X_GMM_train, y_GMM_train)"
   ]
  },
  {
   "cell_type": "markdown",
   "metadata": {},
   "source": [
    "2. `GaussianNB`\n",
    "   - `var_smoothing`: 20 muestras entre `1e-9` y `2`\n",
    "   - `priors`: 6 combinaciones de probabilidades `.2` y `.8`"
   ]
  },
  {
   "cell_type": "code",
   "execution_count": 35,
   "metadata": {},
   "outputs": [],
   "source": [
    "# Definimos los hiperparámetros para el modelo de GaussianNB\n",
    "nb_var_smoothing = np.linspace(1e-9, 2, 20)\n",
    "nb_priors = list(map(lambda x: [x, 1 - x], np.linspace(.2, .8, 7)))"
   ]
  },
  {
   "cell_type": "code",
   "execution_count": 36,
   "metadata": {},
   "outputs": [
    {
     "name": "stdout",
     "output_type": "stream",
     "text": [
      "Fitting 15 folds for each of 140 candidates, totalling 2100 fits\n"
     ]
    },
    {
     "name": "stderr",
     "output_type": "stream",
     "text": [
      "[Parallel(n_jobs=-1)]: Using backend LokyBackend with 6 concurrent workers.\n",
      "[Parallel(n_jobs=-1)]: Done  40 tasks      | elapsed:    1.9s\n",
      "[Parallel(n_jobs=-1)]: Done 1132 tasks      | elapsed:    8.1s\n",
      "[Parallel(n_jobs=-1)]: Done 2100 out of 2100 | elapsed:   14.0s finished\n"
     ]
    },
    {
     "data": {
      "text/plain": [
       "GridSearchCV(cv=15, estimator=GaussianNB(), n_jobs=-1,\n",
       "             param_grid={'priors': [[0.2, 0.8], [0.30000000000000004, 0.7],\n",
       "                                    [0.4, 0.6], [0.5, 0.5],\n",
       "                                    [0.6000000000000001, 0.3999999999999999],\n",
       "                                    [0.7000000000000002, 0.2999999999999998],\n",
       "                                    [0.8, 0.19999999999999996]],\n",
       "                         'var_smoothing': array([1.00000000e-09, 1.05263159e-01, 2.10526317e-01, 3.15789475e-01,\n",
       "       4.21052632e-01, 5.26315790e-01, 6.31578948e-01, 7.36842106e-01,\n",
       "       8.42105264e-01, 9.47368422e-01, 1.05263158e+00, 1.15789474e+00,\n",
       "       1.26315790e+00, 1.36842105e+00, 1.47368421e+00, 1.57894737e+00,\n",
       "       1.68421053e+00, 1.78947368e+00, 1.89473684e+00, 2.00000000e+00])},\n",
       "             scoring='roc_auc', verbose=1)"
      ]
     },
     "execution_count": 36,
     "metadata": {},
     "output_type": "execute_result"
    }
   ],
   "source": [
    "# Implementamos el modelo de Bayes Ingenuo\n",
    "nbModel = GridSearchCV(GaussianNB(), {'var_smoothing': nb_var_smoothing, 'priors': nb_priors}, cv=15, scoring='roc_auc', n_jobs=-1, verbose=1)\n",
    "nbModel.fit(X_train, y_train)"
   ]
  },
  {
   "cell_type": "code",
   "execution_count": 37,
   "metadata": {},
   "outputs": [
    {
     "name": "stdout",
     "output_type": "stream",
     "text": [
      "Best parameters:  {'priors': [0.2, 0.8], 'var_smoothing': 1.8947368421578947}\n",
      "              precision    recall  f1-score   support\n",
      "\n",
      "           0       0.98      0.95      0.96      1801\n",
      "           1       0.46      0.64      0.54       117\n",
      "\n",
      "    accuracy                           0.93      1918\n",
      "   macro avg       0.72      0.80      0.75      1918\n",
      "weighted avg       0.94      0.93      0.94      1918\n",
      "\n"
     ]
    }
   ],
   "source": [
    "# Evaluamos el modelo y los mejores hiperparámetros\n",
    "print('Best parameters: ', nbModel.best_params_)\n",
    "print(classification_report(y_test, nbModel.predict(X_test)))"
   ]
  },
  {
   "cell_type": "markdown",
   "metadata": {},
   "source": [
    "Vemos que a diferencia de RF, este logra un mejor recall para la clase '1', pero pierde mucha precisión en la misma. La clase 0 se mantiene estable respecto a la anterior, con una diferencia de 4% de su recall."
   ]
  },
  {
   "cell_type": "code",
   "execution_count": 22,
   "metadata": {},
   "outputs": [
    {
     "name": "stdout",
     "output_type": "stream",
     "text": [
      "Fitting 15 folds for each of 140 candidates, totalling 2100 fits\n"
     ]
    },
    {
     "name": "stderr",
     "output_type": "stream",
     "text": [
      "[Parallel(n_jobs=-1)]: Using backend LokyBackend with 6 concurrent workers.\n",
      "[Parallel(n_jobs=-1)]: Done  92 tasks      | elapsed:    0.6s\n",
      "[Parallel(n_jobs=-1)]: Done 692 tasks      | elapsed:    4.4s\n",
      "[Parallel(n_jobs=-1)]: Done 1692 tasks      | elapsed:   11.2s\n",
      "[Parallel(n_jobs=-1)]: Done 2100 out of 2100 | elapsed:   13.8s finished\n"
     ]
    },
    {
     "data": {
      "text/plain": [
       "GridSearchCV(cv=15, estimator=GaussianNB(), n_jobs=-1,\n",
       "             param_grid={'priors': [[0.2, 0.8], [0.30000000000000004, 0.7],\n",
       "                                    [0.4, 0.6], [0.5, 0.5],\n",
       "                                    [0.6000000000000001, 0.3999999999999999],\n",
       "                                    [0.7000000000000002, 0.2999999999999998],\n",
       "                                    [0.8, 0.19999999999999996]],\n",
       "                         'var_smoothing': array([1.00000000e-09, 1.05263159e-01, 2.10526317e-01, 3.15789475e-01,\n",
       "       4.21052632e-01, 5.26315790e-01, 6.31578948e-01, 7.36842106e-01,\n",
       "       8.42105264e-01, 9.47368422e-01, 1.05263158e+00, 1.15789474e+00,\n",
       "       1.26315790e+00, 1.36842105e+00, 1.47368421e+00, 1.57894737e+00,\n",
       "       1.68421053e+00, 1.78947368e+00, 1.89473684e+00, 2.00000000e+00])},\n",
       "             scoring='roc_auc', verbose=1)"
      ]
     },
     "execution_count": 22,
     "metadata": {},
     "output_type": "execute_result"
    }
   ],
   "source": [
    "# Implementamos el modelo de Bayes Ingenuo con las columnas extras de GMM\n",
    "nbGmmModel = GridSearchCV(GaussianNB(), {'var_smoothing': nb_var_smoothing, 'priors': nb_priors}, cv=15, scoring='roc_auc', n_jobs=-1, verbose=1)\n",
    "nbGmmModel.fit(X_GMM_train, y_GMM_train)"
   ]
  },
  {
   "cell_type": "code",
   "execution_count": 23,
   "metadata": {},
   "outputs": [
    {
     "name": "stdout",
     "output_type": "stream",
     "text": [
      "Best parameters:  {'priors': [0.2, 0.8], 'var_smoothing': 1.8947368421578947}\n",
      "              precision    recall  f1-score   support\n",
      "\n",
      "           0       0.98      0.95      0.96      1801\n",
      "           1       0.45      0.68      0.54       117\n",
      "\n",
      "    accuracy                           0.93      1918\n",
      "   macro avg       0.72      0.81      0.75      1918\n",
      "weighted avg       0.95      0.93      0.94      1918\n",
      "\n"
     ]
    }
   ],
   "source": [
    "# Evaluamos el modelo y los mejores hiperparámetros\n",
    "print('Best parameters: ', nbGmmModel.best_params_)\n",
    "print(classification_report(y_GMM_test, nbGmmModel.predict(X_GMM_test)))"
   ]
  },
  {
   "cell_type": "markdown",
   "metadata": {},
   "source": [
    "A groso modo, el agregar las columnas de la mezcla de gaussianas no afecta el desempeño del modelo pues no cambia el *f1-score* ni el *accuracy*, sólo hay un reajuste minúsculo entre los recall y las precisiones de estas clases."
   ]
  },
  {
   "cell_type": "markdown",
   "metadata": {},
   "source": [
    "El mejor modelo fue el con mezcla de gaussianas, por lo que lo instanciamos"
   ]
  },
  {
   "cell_type": "code",
   "execution_count": 14,
   "metadata": {},
   "outputs": [
    {
     "data": {
      "text/plain": [
       "GaussianNB(priors=[0.2, 0.8], var_smoothing=1.9)"
      ]
     },
     "execution_count": 14,
     "metadata": {},
     "output_type": "execute_result"
    }
   ],
   "source": [
    "# Instanciamos el modelo con lo mejores hiperámetros y lo entrenamos\n",
    "bestNB = GaussianNB(var_smoothing=1.9, priors=[0.2, 0.8])\n",
    "bestNB.fit(X_GMM_train, y_GMM_train)"
   ]
  },
  {
   "cell_type": "markdown",
   "metadata": {},
   "source": [
    "3. `Decision Tree con GradientBoost`:\n",
    "   - `learning_rate`: 5 valores entre `.01` y `.05`\n",
    "   - `n_estimators`: 5 valores entre `50` y `500`\n",
    "   - `subsample`: 10 valores entre `.1` y `1`\n",
    "   - `max_depth`: 10 valores entre `1` y `30`"
   ]
  },
  {
   "cell_type": "code",
   "execution_count": 31,
   "metadata": {},
   "outputs": [],
   "source": [
    "# Definimos los hiperparámetros para el modelo de GradientBoost\n",
    "learning_rate = [0.1, 0.3, 0.5]\n",
    "max_depth = np.linspace(1, 100, 5, dtype=int)\n",
    "subsample = [0.3, 0.5, 1]\n",
    "max_features = [None, 'sqrt', 'log2']"
   ]
  },
  {
   "cell_type": "code",
   "execution_count": 32,
   "metadata": {},
   "outputs": [
    {
     "name": "stdout",
     "output_type": "stream",
     "text": [
      "Fitting 5 folds for each of 135 candidates, totalling 675 fits\n"
     ]
    },
    {
     "name": "stderr",
     "output_type": "stream",
     "text": [
      "[Parallel(n_jobs=-1)]: Using backend LokyBackend with 6 concurrent workers.\n",
      "[Parallel(n_jobs=-1)]: Done  38 tasks      | elapsed:    5.2s\n",
      "[Parallel(n_jobs=-1)]: Done 188 tasks      | elapsed:   53.6s\n",
      "[Parallel(n_jobs=-1)]: Done 438 tasks      | elapsed:  2.1min\n",
      "[Parallel(n_jobs=-1)]: Done 675 out of 675 | elapsed:  3.2min finished\n"
     ]
    },
    {
     "data": {
      "text/plain": [
       "GridSearchCV(cv=5,\n",
       "             estimator=GradientBoostingClassifier(n_estimators=400,\n",
       "                                                  n_iter_no_change=50,\n",
       "                                                  random_state=19137,\n",
       "                                                  validation_fraction=0.2),\n",
       "             n_jobs=-1,\n",
       "             param_grid={'learning_rate': [0.1, 0.3, 0.5],\n",
       "                         'max_depth': array([  1,  25,  50,  75, 100]),\n",
       "                         'max_features': [None, 'sqrt', 'log2'],\n",
       "                         'subsample': [0.3, 0.5, 1]},\n",
       "             scoring='roc_auc', verbose=1)"
      ]
     },
     "execution_count": 32,
     "metadata": {},
     "output_type": "execute_result"
    }
   ],
   "source": [
    "# Definimos la busqueda de grilla\n",
    "gbModel = GridSearchCV(GradientBoostingClassifier(random_state=19137, n_estimators=400, n_iter_no_change=50, validation_fraction=0.2), {'learning_rate': learning_rate, 'max_depth': max_depth, 'subsample': subsample, 'max_features': max_features}, cv=5, scoring='roc_auc', n_jobs=-1, verbose=1)\n",
    "gbModel.fit(X_train, y_train)"
   ]
  },
  {
   "cell_type": "code",
   "execution_count": 33,
   "metadata": {},
   "outputs": [
    {
     "name": "stdout",
     "output_type": "stream",
     "text": [
      "Best parameters:  {'learning_rate': 0.1, 'max_depth': 50, 'max_features': None, 'subsample': 0.5}\n",
      "              precision    recall  f1-score   support\n",
      "\n",
      "           0       0.98      0.99      0.98      1801\n",
      "           1       0.73      0.62      0.67       117\n",
      "\n",
      "    accuracy                           0.96      1918\n",
      "   macro avg       0.85      0.80      0.83      1918\n",
      "weighted avg       0.96      0.96      0.96      1918\n",
      "\n"
     ]
    }
   ],
   "source": [
    "# Vemos las métricas del modelo\n",
    "print('Best parameters: ', gbModel.best_params_)\n",
    "print(classification_report(y_test, gbModel.predict(X_test)))"
   ]
  },
  {
   "cell_type": "markdown",
   "metadata": {},
   "source": [
    "Vemos que la mejor combinación es `{'learning_rate': 0.1, 'max_depth': 50, 'max_features': None, 'subsample': 0.5}`"
   ]
  },
  {
   "cell_type": "code",
   "execution_count": 34,
   "metadata": {},
   "outputs": [
    {
     "name": "stdout",
     "output_type": "stream",
     "text": [
      "Fitting 5 folds for each of 135 candidates, totalling 675 fits\n"
     ]
    },
    {
     "name": "stderr",
     "output_type": "stream",
     "text": [
      "[Parallel(n_jobs=-1)]: Using backend LokyBackend with 6 concurrent workers.\n",
      "[Parallel(n_jobs=-1)]: Done  64 tasks      | elapsed:    9.9s\n",
      "[Parallel(n_jobs=-1)]: Done 218 tasks      | elapsed:   54.1s\n",
      "[Parallel(n_jobs=-1)]: Done 468 tasks      | elapsed:  1.9min\n",
      "[Parallel(n_jobs=-1)]: Done 675 out of 675 | elapsed:  3.0min finished\n"
     ]
    },
    {
     "data": {
      "text/plain": [
       "GridSearchCV(cv=5,\n",
       "             estimator=GradientBoostingClassifier(n_estimators=400,\n",
       "                                                  n_iter_no_change=50,\n",
       "                                                  random_state=19137,\n",
       "                                                  validation_fraction=0.2),\n",
       "             n_jobs=-1,\n",
       "             param_grid={'learning_rate': [0.1, 0.3, 0.5],\n",
       "                         'max_depth': array([  1,  25,  50,  75, 100]),\n",
       "                         'max_features': [None, 'sqrt', 'log2'],\n",
       "                         'subsample': [0.3, 0.5, 1]},\n",
       "             scoring='roc_auc', verbose=1)"
      ]
     },
     "execution_count": 34,
     "metadata": {},
     "output_type": "execute_result"
    }
   ],
   "source": [
    "# Definimos la busqueda de grilla para el modelo con las columnas de GMM\n",
    "gbGmmModel = GridSearchCV(GradientBoostingClassifier(random_state=19137, n_estimators=400, n_iter_no_change=50, validation_fraction=0.2), {'learning_rate': learning_rate, 'max_depth': max_depth, 'subsample': subsample, 'max_features': max_features}, cv=5, scoring='roc_auc', n_jobs=-1, verbose=1)\n",
    "gbGmmModel.fit(X_GMM_train, y_GMM_train)"
   ]
  },
  {
   "cell_type": "code",
   "execution_count": 35,
   "metadata": {},
   "outputs": [
    {
     "name": "stdout",
     "output_type": "stream",
     "text": [
      "Best parameters:  {'learning_rate': 0.1, 'max_depth': 25, 'max_features': None, 'subsample': 0.5}\n",
      "              precision    recall  f1-score   support\n",
      "\n",
      "           0       0.97      0.99      0.98      1801\n",
      "           1       0.73      0.60      0.66       117\n",
      "\n",
      "    accuracy                           0.96      1918\n",
      "   macro avg       0.85      0.79      0.82      1918\n",
      "weighted avg       0.96      0.96      0.96      1918\n",
      "\n"
     ]
    }
   ],
   "source": [
    "print('Best parameters: ', gbGmmModel.best_params_)\n",
    "print(classification_report(y_GMM_test, gbGmmModel.predict(X_GMM_test)))"
   ]
  },
  {
   "cell_type": "markdown",
   "metadata": {},
   "source": [
    "La mejor combinación de parámetros es: `{'learning_rate': 0.1, 'max_depth': 25, 'max_features': None, 'subsample': 0.5}`\n",
    "\n",
    "Vemos que al agregar las columnas el modelo empeora bastante."
   ]
  },
  {
   "cell_type": "markdown",
   "metadata": {},
   "source": [
    "El mejor modelo fue el sin mezcla de gaussianas. procedemos a instanciarlo:"
   ]
  },
  {
   "cell_type": "code",
   "execution_count": 15,
   "metadata": {},
   "outputs": [
    {
     "data": {
      "text/plain": [
       "GradientBoostingClassifier(max_depth=50, n_estimators=400, random_state=19137,\n",
       "                           subsample=0.5)"
      ]
     },
     "execution_count": 15,
     "metadata": {},
     "output_type": "execute_result"
    }
   ],
   "source": [
    "# Instanciamos el modelo con lo mejores hiperámetros y lo entrenamos\n",
    "bestGB = GradientBoostingClassifier(learning_rate=0.1, max_depth=50, subsample=0.5, max_features=None, random_state=19137, n_estimators=400)\n",
    "bestGB.fit(X_train, y_train)"
   ]
  },
  {
   "cell_type": "markdown",
   "metadata": {},
   "source": [
    "Guardaremos las métricas de los 3 modelos"
   ]
  },
  {
   "cell_type": "code",
   "execution_count": 21,
   "metadata": {},
   "outputs": [],
   "source": [
    "# Guardaremos las métricas de cada modelo para el análisis final\n",
    "arst_fprs = []\n",
    "arst_tprs = []\n",
    "arst_thresholds = []\n",
    "\n",
    "arst_accuracies = pd.Series([], dtype=float)\n",
    "# Guardamos las métricas para las con GMM\n",
    "for model in [bestRf, bestNB]:\n",
    "    fpr, tpr, threshold = roc_curve(y_GMM_test, model.predict_proba(X_GMM_test)[:, 1])\n",
    "    arst_fprs.append(fpr)\n",
    "    arst_tprs.append(tpr)\n",
    "    arst_thresholds.append(threshold)\n",
    "    arst_accuracies.at[model.__class__.__name__] = accuracy_score(y_GMM_test, model.predict(X_GMM_test))\n",
    "# Guardamos las métricas para el modelo de GradientBoost\n",
    "for model in [bestGB]:\n",
    "    fpr, tpr, threshold = roc_curve(y_test, model.predict_proba(X_test)[:, 1])\n",
    "    arst_fprs.append(fpr)\n",
    "    arst_tprs.append(tpr)\n",
    "    arst_thresholds.append(threshold)\n",
    "    arst_accuracies.at[model.__class__.__name__] = accuracy_score(y_test, model.predict(X_test))"
   ]
  },
  {
   "cell_type": "markdown",
   "metadata": {},
   "source": [
    "### Predicción de Violencia\n",
    "\n",
    "Continuaremos con los modelos para la predicción de violencia, para ello armaremos el vector objetivo. Para ello utilizaremos las siguientes columnas:\n",
    "\n",
    "- `pf_hands`\n",
    "- `pf_wall`\n",
    "- `pf_grnd`\n",
    "- `pf_drwep`\n",
    "- `pf_ptwep`\n",
    "- `pf_baton`\n",
    "- `pf_hcuff`\n",
    "- `pf_pepsp`\n",
    "- `pf_other`\n",
    "\n",
    "Que corresponden a actos violentos cometidos por el oficial."
   ]
  },
  {
   "cell_type": "code",
   "execution_count": 16,
   "metadata": {},
   "outputs": [
    {
     "data": {
      "text/plain": [
       "0    4359\n",
       "1    1453\n",
       "dtype: int64"
      ]
     },
     "execution_count": 16,
     "metadata": {},
     "output_type": "execute_result"
    }
   ],
   "source": [
    "# Creamos la serie para acción violenta\n",
    "violentColumns = ['pf_hands', 'pf_wall', 'pf_grnd', 'pf_drwep', 'pf_ptwep', 'pf_baton', 'pf_hcuff', 'pf_pepsp', 'pf_other']\n",
    "violent_series = pd.Series(dtype=np.int8)\n",
    "\n",
    "# Iteramos sobre las filas de la base de datos\n",
    "for index, row in df.loc[:, violentColumns].iterrows():\n",
    "    # agregamos si la acción es violenta\n",
    "    violent_series.loc[index] = 1 if 'Y' in list(row) else 0\n",
    "# Verificamos el vector objetivo\n",
    "violent_series.value_counts()"
   ]
  },
  {
   "cell_type": "markdown",
   "metadata": {},
   "source": [
    "Luego separaremos la muestra y comenzaremos el entrenamiento de modelos:"
   ]
  },
  {
   "cell_type": "code",
   "execution_count": 22,
   "metadata": {},
   "outputs": [],
   "source": [
    "# Separamos los datos en conjunto de entrenamiento y prueba\n",
    "scaler = StandardScaler()\n",
    "gmmScaler = StandardScaler()\n",
    "newDf = refactoredDf.drop(columns=[f'{x}_Y' for x in violentColumns])\n",
    "gmmMixtureDf = pd.concat([newDf, gmmProbaDf], axis=1)\n",
    "X_train, X_test, y_train, y_test = train_test_split(scaler.fit_transform(newDf), violent_series, test_size=0.33, random_state=19137)\n",
    "X_GMM_train, X_GMM_test, y_GMM_train, y_GMM_test = train_test_split(gmmScaler.fit_transform(gmmMixtureDf), violent_series, test_size=0.33, random_state=19137)"
   ]
  },
  {
   "cell_type": "markdown",
   "metadata": {},
   "source": [
    "1. `GMM`\n",
    "   - `covariance_type`: `['full', 'tied', 'diag', 'spherical']`"
   ]
  },
  {
   "cell_type": "code",
   "execution_count": 104,
   "metadata": {},
   "outputs": [
    {
     "name": "stdout",
     "output_type": "stream",
     "text": [
      "spherical covariance type:\n",
      "Sin GMM\n",
      "AIC: 779484.985420739, BIC: 781180.4920886493\n",
      "Con GMM Proba\n",
      "AIC: 822645.6561153878, BIC: 824441.225471896\n",
      "================\n",
      "tied covariance type:\n",
      "Sin GMM\n",
      "AIC: 5813357877.797593, BIC: 5813423357.709204\n",
      "Con GMM Proba\n",
      "AIC: 17447257039.991573, BIC: 17447330424.855583\n",
      "================\n",
      "diag covariance type:\n",
      "Sin GMM\n",
      "AIC: 5813583180.075063, BIC: 5813586543.293207\n",
      "Con GMM Proba\n",
      "AIC: 17557268110.715313, BIC: 17557271674.058834\n",
      "================\n",
      "full covariance type:\n",
      "Sin GMM\n",
      "AIC: 5920384084.898906, BIC: 5920513360.333536\n",
      "Con GMM Proba\n",
      "AIC: 17574363312.54275, BIC: 17574508297.819492\n",
      "================\n"
     ]
    }
   ],
   "source": [
    "# Definimos los tipos de covarianza\n",
    "cov_types = ['spherical', 'tied', 'diag', 'full']\n",
    "# iteramos y calculamos los modelos reportando la métrica de AIC y BIC\n",
    "for cov_type in cov_types:\n",
    "    gmModel = GaussianMixture(n_components=2, covariance_type=cov_type, random_state=19137)\n",
    "    gmExtraModel = GaussianMixture(n_components=2, covariance_type=cov_type, random_state=19137)\n",
    "    gmModel.fit(X_train)\n",
    "    gmExtraModel.fit(X_GMM_train)\n",
    "    print(f'{cov_type} covariance type:')\n",
    "    print('Sin GMM')\n",
    "    print(f'AIC: {gmModel.aic(X_test)}, BIC: {gmModel.bic(X_test)}')\n",
    "    print('Con GMM Proba')\n",
    "    print(f'AIC: {gmExtraModel.aic(X_GMM_test)}, BIC: {gmExtraModel.bic(X_GMM_test)}')\n",
    "    print(\"=\"*16)\n"
   ]
  },
  {
   "cell_type": "markdown",
   "metadata": {},
   "source": [
    "Nos quedaremos con `spherical` ya que presenta valores bajos para AIC y BIC. Pasaremos a evaluar el modelo"
   ]
  },
  {
   "cell_type": "code",
   "execution_count": 24,
   "metadata": {},
   "outputs": [
    {
     "name": "stdout",
     "output_type": "stream",
     "text": [
      "              precision    recall  f1-score   support\n",
      "\n",
      "           0       0.72      0.26      0.38      1431\n",
      "           1       0.24      0.70      0.36       487\n",
      "\n",
      "    accuracy                           0.37      1918\n",
      "   macro avg       0.48      0.48      0.37      1918\n",
      "weighted avg       0.60      0.37      0.38      1918\n",
      "\n",
      "              precision    recall  f1-score   support\n",
      "\n",
      "           0       0.76      0.74      0.75      1431\n",
      "           1       0.28      0.30      0.29       487\n",
      "\n",
      "    accuracy                           0.63      1918\n",
      "   macro avg       0.52      0.52      0.52      1918\n",
      "weighted avg       0.64      0.63      0.63      1918\n",
      "\n"
     ]
    }
   ],
   "source": [
    "# Evaluamos el mejor modelo\n",
    "gmModel = GaussianMixture(n_components=2, covariance_type='tied', random_state=19137)\n",
    "gmModel.fit(X_train)\n",
    "# Recodificaremos los datos para que evaluar el modelo con dos combinaciones de clases (0 y 1)\n",
    "# Evaluamos el modelo\n",
    "print(classification_report(y_test, gmModel.predict(X_test)))\n",
    "print(classification_report(y_test, np.where(gmModel.predict(X_test) == 0, 1, 0)))\n"
   ]
  },
  {
   "cell_type": "markdown",
   "metadata": {},
   "source": [
    "Vemos que el modelo es bastante malo pues presenta accuracy bastante bajos. Es interesante que al invertir las clases mejoramos bastante las metricas para la clase 1, lo que indica que la clase '0' predicha originalmente por el modelo gaussiano es una relativamente buena generalización para cuando se usará violencia."
   ]
  },
  {
   "cell_type": "markdown",
   "metadata": {},
   "source": [
    "2. `QDA`:\n",
    "   - `priors`: `[[.5, .5], [.33, .66], [.66, .33]]`\n"
   ]
  },
  {
   "cell_type": "code",
   "execution_count": 106,
   "metadata": {},
   "outputs": [
    {
     "name": "stdout",
     "output_type": "stream",
     "text": [
      "Fitting 100 folds for each of 3 candidates, totalling 300 fits\n"
     ]
    },
    {
     "name": "stderr",
     "output_type": "stream",
     "text": [
      "[Parallel(n_jobs=-1)]: Using backend LokyBackend with 6 concurrent workers.\n",
      "[Parallel(n_jobs=-1)]: Done  92 tasks      | elapsed:    1.1s\n",
      "[Parallel(n_jobs=-1)]: Done 300 out of 300 | elapsed:    3.4s finished\n",
      "D:\\Anaconda\\lib\\site-packages\\sklearn\\discriminant_analysis.py:715: UserWarning: Variables are collinear\n",
      "  warnings.warn(\"Variables are collinear\")\n"
     ]
    },
    {
     "name": "stdout",
     "output_type": "stream",
     "text": [
      "Best parameters:  {'priors': None}\n",
      "              precision    recall  f1-score   support\n",
      "\n",
      "           0       0.76      0.19      0.30      1431\n",
      "           1       0.26      0.83      0.39       487\n",
      "\n",
      "    accuracy                           0.35      1918\n",
      "   macro avg       0.51      0.51      0.35      1918\n",
      "weighted avg       0.64      0.35      0.33      1918\n",
      "\n"
     ]
    }
   ],
   "source": [
    "# Definimos los hiperparámetros de búsqueda para QDA\n",
    "priors = [None, [.33, .66], [.66, .33]]\n",
    "# Entrenamos el modelo\n",
    "qdaSearch = GridSearchCV(QuadraticDiscriminantAnalysis(), {'priors': priors}, cv=100, n_jobs=-1, verbose=1)\n",
    "qdaSearch.fit(X_train, y_train)\n",
    "# Evaluamos los mejores hiperparámetros\n",
    "print('Best parameters: ', qdaSearch.best_params_)\n",
    "print(classification_report(y_test, qdaSearch.predict(X_test)))"
   ]
  },
  {
   "cell_type": "code",
   "execution_count": 107,
   "metadata": {},
   "outputs": [
    {
     "name": "stdout",
     "output_type": "stream",
     "text": [
      "Fitting 100 folds for each of 3 candidates, totalling 300 fits\n"
     ]
    },
    {
     "name": "stderr",
     "output_type": "stream",
     "text": [
      "[Parallel(n_jobs=-1)]: Using backend LokyBackend with 6 concurrent workers.\n",
      "[Parallel(n_jobs=-1)]: Done  64 tasks      | elapsed:    1.0s\n",
      "[Parallel(n_jobs=-1)]: Done 300 out of 300 | elapsed:    4.0s finished\n",
      "D:\\Anaconda\\lib\\site-packages\\sklearn\\discriminant_analysis.py:715: UserWarning: Variables are collinear\n",
      "  warnings.warn(\"Variables are collinear\")\n"
     ]
    },
    {
     "name": "stdout",
     "output_type": "stream",
     "text": [
      "Best parameters:  {'priors': None}\n",
      "              precision    recall  f1-score   support\n",
      "\n",
      "           0       0.75      0.22      0.33      1431\n",
      "           1       0.25      0.78      0.38       487\n",
      "\n",
      "    accuracy                           0.36      1918\n",
      "   macro avg       0.50      0.50      0.36      1918\n",
      "weighted avg       0.62      0.36      0.35      1918\n",
      "\n"
     ]
    }
   ],
   "source": [
    "# Entrenamos el modelo con las columnas extras\n",
    "qdaGmmSearch = GridSearchCV(QuadraticDiscriminantAnalysis(), {'priors': priors}, cv=100, n_jobs=-1, verbose=1)\n",
    "qdaGmmSearch.fit(X_GMM_train, y_GMM_train)\n",
    "# Evaluamos los mejores hiperparámetros\n",
    "print('Best parameters: ', qdaGmmSearch.best_params_)\n",
    "print(classification_report(y_GMM_test, qdaGmmSearch.predict(X_GMM_test)))"
   ]
  },
  {
   "cell_type": "markdown",
   "metadata": {},
   "source": [
    "Vemos que el mejor modelo es con GMM. Por lo que lo instanciamos:"
   ]
  },
  {
   "cell_type": "code",
   "execution_count": 23,
   "metadata": {},
   "outputs": [
    {
     "name": "stderr",
     "output_type": "stream",
     "text": [
      "D:\\Anaconda\\lib\\site-packages\\sklearn\\discriminant_analysis.py:715: UserWarning: Variables are collinear\n",
      "  warnings.warn(\"Variables are collinear\")\n"
     ]
    },
    {
     "data": {
      "text/plain": [
       "QuadraticDiscriminantAnalysis()"
      ]
     },
     "execution_count": 23,
     "metadata": {},
     "output_type": "execute_result"
    }
   ],
   "source": [
    "# Instanciamos el modelo con los mejores hiperparámetros\n",
    "qdaModel = QuadraticDiscriminantAnalysis(priors=None)\n",
    "qdaModel.fit(X_GMM_train, y_GMM_train)"
   ]
  },
  {
   "cell_type": "markdown",
   "metadata": {},
   "source": [
    "3. `SVC`\n",
    "   - `class_weight`: `[None, 'balanced', {'0': .33, '1': .66}, {'1': .33, '0': .66}]`\n",
    "   - `kernel`: `['rbf', 'poly', 'linear', 'sigmoid']`\n",
    "   - `C`: `[0.1, 1, 10, 100, 1000]`\n",
    "   - `gamma`: `[0.000001, 0.001, 0.1, 0.5, 1]`\n"
   ]
  },
  {
   "cell_type": "code",
   "execution_count": 111,
   "metadata": {},
   "outputs": [
    {
     "name": "stdout",
     "output_type": "stream",
     "text": [
      "Fitting 5 folds for each of 100 candidates, totalling 500 fits\n"
     ]
    },
    {
     "name": "stderr",
     "output_type": "stream",
     "text": [
      "[Parallel(n_jobs=-1)]: Using backend LokyBackend with 6 concurrent workers.\n",
      "[Parallel(n_jobs=-1)]: Done  38 tasks      | elapsed:   13.1s\n",
      "[Parallel(n_jobs=-1)]: Done 188 tasks      | elapsed:  1.4min\n",
      "[Parallel(n_jobs=-1)]: Done 438 tasks      | elapsed: 180.8min\n",
      "[Parallel(n_jobs=-1)]: Done 500 out of 500 | elapsed: 453.7min finished\n"
     ]
    },
    {
     "data": {
      "text/plain": [
       "GridSearchCV(cv=5, estimator=SVC(), n_jobs=-1,\n",
       "             param_grid={'C': [0.1, 1, 10, 100, 1000],\n",
       "                         'gamma': [1e-06, 0.001, 0.1, 0.5, 1],\n",
       "                         'kernel': ['rbf', 'linear', 'poly', 'sigmoid']},\n",
       "             verbose=1)"
      ]
     },
     "execution_count": 111,
     "metadata": {},
     "output_type": "execute_result"
    }
   ],
   "source": [
    "# Definimos los hiperparámetros de búsqueda para SVC\n",
    "C = [0.1, 1, 10, 100, 1000]\n",
    "gamma = [0.000001, 0.001, 0.1, 0.5, 1]\n",
    "kernel = ['rbf', 'linear', 'poly', 'sigmoid']\n",
    "# Entrenamos el modelo\n",
    "svcSearch = GridSearchCV(SVC(), {'C': C, 'gamma': gamma, 'kernel': kernel}, cv=5, n_jobs=-1, verbose=1)\n",
    "svcSearch.fit(X_train, y_train)"
   ]
  },
  {
   "cell_type": "code",
   "execution_count": 112,
   "metadata": {},
   "outputs": [
    {
     "name": "stdout",
     "output_type": "stream",
     "text": [
      "Best parameters:  {'C': 1000, 'gamma': 0.001, 'kernel': 'poly'}\n",
      "              precision    recall  f1-score   support\n",
      "\n",
      "           0       0.78      0.95      0.86      1431\n",
      "           1       0.58      0.22      0.31       487\n",
      "\n",
      "    accuracy                           0.76      1918\n",
      "   macro avg       0.68      0.58      0.58      1918\n",
      "weighted avg       0.73      0.76      0.72      1918\n",
      "\n"
     ]
    }
   ],
   "source": [
    "# Evaluamos los mejores hiperparámetros\n",
    "print('Best parameters: ', svcSearch.best_params_)\n",
    "print(classification_report(y_test, svcSearch.predict(X_test)))"
   ]
  },
  {
   "cell_type": "markdown",
   "metadata": {},
   "source": [
    "Vemos que el mejor modelo es con `{'C': 1000, 'gamma': 0.001, 'kernel': 'poly'}`. Por lo que lo instanciamos:"
   ]
  },
  {
   "cell_type": "code",
   "execution_count": 29,
   "metadata": {},
   "outputs": [
    {
     "data": {
      "text/plain": [
       "SVC(C=1000, gamma=0.001, kernel='poly', probability=True)"
      ]
     },
     "execution_count": 29,
     "metadata": {},
     "output_type": "execute_result"
    }
   ],
   "source": [
    "# Instanciamos el modelo con los mejores hiperparámetros\n",
    "svcModel = SVC(C=1000, gamma=0.001, kernel='poly', probability=True)\n",
    "svcModel.fit(X_train, y_train)"
   ]
  },
  {
   "cell_type": "markdown",
   "metadata": {},
   "source": [
    "4. `Random Forest`:\n",
    "   - `max_depth`: `np.linspace(2, len(newDf.columns), 10, dtype=int)`\n",
    "   - `n_estimators`: `[100, 500, 1500]`\n",
    "   - `max_features`: `['auto', 'sqrt', 'log2']`\n",
    "   - `oob_score`: `[True]`\n",
    "\n",
    "Como usamos `oob_score: True` sólo haremos 3 CV por cada búsqueda de grilla."
   ]
  },
  {
   "cell_type": "code",
   "execution_count": 16,
   "metadata": {},
   "outputs": [
    {
     "name": "stdout",
     "output_type": "stream",
     "text": [
      "Fitting 3 folds for each of 90 candidates, totalling 270 fits\n"
     ]
    },
    {
     "name": "stderr",
     "output_type": "stream",
     "text": [
      "[Parallel(n_jobs=-1)]: Using backend LokyBackend with 6 concurrent workers.\n",
      "[Parallel(n_jobs=-1)]: Done  38 tasks      | elapsed:    6.7s\n",
      "[Parallel(n_jobs=-1)]: Done 188 tasks      | elapsed:   42.8s\n",
      "[Parallel(n_jobs=-1)]: Done 270 out of 270 | elapsed:  1.1min finished\n"
     ]
    },
    {
     "name": "stdout",
     "output_type": "stream",
     "text": [
      "Best parameters:  {'max_depth': 51, 'max_features': 'log2', 'n_estimators': 200}\n",
      "              precision    recall  f1-score   support\n",
      "\n",
      "           0       0.77      0.97      0.86      1431\n",
      "           1       0.61      0.14      0.23       487\n",
      "\n",
      "    accuracy                           0.76      1918\n",
      "   macro avg       0.69      0.55      0.54      1918\n",
      "weighted avg       0.73      0.76      0.70      1918\n",
      "\n"
     ]
    }
   ],
   "source": [
    "# Definimos los hiperparámetros de búsqueda para Random Forest\n",
    "max_depth = np.linspace(2, len(newDf.columns), 10, dtype=int)\n",
    "n_estimators = [50, 100, 200]\n",
    "max_features = [None, 'sqrt', 'log2']\n",
    "# Entrenamos el modelo\n",
    "rfSearch = GridSearchCV(RandomForestClassifier(random_state=19137, oob_score=True), {'max_depth': max_depth, 'n_estimators': n_estimators, 'max_features': max_features}, cv=3, n_jobs=-1, verbose=1)\n",
    "rfSearch.fit(X_train, y_train)\n",
    "# Evaluamos los mejores hiperparámetros\n",
    "print('Best parameters: ', rfSearch.best_params_)\n",
    "print(classification_report(y_test, rfSearch.predict(X_test)))"
   ]
  },
  {
   "cell_type": "code",
   "execution_count": 18,
   "metadata": {},
   "outputs": [
    {
     "name": "stdout",
     "output_type": "stream",
     "text": [
      "Fitting 3 folds for each of 90 candidates, totalling 270 fits\n"
     ]
    },
    {
     "name": "stderr",
     "output_type": "stream",
     "text": [
      "[Parallel(n_jobs=-1)]: Using backend LokyBackend with 6 concurrent workers.\n",
      "[Parallel(n_jobs=-1)]: Done  38 tasks      | elapsed:    8.1s\n",
      "[Parallel(n_jobs=-1)]: Done 188 tasks      | elapsed:   44.7s\n",
      "[Parallel(n_jobs=-1)]: Done 270 out of 270 | elapsed:  1.1min finished\n"
     ]
    },
    {
     "name": "stdout",
     "output_type": "stream",
     "text": [
      "Best parameters:  {'max_depth': 18, 'max_features': 'sqrt', 'n_estimators': 200}\n",
      "              precision    recall  f1-score   support\n",
      "\n",
      "           0       0.77      0.96      0.86      1431\n",
      "           1       0.60      0.17      0.27       487\n",
      "\n",
      "    accuracy                           0.76      1918\n",
      "   macro avg       0.69      0.57      0.56      1918\n",
      "weighted avg       0.73      0.76      0.71      1918\n",
      "\n"
     ]
    }
   ],
   "source": [
    "# Entrenamos el modelo\n",
    "rfSearch = GridSearchCV(RandomForestClassifier(random_state=19137, oob_score=True), {'max_depth': max_depth, 'n_estimators': n_estimators, 'max_features': max_features}, cv=3, n_jobs=-1, verbose=1)\n",
    "rfSearch.fit(X_GMM_train, y_GMM_train)\n",
    "# Evaluamos los mejores hiperparámetros\n",
    "print('Best parameters: ', rfSearch.best_params_)\n",
    "print(classification_report(y_GMM_test, rfSearch.predict(X_GMM_test)))"
   ]
  },
  {
   "cell_type": "code",
   "execution_count": 49,
   "metadata": {},
   "outputs": [
    {
     "data": {
      "image/png": "[encoded data removed]",
      "text/plain": [
       "<Figure size 720x1080 with 1 Axes>"
      ]
     },
     "metadata": {
      "needs_background": "light"
     },
     "output_type": "display_data"
    }
   ],
   "source": [
    "# Traemos el método de la lectura y le hacemos mejoras\n",
    "def plot_importance(fit_model, feat_names, number = 50, size=(20, 15), plot=True):\n",
    "    \"\"\"TODO: Docstring for plot_importance.\n",
    "\n",
    "    :fit_model: TODO\n",
    "    :: TODO\n",
    "    :returns: TODO\n",
    "\n",
    "    \"\"\"\n",
    "    tmp_importance = fit_model.feature_importances_\n",
    "    sort_importance = np.argsort(tmp_importance)[::-1]\n",
    "    names = [feat_names[i] for i in sort_importance]\n",
    "    if plot:\n",
    "        plt.figure(figsize=size)\n",
    "        plt.title(\"Feature importance\")\n",
    "        plt.barh(range(number), tmp_importance[sort_importance[:number]])\n",
    "        plt.yticks(range(number), names[:number], rotation=0)\n",
    "    return names[:number]\n",
    "plot_importance(rfSearch.best_estimator_, gmmMixtureDf.columns, number=15, plot=True, size=(10, 15));"
   ]
  },
  {
   "cell_type": "markdown",
   "metadata": {},
   "source": [
    "Vemos que el mejor modelo es el con GMM, por lo que lo instanciamos"
   ]
  },
  {
   "cell_type": "code",
   "execution_count": 25,
   "metadata": {},
   "outputs": [
    {
     "data": {
      "text/plain": [
       "RandomForestClassifier(max_depth=18, max_features='sqrt', n_estimators=200,\n",
       "                       oob_score=True, random_state=19137)"
      ]
     },
     "execution_count": 25,
     "metadata": {},
     "output_type": "execute_result"
    }
   ],
   "source": [
    "# Instanciamos el modelo con los mejores hiperparámetros\n",
    "rfModel = RandomForestClassifier(max_depth=18, n_estimators=200, max_features='sqrt', random_state=19137, oob_score=True)\n",
    "rfModel.fit(X_GMM_train, y_GMM_train)"
   ]
  },
  {
   "cell_type": "markdown",
   "metadata": {},
   "source": [
    "5. `Decision Tree con GradientBoost`:\n",
    "   - `learning_rate`: `[0.01, 0.1, 0.5, 1]`\n",
    "   - `max_features`: `[None, 'sqrt', 'log2']`\n",
    "   - `subsample`: `[0.1, 0.5, 0.7, 1]`\n",
    "   - `max_depth`: `[None, 25, 50, 100]`"
   ]
  },
  {
   "cell_type": "code",
   "execution_count": 37,
   "metadata": {},
   "outputs": [
    {
     "name": "stdout",
     "output_type": "stream",
     "text": [
      "Fitting 2 folds for each of 192 candidates, totalling 384 fits\n"
     ]
    },
    {
     "name": "stderr",
     "output_type": "stream",
     "text": [
      "[Parallel(n_jobs=5)]: Using backend LokyBackend with 5 concurrent workers.\n",
      "[Parallel(n_jobs=5)]: Done  40 tasks      | elapsed:   46.4s\n",
      "[Parallel(n_jobs=5)]: Done 190 tasks      | elapsed:  2.7min\n",
      "[Parallel(n_jobs=5)]: Done 384 out of 384 | elapsed:  4.4min finished\n"
     ]
    },
    {
     "name": "stdout",
     "output_type": "stream",
     "text": [
      "Best parameters:  {'learning_rate': 0.1, 'max_depth': None, 'max_features': 'log2', 'subsample': 1}\n",
      "              precision    recall  f1-score   support\n",
      "\n",
      "           0       0.77      0.97      0.86      1431\n",
      "           1       0.61      0.14      0.23       487\n",
      "\n",
      "    accuracy                           0.76      1918\n",
      "   macro avg       0.69      0.55      0.54      1918\n",
      "weighted avg       0.73      0.76      0.70      1918\n",
      "\n"
     ]
    }
   ],
   "source": [
    "# Definimos los hiperparámetros de búsqueda para GradienBoost\n",
    "learning_rate = [0.01, 0.1, 0.5, 1]\n",
    "subsample = [0.1, 0.5, 0.7, 1]\n",
    "max_features = [None, 'sqrt', 'log2']\n",
    "max_depth = [None, 25, 50, 100]\n",
    "# Entrenamos el modelo\n",
    "gdModel = GridSearchCV(GradientBoostingClassifier(random_state=19137, n_iter_no_change=100, n_estimators=500, validation_fraction=0.2), {'learning_rate': learning_rate, 'max_depth': max_depth, 'subsample': subsample, 'max_features': max_features}, scoring='roc_auc', cv=2, n_jobs=5, verbose=1)\n",
    "gdModel.fit(X_train, y_train)\n"
   ]
  },
  {
   "cell_type": "code",
   "execution_count": 52,
   "metadata": {},
   "outputs": [
    {
     "name": "stdout",
     "output_type": "stream",
     "text": [
      "Best parameters:  {'learning_rate': 0.1, 'max_depth': None, 'max_features': 'log2', 'subsample': 1}\n",
      "              precision    recall  f1-score   support\n",
      "\n",
      "           0       0.77      0.97      0.86      1431\n",
      "           1       0.61      0.14      0.23       487\n",
      "\n",
      "    accuracy                           0.76      1918\n",
      "   macro avg       0.69      0.55      0.54      1918\n",
      "weighted avg       0.73      0.76      0.70      1918\n",
      "\n"
     ]
    }
   ],
   "source": [
    "# Evaluamos los mejores hiperparámetros\n",
    "print('Best parameters: ', gdModel.best_params_)\n",
    "print(classification_report(y_test, gdModel.predict(X_test)))"
   ]
  },
  {
   "cell_type": "code",
   "execution_count": 51,
   "metadata": {},
   "outputs": [
    {
     "data": {
      "image/png": "[encoded data removed]",
      "text/plain": [
       "<Figure size 720x1080 with 1 Axes>"
      ]
     },
     "metadata": {
      "needs_background": "light"
     },
     "output_type": "display_data"
    }
   ],
   "source": [
    "plot_importance(gdModel.best_estimator_, newDf.columns, number=15, plot=True, size=(10, 15));"
   ]
  },
  {
   "cell_type": "markdown",
   "metadata": {},
   "source": [
    "Instanciamos el modelo con lo mejores hiperparámetros:"
   ]
  },
  {
   "cell_type": "code",
   "execution_count": 27,
   "metadata": {},
   "outputs": [
    {
     "data": {
      "text/plain": [
       "GradientBoostingClassifier(max_depth=None, max_features='log2',\n",
       "                           n_estimators=500, random_state=19137, subsample=1)"
      ]
     },
     "execution_count": 27,
     "metadata": {},
     "output_type": "execute_result"
    }
   ],
   "source": [
    "# Instanciamos el modelo con los mejores hiperparámetros\n",
    "bestGd = GradientBoostingClassifier(learning_rate=0.1, max_depth=None, max_features='log2', subsample=1, random_state=19137, n_estimators=500)\n",
    "bestGd.fit(X_train, y_train)"
   ]
  },
  {
   "cell_type": "markdown",
   "metadata": {},
   "source": [
    "## __Hito 3__"
   ]
  },
  {
   "cell_type": "markdown",
   "metadata": {},
   "source": [
    "Ya que ninguna de nuestras propuestas obtuvo un modelo suficientemente bueno, crearemos una red neuronal con lo último aprendido en el curso. Se hará una búqueda manual cambiando principalmente:\n",
    "- N° Neuronas: entre 10 y el número de entradas\n",
    "- N° Capas: entre 1 y 3 capas ocultas\n",
    "- Regularizaciones de kernel por capa y dropouts\n",
    "- Capa de salida `sigmoidal` o `softmax` con mas de una neurona\n",
    "- Métricas como `Precision` o `Acuraccy` en la capa de output\n"
   ]
  },
  {
   "cell_type": "code",
   "execution_count": 31,
   "metadata": {},
   "outputs": [],
   "source": [
    "# Intentaremos una red neuronal con una capa oculta de 10 neuronas\n",
    "from keras.models import Sequential\n",
    "from keras.layers import Dense\n",
    "from tensorflow.keras.optimizers import Adam\n",
    "from keras.callbacks import History\n",
    "from keras.regularizers import l2\n",
    "from keras.layers import Dropout\n",
    "from keras.metrics import Precision\n",
    "def plot_cross_entropy(history, ax=None):\n",
    "    \"\"\"TODO: Docstring for plot_cross_entropy.\n",
    "\n",
    "    :history: TODO\n",
    "    :returns: TODO\n",
    "\n",
    "    \"\"\"\n",
    "    ax = ax or plt.gca()\n",
    "    extract_val_loss = history.history['val_loss']\n",
    "    extract_loss = history.history['loss']\n",
    "    ax.plot(range(1, len(extract_val_loss) + 1), extract_val_loss, label = 'CV Error', color='tomato', lw=2)\n",
    "    ax.plot(range(1, len(extract_loss) + 1), extract_loss, label = 'Training Error', color='dodgerblue', lw=2)\n",
    "    plt.legend()\n",
    "    return ax"
   ]
  },
  {
   "cell_type": "markdown",
   "metadata": {},
   "source": [
    "Tras nuestro análisis notamos principalmente que:\n",
    "- El mejor optimizador siempre fue `Adam` con un learning rate `<~ 0.001`\n",
    "- El gráfico de CV vs Train se mostraba creciente e inestable para el error de CV en `epochs > 50`, por lo que se tuvo que regularizar fuertemente.\n",
    "- El output mostró mejores métricas usando un 2 neuronas con `softmax` que usando una y `sigmoid`.\n",
    "- La mejor manera de llegar al benchmark fue usando `Precision` como métrica de ajuste."
   ]
  },
  {
   "cell_type": "code",
   "execution_count": 35,
   "metadata": {},
   "outputs": [
    {
     "data": {
      "text/plain": [
       "<keras.callbacks.History at 0x2a757674b80>"
      ]
     },
     "execution_count": 35,
     "metadata": {},
     "output_type": "execute_result"
    }
   ],
   "source": [
    "hist_1 = History()\n",
    "# compilamos el modelo\n",
    "neuralNetModel = Sequential()\n",
    "neuralNetModel.add(Dense(100, input_dim=len(gmmMixtureDf.columns), activation='relu', name='input_layer'))\n",
    "neuralNetModel.add(Dropout(0.6, name='primer_dropout'))\n",
    "neuralNetModel.add(Dense(50, activation='relu', name='hidden_layer', kernel_regularizer=l2(0.03)))\n",
    "neuralNetModel.add(Dropout(0.5, name='segundo_dropout'))\n",
    "neuralNetModel.add(Dense(2, activation='softmax', name='output_layer'))\n",
    "neuralNetModel.compile(loss='binary_crossentropy', optimizer=Adam(learning_rate=0.0001), metrics=[Precision()])\n",
    "# conseguimos el vector objetivo para softmax\n",
    "y_GMM_softmax_train = np.array(list(zip(y_GMM_train,np.where(y_GMM_train == 0, 1,0))))\n",
    "# Entrenamos el modelo\n",
    "neuralNetModel.fit(X_GMM_train, y_GMM_softmax_train, epochs=500, batch_size=58, verbose=0, validation_split=0.2, callbacks=[hist_1])\n"
   ]
  },
  {
   "cell_type": "code",
   "execution_count": 232,
   "metadata": {},
   "outputs": [
    {
     "name": "stdout",
     "output_type": "stream",
     "text": [
      "              precision    recall  f1-score   support\n",
      "\n",
      "           0       0.81      0.87      0.84      1431\n",
      "           1       0.50      0.38      0.44       487\n",
      "\n",
      "    accuracy                           0.75      1918\n",
      "   macro avg       0.66      0.63      0.64      1918\n",
      "weighted avg       0.73      0.75      0.74      1918\n",
      "\n"
     ]
    },
    {
     "data": {
      "image/png": "[encoded data removed]",
      "text/plain": [
       "<Figure size 864x432 with 1 Axes>"
      ]
     },
     "metadata": {
      "needs_background": "light"
     },
     "output_type": "display_data"
    }
   ],
   "source": [
    "plot_cross_entropy(hist_1)\n",
    "print(classification_report(y_GMM_test, np.where(neuralNetModel.predict(X_GMM_test)[:,0] > 0.5, 1, 0)))"
   ]
  },
  {
   "cell_type": "code",
   "execution_count": 36,
   "metadata": {},
   "outputs": [],
   "source": [
    "# Guardaremos las métricas de cada modelo para el análisis final\n",
    "violence_fprs = []\n",
    "violence_tprs = []\n",
    "violence_thresholds = []\n",
    "\n",
    "violence_accuracies = pd.Series([], dtype=float)\n",
    "# Guardamos las métricas para las con GMM\n",
    "for model in [rfModel, qdaModel]:\n",
    "    fpr, tpr, threshold = roc_curve(y_GMM_test, model.predict_proba(X_GMM_test)[:, 1])\n",
    "    violence_fprs.append(fpr)\n",
    "    violence_tprs.append(tpr)\n",
    "    violence_thresholds.append(threshold)\n",
    "    violence_accuracies.at[model.__class__.__name__] = accuracy_score(y_GMM_test, model.predict(X_GMM_test))\n",
    "# Guardamos las métricas para los modelos sin GMM\n",
    "for model in [bestGd, svcModel]:\n",
    "    fpr, tpr, threshold = roc_curve(y_test, model.predict_proba(X_test)[:, 1])\n",
    "    violence_fprs.append(fpr)\n",
    "    violence_tprs.append(tpr)\n",
    "    violence_thresholds.append(threshold)\n",
    "    violence_accuracies.at[model.__class__.__name__] = accuracy_score(y_test, model.predict(X_test))\n",
    "\n",
    "# Agregamos los datos de la red neuronal\n",
    "fpr, tpr, threshold = roc_curve(y_GMM_test, neuralNetModel.predict(X_GMM_test)[:,0])\n",
    "violence_fprs.append(fpr)\n",
    "violence_tprs.append(tpr)\n",
    "violence_thresholds.append(threshold)\n",
    "violence_accuracies.at['Neural Net'] = accuracy_score(y_GMM_test, np.where(neuralNetModel.predict(X_GMM_test)[:,0] > 0.5, 1, 0))\n",
    "# Agregamos los datos de la GMM\n",
    "fpr, tpr, threshold = roc_curve(y_test, (1 - gmModel.predict_proba(X_test)[:, 1]))\n",
    "violence_fprs.append(fpr)\n",
    "violence_tprs.append(tpr)\n",
    "violence_thresholds.append(threshold)\n",
    "violence_accuracies.at['GMM'] = accuracy_score(y_test, np.where(gmModel.predict(X_test) == 0, 1, 0))"
   ]
  },
  {
   "cell_type": "markdown",
   "metadata": {},
   "source": [
    "Pasaremos entonces a comparar nuestros resultados:"
   ]
  },
  {
   "cell_type": "markdown",
   "metadata": {},
   "source": [
    "### Análisis comparativo"
   ]
  },
  {
   "cell_type": "markdown",
   "metadata": {},
   "source": [
    "#### __Predicción de arresto__"
   ]
  },
  {
   "cell_type": "code",
   "execution_count": 38,
   "metadata": {},
   "outputs": [
    {
     "data": {
      "text/plain": [
       "Text(0.5, 1.0, 'Accuracy')"
      ]
     },
     "execution_count": 38,
     "metadata": {},
     "output_type": "execute_result"
    },
    {
     "data": {
      "image/png": "[encoded data removed]",
      "text/plain": [
       "<Figure size 720x360 with 1 Axes>"
      ]
     },
     "metadata": {
      "needs_background": "light"
     },
     "output_type": "display_data"
    }
   ],
   "source": [
    "# Graficamos las accuracys\n",
    "plt.figure(figsize=(10, 5))\n",
    "sns.barplot(y=arst_accuracies.index, x=arst_accuracies)\n",
    "plt.title('Accuracy')"
   ]
  },
  {
   "cell_type": "code",
   "execution_count": 39,
   "metadata": {},
   "outputs": [
    {
     "data": {
      "text/plain": [
       "<matplotlib.legend.Legend at 0x2a77e8b2970>"
      ]
     },
     "execution_count": 39,
     "metadata": {},
     "output_type": "execute_result"
    },
    {
     "data": {
      "image/png": "[encoded data removed]",
      "text/plain": [
       "<Figure size 720x720 with 1 Axes>"
      ]
     },
     "metadata": {
      "needs_background": "light"
     },
     "output_type": "display_data"
    }
   ],
   "source": [
    "# Graficamos las curvas ROC\n",
    "plt.figure(figsize=(10, 10))\n",
    "for i in range(len(arst_fprs)):\n",
    "    plt.plot(arst_fprs[i], arst_tprs[i], label=f'Modelo {i+1}')\n",
    "plt.plot([0, 1], [0, 1], 'k--')\n",
    "plt.xlim([0.0, 1.0])\n",
    "plt.title('Curvas ROC')\n",
    "plt.legend(arst_accuracies.index, loc='upper left')\n"
   ]
  },
  {
   "cell_type": "markdown",
   "metadata": {},
   "source": [
    "Según vemos, el mejor modelo sería el `Random Forest Classifier` ya que tiene la mejor curva ROC y un alto accuracy comparado al resto.\n",
    "\n",
    "Aunque si filtraramos por la predicción correcta de la clase 1, el mejor sería el modelo `Gradient Boosted Classifier` ya que presente mejor precision y recall para dicha clase."
   ]
  },
  {
   "cell_type": "markdown",
   "metadata": {},
   "source": [
    "#### __Predicción de Violencia policial__"
   ]
  },
  {
   "cell_type": "code",
   "execution_count": 40,
   "metadata": {},
   "outputs": [
    {
     "data": {
      "text/plain": [
       "Text(0.5, 1.0, 'Accuracy')"
      ]
     },
     "execution_count": 40,
     "metadata": {},
     "output_type": "execute_result"
    },
    {
     "data": {
      "image/png": "[encoded data removed]",
      "text/plain": [
       "<Figure size 720x360 with 1 Axes>"
      ]
     },
     "metadata": {
      "needs_background": "light"
     },
     "output_type": "display_data"
    }
   ],
   "source": [
    "# Graficamos las accuracys\n",
    "plt.figure(figsize=(10, 5))\n",
    "sns.barplot(y=violence_accuracies.index, x=violence_accuracies)\n",
    "plt.title('Accuracy')"
   ]
  },
  {
   "cell_type": "code",
   "execution_count": 41,
   "metadata": {},
   "outputs": [
    {
     "data": {
      "text/plain": [
       "<matplotlib.legend.Legend at 0x2a77e7b68b0>"
      ]
     },
     "execution_count": 41,
     "metadata": {},
     "output_type": "execute_result"
    },
    {
     "data": {
      "image/png": "[encoded data removed]",
      "text/plain": [
       "<Figure size 720x720 with 1 Axes>"
      ]
     },
     "metadata": {
      "needs_background": "light"
     },
     "output_type": "display_data"
    }
   ],
   "source": [
    "# Graficamos las curvas ROC\n",
    "plt.figure(figsize=(10, 10))\n",
    "for i in range(len(violence_fprs)):\n",
    "    plt.plot(violence_fprs[i], violence_tprs[i], label=f'Modelo {i+1}')\n",
    "plt.plot([0, 1], [0, 1], 'k--')\n",
    "plt.xlim([0.0, 1.0])\n",
    "plt.title('Curvas ROC')\n",
    "plt.legend(violence_accuracies.index, loc='upper left')"
   ]
  },
  {
   "cell_type": "markdown",
   "metadata": {},
   "source": [
    "Según vemos, el mejor modelo sería el `Gradient Boosting Classifier` ya que tiene la mejor curva ROC y un alto accuracy comparado al resto.\n",
    "\n",
    "Aunque si filtraramos por la predicción correcta de la clase 1, el mejor sería el modelo `Neural Net` ya que presente mejor precision y recall para dicha clase."
   ]
  },
  {
   "cell_type": "markdown",
   "metadata": {},
   "source": [
    "### Serialización\n",
    "\n",
    "Guardamos el mejor modelo para cada caso:"
   ]
  },
  {
   "cell_type": "code",
   "execution_count": 61,
   "metadata": {},
   "outputs": [],
   "source": [
    "# Creamos nuestra clase customizada para nuestro modelo\n",
    "class CustomModel:\n",
    "    def __init__(self, model, modelScaler, hasMixture, gaussianMixture, gaussianScaler, target):\n",
    "        self.model = model\n",
    "        self.gaussianMixture = gaussianMixture\n",
    "        self.hasMixture = hasMixture\n",
    "        self.gaussianScaler = gaussianScaler\n",
    "        self.target = target\n",
    "        self.modelScaler = modelScaler\n",
    "    def predict(self, X):\n",
    "        refactoredDf = self.transform(X)\n",
    "        return self.model.predict(refactoredDf)\n",
    "\n",
    "    def predict_proba(self, X):\n",
    "        refactoredDf = self.transform(X)\n",
    "        return self.model.predict_proba(refactoredDf)\n",
    "    def preprocess(self, tweetSeries):\n",
    "        copy = pd.DataFrame([])\n",
    "        # Agregamos las columnas\n",
    "        copy['n_words'] = tweetSeries.apply(lambda x: len(x.split()))\n",
    "        copy['n_chars'] = tweetSeries.apply(lambda x: len(x))\n",
    "        # Conseguir la cantidad de menciones y hashtags\n",
    "        copy['n_mentions'] = tweetSeries.apply(lambda x: len(re.findall(r'@\\w+', x)))\n",
    "        copy['n_hashtags'] = tweetSeries.apply(lambda x: len(re.findall(r'#\\w+', x)))\n",
    "        # Reemplazar las menciones y hashtags por una palabra\n",
    "        copy['content'] = tweetSeries.apply(lambda x: re.sub(r'@\\w+', '@@@', x))\n",
    "        copy['content'] = copy['content'].apply(lambda x: re.sub(r'#\\w+', '###', x))\n",
    "        return copy\n",
    "# Funcion que refactoriza el dataframe de la base de datos\n",
    "    def transform(self, df):\n",
    "        # Quitamos los atributos que no nos interesan\n",
    "        if 'Unnamed: 0' in df.columns:\n",
    "            refactoredDf = df.drop(columns=['Unnamed: 0'])\n",
    "        refactoredDf = df.drop(columns=rfParams2.removeLabels)\n",
    "\n",
    "        # Se inicializan las series para los atributos a agregar\n",
    "        imcSerie = pd.Series(dtype='float64')\n",
    "        dateSerie = pd.Series(dtype='object')\n",
    "        monthSerie = pd.Series(dtype='object')\n",
    "        daytimeSerie = pd.Series(dtype='object')\n",
    "        # Se itera sobre las filas del df original\n",
    "        for i, row in df.iterrows():\n",
    "            # Se agrega el imc en kg/m2 (considerando weight en lb y height en ft)\n",
    "            imcSerie.at[i] = (row['weight']*.453)/((row['ht_feet']*12*.0254) + (row['ht_inch']*.0254))**2\n",
    "            # Se parsea la fecha y hora del parametro en un string ISO\n",
    "            strdate = str(row['datestop'])\n",
    "            strTime = str(row['timestop'])\n",
    "            year = strdate[-4:]\n",
    "            date = strdate[-6:-4]\n",
    "            month = strdate[0:-6]\n",
    "            hour= strTime[-4:-2]\n",
    "            minute = strTime[-2:]\n",
    "            if hour == '' or int(hour) >= 24:\n",
    "                hour = '00'\n",
    "            if len(hour) == 1:\n",
    "                hour = '0' + hour\n",
    "            if len(minute) == 1:\n",
    "                minute = '0' + minute\n",
    "            if len(month) == 1:\n",
    "                month = '0' + month\n",
    "            # Se consigue la instancia de fecha considerando la hora en NYC\n",
    "            isoString = f'{year}-{month}-{date}T{hour}:{minute}:00-04:00'\n",
    "            dateStop = datetime.datetime.fromisoformat(isoString)\n",
    "            # Se agrega la info a la serie con información de dia y mes\n",
    "            dateSerie.at[i] = dateStop.strftime('%a')\n",
    "            monthSerie.at[i] = dateStop.strftime('%b')\n",
    "            # Se agrega el valor del daytime\n",
    "            if int(hour) >= 6 and int(hour) <= 11:\n",
    "                daytimeSerie.at[i] = 'morning'\n",
    "            elif int(hour) >= 12 and int(hour) <= 17:\n",
    "                daytimeSerie.at[i] = 'afternoon'\n",
    "            elif int(hour) >= 18 and int(hour) <= 23:\n",
    "                daytimeSerie.at[i] = 'night'\n",
    "            else:\n",
    "                daytimeSerie.at[i] = 'early_morning'\n",
    "        # Se agrega la serie al dataframe\n",
    "        refactoredDf = pd.concat([\n",
    "            refactoredDf,\n",
    "            pd.get_dummies(dateSerie, prefix='day'),\n",
    "            pd.get_dummies(monthSerie, prefix='month'),\n",
    "            pd.get_dummies(daytimeSerie, prefix='daytime')\n",
    "        ], axis=1)\n",
    "        refactoredDf['imc'] = imcSerie\n",
    "\n",
    "        # Se hace one-hot encoding de los atributos categoricos multiclase\n",
    "        for col in rfParams2.multiClassLabels:\n",
    "            refactoredDf = pd.concat([refactoredDf, pd.get_dummies(refactoredDf[col], prefix=col)], axis=1)\n",
    "            refactoredDf = refactoredDf.drop(columns=col)\n",
    "        # Se hace one-hot encoding de los atributos categoricos binarios\n",
    "        for col in rfParams2.binaryLabels:\n",
    "            refactoredDf = pd.concat([refactoredDf, pd.get_dummies(refactoredDf[col], prefix=col, drop_first=True)], axis=1)\n",
    "            refactoredDf = refactoredDf.drop(columns=col)\n",
    "        # Nos aseguramos de convertir las variables numéricas a float\n",
    "        for col in rfParams2.numericLabels:\n",
    "            refactoredDf[col] = refactoredDf[col].astype('float64')\n",
    "        # Se quita el vector objetivo\n",
    "        if self.target == 'arst':\n",
    "            refactoredDf = refactoredDf.drop(columns=['arstmade_Y'])\n",
    "        else:\n",
    "            violentColumns = ['pf_hands', 'pf_wall', 'pf_grnd', 'pf_drwep', 'pf_ptwep', 'pf_baton', 'pf_hcuff', 'pf_pepsp', 'pf_other']\n",
    "            refactoredDf = refactoredDf.drop(columns=[f'{x}_Y' for x in violentColumns])\n",
    "        # Se agrega la GMM si lo necesita\n",
    "        if self.hasMixture:\n",
    "            X = pd.concat([\n",
    "                df.loc[:, ['repcmd', 'revcmd']],\n",
    "                pd.get_dummies(df.loc[:, ['pct', 'addrpct', 'detailcm']]),\n",
    "                pd.get_dummies(df['sumoffen']),\n",
    "                pd.get_dummies(df['crimsusp']),\n",
    "            ], axis=1)\n",
    "            # Guardamos el dataframe con las probabilidades de cada cluster\n",
    "            gmmProbaDf = pd.DataFrame(self.gaussianMixture.predict_proba(self.gaussianScaler.transform(X)), columns=['GMM_' + str(x) for x in range(9)])\n",
    "            return pd.concat([refactoredDf, gmmProbaDf], axis=1)\n",
    "        return self.modelScaler.transform(refactoredDf)\n",
    "\n",
    "serialized_arst_model = CustomModel(bestRf, baseScaler, True, bestGMM, gaussianScaler, 'arst')\n",
    "serialized_violence_model = CustomModel(neuralNetModel, gmmScaler, True, bestGMM, gaussianScaler, 'violence')\n",
    "\n"
   ]
  },
  {
   "cell_type": "code",
   "execution_count": 63,
   "metadata": {},
   "outputs": [
    {
     "data": {
      "text/plain": [
       "['arst_model.joblib']"
      ]
     },
     "execution_count": 63,
     "metadata": {},
     "output_type": "execute_result"
    }
   ],
   "source": [
    "import joblib\n",
    "\n",
    "joblib.dump(serialized_arst_model, 'arst_model.joblib')"
   ]
  },
  {
   "cell_type": "code",
   "execution_count": 64,
   "metadata": {},
   "outputs": [
    {
     "name": "stdout",
     "output_type": "stream",
     "text": [
      "INFO:tensorflow:Assets written to: ram://93f5d84a-05c2-47c6-b5a7-3e47fcbc16c6/assets\n"
     ]
    },
    {
     "ename": "NotFoundError",
     "evalue": "",
     "output_type": "error",
     "traceback": [
      "\u001b[1;31m---------------------------------------------------------------------------\u001b[0m",
      "\u001b[1;31mNotFoundError\u001b[0m                             Traceback (most recent call last)",
      "\u001b[1;32m<ipython-input-64-6ff64aaf0d28>\u001b[0m in \u001b[0;36m<module>\u001b[1;34m\u001b[0m\n\u001b[1;32m----> 1\u001b[1;33m \u001b[0mjoblib\u001b[0m\u001b[1;33m.\u001b[0m\u001b[0mdump\u001b[0m\u001b[1;33m(\u001b[0m\u001b[0mserialized_violence_model\u001b[0m\u001b[1;33m,\u001b[0m \u001b[1;34m'violence_model.joblib'\u001b[0m\u001b[1;33m)\u001b[0m\u001b[1;33m\u001b[0m\u001b[1;33m\u001b[0m\u001b[0m\n\u001b[0m",
      "\u001b[1;32mD:\\Anaconda\\lib\\site-packages\\joblib\\numpy_pickle.py\u001b[0m in \u001b[0;36mdump\u001b[1;34m(value, filename, compress, protocol, cache_size)\u001b[0m\n\u001b[0;32m    478\u001b[0m     \u001b[1;32melif\u001b[0m \u001b[0mis_filename\u001b[0m\u001b[1;33m:\u001b[0m\u001b[1;33m\u001b[0m\u001b[1;33m\u001b[0m\u001b[0m\n\u001b[0;32m    479\u001b[0m         \u001b[1;32mwith\u001b[0m \u001b[0mopen\u001b[0m\u001b[1;33m(\u001b[0m\u001b[0mfilename\u001b[0m\u001b[1;33m,\u001b[0m \u001b[1;34m'wb'\u001b[0m\u001b[1;33m)\u001b[0m \u001b[1;32mas\u001b[0m \u001b[0mf\u001b[0m\u001b[1;33m:\u001b[0m\u001b[1;33m\u001b[0m\u001b[1;33m\u001b[0m\u001b[0m\n\u001b[1;32m--> 480\u001b[1;33m             \u001b[0mNumpyPickler\u001b[0m\u001b[1;33m(\u001b[0m\u001b[0mf\u001b[0m\u001b[1;33m,\u001b[0m \u001b[0mprotocol\u001b[0m\u001b[1;33m=\u001b[0m\u001b[0mprotocol\u001b[0m\u001b[1;33m)\u001b[0m\u001b[1;33m.\u001b[0m\u001b[0mdump\u001b[0m\u001b[1;33m(\u001b[0m\u001b[0mvalue\u001b[0m\u001b[1;33m)\u001b[0m\u001b[1;33m\u001b[0m\u001b[1;33m\u001b[0m\u001b[0m\n\u001b[0m\u001b[0;32m    481\u001b[0m     \u001b[1;32melse\u001b[0m\u001b[1;33m:\u001b[0m\u001b[1;33m\u001b[0m\u001b[1;33m\u001b[0m\u001b[0m\n\u001b[0;32m    482\u001b[0m         \u001b[0mNumpyPickler\u001b[0m\u001b[1;33m(\u001b[0m\u001b[0mfilename\u001b[0m\u001b[1;33m,\u001b[0m \u001b[0mprotocol\u001b[0m\u001b[1;33m=\u001b[0m\u001b[0mprotocol\u001b[0m\u001b[1;33m)\u001b[0m\u001b[1;33m.\u001b[0m\u001b[0mdump\u001b[0m\u001b[1;33m(\u001b[0m\u001b[0mvalue\u001b[0m\u001b[1;33m)\u001b[0m\u001b[1;33m\u001b[0m\u001b[1;33m\u001b[0m\u001b[0m\n",
      "\u001b[1;32mD:\\Anaconda\\lib\\pickle.py\u001b[0m in \u001b[0;36mdump\u001b[1;34m(self, obj)\u001b[0m\n\u001b[0;32m    483\u001b[0m         \u001b[1;32mif\u001b[0m \u001b[0mself\u001b[0m\u001b[1;33m.\u001b[0m\u001b[0mproto\u001b[0m \u001b[1;33m>=\u001b[0m \u001b[1;36m4\u001b[0m\u001b[1;33m:\u001b[0m\u001b[1;33m\u001b[0m\u001b[1;33m\u001b[0m\u001b[0m\n\u001b[0;32m    484\u001b[0m             \u001b[0mself\u001b[0m\u001b[1;33m.\u001b[0m\u001b[0mframer\u001b[0m\u001b[1;33m.\u001b[0m\u001b[0mstart_framing\u001b[0m\u001b[1;33m(\u001b[0m\u001b[1;33m)\u001b[0m\u001b[1;33m\u001b[0m\u001b[1;33m\u001b[0m\u001b[0m\n\u001b[1;32m--> 485\u001b[1;33m         \u001b[0mself\u001b[0m\u001b[1;33m.\u001b[0m\u001b[0msave\u001b[0m\u001b[1;33m(\u001b[0m\u001b[0mobj\u001b[0m\u001b[1;33m)\u001b[0m\u001b[1;33m\u001b[0m\u001b[1;33m\u001b[0m\u001b[0m\n\u001b[0m\u001b[0;32m    486\u001b[0m         \u001b[0mself\u001b[0m\u001b[1;33m.\u001b[0m\u001b[0mwrite\u001b[0m\u001b[1;33m(\u001b[0m\u001b[0mSTOP\u001b[0m\u001b[1;33m)\u001b[0m\u001b[1;33m\u001b[0m\u001b[1;33m\u001b[0m\u001b[0m\n\u001b[0;32m    487\u001b[0m         \u001b[0mself\u001b[0m\u001b[1;33m.\u001b[0m\u001b[0mframer\u001b[0m\u001b[1;33m.\u001b[0m\u001b[0mend_framing\u001b[0m\u001b[1;33m(\u001b[0m\u001b[1;33m)\u001b[0m\u001b[1;33m\u001b[0m\u001b[1;33m\u001b[0m\u001b[0m\n",
      "\u001b[1;32mD:\\Anaconda\\lib\\site-packages\\joblib\\numpy_pickle.py\u001b[0m in \u001b[0;36msave\u001b[1;34m(self, obj)\u001b[0m\n\u001b[0;32m    280\u001b[0m             \u001b[1;32mreturn\u001b[0m\u001b[1;33m\u001b[0m\u001b[1;33m\u001b[0m\u001b[0m\n\u001b[0;32m    281\u001b[0m \u001b[1;33m\u001b[0m\u001b[0m\n\u001b[1;32m--> 282\u001b[1;33m         \u001b[1;32mreturn\u001b[0m \u001b[0mPickler\u001b[0m\u001b[1;33m.\u001b[0m\u001b[0msave\u001b[0m\u001b[1;33m(\u001b[0m\u001b[0mself\u001b[0m\u001b[1;33m,\u001b[0m \u001b[0mobj\u001b[0m\u001b[1;33m)\u001b[0m\u001b[1;33m\u001b[0m\u001b[1;33m\u001b[0m\u001b[0m\n\u001b[0m\u001b[0;32m    283\u001b[0m \u001b[1;33m\u001b[0m\u001b[0m\n\u001b[0;32m    284\u001b[0m \u001b[1;33m\u001b[0m\u001b[0m\n",
      "\u001b[1;32mD:\\Anaconda\\lib\\pickle.py\u001b[0m in \u001b[0;36msave\u001b[1;34m(self, obj, save_persistent_id)\u001b[0m\n\u001b[0;32m    599\u001b[0m \u001b[1;33m\u001b[0m\u001b[0m\n\u001b[0;32m    600\u001b[0m         \u001b[1;31m# Save the reduce() output and finally memoize the object\u001b[0m\u001b[1;33m\u001b[0m\u001b[1;33m\u001b[0m\u001b[1;33m\u001b[0m\u001b[0m\n\u001b[1;32m--> 601\u001b[1;33m         \u001b[0mself\u001b[0m\u001b[1;33m.\u001b[0m\u001b[0msave_reduce\u001b[0m\u001b[1;33m(\u001b[0m\u001b[0mobj\u001b[0m\u001b[1;33m=\u001b[0m\u001b[0mobj\u001b[0m\u001b[1;33m,\u001b[0m \u001b[1;33m*\u001b[0m\u001b[0mrv\u001b[0m\u001b[1;33m)\u001b[0m\u001b[1;33m\u001b[0m\u001b[1;33m\u001b[0m\u001b[0m\n\u001b[0m\u001b[0;32m    602\u001b[0m \u001b[1;33m\u001b[0m\u001b[0m\n\u001b[0;32m    603\u001b[0m     \u001b[1;32mdef\u001b[0m \u001b[0mpersistent_id\u001b[0m\u001b[1;33m(\u001b[0m\u001b[0mself\u001b[0m\u001b[1;33m,\u001b[0m \u001b[0mobj\u001b[0m\u001b[1;33m)\u001b[0m\u001b[1;33m:\u001b[0m\u001b[1;33m\u001b[0m\u001b[1;33m\u001b[0m\u001b[0m\n",
      "\u001b[1;32mD:\\Anaconda\\lib\\pickle.py\u001b[0m in \u001b[0;36msave_reduce\u001b[1;34m(self, func, args, state, listitems, dictitems, state_setter, obj)\u001b[0m\n\u001b[0;32m    713\u001b[0m         \u001b[1;32mif\u001b[0m \u001b[0mstate\u001b[0m \u001b[1;32mis\u001b[0m \u001b[1;32mnot\u001b[0m \u001b[1;32mNone\u001b[0m\u001b[1;33m:\u001b[0m\u001b[1;33m\u001b[0m\u001b[1;33m\u001b[0m\u001b[0m\n\u001b[0;32m    714\u001b[0m             \u001b[1;32mif\u001b[0m \u001b[0mstate_setter\u001b[0m \u001b[1;32mis\u001b[0m \u001b[1;32mNone\u001b[0m\u001b[1;33m:\u001b[0m\u001b[1;33m\u001b[0m\u001b[1;33m\u001b[0m\u001b[0m\n\u001b[1;32m--> 715\u001b[1;33m                 \u001b[0msave\u001b[0m\u001b[1;33m(\u001b[0m\u001b[0mstate\u001b[0m\u001b[1;33m)\u001b[0m\u001b[1;33m\u001b[0m\u001b[1;33m\u001b[0m\u001b[0m\n\u001b[0m\u001b[0;32m    716\u001b[0m                 \u001b[0mwrite\u001b[0m\u001b[1;33m(\u001b[0m\u001b[0mBUILD\u001b[0m\u001b[1;33m)\u001b[0m\u001b[1;33m\u001b[0m\u001b[1;33m\u001b[0m\u001b[0m\n\u001b[0;32m    717\u001b[0m             \u001b[1;32melse\u001b[0m\u001b[1;33m:\u001b[0m\u001b[1;33m\u001b[0m\u001b[1;33m\u001b[0m\u001b[0m\n",
      "\u001b[1;32mD:\\Anaconda\\lib\\site-packages\\joblib\\numpy_pickle.py\u001b[0m in \u001b[0;36msave\u001b[1;34m(self, obj)\u001b[0m\n\u001b[0;32m    280\u001b[0m             \u001b[1;32mreturn\u001b[0m\u001b[1;33m\u001b[0m\u001b[1;33m\u001b[0m\u001b[0m\n\u001b[0;32m    281\u001b[0m \u001b[1;33m\u001b[0m\u001b[0m\n\u001b[1;32m--> 282\u001b[1;33m         \u001b[1;32mreturn\u001b[0m \u001b[0mPickler\u001b[0m\u001b[1;33m.\u001b[0m\u001b[0msave\u001b[0m\u001b[1;33m(\u001b[0m\u001b[0mself\u001b[0m\u001b[1;33m,\u001b[0m \u001b[0mobj\u001b[0m\u001b[1;33m)\u001b[0m\u001b[1;33m\u001b[0m\u001b[1;33m\u001b[0m\u001b[0m\n\u001b[0m\u001b[0;32m    283\u001b[0m \u001b[1;33m\u001b[0m\u001b[0m\n\u001b[0;32m    284\u001b[0m \u001b[1;33m\u001b[0m\u001b[0m\n",
      "\u001b[1;32mD:\\Anaconda\\lib\\pickle.py\u001b[0m in \u001b[0;36msave\u001b[1;34m(self, obj, save_persistent_id)\u001b[0m\n\u001b[0;32m    556\u001b[0m             \u001b[0mf\u001b[0m \u001b[1;33m=\u001b[0m \u001b[0mself\u001b[0m\u001b[1;33m.\u001b[0m\u001b[0mdispatch\u001b[0m\u001b[1;33m.\u001b[0m\u001b[0mget\u001b[0m\u001b[1;33m(\u001b[0m\u001b[0mt\u001b[0m\u001b[1;33m)\u001b[0m\u001b[1;33m\u001b[0m\u001b[1;33m\u001b[0m\u001b[0m\n\u001b[0;32m    557\u001b[0m             \u001b[1;32mif\u001b[0m \u001b[0mf\u001b[0m \u001b[1;32mis\u001b[0m \u001b[1;32mnot\u001b[0m \u001b[1;32mNone\u001b[0m\u001b[1;33m:\u001b[0m\u001b[1;33m\u001b[0m\u001b[1;33m\u001b[0m\u001b[0m\n\u001b[1;32m--> 558\u001b[1;33m                 \u001b[0mf\u001b[0m\u001b[1;33m(\u001b[0m\u001b[0mself\u001b[0m\u001b[1;33m,\u001b[0m \u001b[0mobj\u001b[0m\u001b[1;33m)\u001b[0m  \u001b[1;31m# Call unbound method with explicit self\u001b[0m\u001b[1;33m\u001b[0m\u001b[1;33m\u001b[0m\u001b[0m\n\u001b[0m\u001b[0;32m    559\u001b[0m                 \u001b[1;32mreturn\u001b[0m\u001b[1;33m\u001b[0m\u001b[1;33m\u001b[0m\u001b[0m\n\u001b[0;32m    560\u001b[0m \u001b[1;33m\u001b[0m\u001b[0m\n",
      "\u001b[1;32mD:\\Anaconda\\lib\\pickle.py\u001b[0m in \u001b[0;36msave_dict\u001b[1;34m(self, obj)\u001b[0m\n\u001b[0;32m    967\u001b[0m \u001b[1;33m\u001b[0m\u001b[0m\n\u001b[0;32m    968\u001b[0m         \u001b[0mself\u001b[0m\u001b[1;33m.\u001b[0m\u001b[0mmemoize\u001b[0m\u001b[1;33m(\u001b[0m\u001b[0mobj\u001b[0m\u001b[1;33m)\u001b[0m\u001b[1;33m\u001b[0m\u001b[1;33m\u001b[0m\u001b[0m\n\u001b[1;32m--> 969\u001b[1;33m         \u001b[0mself\u001b[0m\u001b[1;33m.\u001b[0m\u001b[0m_batch_setitems\u001b[0m\u001b[1;33m(\u001b[0m\u001b[0mobj\u001b[0m\u001b[1;33m.\u001b[0m\u001b[0mitems\u001b[0m\u001b[1;33m(\u001b[0m\u001b[1;33m)\u001b[0m\u001b[1;33m)\u001b[0m\u001b[1;33m\u001b[0m\u001b[1;33m\u001b[0m\u001b[0m\n\u001b[0m\u001b[0;32m    970\u001b[0m \u001b[1;33m\u001b[0m\u001b[0m\n\u001b[0;32m    971\u001b[0m     \u001b[0mdispatch\u001b[0m\u001b[1;33m[\u001b[0m\u001b[0mdict\u001b[0m\u001b[1;33m]\u001b[0m \u001b[1;33m=\u001b[0m \u001b[0msave_dict\u001b[0m\u001b[1;33m\u001b[0m\u001b[1;33m\u001b[0m\u001b[0m\n",
      "\u001b[1;32mD:\\Anaconda\\lib\\pickle.py\u001b[0m in \u001b[0;36m_batch_setitems\u001b[1;34m(self, items)\u001b[0m\n\u001b[0;32m    993\u001b[0m                 \u001b[1;32mfor\u001b[0m \u001b[0mk\u001b[0m\u001b[1;33m,\u001b[0m \u001b[0mv\u001b[0m \u001b[1;32min\u001b[0m \u001b[0mtmp\u001b[0m\u001b[1;33m:\u001b[0m\u001b[1;33m\u001b[0m\u001b[1;33m\u001b[0m\u001b[0m\n\u001b[0;32m    994\u001b[0m                     \u001b[0msave\u001b[0m\u001b[1;33m(\u001b[0m\u001b[0mk\u001b[0m\u001b[1;33m)\u001b[0m\u001b[1;33m\u001b[0m\u001b[1;33m\u001b[0m\u001b[0m\n\u001b[1;32m--> 995\u001b[1;33m                     \u001b[0msave\u001b[0m\u001b[1;33m(\u001b[0m\u001b[0mv\u001b[0m\u001b[1;33m)\u001b[0m\u001b[1;33m\u001b[0m\u001b[1;33m\u001b[0m\u001b[0m\n\u001b[0m\u001b[0;32m    996\u001b[0m                 \u001b[0mwrite\u001b[0m\u001b[1;33m(\u001b[0m\u001b[0mSETITEMS\u001b[0m\u001b[1;33m)\u001b[0m\u001b[1;33m\u001b[0m\u001b[1;33m\u001b[0m\u001b[0m\n\u001b[0;32m    997\u001b[0m             \u001b[1;32melif\u001b[0m \u001b[0mn\u001b[0m\u001b[1;33m:\u001b[0m\u001b[1;33m\u001b[0m\u001b[1;33m\u001b[0m\u001b[0m\n",
      "\u001b[1;32mD:\\Anaconda\\lib\\site-packages\\joblib\\numpy_pickle.py\u001b[0m in \u001b[0;36msave\u001b[1;34m(self, obj)\u001b[0m\n\u001b[0;32m    280\u001b[0m             \u001b[1;32mreturn\u001b[0m\u001b[1;33m\u001b[0m\u001b[1;33m\u001b[0m\u001b[0m\n\u001b[0;32m    281\u001b[0m \u001b[1;33m\u001b[0m\u001b[0m\n\u001b[1;32m--> 282\u001b[1;33m         \u001b[1;32mreturn\u001b[0m \u001b[0mPickler\u001b[0m\u001b[1;33m.\u001b[0m\u001b[0msave\u001b[0m\u001b[1;33m(\u001b[0m\u001b[0mself\u001b[0m\u001b[1;33m,\u001b[0m \u001b[0mobj\u001b[0m\u001b[1;33m)\u001b[0m\u001b[1;33m\u001b[0m\u001b[1;33m\u001b[0m\u001b[0m\n\u001b[0m\u001b[0;32m    283\u001b[0m \u001b[1;33m\u001b[0m\u001b[0m\n\u001b[0;32m    284\u001b[0m \u001b[1;33m\u001b[0m\u001b[0m\n",
      "\u001b[1;32mD:\\Anaconda\\lib\\pickle.py\u001b[0m in \u001b[0;36msave\u001b[1;34m(self, obj, save_persistent_id)\u001b[0m\n\u001b[0;32m    574\u001b[0m                 \u001b[0mreduce\u001b[0m \u001b[1;33m=\u001b[0m \u001b[0mgetattr\u001b[0m\u001b[1;33m(\u001b[0m\u001b[0mobj\u001b[0m\u001b[1;33m,\u001b[0m \u001b[1;34m\"__reduce_ex__\"\u001b[0m\u001b[1;33m,\u001b[0m \u001b[1;32mNone\u001b[0m\u001b[1;33m)\u001b[0m\u001b[1;33m\u001b[0m\u001b[1;33m\u001b[0m\u001b[0m\n\u001b[0;32m    575\u001b[0m                 \u001b[1;32mif\u001b[0m \u001b[0mreduce\u001b[0m \u001b[1;32mis\u001b[0m \u001b[1;32mnot\u001b[0m \u001b[1;32mNone\u001b[0m\u001b[1;33m:\u001b[0m\u001b[1;33m\u001b[0m\u001b[1;33m\u001b[0m\u001b[0m\n\u001b[1;32m--> 576\u001b[1;33m                     \u001b[0mrv\u001b[0m \u001b[1;33m=\u001b[0m \u001b[0mreduce\u001b[0m\u001b[1;33m(\u001b[0m\u001b[0mself\u001b[0m\u001b[1;33m.\u001b[0m\u001b[0mproto\u001b[0m\u001b[1;33m)\u001b[0m\u001b[1;33m\u001b[0m\u001b[1;33m\u001b[0m\u001b[0m\n\u001b[0m\u001b[0;32m    577\u001b[0m                 \u001b[1;32melse\u001b[0m\u001b[1;33m:\u001b[0m\u001b[1;33m\u001b[0m\u001b[1;33m\u001b[0m\u001b[0m\n\u001b[0;32m    578\u001b[0m                     \u001b[0mreduce\u001b[0m \u001b[1;33m=\u001b[0m \u001b[0mgetattr\u001b[0m\u001b[1;33m(\u001b[0m\u001b[0mobj\u001b[0m\u001b[1;33m,\u001b[0m \u001b[1;34m\"__reduce__\"\u001b[0m\u001b[1;33m,\u001b[0m \u001b[1;32mNone\u001b[0m\u001b[1;33m)\u001b[0m\u001b[1;33m\u001b[0m\u001b[1;33m\u001b[0m\u001b[0m\n",
      "\u001b[1;32mD:\\Anaconda\\lib\\site-packages\\keras\\engine\\training.py\u001b[0m in \u001b[0;36m__reduce__\u001b[1;34m(self)\u001b[0m\n\u001b[0;32m    313\u001b[0m     \u001b[1;32mif\u001b[0m \u001b[0mself\u001b[0m\u001b[1;33m.\u001b[0m\u001b[0mbuilt\u001b[0m\u001b[1;33m:\u001b[0m\u001b[1;33m\u001b[0m\u001b[1;33m\u001b[0m\u001b[0m\n\u001b[0;32m    314\u001b[0m       return (pickle_utils.deserialize_model_from_bytecode,\n\u001b[1;32m--> 315\u001b[1;33m               pickle_utils.serialize_model_as_bytecode(self))\n\u001b[0m\u001b[0;32m    316\u001b[0m     \u001b[1;32melse\u001b[0m\u001b[1;33m:\u001b[0m\u001b[1;33m\u001b[0m\u001b[1;33m\u001b[0m\u001b[0m\n\u001b[0;32m    317\u001b[0m       \u001b[1;31m# SavedModel (and hence serialize_model_as_bytecode) only support\u001b[0m\u001b[1;33m\u001b[0m\u001b[1;33m\u001b[0m\u001b[1;33m\u001b[0m\u001b[0m\n",
      "\u001b[1;32mD:\\Anaconda\\lib\\site-packages\\keras\\saving\\pickle_utils.py\u001b[0m in \u001b[0;36mserialize_model_as_bytecode\u001b[1;34m(model)\u001b[0m\n\u001b[0;32m     75\u001b[0m         \u001b[1;32mwith\u001b[0m \u001b[0mtf\u001b[0m\u001b[1;33m.\u001b[0m\u001b[0mio\u001b[0m\u001b[1;33m.\u001b[0m\u001b[0mgfile\u001b[0m\u001b[1;33m.\u001b[0m\u001b[0mGFile\u001b[0m\u001b[1;33m(\u001b[0m\u001b[0mdest_path\u001b[0m\u001b[1;33m,\u001b[0m \u001b[1;34m\"rb\"\u001b[0m\u001b[1;33m)\u001b[0m \u001b[1;32mas\u001b[0m \u001b[0mf\u001b[0m\u001b[1;33m:\u001b[0m\u001b[1;33m\u001b[0m\u001b[1;33m\u001b[0m\u001b[0m\n\u001b[0;32m     76\u001b[0m           \u001b[0minfo\u001b[0m \u001b[1;33m=\u001b[0m \u001b[0mtarfile\u001b[0m\u001b[1;33m.\u001b[0m\u001b[0mTarInfo\u001b[0m\u001b[1;33m(\u001b[0m\u001b[0mname\u001b[0m\u001b[1;33m=\u001b[0m\u001b[0mos\u001b[0m\u001b[1;33m.\u001b[0m\u001b[0mpath\u001b[0m\u001b[1;33m.\u001b[0m\u001b[0mrelpath\u001b[0m\u001b[1;33m(\u001b[0m\u001b[0mdest_path\u001b[0m\u001b[1;33m,\u001b[0m \u001b[0mtemp_dir\u001b[0m\u001b[1;33m)\u001b[0m\u001b[1;33m)\u001b[0m\u001b[1;33m\u001b[0m\u001b[1;33m\u001b[0m\u001b[0m\n\u001b[1;32m---> 77\u001b[1;33m           \u001b[0minfo\u001b[0m\u001b[1;33m.\u001b[0m\u001b[0msize\u001b[0m \u001b[1;33m=\u001b[0m \u001b[0mf\u001b[0m\u001b[1;33m.\u001b[0m\u001b[0msize\u001b[0m\u001b[1;33m(\u001b[0m\u001b[1;33m)\u001b[0m\u001b[1;33m\u001b[0m\u001b[1;33m\u001b[0m\u001b[0m\n\u001b[0m\u001b[0;32m     78\u001b[0m           \u001b[0marchive\u001b[0m\u001b[1;33m.\u001b[0m\u001b[0maddfile\u001b[0m\u001b[1;33m(\u001b[0m\u001b[0mtarinfo\u001b[0m\u001b[1;33m=\u001b[0m\u001b[0minfo\u001b[0m\u001b[1;33m,\u001b[0m \u001b[0mfileobj\u001b[0m\u001b[1;33m=\u001b[0m\u001b[0mf\u001b[0m\u001b[1;33m)\u001b[0m\u001b[1;33m\u001b[0m\u001b[1;33m\u001b[0m\u001b[0m\n\u001b[0;32m     79\u001b[0m   \u001b[0mtf\u001b[0m\u001b[1;33m.\u001b[0m\u001b[0mio\u001b[0m\u001b[1;33m.\u001b[0m\u001b[0mgfile\u001b[0m\u001b[1;33m.\u001b[0m\u001b[0mrmtree\u001b[0m\u001b[1;33m(\u001b[0m\u001b[0mtemp_dir\u001b[0m\u001b[1;33m)\u001b[0m\u001b[1;33m\u001b[0m\u001b[1;33m\u001b[0m\u001b[0m\n",
      "\u001b[1;32mD:\\Anaconda\\lib\\site-packages\\tensorflow\\python\\lib\\io\\file_io.py\u001b[0m in \u001b[0;36msize\u001b[1;34m(self)\u001b[0m\n\u001b[0;32m     97\u001b[0m   \u001b[1;32mdef\u001b[0m \u001b[0msize\u001b[0m\u001b[1;33m(\u001b[0m\u001b[0mself\u001b[0m\u001b[1;33m)\u001b[0m\u001b[1;33m:\u001b[0m\u001b[1;33m\u001b[0m\u001b[1;33m\u001b[0m\u001b[0m\n\u001b[0;32m     98\u001b[0m     \u001b[1;34m\"\"\"Returns the size of the file.\"\"\"\u001b[0m\u001b[1;33m\u001b[0m\u001b[1;33m\u001b[0m\u001b[0m\n\u001b[1;32m---> 99\u001b[1;33m     \u001b[1;32mreturn\u001b[0m \u001b[0mstat\u001b[0m\u001b[1;33m(\u001b[0m\u001b[0mself\u001b[0m\u001b[1;33m.\u001b[0m\u001b[0m__name\u001b[0m\u001b[1;33m)\u001b[0m\u001b[1;33m.\u001b[0m\u001b[0mlength\u001b[0m\u001b[1;33m\u001b[0m\u001b[1;33m\u001b[0m\u001b[0m\n\u001b[0m\u001b[0;32m    100\u001b[0m \u001b[1;33m\u001b[0m\u001b[0m\n\u001b[0;32m    101\u001b[0m   \u001b[1;32mdef\u001b[0m \u001b[0mwrite\u001b[0m\u001b[1;33m(\u001b[0m\u001b[0mself\u001b[0m\u001b[1;33m,\u001b[0m \u001b[0mfile_content\u001b[0m\u001b[1;33m)\u001b[0m\u001b[1;33m:\u001b[0m\u001b[1;33m\u001b[0m\u001b[1;33m\u001b[0m\u001b[0m\n",
      "\u001b[1;32mD:\\Anaconda\\lib\\site-packages\\tensorflow\\python\\lib\\io\\file_io.py\u001b[0m in \u001b[0;36mstat\u001b[1;34m(filename)\u001b[0m\n\u001b[0;32m    908\u001b[0m     \u001b[0merrors\u001b[0m\u001b[1;33m.\u001b[0m\u001b[0mOpError\u001b[0m\u001b[1;33m:\u001b[0m \u001b[0mIf\u001b[0m \u001b[0mthe\u001b[0m \u001b[0moperation\u001b[0m \u001b[0mfails\u001b[0m\u001b[1;33m.\u001b[0m\u001b[1;33m\u001b[0m\u001b[1;33m\u001b[0m\u001b[0m\n\u001b[0;32m    909\u001b[0m   \"\"\"\n\u001b[1;32m--> 910\u001b[1;33m   \u001b[1;32mreturn\u001b[0m \u001b[0mstat_v2\u001b[0m\u001b[1;33m(\u001b[0m\u001b[0mfilename\u001b[0m\u001b[1;33m)\u001b[0m\u001b[1;33m\u001b[0m\u001b[1;33m\u001b[0m\u001b[0m\n\u001b[0m\u001b[0;32m    911\u001b[0m \u001b[1;33m\u001b[0m\u001b[0m\n\u001b[0;32m    912\u001b[0m \u001b[1;33m\u001b[0m\u001b[0m\n",
      "\u001b[1;32mD:\\Anaconda\\lib\\site-packages\\tensorflow\\python\\lib\\io\\file_io.py\u001b[0m in \u001b[0;36mstat_v2\u001b[1;34m(path)\u001b[0m\n\u001b[0;32m    924\u001b[0m     \u001b[0merrors\u001b[0m\u001b[1;33m.\u001b[0m\u001b[0mOpError\u001b[0m\u001b[1;33m:\u001b[0m \u001b[0mIf\u001b[0m \u001b[0mthe\u001b[0m \u001b[0moperation\u001b[0m \u001b[0mfails\u001b[0m\u001b[1;33m.\u001b[0m\u001b[1;33m\u001b[0m\u001b[1;33m\u001b[0m\u001b[0m\n\u001b[0;32m    925\u001b[0m   \"\"\"\n\u001b[1;32m--> 926\u001b[1;33m   \u001b[1;32mreturn\u001b[0m \u001b[0m_pywrap_file_io\u001b[0m\u001b[1;33m.\u001b[0m\u001b[0mStat\u001b[0m\u001b[1;33m(\u001b[0m\u001b[0mcompat\u001b[0m\u001b[1;33m.\u001b[0m\u001b[0mpath_to_str\u001b[0m\u001b[1;33m(\u001b[0m\u001b[0mpath\u001b[0m\u001b[1;33m)\u001b[0m\u001b[1;33m)\u001b[0m\u001b[1;33m\u001b[0m\u001b[1;33m\u001b[0m\u001b[0m\n\u001b[0m\u001b[0;32m    927\u001b[0m \u001b[1;33m\u001b[0m\u001b[0m\n\u001b[0;32m    928\u001b[0m \u001b[1;33m\u001b[0m\u001b[0m\n",
      "\u001b[1;31mNotFoundError\u001b[0m: "
     ]
    }
   ],
   "source": [
    "joblib.dump(serialized_violence_model, 'violence_model.joblib')"
   ]
  }
 ],
 "metadata": {
  "interpreter": {
   "hash": "07efdcd4b820c98a756949507a4d29d7862823915ec7477944641bea022f4f62"
  },
  "kernelspec": {
   "display_name": "Python 3.8.5 64-bit ('base': conda)",
   "name": "python3"
  },
  "language_info": {
   "codemirror_mode": {
    "name": "ipython",
    "version": 3
   },
   "file_extension": ".py",
   "mimetype": "text/x-python",
   "name": "python",
   "nbconvert_exporter": "python",
   "pygments_lexer": "ipython3",
   "version": "3.8.5"
  },
  "orig_nbformat": 4
 },
 "nbformat": 4,
 "nbformat_minor": 2
}
