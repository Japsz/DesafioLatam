{
 "cells": [
  {
   "cell_type": "markdown",
   "source": [
    "# Desafío - Gráficos y correlación"
   ],
   "metadata": {}
  },
  {
   "cell_type": "markdown",
   "source": [
    "## 1. Importar librerías y <code>.csv</code>\r\n",
    "\r\n",
    "<li>Importe las librerías básicas para el análisis de datos</li>\r\n",
    "<li>Descargue e importe el archivo nations.csv.</li>\r\n",
    "<li>Tip: El formato del archivo posee una codificación de tipo <code>'iso-8859-1'</code>. Investigue\r\n",
    "cómo se puede solucionar este problema utilizando el argumento encoding de\r\n",
    "<code>pd.read_csv</code>.</li>"
   ],
   "metadata": {}
  },
  {
   "cell_type": "code",
   "execution_count": 1,
   "source": [
    "import pandas as pd\r\n",
    "import matplotlib.pyplot as plt\r\n",
    "import numpy as np\r\n",
    "import seaborn as sns"
   ],
   "outputs": [],
   "metadata": {}
  },
  {
   "cell_type": "code",
   "execution_count": 3,
   "source": [
    "df = pd.read_csv('nations.csv', encoding='latin')\r\n",
    "df"
   ],
   "outputs": [
    {
     "output_type": "execute_result",
     "data": {
      "text/plain": [
       "     Unnamed: 0          country   region           gdp     school  \\\n",
       "0             1          Algeria   Africa   7300.399902   6.716667   \n",
       "1             2            Benin   Africa   1338.800049   3.100000   \n",
       "2             3         Botswana   Africa  12307.400391   8.600000   \n",
       "3             4     Burkina Faso   Africa   1063.400024   1.300000   \n",
       "4             5          Burundi   Africa    349.200012   2.483333   \n",
       "..          ...              ...      ...           ...        ...   \n",
       "189         190            Samoa  Oceania   4012.600098  10.300000   \n",
       "190         191  Solomon Islands  Oceania   2249.199951   4.500000   \n",
       "191         192            Tonga  Oceania   4072.199951  10.133333   \n",
       "192         193           Tuvalu  Oceania           NaN        NaN   \n",
       "193         194          Vanuatu  Oceania   3809.800049   6.700000   \n",
       "\n",
       "         adfert  chldmort       life       pop      urban  femlab   literacy  \\\n",
       "0      7.300000     34.75  72.316666  34172236  64.933334  0.4522  72.599998   \n",
       "1    111.699997    122.75  54.733334   8237634  41.000000  0.8482  41.700001   \n",
       "2     52.099998     60.25  52.250000   1941233  59.250000  0.8870  84.099998   \n",
       "3    124.800003    170.50  53.783333  15308383  23.583334  0.8584  23.600000   \n",
       "4     18.600000    168.50  48.866665   7821783  10.250000  1.0344  66.599998   \n",
       "..          ...       ...        ...       ...        ...     ...        ...   \n",
       "189   28.299999     26.75  71.533333    181600  20.666668  0.5010  98.800003   \n",
       "190   70.300003     36.00  66.500000    503617  17.766666  0.4858        NaN   \n",
       "191   22.299999     19.25  71.833336    102550  23.266666  0.7150  99.000000   \n",
       "192   23.299999     36.50  66.033333      9767  49.233334     NaN        NaN   \n",
       "193   54.000000     17.75  69.966667    225317  24.500000  0.8988  82.000000   \n",
       "\n",
       "       co2       gini  \n",
       "0    15.00        NaN  \n",
       "1     1.20        NaN  \n",
       "2     9.20        NaN  \n",
       "3     0.20        NaN  \n",
       "4     0.10  33.299999  \n",
       "..     ...        ...  \n",
       "189   3.10        NaN  \n",
       "190   1.40        NaN  \n",
       "191   4.85        NaN  \n",
       "192    NaN        NaN  \n",
       "193   1.50        NaN  \n",
       "\n",
       "[194 rows x 14 columns]"
      ],
      "text/html": [
       "<div>\n",
       "<style scoped>\n",
       "    .dataframe tbody tr th:only-of-type {\n",
       "        vertical-align: middle;\n",
       "    }\n",
       "\n",
       "    .dataframe tbody tr th {\n",
       "        vertical-align: top;\n",
       "    }\n",
       "\n",
       "    .dataframe thead th {\n",
       "        text-align: right;\n",
       "    }\n",
       "</style>\n",
       "<table border=\"1\" class=\"dataframe\">\n",
       "  <thead>\n",
       "    <tr style=\"text-align: right;\">\n",
       "      <th></th>\n",
       "      <th>Unnamed: 0</th>\n",
       "      <th>country</th>\n",
       "      <th>region</th>\n",
       "      <th>gdp</th>\n",
       "      <th>school</th>\n",
       "      <th>adfert</th>\n",
       "      <th>chldmort</th>\n",
       "      <th>life</th>\n",
       "      <th>pop</th>\n",
       "      <th>urban</th>\n",
       "      <th>femlab</th>\n",
       "      <th>literacy</th>\n",
       "      <th>co2</th>\n",
       "      <th>gini</th>\n",
       "    </tr>\n",
       "  </thead>\n",
       "  <tbody>\n",
       "    <tr>\n",
       "      <th>0</th>\n",
       "      <td>1</td>\n",
       "      <td>Algeria</td>\n",
       "      <td>Africa</td>\n",
       "      <td>7300.399902</td>\n",
       "      <td>6.716667</td>\n",
       "      <td>7.300000</td>\n",
       "      <td>34.75</td>\n",
       "      <td>72.316666</td>\n",
       "      <td>34172236</td>\n",
       "      <td>64.933334</td>\n",
       "      <td>0.4522</td>\n",
       "      <td>72.599998</td>\n",
       "      <td>15.00</td>\n",
       "      <td>NaN</td>\n",
       "    </tr>\n",
       "    <tr>\n",
       "      <th>1</th>\n",
       "      <td>2</td>\n",
       "      <td>Benin</td>\n",
       "      <td>Africa</td>\n",
       "      <td>1338.800049</td>\n",
       "      <td>3.100000</td>\n",
       "      <td>111.699997</td>\n",
       "      <td>122.75</td>\n",
       "      <td>54.733334</td>\n",
       "      <td>8237634</td>\n",
       "      <td>41.000000</td>\n",
       "      <td>0.8482</td>\n",
       "      <td>41.700001</td>\n",
       "      <td>1.20</td>\n",
       "      <td>NaN</td>\n",
       "    </tr>\n",
       "    <tr>\n",
       "      <th>2</th>\n",
       "      <td>3</td>\n",
       "      <td>Botswana</td>\n",
       "      <td>Africa</td>\n",
       "      <td>12307.400391</td>\n",
       "      <td>8.600000</td>\n",
       "      <td>52.099998</td>\n",
       "      <td>60.25</td>\n",
       "      <td>52.250000</td>\n",
       "      <td>1941233</td>\n",
       "      <td>59.250000</td>\n",
       "      <td>0.8870</td>\n",
       "      <td>84.099998</td>\n",
       "      <td>9.20</td>\n",
       "      <td>NaN</td>\n",
       "    </tr>\n",
       "    <tr>\n",
       "      <th>3</th>\n",
       "      <td>4</td>\n",
       "      <td>Burkina Faso</td>\n",
       "      <td>Africa</td>\n",
       "      <td>1063.400024</td>\n",
       "      <td>1.300000</td>\n",
       "      <td>124.800003</td>\n",
       "      <td>170.50</td>\n",
       "      <td>53.783333</td>\n",
       "      <td>15308383</td>\n",
       "      <td>23.583334</td>\n",
       "      <td>0.8584</td>\n",
       "      <td>23.600000</td>\n",
       "      <td>0.20</td>\n",
       "      <td>NaN</td>\n",
       "    </tr>\n",
       "    <tr>\n",
       "      <th>4</th>\n",
       "      <td>5</td>\n",
       "      <td>Burundi</td>\n",
       "      <td>Africa</td>\n",
       "      <td>349.200012</td>\n",
       "      <td>2.483333</td>\n",
       "      <td>18.600000</td>\n",
       "      <td>168.50</td>\n",
       "      <td>48.866665</td>\n",
       "      <td>7821783</td>\n",
       "      <td>10.250000</td>\n",
       "      <td>1.0344</td>\n",
       "      <td>66.599998</td>\n",
       "      <td>0.10</td>\n",
       "      <td>33.299999</td>\n",
       "    </tr>\n",
       "    <tr>\n",
       "      <th>...</th>\n",
       "      <td>...</td>\n",
       "      <td>...</td>\n",
       "      <td>...</td>\n",
       "      <td>...</td>\n",
       "      <td>...</td>\n",
       "      <td>...</td>\n",
       "      <td>...</td>\n",
       "      <td>...</td>\n",
       "      <td>...</td>\n",
       "      <td>...</td>\n",
       "      <td>...</td>\n",
       "      <td>...</td>\n",
       "      <td>...</td>\n",
       "      <td>...</td>\n",
       "    </tr>\n",
       "    <tr>\n",
       "      <th>189</th>\n",
       "      <td>190</td>\n",
       "      <td>Samoa</td>\n",
       "      <td>Oceania</td>\n",
       "      <td>4012.600098</td>\n",
       "      <td>10.300000</td>\n",
       "      <td>28.299999</td>\n",
       "      <td>26.75</td>\n",
       "      <td>71.533333</td>\n",
       "      <td>181600</td>\n",
       "      <td>20.666668</td>\n",
       "      <td>0.5010</td>\n",
       "      <td>98.800003</td>\n",
       "      <td>3.10</td>\n",
       "      <td>NaN</td>\n",
       "    </tr>\n",
       "    <tr>\n",
       "      <th>190</th>\n",
       "      <td>191</td>\n",
       "      <td>Solomon Islands</td>\n",
       "      <td>Oceania</td>\n",
       "      <td>2249.199951</td>\n",
       "      <td>4.500000</td>\n",
       "      <td>70.300003</td>\n",
       "      <td>36.00</td>\n",
       "      <td>66.500000</td>\n",
       "      <td>503617</td>\n",
       "      <td>17.766666</td>\n",
       "      <td>0.4858</td>\n",
       "      <td>NaN</td>\n",
       "      <td>1.40</td>\n",
       "      <td>NaN</td>\n",
       "    </tr>\n",
       "    <tr>\n",
       "      <th>191</th>\n",
       "      <td>192</td>\n",
       "      <td>Tonga</td>\n",
       "      <td>Oceania</td>\n",
       "      <td>4072.199951</td>\n",
       "      <td>10.133333</td>\n",
       "      <td>22.299999</td>\n",
       "      <td>19.25</td>\n",
       "      <td>71.833336</td>\n",
       "      <td>102550</td>\n",
       "      <td>23.266666</td>\n",
       "      <td>0.7150</td>\n",
       "      <td>99.000000</td>\n",
       "      <td>4.85</td>\n",
       "      <td>NaN</td>\n",
       "    </tr>\n",
       "    <tr>\n",
       "      <th>192</th>\n",
       "      <td>193</td>\n",
       "      <td>Tuvalu</td>\n",
       "      <td>Oceania</td>\n",
       "      <td>NaN</td>\n",
       "      <td>NaN</td>\n",
       "      <td>23.299999</td>\n",
       "      <td>36.50</td>\n",
       "      <td>66.033333</td>\n",
       "      <td>9767</td>\n",
       "      <td>49.233334</td>\n",
       "      <td>NaN</td>\n",
       "      <td>NaN</td>\n",
       "      <td>NaN</td>\n",
       "      <td>NaN</td>\n",
       "    </tr>\n",
       "    <tr>\n",
       "      <th>193</th>\n",
       "      <td>194</td>\n",
       "      <td>Vanuatu</td>\n",
       "      <td>Oceania</td>\n",
       "      <td>3809.800049</td>\n",
       "      <td>6.700000</td>\n",
       "      <td>54.000000</td>\n",
       "      <td>17.75</td>\n",
       "      <td>69.966667</td>\n",
       "      <td>225317</td>\n",
       "      <td>24.500000</td>\n",
       "      <td>0.8988</td>\n",
       "      <td>82.000000</td>\n",
       "      <td>1.50</td>\n",
       "      <td>NaN</td>\n",
       "    </tr>\n",
       "  </tbody>\n",
       "</table>\n",
       "<p>194 rows × 14 columns</p>\n",
       "</div>"
      ]
     },
     "metadata": {},
     "execution_count": 3
    }
   ],
   "metadata": {}
  },
  {
   "cell_type": "markdown",
   "source": [
    "## 2. Refactor gráficos matplotlib a seaborn\r\n",
    "\r\n",
    "A continuación se presenta una serie de gráficos construidos con matplotlib. Se le pide\r\n",
    "refactorizarlos utilizando seaborn.\r\n",
    "<li>Se presenta la función que se utilizó para construirlos. Intente llegar al resultado con\r\n",
    "mayor similitud. Comente los principales resultados de los gráficos.</li>"
   ],
   "metadata": {}
  },
  {
   "cell_type": "markdown",
   "source": [
    "### a) Histograma"
   ],
   "metadata": {}
  },
  {
   "cell_type": "code",
   "execution_count": 24,
   "source": [
    "# Modo Original\r\n",
    "def binarize_histogram(dataframe, variable):\r\n",
    "    tmp = dataframe\r\n",
    "    tmp['binarize'] = np.where(tmp[variable] > np.mean(tmp[variable]), 1,\r\n",
    "    0)\r\n",
    "    hist_1 = tmp[tmp['binarize'] == 1][variable].dropna()\r\n",
    "    hist_0 = tmp[tmp['binarize'] == 0][variable].dropna()\r\n",
    "    plt.subplot(1, 2, 1)\r\n",
    "    plt.hist(hist_0, alpha=.6, color='lightgrey')\r\n",
    "    plt.axvline(np.mean(hist_0))\r\n",
    "    plt.title(\"{0} <= {1}\".format(variable, round(np.mean(hist_0), 3)))\r\n",
    "    plt.subplot(1, 2, 2)\r\n",
    "    plt.hist(hist_1, alpha=.6, color='lightgrey')\r\n",
    "    plt.axvline(np.mean(hist_1))\r\n",
    "    plt.title(\"{0} >= {1}\".format(variable, round(np.mean(hist_0), 3)))\r\n",
    "binarize_histogram(df, 'adfert')\r\n"
   ],
   "outputs": [
    {
     "output_type": "display_data",
     "data": {
      "text/plain": [
       "<Figure size 432x288 with 2 Axes>"
      ],
      "image/png": "[encoded data removed]"
     },
     "metadata": {
      "needs_background": "light"
     }
    }
   ],
   "metadata": {}
  },
  {
   "cell_type": "code",
   "execution_count": 25,
   "source": [
    "# Refactoring usando SNS\r\n",
    "def binarize_histogram_sns(dataframe, variable):\r\n",
    "    tmp = dataframe\r\n",
    "    mean = np.mean(tmp[variable])\r\n",
    "    tmp['binarize'] = np.where(tmp[variable] > mean, 1, 0)\r\n",
    "    grid = sns.FacetGrid(tmp, col='binarize', col_wrap=2)\r\n",
    "    hist = grid.map(plt.hist, variable, color='lightgrey')\r\n",
    "    hist.axes[0].set_title(\"{0} <= {1}\".format(variable, round(mean, 3)))\r\n",
    "    hist.axes[0].axvline(np.mean(tmp[tmp['binarize'] == 0][variable]))\r\n",
    "    hist.axes[1].set_title(\"{0} > {1}\".format(variable, round(mean, 3)))\r\n",
    "    hist.axes[1].axvline(np.mean(tmp[tmp['binarize'] == 1][variable]))\r\n",
    "binarize_histogram_sns(df, 'adfert')"
   ],
   "outputs": [
    {
     "output_type": "display_data",
     "data": {
      "text/plain": [
       "<Figure size 432x216 with 2 Axes>"
      ],
      "image/png": "[encoded data removed]"
     },
     "metadata": {
      "needs_background": "light"
     }
    }
   ],
   "metadata": {}
  },
  {
   "cell_type": "markdown",
   "source": [
    "### b) Boxplot"
   ],
   "metadata": {}
  },
  {
   "cell_type": "code",
   "execution_count": 26,
   "source": [
    "def grouped_boxplot_sns(dataframe, variable, group_by):\r\n",
    "    tmp = dataframe\r\n",
    "    stratify_by = tmp[group_by].unique()\r\n",
    "    grid = sns.FacetGrid(tmp, col=group_by, col_wrap=stratify_by.length)\r\n",
    "    if len(stratify_by) / 2 > 3:\r\n",
    "        fig, ax = plt.subplots(2, len(stratify_by),sharey=True)\r\n",
    "    else:\r\n",
    "        fig, ax = plt.subplots(1, len(stratify_by),sharey=True)\r\n",
    "    for i, n in enumerate(stratify_by):\r\n",
    "        ax[i].boxplot(tmp[tmp[group_by] == n][variable])\r\n",
    "        ax[i].set_title(n)\r\n",
    "grouped_boxplot(df, 'adfert', 'region')"
   ],
   "outputs": [
    {
     "output_type": "display_data",
     "data": {
      "text/plain": [
       "<Figure size 432x288 with 5 Axes>"
      ],
      "image/png": "[encoded data removed]"
     },
     "metadata": {
      "needs_background": "light"
     }
    }
   ],
   "metadata": {}
  },
  {
   "cell_type": "code",
   "execution_count": null,
   "source": [
    "def grouped_boxplot(dataframe, variable, group_by):\r\n",
    "    tmp = dataframe\r\n",
    "    \r\n",
    "    stratify_by = tmp[group_by].unique()\r\n",
    "    if len(stratify_by) / 2 > 3:\r\n",
    "        fig, ax = plt.subplots(2, len(stratify_by),sharey=True)\r\n",
    "    else:\r\n",
    "        fig, ax = plt.subplots(1, len(stratify_by),sharey=True)\r\n",
    "    for i, n in enumerate(stratify_by):\r\n",
    "        ax[i].boxplot(tmp[tmp[group_by] == n][variable])\r\n",
    "        ax[i].set_title(n)\r\n",
    "grouped_boxplot_sns(df, 'adfert', 'region')"
   ],
   "outputs": [],
   "metadata": {}
  }
 ],
 "metadata": {
  "orig_nbformat": 4,
  "language_info": {
   "name": "python",
   "version": "3.8.3",
   "mimetype": "text/x-python",
   "codemirror_mode": {
    "name": "ipython",
    "version": 3
   },
   "pygments_lexer": "ipython3",
   "nbconvert_exporter": "python",
   "file_extension": ".py"
  },
  "kernelspec": {
   "name": "python3",
   "display_name": "Python 3.8.3 64-bit ('base': conda)"
  },
  "interpreter": {
   "hash": "7178707031262c75024e739b9e22cad6b3fa925901f6ae16afb8aa60e0ed75a7"
  }
 },
 "nbformat": 4,
 "nbformat_minor": 2
}