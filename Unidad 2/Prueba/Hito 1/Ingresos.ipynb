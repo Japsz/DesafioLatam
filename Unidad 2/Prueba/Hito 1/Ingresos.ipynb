{
 "cells": [
  {
   "cell_type": "markdown",
   "source": [
    "# Hito 1, Desafío 1: Determinantes del ingreso\r\n",
    "## Preliminares\r\n",
    "\r\n",
    "__Enunciado:__\r\n",
    "\r\n",
    "Un organismo no gubernamental  está interesado en las dinámicas socioeconómicas que determinan la desigualdad de ingreso y la erradicación de la pobreza extrema, enmarcado dentro de los objetivos del desarrollo del nuevo milenio del Programa de las Naciones Unidas para el Desarrollo.\r\n",
    "\r\n",
    "### Objetivo:\r\n",
    "\r\n",
    "Desarrollar un modelo predictivo de clasificación sobre la probabilidad que un individuo presente salarios bajo los 50.000 dólares anuales, en base a una serie de atributos sociodemográficos $X_i$.\r\n",
    "\r\n",
    "El modelo a estimar es:\r\n",
    "\r\n",
    "$$\\log\\left(\\frac{p({ income \\gt 50000})}{1 - p({ income \\gt 50000})}\\right)={{\\beta }_{0} + \\sum_{i=1} {\\beta }_{i} \\cdot {X_{i}}}$$\r\n",
    "\r\n",
    "\r\n",
    "### Implementación de la solución: \r\n",
    "\r\n",
    "- Se implementará una regresion logística para la clasificación de los salarios sobre y bajo los 50.000 dolares anuales, binarizando la variable `income` entre 0 y 1.\r\n",
    "- El método de optimización es el de la máxima verosimilitud de la función de distribución binomial para la estimación de  parámetros.\r\n",
    "\r\n",
    "### Métricas de evaluación\r\n",
    "\r\n",
    "Se utilizarán las siguientes métricas:\r\n",
    "\r\n",
    "- Matriz de confusión: cantidad de observaciones predichas de forma correcta.\r\n",
    "- Accuracy (exactitud): porcentaje de casos predichos correctamente por sobre el total de casos.\r\n",
    "- Precision: mide la fracción de predicciones correctas entre las etiquetas positivas.\r\n",
    "- Recall: Mide la fraccion de verdaderos positivos predichos por el modelo.\r\n",
    "- F1: representa la media armónica entre Precision y Recall (es decir, una medida general de la presición).\r\n",
    "- ROC (en particular, AUC): evalúa la relación entre ambos errores (falsos positivos y falso negativo) condicional en todo el rango del clasificador.\r\n",
    "\r\n",
    "Teniendo en consideración que el objetivo es erradización de la pobreza extrema y las dinámicas que determinan la desigualdad de ingresos.\r\n",
    "\r\n",
    "### Estrategia de preprocesamiento de datos:\r\n",
    "\r\n",
    "- Se realizará el siguiente preprocesamiento:\r\n",
    "    - Transformación de datos pérdidos, los datos pérdidos simbolizados con `?` que se cambiarán a `NaN`.\r\n",
    "    - Recodificación, se seguirá la sugerencia de la organización. Se detalla en sección recodifición.\r\n",
    "    - Binarización: se recodificarán las variables binarias, con valor 1 a las categorías minoritarias."
   ],
   "metadata": {}
  },
  {
   "cell_type": "markdown",
   "source": [
    "## Aspectos computacionales\r\n",
    "\r\n",
    "Se utilizara las principales librerias para el analisis de datos, las cuales son:\r\n",
    "\r\n",
    "### Bibliotecas de Python \r\n",
    " \r\n",
    "- `pandas`:  Permite realizar tareas de manipulación, agregación y visualización de datos de forma más sencilla.\r\n",
    "- `numpy`: Agrega soporte para vectores y matrices y  funciones matemáticas de alto nivel para operar con esos datos. \r\n",
    "- `matplotlib`: Permite crear visualizaciones de datos simples.\r\n",
    "- `seaborn`: Permite visualizar modelos estadísticos. Se basa en Matplotlib.\r\n",
    "- `statsmodels`: Estimación de modelos estadísticos, en nuestro caso la regresion logística.\r\n",
    "- `scikit-learn`: Implementa aprendizaje de máquina, incluye varios algoritmos de clasificación, regresión y métricas, incluyendo varias herramientas útiles, como separación de datos de entrenamiento, validación cruzada y codificación de variables categóricas.\r\n",
    "- `factor_analizer`: Permite implementar el EFA (análisis factorial exploratorio).\r\n",
    "- `missingno`: Biblioteca para la visualización de datos perdidos.\r\n",
    "- `warnings`: Evitará que aparezcan las advertencias de avisos de deprecación.\r\n"
   ],
   "metadata": {}
  },
  {
   "cell_type": "code",
   "execution_count": 1,
   "source": [
    "import pandas as pd\r\n",
    "import numpy as np\r\n",
    "import seaborn as sns\r\n",
    "import matplotlib.pyplot as plt\r\n",
    "\r\n",
    "import statsmodels.api as sm\r\n",
    "import statsmodels.formula.api as smf\r\n",
    "\r\n",
    "from sklearn.linear_model import LogisticRegression\r\n",
    "from sklearn.model_selection import train_test_split\r\n",
    "from sklearn.preprocessing import StandardScaler\r\n",
    "from sklearn.preprocessing import LabelEncoder\r\n",
    "from sklearn.metrics import classification_report\r\n",
    "from sklearn.metrics import roc_curve\r\n",
    "from sklearn.metrics import roc_auc_score\r\n",
    "from sklearn.metrics import confusion_matrix\r\n",
    "from sklearn.model_selection import cross_validate\r\n",
    "\r\n",
    "import factor_analyzer as factor\r\n",
    "import missingno as msngo\r\n",
    "import warnings\r\n",
    "\r\n",
    "from IPython.display import display, Markdown\r\n",
    "\r\n",
    "from funciones_def1 import graficar\r\n",
    "\r\n",
    "warnings.filterwarnings('ignore')"
   ],
   "outputs": [],
   "metadata": {}
  },
  {
   "cell_type": "code",
   "execution_count": null,
   "source": [],
   "outputs": [],
   "metadata": {}
  }
 ],
 "metadata": {
  "hide_input": false,
  "kernelspec": {
   "display_name": "Python 3",
   "language": "python",
   "name": "python3"
  },
  "language_info": {
   "codemirror_mode": {
    "name": "ipython",
    "version": 3
   },
   "file_extension": ".py",
   "mimetype": "text/x-python",
   "name": "python",
   "nbconvert_exporter": "python",
   "pygments_lexer": "ipython3",
   "version": "3.7.3"
  },
  "latex_envs": {
   "LaTeX_envs_menu_present": true,
   "autoclose": false,
   "autocomplete": true,
   "bibliofile": "biblio.bib",
   "cite_by": "apalike",
   "current_citInitial": 1,
   "eqLabelWithNumbers": true,
   "eqNumInitial": 1,
   "hotkeys": {
    "equation": "Ctrl-E",
    "itemize": "Ctrl-I"
   },
   "labels_anchors": false,
   "latex_user_defs": false,
   "report_style_numbering": false,
   "user_envs_cfg": false
  },
  "toc": {
   "base_numbering": 1,
   "nav_menu": {},
   "number_sections": true,
   "sideBar": true,
   "skip_h1_title": true,
   "title_cell": "Table of Contents",
   "title_sidebar": "Contents",
   "toc_cell": false,
   "toc_position": {
    "height": "calc(100% - 180px)",
    "left": "10px",
    "top": "150px",
    "width": "299.188px"
   },
   "toc_section_display": true,
   "toc_window_display": true
  }
 },
 "nbformat": 4,
 "nbformat_minor": 2
}