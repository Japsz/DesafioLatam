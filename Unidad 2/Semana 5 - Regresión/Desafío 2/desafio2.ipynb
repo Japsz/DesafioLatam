{
 "cells": [
  {
   "cell_type": "markdown",
   "source": [
    "# Desafío - Regresión desde el aprendizaje de máquinas\r\n",
    "\r\n",
    "## Contexto\r\n",
    "En esta sesión trabajaremos una base de datos sobre los precios de las viviendas en\r\n",
    "Boston, utilizada en el paper Harrison Jr, D., & Rubinfeld, D. L. (1978). Hedonic housing\r\n",
    "prices and the demand for clean air. Journal of environmental economics and management,\r\n",
    "5(1), 81-102.\r\n",
    "Nuestro objetivo es desarrollar un modelo predictivo para el valor mediano de las casas\r\n",
    "mediante el entrenamiento de un modelo de regresión lineal.\r\n",
    "<li><code>crim</code> : Tasa de criminalidad por sector de Boston.</li>\r\n",
    "<li><code>zn</code> proporción de terreno residencial asignado para terrenos baldíos.</li>\r\n",
    "<li><code>indus</code> proporción de negocios no asociados al comercio por sector.</li>\r\n",
    "<li><code>chas</code> Dummy. 1 si el sector colinda con el río Charles, 0 de lo contrario.</li>\r\n",
    "<li><code>nox</code> Concentración de dióxido de carbono.</li>\r\n",
    "<li><code>rm</code> cantidad promedio de habitaciones por casa.</li>\r\n",
    "<li><code>age</code> proporción de casas construidas antes de 1940.</li>\r\n",
    "<li><code>dis</code> distancia promedio a cinco centros de empleos.</li>\r\n",
    "<li><code>rad</code> índice de accesibilidad a autopistas.</li>\r\n",
    "<li><code>tax</code> nivel de impuestos asociados a viviendas.</li>\r\n",
    "<li><code>ptratio</code> razón alumno:profesor por sector de Boston.</li>\r\n",
    "<li><code>black</code> proporción de afroamericanos por sector de Boston.</li>\r\n",
    "<li><code>lstat</code> porcentaje de población de estratos bajos.</li>\r\n",
    "<li><code>medv</code> valor mediano de las casa</li>"
   ],
   "metadata": {}
  },
  {
   "cell_type": "markdown",
   "source": [
    "## Desafío 1: Prepare el ambiente de trabajo\r\n",
    "\r\n",
    "<li>Importe las librerías básicas para el análisis de datos.</li>\r\n",
    "<li>Importe el módulo <code>linear_model</code> , y las funciones <code>mean_squared_error</code> , <code>r2_score</code>\r\n",
    "y <code>train_test_split</code> .</li>\r\n",
    "<li>Importe la base de datos <code>boston.csv</code> y elimine la columna <code>Unnamed: 0</code> .</li>\r\n",
    "<li>Obtenga las medidas descriptivas de la base de datos con <code>.describe()</code> .</li>\r\n"
   ],
   "metadata": {}
  },
  {
   "cell_type": "code",
   "execution_count": 7,
   "source": [
    "import pandas as pd\r\n",
    "import numpy as np\r\n",
    "import matplotlib.pyplot as plt\r\n",
    "import statsmodels.formula.api as smf\r\n",
    "import scipy.stats as stats\r\n",
    "import seaborn as sns\r\n",
    "from sklearn import linear_model\r\n",
    "from sklearn.metrics import mean_squared_error, r2_score\r\n",
    "from sklearn.model_selection import train_test_split"
   ],
   "outputs": [],
   "metadata": {}
  }
 ],
 "metadata": {
  "orig_nbformat": 4,
  "language_info": {
   "name": "python",
   "version": "3.8.5",
   "mimetype": "text/x-python",
   "codemirror_mode": {
    "name": "ipython",
    "version": 3
   },
   "pygments_lexer": "ipython3",
   "nbconvert_exporter": "python",
   "file_extension": ".py"
  },
  "kernelspec": {
   "name": "python3",
   "display_name": "Python 3.8.5 64-bit ('base': conda)"
  },
  "interpreter": {
   "hash": "07efdcd4b820c98a756949507a4d29d7862823915ec7477944641bea022f4f62"
  }
 },
 "nbformat": 4,
 "nbformat_minor": 2
}