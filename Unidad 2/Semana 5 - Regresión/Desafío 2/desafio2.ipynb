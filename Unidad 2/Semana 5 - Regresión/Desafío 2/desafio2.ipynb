{
 "cells": [
  {
   "cell_type": "markdown",
   "source": [
    "# __Desafío - Regresión desde el aprendizaje de máquinas__\r\n",
    "\r\n",
    "## Contexto\r\n",
    "En esta sesión trabajaremos una base de datos sobre los precios de las viviendas en\r\n",
    "Boston, utilizada en el paper Harrison Jr, D., & Rubinfeld, D. L. (1978). Hedonic housing\r\n",
    "prices and the demand for clean air. Journal of environmental economics and management,\r\n",
    "5(1), 81-102.\r\n",
    "Nuestro objetivo es desarrollar un modelo predictivo para el valor mediano de las casas\r\n",
    "mediante el entrenamiento de un modelo de regresión lineal.\r\n",
    "<li><code>crim</code> : Tasa de criminalidad por sector de Boston.</li>\r\n",
    "<li><code>zn</code> proporción de terreno residencial asignado para terrenos baldíos.</li>\r\n",
    "<li><code>indus</code> proporción de negocios no asociados al comercio por sector.</li>\r\n",
    "<li><code>chas</code> Dummy. 1 si el sector colinda con el río Charles, 0 de lo contrario.</li>\r\n",
    "<li><code>nox</code> Concentración de dióxido de carbono.</li>\r\n",
    "<li><code>rm</code> cantidad promedio de habitaciones por casa.</li>\r\n",
    "<li><code>age</code> proporción de casas construidas antes de 1940.</li>\r\n",
    "<li><code>dis</code> distancia promedio a cinco centros de empleos.</li>\r\n",
    "<li><code>rad</code> índice de accesibilidad a autopistas.</li>\r\n",
    "<li><code>tax</code> nivel de impuestos asociados a viviendas.</li>\r\n",
    "<li><code>ptratio</code> razón alumno:profesor por sector de Boston.</li>\r\n",
    "<li><code>black</code> proporción de afroamericanos por sector de Boston.</li>\r\n",
    "<li><code>lstat</code> porcentaje de población de estratos bajos.</li>\r\n",
    "<li><code>medv</code> valor mediano de las casa</li>"
   ],
   "metadata": {}
  },
  {
   "cell_type": "markdown",
   "source": [
    "## Desafío 1: Prepare el ambiente de trabajo\r\n",
    "\r\n",
    "<li>Importe las librerías básicas para el análisis de datos.</li>\r\n",
    "<li>Importe el módulo <code>linear_model</code> , y las funciones <code>mean_squared_error</code> , <code>r2_score</code>\r\n",
    "y <code>train_test_split</code> .</li>\r\n",
    "<li>Importe la base de datos <code>boston.csv</code> y elimine la columna <code>Unnamed: 0</code> .</li>\r\n",
    "<li>Obtenga las medidas descriptivas de la base de datos con <code>.describe()</code> .</li>\r\n"
   ],
   "metadata": {}
  },
  {
   "cell_type": "code",
   "execution_count": 3,
   "source": [
    "import pandas as pd\r\n",
    "import numpy as np\r\n",
    "import matplotlib.pyplot as plt\r\n",
    "import statsmodels.formula.api as smf\r\n",
    "import scipy.stats as stats\r\n",
    "import seaborn as sns\r\n",
    "from sklearn import linear_model\r\n",
    "from sklearn.metrics import mean_squared_error, r2_score\r\n",
    "from sklearn.model_selection import train_test_split"
   ],
   "outputs": [],
   "metadata": {}
  },
  {
   "cell_type": "code",
   "execution_count": 8,
   "source": [
    "df = pd.read_csv('boston.csv').drop(columns=['Unnamed: 0']).dropna()\r\n",
    "df.describe()"
   ],
   "outputs": [
    {
     "output_type": "execute_result",
     "data": {
      "text/html": [
       "<div>\n",
       "<style scoped>\n",
       "    .dataframe tbody tr th:only-of-type {\n",
       "        vertical-align: middle;\n",
       "    }\n",
       "\n",
       "    .dataframe tbody tr th {\n",
       "        vertical-align: top;\n",
       "    }\n",
       "\n",
       "    .dataframe thead th {\n",
       "        text-align: right;\n",
       "    }\n",
       "</style>\n",
       "<table border=\"1\" class=\"dataframe\">\n",
       "  <thead>\n",
       "    <tr style=\"text-align: right;\">\n",
       "      <th></th>\n",
       "      <th>crim</th>\n",
       "      <th>zn</th>\n",
       "      <th>indus</th>\n",
       "      <th>chas</th>\n",
       "      <th>nox</th>\n",
       "      <th>rm</th>\n",
       "      <th>age</th>\n",
       "      <th>dis</th>\n",
       "      <th>rad</th>\n",
       "      <th>tax</th>\n",
       "      <th>ptratio</th>\n",
       "      <th>black</th>\n",
       "      <th>lstat</th>\n",
       "      <th>medv</th>\n",
       "    </tr>\n",
       "  </thead>\n",
       "  <tbody>\n",
       "    <tr>\n",
       "      <th>count</th>\n",
       "      <td>506.000000</td>\n",
       "      <td>506.000000</td>\n",
       "      <td>506.000000</td>\n",
       "      <td>506.000000</td>\n",
       "      <td>506.000000</td>\n",
       "      <td>506.000000</td>\n",
       "      <td>506.000000</td>\n",
       "      <td>506.000000</td>\n",
       "      <td>506.000000</td>\n",
       "      <td>506.000000</td>\n",
       "      <td>506.000000</td>\n",
       "      <td>506.000000</td>\n",
       "      <td>506.000000</td>\n",
       "      <td>506.000000</td>\n",
       "    </tr>\n",
       "    <tr>\n",
       "      <th>mean</th>\n",
       "      <td>3.613524</td>\n",
       "      <td>11.363636</td>\n",
       "      <td>11.136779</td>\n",
       "      <td>0.069170</td>\n",
       "      <td>0.554695</td>\n",
       "      <td>6.284634</td>\n",
       "      <td>68.574901</td>\n",
       "      <td>3.795043</td>\n",
       "      <td>9.549407</td>\n",
       "      <td>408.237154</td>\n",
       "      <td>18.455534</td>\n",
       "      <td>356.674032</td>\n",
       "      <td>12.653063</td>\n",
       "      <td>22.532806</td>\n",
       "    </tr>\n",
       "    <tr>\n",
       "      <th>std</th>\n",
       "      <td>8.601545</td>\n",
       "      <td>23.322453</td>\n",
       "      <td>6.860353</td>\n",
       "      <td>0.253994</td>\n",
       "      <td>0.115878</td>\n",
       "      <td>0.702617</td>\n",
       "      <td>28.148861</td>\n",
       "      <td>2.105710</td>\n",
       "      <td>8.707259</td>\n",
       "      <td>168.537116</td>\n",
       "      <td>2.164946</td>\n",
       "      <td>91.294864</td>\n",
       "      <td>7.141062</td>\n",
       "      <td>9.197104</td>\n",
       "    </tr>\n",
       "    <tr>\n",
       "      <th>min</th>\n",
       "      <td>0.006320</td>\n",
       "      <td>0.000000</td>\n",
       "      <td>0.460000</td>\n",
       "      <td>0.000000</td>\n",
       "      <td>0.385000</td>\n",
       "      <td>3.561000</td>\n",
       "      <td>2.900000</td>\n",
       "      <td>1.129600</td>\n",
       "      <td>1.000000</td>\n",
       "      <td>187.000000</td>\n",
       "      <td>12.600000</td>\n",
       "      <td>0.320000</td>\n",
       "      <td>1.730000</td>\n",
       "      <td>5.000000</td>\n",
       "    </tr>\n",
       "    <tr>\n",
       "      <th>25%</th>\n",
       "      <td>0.082045</td>\n",
       "      <td>0.000000</td>\n",
       "      <td>5.190000</td>\n",
       "      <td>0.000000</td>\n",
       "      <td>0.449000</td>\n",
       "      <td>5.885500</td>\n",
       "      <td>45.025000</td>\n",
       "      <td>2.100175</td>\n",
       "      <td>4.000000</td>\n",
       "      <td>279.000000</td>\n",
       "      <td>17.400000</td>\n",
       "      <td>375.377500</td>\n",
       "      <td>6.950000</td>\n",
       "      <td>17.025000</td>\n",
       "    </tr>\n",
       "    <tr>\n",
       "      <th>50%</th>\n",
       "      <td>0.256510</td>\n",
       "      <td>0.000000</td>\n",
       "      <td>9.690000</td>\n",
       "      <td>0.000000</td>\n",
       "      <td>0.538000</td>\n",
       "      <td>6.208500</td>\n",
       "      <td>77.500000</td>\n",
       "      <td>3.207450</td>\n",
       "      <td>5.000000</td>\n",
       "      <td>330.000000</td>\n",
       "      <td>19.050000</td>\n",
       "      <td>391.440000</td>\n",
       "      <td>11.360000</td>\n",
       "      <td>21.200000</td>\n",
       "    </tr>\n",
       "    <tr>\n",
       "      <th>75%</th>\n",
       "      <td>3.677082</td>\n",
       "      <td>12.500000</td>\n",
       "      <td>18.100000</td>\n",
       "      <td>0.000000</td>\n",
       "      <td>0.624000</td>\n",
       "      <td>6.623500</td>\n",
       "      <td>94.075000</td>\n",
       "      <td>5.188425</td>\n",
       "      <td>24.000000</td>\n",
       "      <td>666.000000</td>\n",
       "      <td>20.200000</td>\n",
       "      <td>396.225000</td>\n",
       "      <td>16.955000</td>\n",
       "      <td>25.000000</td>\n",
       "    </tr>\n",
       "    <tr>\n",
       "      <th>max</th>\n",
       "      <td>88.976200</td>\n",
       "      <td>100.000000</td>\n",
       "      <td>27.740000</td>\n",
       "      <td>1.000000</td>\n",
       "      <td>0.871000</td>\n",
       "      <td>8.780000</td>\n",
       "      <td>100.000000</td>\n",
       "      <td>12.126500</td>\n",
       "      <td>24.000000</td>\n",
       "      <td>711.000000</td>\n",
       "      <td>22.000000</td>\n",
       "      <td>396.900000</td>\n",
       "      <td>37.970000</td>\n",
       "      <td>50.000000</td>\n",
       "    </tr>\n",
       "  </tbody>\n",
       "</table>\n",
       "</div>"
      ],
      "text/plain": [
       "             crim          zn       indus        chas         nox          rm  \\\n",
       "count  506.000000  506.000000  506.000000  506.000000  506.000000  506.000000   \n",
       "mean     3.613524   11.363636   11.136779    0.069170    0.554695    6.284634   \n",
       "std      8.601545   23.322453    6.860353    0.253994    0.115878    0.702617   \n",
       "min      0.006320    0.000000    0.460000    0.000000    0.385000    3.561000   \n",
       "25%      0.082045    0.000000    5.190000    0.000000    0.449000    5.885500   \n",
       "50%      0.256510    0.000000    9.690000    0.000000    0.538000    6.208500   \n",
       "75%      3.677082   12.500000   18.100000    0.000000    0.624000    6.623500   \n",
       "max     88.976200  100.000000   27.740000    1.000000    0.871000    8.780000   \n",
       "\n",
       "              age         dis         rad         tax     ptratio       black  \\\n",
       "count  506.000000  506.000000  506.000000  506.000000  506.000000  506.000000   \n",
       "mean    68.574901    3.795043    9.549407  408.237154   18.455534  356.674032   \n",
       "std     28.148861    2.105710    8.707259  168.537116    2.164946   91.294864   \n",
       "min      2.900000    1.129600    1.000000  187.000000   12.600000    0.320000   \n",
       "25%     45.025000    2.100175    4.000000  279.000000   17.400000  375.377500   \n",
       "50%     77.500000    3.207450    5.000000  330.000000   19.050000  391.440000   \n",
       "75%     94.075000    5.188425   24.000000  666.000000   20.200000  396.225000   \n",
       "max    100.000000   12.126500   24.000000  711.000000   22.000000  396.900000   \n",
       "\n",
       "            lstat        medv  \n",
       "count  506.000000  506.000000  \n",
       "mean    12.653063   22.532806  \n",
       "std      7.141062    9.197104  \n",
       "min      1.730000    5.000000  \n",
       "25%      6.950000   17.025000  \n",
       "50%     11.360000   21.200000  \n",
       "75%     16.955000   25.000000  \n",
       "max     37.970000   50.000000  "
      ]
     },
     "metadata": {},
     "execution_count": 8
    }
   ],
   "metadata": {}
  },
  {
   "cell_type": "markdown",
   "source": [],
   "metadata": {}
  },
  {
   "cell_type": "markdown",
   "source": [
    "## Desafío 2: División de la muestra\r\n",
    "<ul>\r\n",
    "<li>Genere conjuntos de entrenamiento y pruebas con <code>train_test_split</code> .</li>\r\n",
    "<li>Reserve un 33% de la muestra para el conjunto de pruebas.</li>\r\n",
    "<li>Incluya una semilla pseudoaleatoria a su elección, esto lo puede hacer con el\r\n",
    "argumento <code>random_state</code> dentro del método <code>train_test_plit</code>.</li>\r\n",
    "</ul>\r\n"
   ],
   "metadata": {}
  },
  {
   "cell_type": "code",
   "execution_count": 9,
   "source": [
    "# se generan los subconjuntos de entrenamiento con un seed fijo para obtener siempre los mismos resultados\r\n",
    "X_train, X_test, y_train, y_test = train_test_split(df.loc[:, 'crim':'lstat'], df['medv'], test_size=.33, random_state=19137)"
   ],
   "outputs": [],
   "metadata": {}
  },
  {
   "cell_type": "markdown",
   "source": [
    "## Desafío 3: Generación de modelos\r\n",
    "<li>Ahora implementaremos dos versiones del modelo lineal:\r\n",
    "<ul>\r\n",
    "<li>Con intercepto y atributos normalizados.</li>\r\n",
    "<li>Sin intercepto y atributos no normalizados.</li>\r\n",
    "</ul>\r\n",
    "</li>\r\n",
    "<li>Cada versión debe generarse en un nuevo objeto inicializado.</li>\r\n",
    "<li>Posteriormente se deben entrenar los modelos especificando la matriz y vector de\r\n",
    "entrenamiento.</li>\r\n",
    "<li>Con los modelos entrenados, genere una predicción de la matriz de pruebas con el\r\n",
    "método <code>.predict()</code>.</li>\r\n"
   ],
   "metadata": {}
  },
  {
   "cell_type": "code",
   "execution_count": 11,
   "source": [
    "# Se inicializan los modelos\r\n",
    "fullModel = linear_model.LinearRegression(fit_intercept=True, normalize=True)\r\n",
    "strippedModel = linear_model.LinearRegression(fit_intercept=False, normalize=False)\r\n",
    "# Se entrenan los modelos\r\n",
    "fullModel.fit(X_train, y_train)\r\n",
    "strippedModel.fit(X_train, y_train)\r\n",
    "# se predice en base al conjunto de testing\r\n",
    "fullPrediction = fullModel.predict(X_test)\r\n",
    "strippedPrediction = strippedModel.predict(X_test)"
   ],
   "outputs": [],
   "metadata": {}
  },
  {
   "cell_type": "markdown",
   "source": [
    "## Desafío 4: Obtención de métricas\r\n",
    "<ul>\r\n",
    "<li>Ahora generaremos una función llamada <code>report_scores</code> que ingrese como\r\n",
    "argumentos el vector de datos predichos y el vector de datos por validar.</li>\r\n",
    "<li>La función debe imprimir las métricas del Error Cuadrático Promedio y R2.</li>\r\n",
    "<li>Reporte las métricas para ambos modelos. En base a ello, seleccione el mejor\r\n",
    "modelo.</li>\r\n",
    "</ul>\r\n"
   ],
   "metadata": {}
  },
  {
   "cell_type": "code",
   "execution_count": 12,
   "source": [
    "def report_scores(y_test, y_predicted):\r\n",
    "    print(f'Error cuadrático promedio es: {mean_squared_error(y_test, y_predicted)}')\r\n",
    "    print(f'R2 Score: {r2_score(y_test, y_predicted)}')\r\n",
    "print('Análisis para el modelo Full')\r\n",
    "report_scores(y_test, fullPrediction)\r\n",
    "print('Análisis para el modelo desnudo')\r\n",
    "report_scores(y_test, strippedPrediction)"
   ],
   "outputs": [
    {
     "output_type": "stream",
     "name": "stdout",
     "text": [
      "Análisis para el modelo Full\n",
      "Error cuadrático promedio es: 38.691736354497394\n",
      "R2 Score: 0.5661499903371134\n",
      "Análisis para el modelo desnudo\n",
      "Error cuadrático promedio es: 43.448234570349946\n",
      "R2 Score: 0.5128154287138726\n"
     ]
    }
   ],
   "metadata": {}
  },
  {
   "cell_type": "markdown",
   "source": [
    "Esto nos dice que el mejor modelo es el con intercepto y normalizado, ya que tiene un mejor R2 y un menor error cuadrático."
   ],
   "metadata": {}
  },
  {
   "cell_type": "markdown",
   "source": [
    "## Desafío 5: Refactorización del modelo\r\n",
    "<ul>\r\n",
    "<li>Genere una función llamada <code>fetch_features</code> que ingrese como argumentos la base\r\n",
    "de datos y el nombre del vector objetivo. El nombre del vector debe ser <code>medv</code> por\r\n",
    "defecto.</li>\r\n",
    "<li>La función debe retornar una lista con las correlaciones entre cada atributo y el\r\n",
    "vector objetivo y su nombre.</li>\r\n",
    "<li>Reporte brevemente cuales los 6 atributos con una mayor correlación con <code>medv</code></li>\r\n",
    "</ul>\r\n"
   ],
   "metadata": {}
  },
  {
   "cell_type": "code",
   "execution_count": 20,
   "source": [
    "# Se define la función\r\n",
    "def fetch_features(df, colName = 'medv'):\r\n",
    "    return df.corr()[colName]\r\n",
    "fetch_features(df).sort_values()"
   ],
   "outputs": [
    {
     "output_type": "execute_result",
     "data": {
      "text/plain": [
       "lstat     -0.737663\n",
       "ptratio   -0.507787\n",
       "indus     -0.483725\n",
       "tax       -0.468536\n",
       "nox       -0.427321\n",
       "crim      -0.388305\n",
       "rad       -0.381626\n",
       "age       -0.376955\n",
       "chas       0.175260\n",
       "dis        0.249929\n",
       "black      0.333461\n",
       "zn         0.360445\n",
       "rm         0.695360\n",
       "medv       1.000000\n",
       "Name: medv, dtype: float64"
      ]
     },
     "metadata": {},
     "execution_count": 20
    }
   ],
   "metadata": {}
  },
  {
   "cell_type": "markdown",
   "source": [
    "Vemos que aparte de consigo misma, las 6 correlaciones mas fuertes de <code>medv</code> son con <code>lstat, ptratio, indus, tax, nox</code> (inversamente proporcionales) y <code>rm</code> (directamente proporcional)"
   ],
   "metadata": {}
  },
  {
   "cell_type": "markdown",
   "source": [
    "## Desafío 6: Refactorización del modelo predictivo\r\n",
    "<ul>\r\n",
    "<li>Genere otros conjuntos de entrenamiento y validación en base a una matriz con los 6\r\n",
    "atributos identificados y el vector objetivo.</li>\r\n",
    "<li>Entrene un modelo en base al mejor desempeño.</li>\r\n",
    "<li>Reporte las métricas para el nuevo modelo.</li>\r\n",
    "</ul>"
   ],
   "metadata": {}
  },
  {
   "cell_type": "code",
   "execution_count": 39,
   "source": [
    "# se Recrean los conjuntos de entrenamiento y validación\r\n",
    "X_train_dep, X_test_dep, y_train_dep, y_test_dep = train_test_split(df.loc[:, ['lstat', 'ptratio', 'rm', 'indus', 'tax', 'nox']], df['medv'], test_size=.33, random_state=19137)\r\n",
    "# se entrena el modelo\r\n",
    "depuratedModel = linear_model.LinearRegression(fit_intercept=True, normalize=True)\r\n",
    "depuratedModel.fit(X_train_dep, y_train_dep)\r\n",
    "# se reportan las metricas\r\n",
    "report_scores(y_test_dep, depuratedModel.predict(X_test_dep))"
   ],
   "outputs": [
    {
     "output_type": "stream",
     "name": "stdout",
     "text": [
      "Error cuadrático promedio es: 46.578008452618924\n",
      "R2 Score: 0.47772130896116183\n"
     ]
    }
   ],
   "metadata": {}
  },
  {
   "cell_type": "markdown",
   "source": [
    "## Desafío 7: Predicción de casos\r\n",
    "<ul>\r\n",
    "<li>A continuación se generaron dos arrays que representan el peor escenario posible\r\n",
    "(<code>worst_neighbor</code>) y el mejor escenario posible (<code>best_neighbor</code>).</li>\r\n",
    "\r\n",
    "```python\r\n",
    "worst_neighbor = np.array([37.9, 12.6, 3.5, 27.7, 187, 0.87]).reshape(1,-1)\r\n",
    "best_neighbor = np.array([1.73, 22, 8.7, 0.46, 711, 0.38]).reshape(1,-1)\r\n",
    "```\r\n",
    "<li>Ingrese los arrays en el modelo entrenado y reporte la predicción entregada por el\r\n",
    "modelo.</li>\r\n",
    "</ul>\r\n"
   ],
   "metadata": {}
  },
  {
   "cell_type": "code",
   "execution_count": 40,
   "source": [
    "worst_neighbor = np.array([37.9, 12.6, 3.5, 27.7, 187, 0.87]).reshape(1,-1)\r\n",
    "best_neighbor = np.array([1.73, 22, 8.7, 0.46, 711, 0.38]).reshape(1,-1)\r\n",
    "\r\n",
    "print(depuratedModel.predict(worst_neighbor))\r\n",
    "print(depuratedModel.predict(best_neighbor))"
   ],
   "outputs": [
    {
     "output_type": "stream",
     "name": "stdout",
     "text": [
      "[1.90118994]\n",
      "[35.522435]\n"
     ]
    }
   ],
   "metadata": {}
  },
  {
   "cell_type": "markdown",
   "source": [
    "Vemos que estos resultados tienen sentido pues ambos valores se podrían considerar <code>outliers</code> comparados con los valroes de nuestro espacio muestral para <code>medv</code>. Ambos pertenecen al primer y último cuartil respectivamente."
   ],
   "metadata": {}
  }
 ],
 "metadata": {
  "orig_nbformat": 4,
  "language_info": {
   "name": "python",
   "version": "3.8.5",
   "mimetype": "text/x-python",
   "codemirror_mode": {
    "name": "ipython",
    "version": 3
   },
   "pygments_lexer": "ipython3",
   "nbconvert_exporter": "python",
   "file_extension": ".py"
  },
  "kernelspec": {
   "name": "python3",
   "display_name": "Python 3.8.5 64-bit ('base': conda)"
  },
  "interpreter": {
   "hash": "07efdcd4b820c98a756949507a4d29d7862823915ec7477944641bea022f4f62"
  }
 },
 "nbformat": 4,
 "nbformat_minor": 2
}