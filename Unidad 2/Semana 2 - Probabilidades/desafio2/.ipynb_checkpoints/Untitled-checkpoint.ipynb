{
 "cells": [
  {
   "cell_type": "markdown",
   "metadata": {},
   "source": [
    "# Desafío - Funciones y probabilidad básica\n"
   ]
  },
  {
   "cell_type": "code",
   "execution_count": 11,
   "metadata": {},
   "outputs": [],
   "source": [
    "import numpy as np\n",
    "import pandas as pd\n",
    "\n",
    "df = pd.read_csv('./worldcup2014.csv')"
   ]
  },
  {
   "cell_type": "markdown",
   "metadata": {},
   "source": [
    "### Desafío 1: Generación de funciones"
   ]
  },
  {
   "cell_type": "code",
   "execution_count": 9,
   "metadata": {},
   "outputs": [
    {
     "name": "stdout",
     "output_type": "stream",
     "text": [
      "Varianza goles a favor 5.1875\n",
      "Varianza goles en contra 4.8125\n",
      "Varianza puntos 8.0458984375\n"
     ]
    }
   ],
   "source": [
    "\"\"\" Función para conseguir la media de una Serie pandas\"\"\"\n",
    "def media(x):\n",
    "    return x.mean()\n",
    "\"\"\" Función para conseguir la media de una Serie pandas\"\"\"\n",
    "def varianza(x):\n",
    "    sum = 0\n",
    "    for i in x:\n",
    "        sum += (i - media(x))**2\n",
    "    return sum/x.size\n",
    "\n",
    "print(f\"Varianza goles a favor {varianza(df['goles_favor'])}\")\n",
    "print(f\"Varianza goles en contra {varianza(df['goles_contra'])}\")\n",
    "print(f\"Varianza puntos {varianza(df['puntos'])}\")"
   ]
  },
  {
   "cell_type": "markdown",
   "metadata": {},
   "source": [
    "### Desafío 2: Refactoring de código"
   ]
  },
  {
   "cell_type": "code",
   "execution_count": 110,
   "metadata": {},
   "outputs": [],
   "source": [
    "def groupByVariable(variable):\n",
    "    return df.groupby(by=variable).agg([media, varianza])\n",
    "newDf = groupByVariable('continent')\n",
    "def reportarTendenciasContinente(variable):\n",
    "    print(f\"Media de {variable}:\\n\")\n",
    "    print(newDf[variable]['media'])\n",
    "    print(f\"varianza de {variable}:\\n\")\n",
    "    print(newDf[variable]['varianza'])"
   ]
  },
  {
   "cell_type": "code",
   "execution_count": 111,
   "metadata": {},
   "outputs": [
    {
     "name": "stdout",
     "output_type": "stream",
     "text": [
      "Media de goles_favor: continent\n",
      "africa          3.600000\n",
      "asia            2.250000\n",
      "europe          4.769231\n",
      "northamerica    3.250000\n",
      "southamerica    5.666667\n",
      "Name: media, dtype: float64\n",
      "varianza de goles_favor: continent\n",
      "africa          2.640000\n",
      "asia            0.687500\n",
      "europe          6.331361\n",
      "northamerica    1.687500\n",
      "southamerica    3.888889\n",
      "Name: varianza, dtype: float64\n",
      "-----------0-----------\n",
      "Media de goles_contra: continent\n",
      "africa          5.600000\n",
      "asia            6.250000\n",
      "europe          4.000000\n",
      "northamerica    3.500000\n",
      "southamerica    2.833333\n",
      "Name: media, dtype: float64\n",
      "varianza de goles_contra: continent\n",
      "africa          3.840000\n",
      "asia            3.187500\n",
      "europe          3.538462\n",
      "northamerica    8.250000\n",
      "southamerica    0.472222\n",
      "Name: varianza, dtype: float64\n",
      "-----------0-----------\n",
      "Media de puntos: continent\n",
      "africa          2.400000\n",
      "asia            0.750000\n",
      "europe          4.692308\n",
      "northamerica    4.500000\n",
      "southamerica    6.833333\n",
      "Name: media, dtype: float64\n",
      "varianza de puntos: continent\n",
      "africa          2.640000\n",
      "asia            0.187500\n",
      "europe          6.366864\n",
      "northamerica    8.250000\n",
      "southamerica    3.138889\n",
      "Name: varianza, dtype: float64\n"
     ]
    }
   ],
   "source": [
    "reportarTendencias('goles_favor')\n",
    "print('-----------0-----------')\n",
    "reportarTendencias('goles_contra')\n",
    "print('-----------0-----------')\n",
    "reportarTendencias('puntos')"
   ]
  },
  {
   "cell_type": "code",
   "execution_count": 47,
   "metadata": {},
   "outputs": [
    {
     "name": "stdout",
     "output_type": "stream",
     "text": [
      "Continente con mayor cantidad de goles promedio a favor es southamerica\n",
      "Continente con mayor cantidad de goles promedio en contra es asia\n",
      "Continente con mayor promedio de puntos es southamerica\n"
     ]
    }
   ],
   "source": [
    "print(f\"Continente con mayor cantidad de goles promedio a favor es {newDf['goles_favor'].sort_values(by='media').iloc[-1].name}\")\n",
    "print(f\"Continente con mayor cantidad de goles promedio en contra es {newDf['goles_contra'].sort_values(by='media').iloc[-1].name}\")\n",
    "print(f\"Continente con mayor promedio de puntos es {newDf['puntos'].sort_values(by='media').iloc[-1].name}\")"
   ]
  },
  {
   "cell_type": "markdown",
   "metadata": {},
   "source": [
    "### Desafio 3: Simulaciones"
   ]
  },
  {
   "cell_type": "markdown",
   "metadata": {},
   "source": [
    "<li>Genere una función <code>generate_pet</code> que devuelva de forma aleatoria un string\n",
    "    <span style=\"color:red\">'perro'</span> o <span style=\"color:red\">'gato'</span> un número n de veces. Ejecútela un par de veces.\n",
    "</li>"
   ]
  },
  {
   "cell_type": "code",
   "execution_count": 80,
   "metadata": {},
   "outputs": [
    {
     "name": "stdout",
     "output_type": "stream",
     "text": [
      "['gato', 'gato', 'gato', 'gato', 'gato']\n",
      "['perro', 'perro', 'gato', 'gato', 'gato']\n",
      "['gato', 'perro', 'perro', 'gato', 'perro']\n",
      "['perro', 'gato', 'perro', 'perro', 'gato']\n",
      "['gato', 'perro', 'perro', 'perro', 'perro']\n"
     ]
    }
   ],
   "source": [
    "def generate_pet(n):\n",
    "    arr = []\n",
    "    for i in range(n):\n",
    "        arr.append(np.random.choice(['perro', 'gato']))\n",
    "    return arr\n",
    "\n",
    "for i in range(5):\n",
    "    print(generate_pet(5))"
   ]
  },
  {
   "cell_type": "markdown",
   "metadata": {},
   "source": [
    "<li>Aplique la función para generar 20 muestras</li>"
   ]
  },
  {
   "cell_type": "code",
   "execution_count": 81,
   "metadata": {},
   "outputs": [],
   "source": [
    "muestras = []\n",
    "cantidadObservaciones = 5000  # cada muestra tendrá 5000 observaciones\n",
    "for i in range(20):\n",
    "    muestras.append(generate_pet(cantidadObservaciones))"
   ]
  },
  {
   "cell_type": "markdown",
   "metadata": {},
   "source": [
    "<li>¿Cuál es la probabilidad de elegir un perro al azar? ¿Y un gato?</li>"
   ]
  },
  {
   "cell_type": "code",
   "execution_count": 82,
   "metadata": {},
   "outputs": [
    {
     "name": "stdout",
     "output_type": "stream",
     "text": [
      "La probabilidad de elegin un perro al azar es 0.49715\n",
      "La probabilidad de elegin un gato al azar es 0.50285\n"
     ]
    }
   ],
   "source": [
    "probPerroPromedioMuestras = 0 \n",
    "for arr in muestras:\n",
    "    probPerroPromedioMuestras += arr.count('perro')/cantidadObservaciones\n",
    "probPerro = probPerroPromedioMuestras/len(muestras)\n",
    "print(f\"La probabilidad de elegir un perro al azar es {probPerro}\")\n",
    "print(f\"La probabilidad de elegir un gato al azar es {1-probPerro}\")"
   ]
  },
  {
   "cell_type": "markdown",
   "metadata": {},
   "source": [
    "<li>Agregue <code>np.random.seed(2)</code> al inicio del chunk. ¿Qué diferencia hay cuando se\n",
    "ejecuta la función varias veces luego de fijar la semilla?</li>"
   ]
  },
  {
   "cell_type": "code",
   "execution_count": 83,
   "metadata": {},
   "outputs": [
    {
     "name": "stdout",
     "output_type": "stream",
     "text": [
      "La probabilidad de elegin un perro al azar es 0.50125\n",
      "La probabilidad de elegin un gato al azar es 0.49875\n"
     ]
    }
   ],
   "source": [
    "np.random.seed(2)\n",
    "muestras = []\n",
    "cantidadObservaciones = 5000  # cada muestra tendrá 5000 observaciones\n",
    "for i in range(20):\n",
    "    muestras.append(generate_pet(cantidadObservaciones))\n",
    "\n",
    "    probPerroPromedioMuestras = 0\n",
    "for arr in muestras:\n",
    "    probPerroPromedioMuestras += arr.count('perro')/cantidadObservaciones\n",
    "probPerro = probPerroPromedioMuestras/len(muestras)\n",
    "print(f\"La probabilidad de elegin un perro al azar es {probPerro}\")\n",
    "print(f\"La probabilidad de elegin un gato al azar es {1-probPerro}\")"
   ]
  },
  {
   "cell_type": "markdown",
   "metadata": {},
   "source": [
    "Cuando se fija la semilla significa que el numero pseudo-aleatorio que manejará <code>np.random</code> será siempre el mismo, provocando que la función siempre tenga el mismo resultado hasta que se reinicie la semilla o se específique otro valor para ésta."
   ]
  },
  {
   "cell_type": "markdown",
   "metadata": {},
   "source": [
    "### Desafío 4: Función simuladora"
   ]
  },
  {
   "cell_type": "markdown",
   "metadata": {},
   "source": [
    "<li>Genere una función llamada <code>simulate_pets_prob</code> que tome como argumento un\n",
    "número finito de simulaciones a generar.</li>"
   ]
  },
  {
   "cell_type": "code",
   "execution_count": 108,
   "metadata": {},
   "outputs": [
    {
     "name": "stdout",
     "output_type": "stream",
     "text": [
      "(0.7486, 0.4986, 0.2526)\n"
     ]
    }
   ],
   "source": [
    "np.random.seed(1)\n",
    "def simulate_pets_prob(n):\n",
    "    atLeastOneDog = 0\n",
    "    oldPetDog = 0\n",
    "    bothPetDogs = 0\n",
    "    for i in range(n):\n",
    "        young_pet = generate_pet(1)\n",
    "        old_pet = generate_pet(1)\n",
    "        if young_pet.count('perro') == 1 or old_pet.count('perro') == 1 :\n",
    "            atLeastOneDog += 1\n",
    "        if old_pet.count('perro') == 1:\n",
    "            oldPetDog += 1\n",
    "        if young_pet.count('perro') == 1 and old_pet.count('perro') == 1:\n",
    "            bothPetDogs += 1\n",
    "    return (atLeastOneDog/n, oldPetDog/n, bothPetDogs/n)\n",
    "print(simulate_pets_prob(5000))"
   ]
  },
  {
   "cell_type": "markdown",
   "metadata": {},
   "source": [
    "<li>La mayor probabilidad la tiene que al menos unos de los dos sea un perro, y la menor probabilidad es la de que ambos sean perro</li>\n",
    "<li>Esto se debe a que la simulación tiene 4 resultados posibles: (g,g), (g,p), (p,g) y (p,p). Es por esto que la mejor probabilidad la tiene que al menos uno sea perro, ya que sucede en 3 de los 4 posibles resultado, por tanto dando probabilidad  ~ 0.75. De la misma manera se puede observar el que ambos sean perro, ya que es sólo 1 de los 4 resultados posibles por tanto tiene probabilidad ~ 0.25</li>"
   ]
  }
 ],
 "metadata": {
  "kernelspec": {
   "display_name": "Python 3",
   "language": "python",
   "name": "python3"
  },
  "language_info": {
   "codemirror_mode": {
    "name": "ipython",
    "version": 3
   },
   "file_extension": ".py",
   "mimetype": "text/x-python",
   "name": "python",
   "nbconvert_exporter": "python",
   "pygments_lexer": "ipython3",
   "version": "3.8.5"
  }
 },
 "nbformat": 4,
 "nbformat_minor": 4
}
