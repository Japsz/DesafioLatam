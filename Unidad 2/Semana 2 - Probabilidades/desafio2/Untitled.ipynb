{
 "cells": [
  {
   "cell_type": "markdown",
   "source": [
    "# Desafío - Funciones y probabilidad básica\n"
   ],
   "metadata": {}
  },
  {
   "cell_type": "code",
   "execution_count": 11,
   "source": [
    "import numpy as np\r\n",
    "import pandas as pd\r\n",
    "\r\n",
    "df = pd.read_csv('./worldcup2014.csv')"
   ],
   "outputs": [],
   "metadata": {}
  },
  {
   "cell_type": "markdown",
   "source": [
    "### Desafío 1: Generación de funciones"
   ],
   "metadata": {}
  },
  {
   "cell_type": "code",
   "execution_count": 9,
   "source": [
    "\"\"\" Función para conseguir la media de una Serie pandas\"\"\"\r\n",
    "def media(x):\r\n",
    "    return x.mean()\r\n",
    "\"\"\" Función para conseguir la media de una Serie pandas\"\"\"\r\n",
    "def varianza(x):\r\n",
    "    sum = 0\r\n",
    "    for i in x:\r\n",
    "        sum += (i - media(x))**2\r\n",
    "    return sum/x.size\r\n",
    "\r\n",
    "print(f\"Varianza goles a favor {varianza(df['goles_favor'])}\")\r\n",
    "print(f\"Varianza goles en contra {varianza(df['goles_contra'])}\")\r\n",
    "print(f\"Varianza puntos {varianza(df['puntos'])}\")"
   ],
   "outputs": [
    {
     "output_type": "stream",
     "name": "stdout",
     "text": [
      "Varianza goles a favor 5.1875\n",
      "Varianza goles en contra 4.8125\n",
      "Varianza puntos 8.0458984375\n"
     ]
    }
   ],
   "metadata": {}
  },
  {
   "cell_type": "markdown",
   "source": [
    "### Desafío 2: Refactoring de código"
   ],
   "metadata": {}
  },
  {
   "cell_type": "code",
   "execution_count": 110,
   "source": [
    "def groupByVariable(variable):\r\n",
    "    return df.groupby(by=variable).agg([media, varianza])\r\n",
    "newDf = groupByVariable('continent')\r\n",
    "def reportarTendenciasContinente(variable):\r\n",
    "    print(f\"Media de {variable}:\\n\")\r\n",
    "    print(newDf[variable]['media'])\r\n",
    "    print(f\"varianza de {variable}:\\n\")\r\n",
    "    print(newDf[variable]['varianza'])"
   ],
   "outputs": [],
   "metadata": {}
  },
  {
   "cell_type": "code",
   "execution_count": 111,
   "source": [
    "reportarTendencias('goles_favor')\r\n",
    "print('-----------0-----------')\r\n",
    "reportarTendencias('goles_contra')\r\n",
    "print('-----------0-----------')\r\n",
    "reportarTendencias('puntos')"
   ],
   "outputs": [
    {
     "output_type": "stream",
     "name": "stdout",
     "text": [
      "Media de goles_favor: continent\n",
      "africa          3.600000\n",
      "asia            2.250000\n",
      "europe          4.769231\n",
      "northamerica    3.250000\n",
      "southamerica    5.666667\n",
      "Name: media, dtype: float64\n",
      "varianza de goles_favor: continent\n",
      "africa          2.640000\n",
      "asia            0.687500\n",
      "europe          6.331361\n",
      "northamerica    1.687500\n",
      "southamerica    3.888889\n",
      "Name: varianza, dtype: float64\n",
      "-----------0-----------\n",
      "Media de goles_contra: continent\n",
      "africa          5.600000\n",
      "asia            6.250000\n",
      "europe          4.000000\n",
      "northamerica    3.500000\n",
      "southamerica    2.833333\n",
      "Name: media, dtype: float64\n",
      "varianza de goles_contra: continent\n",
      "africa          3.840000\n",
      "asia            3.187500\n",
      "europe          3.538462\n",
      "northamerica    8.250000\n",
      "southamerica    0.472222\n",
      "Name: varianza, dtype: float64\n",
      "-----------0-----------\n",
      "Media de puntos: continent\n",
      "africa          2.400000\n",
      "asia            0.750000\n",
      "europe          4.692308\n",
      "northamerica    4.500000\n",
      "southamerica    6.833333\n",
      "Name: media, dtype: float64\n",
      "varianza de puntos: continent\n",
      "africa          2.640000\n",
      "asia            0.187500\n",
      "europe          6.366864\n",
      "northamerica    8.250000\n",
      "southamerica    3.138889\n",
      "Name: varianza, dtype: float64\n"
     ]
    }
   ],
   "metadata": {}
  },
  {
   "cell_type": "code",
   "execution_count": 47,
   "source": [
    "print(f\"Continente con mayor cantidad de goles promedio a favor es {newDf['goles_favor'].sort_values(by='media').iloc[-1].name}\")\r\n",
    "print(f\"Continente con mayor cantidad de goles promedio en contra es {newDf['goles_contra'].sort_values(by='media').iloc[-1].name}\")\r\n",
    "print(f\"Continente con mayor promedio de puntos es {newDf['puntos'].sort_values(by='media').iloc[-1].name}\")"
   ],
   "outputs": [
    {
     "output_type": "stream",
     "name": "stdout",
     "text": [
      "Continente con mayor cantidad de goles promedio a favor es southamerica\n",
      "Continente con mayor cantidad de goles promedio en contra es asia\n",
      "Continente con mayor promedio de puntos es southamerica\n"
     ]
    }
   ],
   "metadata": {}
  },
  {
   "cell_type": "markdown",
   "source": [
    "### Desafio 3: Simulaciones"
   ],
   "metadata": {}
  },
  {
   "cell_type": "markdown",
   "source": [
    "<li>Genere una función <code>generate_pet</code> que devuelva de forma aleatoria un string\n",
    "    <span style=\"color:red\">'perro'</span> o <span style=\"color:red\">'gato'</span> un número n de veces. Ejecútela un par de veces.\n",
    "</li>"
   ],
   "metadata": {}
  },
  {
   "cell_type": "code",
   "execution_count": 80,
   "source": [
    "def generate_pet(n):\r\n",
    "    arr = []\r\n",
    "    for i in range(n):\r\n",
    "        arr.append(np.random.choice(['perro', 'gato']))\r\n",
    "    return arr\r\n",
    "\r\n",
    "for i in range(5):\r\n",
    "    print(generate_pet(5))"
   ],
   "outputs": [
    {
     "output_type": "stream",
     "name": "stdout",
     "text": [
      "['gato', 'gato', 'gato', 'gato', 'gato']\n",
      "['perro', 'perro', 'gato', 'gato', 'gato']\n",
      "['gato', 'perro', 'perro', 'gato', 'perro']\n",
      "['perro', 'gato', 'perro', 'perro', 'gato']\n",
      "['gato', 'perro', 'perro', 'perro', 'perro']\n"
     ]
    }
   ],
   "metadata": {}
  },
  {
   "cell_type": "markdown",
   "source": [
    "<li>Aplique la función para generar 20 muestras</li>"
   ],
   "metadata": {}
  },
  {
   "cell_type": "code",
   "execution_count": 81,
   "source": [
    "muestras = []\r\n",
    "cantidadObservaciones = 5000  # cada muestra tendrá 5000 observaciones\r\n",
    "for i in range(20):\r\n",
    "    muestras.append(generate_pet(cantidadObservaciones))"
   ],
   "outputs": [],
   "metadata": {}
  },
  {
   "cell_type": "markdown",
   "source": [
    "<li>¿Cuál es la probabilidad de elegir un perro al azar? ¿Y un gato?</li>"
   ],
   "metadata": {}
  },
  {
   "cell_type": "code",
   "execution_count": 82,
   "source": [
    "probPerroPromedioMuestras = 0 \r\n",
    "for arr in muestras:\r\n",
    "    probPerroPromedioMuestras += arr.count('perro')/cantidadObservaciones\r\n",
    "probPerro = probPerroPromedioMuestras/len(muestras)\r\n",
    "print(f\"La probabilidad de elegir un perro al azar es {probPerro}\")\r\n",
    "print(f\"La probabilidad de elegir un gato al azar es {1-probPerro}\")"
   ],
   "outputs": [
    {
     "output_type": "stream",
     "name": "stdout",
     "text": [
      "La probabilidad de elegin un perro al azar es 0.49715\n",
      "La probabilidad de elegin un gato al azar es 0.50285\n"
     ]
    }
   ],
   "metadata": {}
  },
  {
   "cell_type": "markdown",
   "source": [
    "<li>Agregue <code>np.random.seed(2)</code> al inicio del chunk. ¿Qué diferencia hay cuando se\n",
    "ejecuta la función varias veces luego de fijar la semilla?</li>"
   ],
   "metadata": {}
  },
  {
   "cell_type": "code",
   "execution_count": 83,
   "source": [
    "np.random.seed(2)\r\n",
    "muestras = []\r\n",
    "cantidadObservaciones = 5000  # cada muestra tendrá 5000 observaciones\r\n",
    "for i in range(20):\r\n",
    "    muestras.append(generate_pet(cantidadObservaciones))\r\n",
    "\r\n",
    "    probPerroPromedioMuestras = 0\r\n",
    "for arr in muestras:\r\n",
    "    probPerroPromedioMuestras += arr.count('perro')/cantidadObservaciones\r\n",
    "probPerro = probPerroPromedioMuestras/len(muestras)\r\n",
    "print(f\"La probabilidad de elegir un perro al azar es {probPerro}\")\r\n",
    "print(f\"La probabilidad de elegir un gato al azar es {1-probPerro}\")"
   ],
   "outputs": [
    {
     "output_type": "stream",
     "name": "stdout",
     "text": [
      "La probabilidad de elegin un perro al azar es 0.50125\n",
      "La probabilidad de elegin un gato al azar es 0.49875\n"
     ]
    }
   ],
   "metadata": {}
  },
  {
   "cell_type": "markdown",
   "source": [
    "Cuando se fija la semilla significa que el numero pseudo-aleatorio que manejará <code>np.random</code> será siempre el mismo, provocando que la función siempre tenga el mismo resultado hasta que se reinicie la semilla o se específique otro valor para ésta."
   ],
   "metadata": {}
  },
  {
   "cell_type": "markdown",
   "source": [
    "### Desafío 4: Función simuladora"
   ],
   "metadata": {}
  },
  {
   "cell_type": "markdown",
   "source": [
    "<li>Genere una función llamada <code>simulate_pets_prob</code> que tome como argumento un\n",
    "número finito de simulaciones a generar.</li>"
   ],
   "metadata": {}
  },
  {
   "cell_type": "code",
   "execution_count": 108,
   "source": [
    "np.random.seed(1)\r\n",
    "def simulate_pets_prob(n):\r\n",
    "    atLeastOneDog = 0\r\n",
    "    oldPetDog = 0\r\n",
    "    bothPetDogs = 0\r\n",
    "    for i in range(n):\r\n",
    "        young_pet = generate_pet(1)\r\n",
    "        old_pet = generate_pet(1)\r\n",
    "        if young_pet.count('perro') == 1 or old_pet.count('perro') == 1 :\r\n",
    "            atLeastOneDog += 1\r\n",
    "        if old_pet.count('perro') == 1:\r\n",
    "            oldPetDog += 1\r\n",
    "        if young_pet.count('perro') == 1 and old_pet.count('perro') == 1:\r\n",
    "            bothPetDogs += 1\r\n",
    "    return (atLeastOneDog/n, oldPetDog/n, bothPetDogs/n)\r\n",
    "print(simulate_pets_prob(5000))"
   ],
   "outputs": [
    {
     "output_type": "stream",
     "name": "stdout",
     "text": [
      "(0.7486, 0.4986, 0.2526)\n"
     ]
    }
   ],
   "metadata": {}
  },
  {
   "cell_type": "markdown",
   "source": [
    "<li>La mayor probabilidad la tiene que al menos unos de los dos sea un perro, y la menor probabilidad es la de que ambos sean perro</li>\n",
    "<li>Esto se debe a que la simulación tiene 4 resultados posibles: (g,g), (g,p), (p,g) y (p,p). Es por esto que la mejor probabilidad la tiene que al menos uno sea perro, ya que sucede en 3 de los 4 posibles resultado, por tanto dando probabilidad  ~ 0.75. De la misma manera se puede observar el que ambos sean perro, ya que es sólo 1 de los 4 resultados posibles por tanto tiene probabilidad ~ 0.25</li>"
   ],
   "metadata": {}
  }
 ],
 "metadata": {
  "kernelspec": {
   "display_name": "Python 3",
   "language": "python",
   "name": "python3"
  },
  "language_info": {
   "codemirror_mode": {
    "name": "ipython",
    "version": 3
   },
   "file_extension": ".py",
   "mimetype": "text/x-python",
   "name": "python",
   "nbconvert_exporter": "python",
   "pygments_lexer": "ipython3",
   "version": "3.8.5"
  }
 },
 "nbformat": 4,
 "nbformat_minor": 4
}