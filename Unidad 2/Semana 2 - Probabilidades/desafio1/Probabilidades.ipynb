{
 "cells": [
  {
   "cell_type": "markdown",
   "source": [
    "# __Desafío - Calculando probabilidades__\r\n",
    "## Desafío 1: Lectura de archivos\r\n",
    "<ul>\r\n",
    "    <li>Importe <code>pandas</code> y <code>numpy</code> siguiendo las convenciones.</li>\r\n",
    "    <li>Lea la base de datos <code>worldcup2014.csv</code> y asígnela a un objeto <code>df</code>.</li>\r\n",
    "    <li>Solicite las primeras 5 observaciones con head.</li>\r\n",
    "</ul>"
   ],
   "metadata": {}
  },
  {
   "cell_type": "code",
   "execution_count": 6,
   "source": [
    "# Importar librerías\r\n",
    "import pandas as pd\r\n",
    "import numpy as np\r\n",
    "# Cargar Dataframe\r\n",
    "df = pd.read_csv('./worldcup2014.csv')\r\n",
    "# Leer las primeras 5 observaciones\r\n",
    "df.head(5)"
   ],
   "outputs": [
    {
     "output_type": "execute_result",
     "data": {
      "text/html": [
       "<div>\n",
       "<style scoped>\n",
       "    .dataframe tbody tr th:only-of-type {\n",
       "        vertical-align: middle;\n",
       "    }\n",
       "\n",
       "    .dataframe tbody tr th {\n",
       "        vertical-align: top;\n",
       "    }\n",
       "\n",
       "    .dataframe thead th {\n",
       "        text-align: right;\n",
       "    }\n",
       "</style>\n",
       "<table border=\"1\" class=\"dataframe\">\n",
       "  <thead>\n",
       "    <tr style=\"text-align: right;\">\n",
       "      <th></th>\n",
       "      <th>team</th>\n",
       "      <th>continent</th>\n",
       "      <th>group</th>\n",
       "      <th>group_pos</th>\n",
       "      <th>cantidad_juegos</th>\n",
       "      <th>juegos_ganados</th>\n",
       "      <th>juegos_empatados</th>\n",
       "      <th>juegos_perdidos</th>\n",
       "      <th>goles_favor</th>\n",
       "      <th>goles_contra</th>\n",
       "      <th>goles_diferencia</th>\n",
       "      <th>puntos</th>\n",
       "      <th>clasificado</th>\n",
       "    </tr>\n",
       "  </thead>\n",
       "  <tbody>\n",
       "    <tr>\n",
       "      <th>0</th>\n",
       "      <td>Brazil</td>\n",
       "      <td>southamerica</td>\n",
       "      <td>A</td>\n",
       "      <td>1</td>\n",
       "      <td>3</td>\n",
       "      <td>2</td>\n",
       "      <td>1</td>\n",
       "      <td>0</td>\n",
       "      <td>7</td>\n",
       "      <td>2</td>\n",
       "      <td>5</td>\n",
       "      <td>7</td>\n",
       "      <td>1</td>\n",
       "    </tr>\n",
       "    <tr>\n",
       "      <th>1</th>\n",
       "      <td>Mexico</td>\n",
       "      <td>northamerica</td>\n",
       "      <td>A</td>\n",
       "      <td>2</td>\n",
       "      <td>3</td>\n",
       "      <td>2</td>\n",
       "      <td>1</td>\n",
       "      <td>0</td>\n",
       "      <td>4</td>\n",
       "      <td>1</td>\n",
       "      <td>3</td>\n",
       "      <td>7</td>\n",
       "      <td>1</td>\n",
       "    </tr>\n",
       "    <tr>\n",
       "      <th>2</th>\n",
       "      <td>Croatia</td>\n",
       "      <td>europe</td>\n",
       "      <td>A</td>\n",
       "      <td>3</td>\n",
       "      <td>3</td>\n",
       "      <td>1</td>\n",
       "      <td>0</td>\n",
       "      <td>2</td>\n",
       "      <td>6</td>\n",
       "      <td>6</td>\n",
       "      <td>0</td>\n",
       "      <td>3</td>\n",
       "      <td>0</td>\n",
       "    </tr>\n",
       "    <tr>\n",
       "      <th>3</th>\n",
       "      <td>Cameroon</td>\n",
       "      <td>africa</td>\n",
       "      <td>A</td>\n",
       "      <td>4</td>\n",
       "      <td>3</td>\n",
       "      <td>0</td>\n",
       "      <td>0</td>\n",
       "      <td>3</td>\n",
       "      <td>1</td>\n",
       "      <td>9</td>\n",
       "      <td>−8</td>\n",
       "      <td>0</td>\n",
       "      <td>0</td>\n",
       "    </tr>\n",
       "    <tr>\n",
       "      <th>4</th>\n",
       "      <td>Netherlands</td>\n",
       "      <td>europe</td>\n",
       "      <td>B</td>\n",
       "      <td>1</td>\n",
       "      <td>3</td>\n",
       "      <td>3</td>\n",
       "      <td>0</td>\n",
       "      <td>0</td>\n",
       "      <td>10</td>\n",
       "      <td>3</td>\n",
       "      <td>7</td>\n",
       "      <td>9</td>\n",
       "      <td>1</td>\n",
       "    </tr>\n",
       "  </tbody>\n",
       "</table>\n",
       "</div>"
      ],
      "text/plain": [
       "          team     continent group  group_pos  cantidad_juegos  \\\n",
       "0       Brazil  southamerica     A          1                3   \n",
       "1       Mexico  northamerica     A          2                3   \n",
       "2      Croatia        europe     A          3                3   \n",
       "3     Cameroon        africa     A          4                3   \n",
       "4  Netherlands        europe     B          1                3   \n",
       "\n",
       "   juegos_ganados  juegos_empatados  juegos_perdidos  goles_favor  \\\n",
       "0               2                 1                0            7   \n",
       "1               2                 1                0            4   \n",
       "2               1                 0                2            6   \n",
       "3               0                 0                3            1   \n",
       "4               3                 0                0           10   \n",
       "\n",
       "   goles_contra goles_diferencia  puntos  clasificado  \n",
       "0             2                5       7            1  \n",
       "1             1                3       7            1  \n",
       "2             6                0       3            0  \n",
       "3             9               −8       0            0  \n",
       "4             3                7       9            1  "
      ]
     },
     "metadata": {},
     "execution_count": 6
    }
   ],
   "metadata": {}
  },
  {
   "cell_type": "markdown",
   "source": [
    "## Desafío 2: Estime las frecuencias de <code>continent</code>\r\n",
    "Utilizando <code>value_counts</code>. Responda lo siguiente:\r\n",
    "<ul>\r\n",
    "    <li> ¿Cuál es el continente con una mayor presencia en la muestra?</li>\r\n",
    "    <li>¿Cuál es la probabilidad de elegir un equipo asiático al azar?</li>\r\n",
    "    <li> ¿Cuál es la probabilidad de elegir un equipo africano al azar?</li>\r\n",
    "</ul>\r\n"
   ],
   "metadata": {}
  },
  {
   "cell_type": "code",
   "execution_count": 15,
   "source": [
    "# Vemos todos los continentes\r\n",
    "continents = df['continent'].value_counts('%')\r\n",
    "print(continents)"
   ],
   "outputs": [
    {
     "output_type": "stream",
     "name": "stdout",
     "text": [
      "europe          0.40625\n",
      "southamerica    0.18750\n",
      "africa          0.15625\n",
      "asia            0.12500\n",
      "northamerica    0.12500\n",
      "Name: continent, dtype: float64\n"
     ]
    }
   ],
   "metadata": {}
  },
  {
   "cell_type": "markdown",
   "source": [
    "Vemos que el continente con mayor presecnia es Europa con 40% aprox."
   ],
   "metadata": {}
  },
  {
   "cell_type": "code",
   "execution_count": 16,
   "source": [
    "# Calculamos la probabilidad de elegir un equipo para Asia y Africa\r\n",
    "totalMuestra = continents.sum()\r\n",
    "probAsia = continents['asia'] / totalMuestra\r\n",
    "probAfrica = continents['africa'] / totalMuestra\r\n",
    "print(f'Probabilidad de elegir un equipo asiatico es de {str(probAsia*100)}%')\r\n",
    "print(f'Probabilidad de elegir un equipo africano es de {str(probAfrica*100)}%')"
   ],
   "outputs": [
    {
     "output_type": "stream",
     "name": "stdout",
     "text": [
      "Probabilidad de elegir un equipo asiatico es de 12.5%\n",
      "Probabilidad de elegir un equipo africano es de 15.625%\n"
     ]
    }
   ],
   "metadata": {}
  },
  {
   "cell_type": "markdown",
   "source": [
    "## Desafío 3: Generación de Subconjunto de datos\r\n",
    "\r\n",
    "\r\n",
    "Por cada continente, genere un nuevo objeto que almacene sólo las observaciones del\r\n",
    "continente"
   ],
   "metadata": {}
  },
  {
   "cell_type": "code",
   "execution_count": 8,
   "source": [
    "asiaDf = df[df['continent'] == 'asia']\r\n",
    "africaDf = df[df['continent'] == 'africa']\r\n",
    "europeDf = df[df['continent'] == 'europe']\r\n",
    "naDf = df[df['continent'] == 'northamerica']\r\n",
    "saDf = df[df['continent'] == 'southamerica']"
   ],
   "outputs": [],
   "metadata": {}
  },
  {
   "cell_type": "markdown",
   "source": [
    "## Desafío 4: Calcule la probabilidad de clasificación a la siguiente ronda\r\n",
    "<ul>\r\n",
    "    <li>Calcule la probabilidad de que un país pase a la siguiente ronda (clasifique) por\r\n",
    "continente.</li>\r\n",
    "    <li>¿Cuál es la probabilidad de que un país asiático pase a la siguiente ronda?</li>\r\n",
    "    <li>¿Cuáles son los dos continentes con la mayor probabilidad de clasificar?</li>\r\n",
    "    <li>¿Cuál es la probabilidad de que un país europeo no clasifique?</li>\r\n",
    "</ul>"
   ],
   "metadata": {}
  },
  {
   "cell_type": "code",
   "execution_count": 17,
   "source": [
    "def getContinentQualifierProbability(continentDf, name, log=True):\r\n",
    "    prob = len(continentDf[continentDf['clasificado'] == 1]) / continentDf.shape[0]\r\n",
    "    if log:\r\n",
    "        print(f'Probabilidad de que un Pais de {name} clasifique: {prob}')\r\n",
    "    return prob\r\n",
    "getContinentQualifierProbability(asiaDf, 'Asia')\r\n",
    "getContinentQualifierProbability(africaDf, 'Africa')\r\n",
    "getContinentQualifierProbability(europeDf, 'Europa')\r\n",
    "getContinentQualifierProbability(naDf, 'Norteamerica')\r\n",
    "getContinentQualifierProbability(saDf, 'Sudamerica')\r\n",
    "print('Probabilidad de que un pais Europeo no clasifique: {}'.format(1 - getContinentQualifierProbability(europeDf, 'Europa', False)))\r\n"
   ],
   "outputs": [
    {
     "output_type": "stream",
     "name": "stdout",
     "text": [
      "Probabilidad de que un Pais de Asia clasifique: 0.0\n",
      "Probabilidad de que un Pais de Africa clasifique: 0.4\n",
      "Probabilidad de que un Pais de Europa clasifique: 0.46153846153846156\n",
      "Probabilidad de que un Pais de Norteamerica clasifique: 0.75\n",
      "Probabilidad de que un Pais de Sudamerica clasifique: 0.8333333333333334\n",
      "Probabilidad de que un pais Europeo no clasifique: 0.5384615384615384\n"
     ]
    }
   ],
   "metadata": {}
  },
  {
   "cell_type": "markdown",
   "source": [
    "Vemos que los dos continentes con mayor probabilidad de clasificar son Norteamerica y Sudamerica."
   ],
   "metadata": {}
  },
  {
   "cell_type": "markdown",
   "source": [
    "## Desafío 5: Probabilidades de Victoria y Derrota\r\n",
    "<ul>\r\n",
    "<li>Se pide utilizar <code>value_counts</code> para calcular la probabilidad de que un continente\r\n",
    "contenga países con o sin victorias.</li>\r\n",
    "<li>Para ello cree una columna adicional llamada <code>'ha_ganado'</code> que contenga un 0 si es\r\n",
    "que un país no tiene juegos ganados y un 1 si es que ha ganado al menos un juego.</li>\r\n",
    "<li><b>Sugerencias</b>: Para crear dicha columna puede revisar:\r\n",
    "<ul>\r\n",
    "<li><code>np.where</code>, de Numpy</li>\r\n",
    "<li><code>pd.where</code>, de Pandas</li>\r\n",
    "<li>Además puede utilizar los mismos procedimientos sugeridos en el Desafío 4.</li>\r\n",
    "</ul>\r\n",
    "</li>\r\n",
    "<li>En base al resultado del procedimiento recién descrito, responda lo siguiente:\r\n",
    "<ul>\r\n",
    "<li>¿Qué continente tiene la mayor probabilidad de tener países con al menos 1\r\n",
    "victoria?</li>\r\n",
    "<li>¿Qué continente tiene un nivel similar entre países que tienen o no tienen\r\n",
    "victorias?</li>\r\n",
    "</ul>\r\n",
    "</li>\r\n",
    "<li>Reformule el código para juegos perdidos y analice los continentes con mayor\r\n",
    "probabilidad de tener países sin juegos perdidos.</li>\r\n",
    "</ul>\r\n"
   ],
   "metadata": {}
  },
  {
   "cell_type": "code",
   "execution_count": 24,
   "source": [
    "# se crean las nuevas columnas\r\n",
    "df['ha ganado'] = np.where(df['juegos_ganados'] > 0, 1, 0)\r\n",
    "df['ha perdido'] = np.where(df['juegos_perdidos'] > 0, 1, 0)\r\n",
    "# se consiguen denuevo los continentes\r\n",
    "asiaDf = df[df['continent'] == 'asia']\r\n",
    "africaDf = df[df['continent'] == 'africa']\r\n",
    "europeDf = df[df['continent'] == 'europe']\r\n",
    "naDf = df[df['continent'] == 'northamerica']\r\n",
    "saDf = df[df['continent'] == 'southamerica']\r\n",
    "# se crea una función para analizar los continentes\r\n",
    "def analizeContinent(continentDf, name, log=True):\r\n",
    "    probGanado = len(continentDf[continentDf['ha ganado'] == 1]) / continentDf.shape[0]\r\n",
    "    probPerdido = len(continentDf[continentDf['ha perdido'] == 1]) / continentDf.shape[0]\r\n",
    "    if log:\r\n",
    "        print(f'Probabilidad de que un Pais de {name} gane al menos un juego: {probGanado}')\r\n",
    "        print(f'Probabilidad de que un Pais de {name} pierda al menos un juego: {probPerdido}')\r\n",
    "        print(\"=\"*8)\r\n",
    "    return (probGanado, probPerdido)\r\n",
    "analizeContinent(asiaDf, 'Asia')\r\n",
    "analizeContinent(africaDf, 'Africa')\r\n",
    "analizeContinent(europeDf, 'Europa')\r\n",
    "analizeContinent(naDf, 'Norteamerica')\r\n",
    "analizeContinent(saDf, 'Sudamerica')"
   ],
   "outputs": [
    {
     "output_type": "stream",
     "name": "stdout",
     "text": [
      "Probabilidad de que un Pais de Asia gane al menos un juego: 0.0\n",
      "Probabilidad de que un Pais de Asia pierda al menos un juego: 1.0\n",
      "========\n",
      "Probabilidad de que un Pais de Africa gane al menos un juego: 0.6\n",
      "Probabilidad de que un Pais de Africa pierda al menos un juego: 1.0\n",
      "========\n",
      "Probabilidad de que un Pais de Europa gane al menos un juego: 0.8461538461538461\n",
      "Probabilidad de que un Pais de Europa pierda al menos un juego: 0.6923076923076923\n",
      "========\n",
      "Probabilidad de que un Pais de Norteamerica gane al menos un juego: 0.75\n",
      "Probabilidad de que un Pais de Norteamerica pierda al menos un juego: 0.5\n",
      "========\n",
      "Probabilidad de que un Pais de Sudamerica gane al menos un juego: 1.0\n",
      "Probabilidad de que un Pais de Sudamerica pierda al menos un juego: 0.5\n",
      "========\n"
     ]
    },
    {
     "output_type": "execute_result",
     "data": {
      "text/plain": [
       "(1.0, 0.5)"
      ]
     },
     "metadata": {},
     "execution_count": 24
    }
   ],
   "metadata": {}
  },
  {
   "cell_type": "markdown",
   "source": [
    "El continente con mayor probabilidad de tener un pais que haya ganado al menos un juego es __Sudamerica__. Mientras que el continente que presenta paises con un nivel parecido es __Africa__ pues tiene una probabilidad de 60% para que al menos un pais gane un partido.\r\n",
    "\r\n",
    "Para la probabilidad de perder, es el caso de __Sudamerica__ y __Norteamerica__ los continentes que tienen una mayor probabilidad de no tener juegos perdidos, ya que tienen menor probabilidad de que un pais pierda al menos una vez."
   ],
   "metadata": {}
  }
 ],
 "metadata": {
  "kernelspec": {
   "name": "python3",
   "display_name": "Python 3.8.5 64-bit ('base': conda)"
  },
  "language_info": {
   "codemirror_mode": {
    "name": "ipython",
    "version": 3
   },
   "file_extension": ".py",
   "mimetype": "text/x-python",
   "name": "python",
   "nbconvert_exporter": "python",
   "pygments_lexer": "ipython3",
   "version": "3.8.5"
  },
  "interpreter": {
   "hash": "07efdcd4b820c98a756949507a4d29d7862823915ec7477944641bea022f4f62"
  }
 },
 "nbformat": 4,
 "nbformat_minor": 4
}