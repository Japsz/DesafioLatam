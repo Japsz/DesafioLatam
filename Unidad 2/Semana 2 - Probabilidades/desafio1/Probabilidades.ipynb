{
 "cells": [
  {
   "cell_type": "markdown",
   "source": [
    "# Desafío - Calculando probabilidades\n",
    "### Desafio 1\n",
    "<ul>\n",
    "    <li>Importe <code>pandas</code> y <code>numpy</code> siguiendo las convenciones.</li>\n",
    "    <li>Lea la base de datos <code>worldcup2014.csv</code> y asígnela a un objeto <code>df</code>.</li>\n",
    "    <li>Solicite las primeras 5 observaciones con head.</li>\n",
    "</ul>"
   ],
   "metadata": {}
  },
  {
   "cell_type": "code",
   "execution_count": 1,
   "source": [
    "# Importar librerías\r\n",
    "import pandas as pd\r\n",
    "import numpy as np\r\n",
    "# Cargar Dataframe\r\n",
    "df = pd.read_csv('./worldcup2014.csv')\r\n",
    "# Leer las primeras 5 observaciones\r\n",
    "df.head(5)"
   ],
   "outputs": [
    {
     "output_type": "execute_result",
     "data": {
      "text/plain": [
       "          team     continent group  group_pos  cantidad_juegos  \\\n",
       "0       Brazil  southamerica     A          1                3   \n",
       "1       Mexico  northamerica     A          2                3   \n",
       "2      Croatia        europe     A          3                3   \n",
       "3     Cameroon        africa     A          4                3   \n",
       "4  Netherlands        europe     B          1                3   \n",
       "\n",
       "   juegos_ganados  juegos_empatados  juegos_perdidos  goles_favor  \\\n",
       "0               2                 1                0            7   \n",
       "1               2                 1                0            4   \n",
       "2               1                 0                2            6   \n",
       "3               0                 0                3            1   \n",
       "4               3                 0                0           10   \n",
       "\n",
       "   goles_contra goles_diferencia  puntos  clasificado  \n",
       "0             2                5       7            1  \n",
       "1             1                3       7            1  \n",
       "2             6                0       3            0  \n",
       "3             9               −8       0            0  \n",
       "4             3                7       9            1  "
      ],
      "text/html": [
       "<div>\n",
       "<style scoped>\n",
       "    .dataframe tbody tr th:only-of-type {\n",
       "        vertical-align: middle;\n",
       "    }\n",
       "\n",
       "    .dataframe tbody tr th {\n",
       "        vertical-align: top;\n",
       "    }\n",
       "\n",
       "    .dataframe thead th {\n",
       "        text-align: right;\n",
       "    }\n",
       "</style>\n",
       "<table border=\"1\" class=\"dataframe\">\n",
       "  <thead>\n",
       "    <tr style=\"text-align: right;\">\n",
       "      <th></th>\n",
       "      <th>team</th>\n",
       "      <th>continent</th>\n",
       "      <th>group</th>\n",
       "      <th>group_pos</th>\n",
       "      <th>cantidad_juegos</th>\n",
       "      <th>juegos_ganados</th>\n",
       "      <th>juegos_empatados</th>\n",
       "      <th>juegos_perdidos</th>\n",
       "      <th>goles_favor</th>\n",
       "      <th>goles_contra</th>\n",
       "      <th>goles_diferencia</th>\n",
       "      <th>puntos</th>\n",
       "      <th>clasificado</th>\n",
       "    </tr>\n",
       "  </thead>\n",
       "  <tbody>\n",
       "    <tr>\n",
       "      <th>0</th>\n",
       "      <td>Brazil</td>\n",
       "      <td>southamerica</td>\n",
       "      <td>A</td>\n",
       "      <td>1</td>\n",
       "      <td>3</td>\n",
       "      <td>2</td>\n",
       "      <td>1</td>\n",
       "      <td>0</td>\n",
       "      <td>7</td>\n",
       "      <td>2</td>\n",
       "      <td>5</td>\n",
       "      <td>7</td>\n",
       "      <td>1</td>\n",
       "    </tr>\n",
       "    <tr>\n",
       "      <th>1</th>\n",
       "      <td>Mexico</td>\n",
       "      <td>northamerica</td>\n",
       "      <td>A</td>\n",
       "      <td>2</td>\n",
       "      <td>3</td>\n",
       "      <td>2</td>\n",
       "      <td>1</td>\n",
       "      <td>0</td>\n",
       "      <td>4</td>\n",
       "      <td>1</td>\n",
       "      <td>3</td>\n",
       "      <td>7</td>\n",
       "      <td>1</td>\n",
       "    </tr>\n",
       "    <tr>\n",
       "      <th>2</th>\n",
       "      <td>Croatia</td>\n",
       "      <td>europe</td>\n",
       "      <td>A</td>\n",
       "      <td>3</td>\n",
       "      <td>3</td>\n",
       "      <td>1</td>\n",
       "      <td>0</td>\n",
       "      <td>2</td>\n",
       "      <td>6</td>\n",
       "      <td>6</td>\n",
       "      <td>0</td>\n",
       "      <td>3</td>\n",
       "      <td>0</td>\n",
       "    </tr>\n",
       "    <tr>\n",
       "      <th>3</th>\n",
       "      <td>Cameroon</td>\n",
       "      <td>africa</td>\n",
       "      <td>A</td>\n",
       "      <td>4</td>\n",
       "      <td>3</td>\n",
       "      <td>0</td>\n",
       "      <td>0</td>\n",
       "      <td>3</td>\n",
       "      <td>1</td>\n",
       "      <td>9</td>\n",
       "      <td>−8</td>\n",
       "      <td>0</td>\n",
       "      <td>0</td>\n",
       "    </tr>\n",
       "    <tr>\n",
       "      <th>4</th>\n",
       "      <td>Netherlands</td>\n",
       "      <td>europe</td>\n",
       "      <td>B</td>\n",
       "      <td>1</td>\n",
       "      <td>3</td>\n",
       "      <td>3</td>\n",
       "      <td>0</td>\n",
       "      <td>0</td>\n",
       "      <td>10</td>\n",
       "      <td>3</td>\n",
       "      <td>7</td>\n",
       "      <td>9</td>\n",
       "      <td>1</td>\n",
       "    </tr>\n",
       "  </tbody>\n",
       "</table>\n",
       "</div>"
      ]
     },
     "metadata": {},
     "execution_count": 1
    }
   ],
   "metadata": {}
  },
  {
   "cell_type": "markdown",
   "source": [
    "#### Desafio 2\n",
    "Utilizando value_counts. Responda lo siguiente:\n",
    "<ul>\n",
    "    <li> ¿Cuál es el continente con una mayor presencia en la muestra?</li>\n",
    "    <li>¿Cuál es la probabilidad de elegir un equipo asiático al azar?</li>\n",
    "    <li> ¿Cuál es la probabilidad de elegir un equipo africano al azar?</li>\n",
    "</ul>\n"
   ],
   "metadata": {}
  },
  {
   "cell_type": "code",
   "execution_count": 3,
   "source": [
    "continents = df['continent'].value_counts()\r\n",
    "print(continents)\r\n",
    "print(f'Mayor presencia es europa')\r\n",
    "totalMuestra = continents.sum()\r\n",
    "probAsia = continents['asia'] / totalMuestra\r\n",
    "probAfrica = continents['africa'] / totalMuestra\r\n",
    "print(f'Probabilidad de elegir un equipo asiatico es de {str(probAsia*100)}%')\r\n",
    "print(f'Probabilidad de elegir un equipo africano es de {str(probAfrica*100)}%')"
   ],
   "outputs": [
    {
     "output_type": "stream",
     "name": "stdout",
     "text": [
      "europe          13\n",
      "southamerica     6\n",
      "africa           5\n",
      "asia             4\n",
      "northamerica     4\n",
      "Name: continent, dtype: int64\n",
      "Mayor presencia es europa\n",
      "Probabilidad de elegir un equipo asiatico es de 12.5%\n",
      "Probabilidad de elegir un equipo africano es de 15.625%\n"
     ]
    }
   ],
   "metadata": {}
  },
  {
   "cell_type": "markdown",
   "source": [
    "#### Desafio 3\n",
    "\n",
    "Por cada continente, genere un nuevo objeto que almacene sólo las observaciones del\n",
    "continente"
   ],
   "metadata": {}
  },
  {
   "cell_type": "code",
   "execution_count": 5,
   "source": [
    "asiaDf = df[df['continent'] == 'asia']\n",
    "africaDf = df[df['continent'] == 'africa']\n",
    "europeDf = df[df['continent'] == 'europe']\n",
    "naDf = df[df['continent'] == 'northamerica']\n",
    "saDf = df[df['continent'] == 'southamerica']"
   ],
   "outputs": [],
   "metadata": {}
  },
  {
   "cell_type": "markdown",
   "source": [
    "#### Desafio 4\n",
    "<ul>\n",
    "    <li>Calcule la probabilidad de que un país pase a la siguiente ronda (clasifique) por\n",
    "continente.</li>\n",
    "    <li>¿Cuál es la probabilidad de que un país asiático pase a la siguiente ronda?</li>\n",
    "    <li>¿Cuáles son los dos continentes con la mayor probabilidad de clasificar?</li>\n",
    "    <li>¿Cuál es la probabilidad de que un país europeo no clasifique?</li>\n",
    "</ul>"
   ],
   "metadata": {}
  },
  {
   "cell_type": "code",
   "execution_count": 15,
   "source": [
    "def getContinentQualifierProbability(continentDf, fullDf):\n",
    "    return len(continentDf[continentDf['clasificado'] == 1]) / len(fullDf)\n",
    "print('Probabilidad de que un Pais de Asia clasifique')\n",
    "print(getContinentQualifierProbability(asiaDf, df))\n",
    "print('Probabilidad de que un Pais de Africa clasifique')\n",
    "print(getContinentQualifierProbability(africaDf, df))\n",
    "print('Probabilidad de que un Pais de Europa clasifique')\n",
    "print(getContinentQualifierProbability(europeDf, df))\n",
    "print('Probabilidad de que un Pais de Norteamerica clasifique')\n",
    "print(getContinentQualifierProbability(naDf, df))\n",
    "print('Probabilidad de que un Pais de Sudamerica clasifique')\n",
    "print(getContinentQualifierProbability(saDf, df))"
   ],
   "outputs": [
    {
     "output_type": "stream",
     "name": "stdout",
     "text": [
      "Probabilidad de que un Pais de Asia clasifique\n",
      "0.0\n",
      "Probabilidad de que un Pais de Africa clasifique\n",
      "0.0625\n",
      "Probabilidad de que un Pais de Europa clasifique\n",
      "0.1875\n",
      "Probabilidad de que un Pais de Norteamerica clasifique\n",
      "0.09375\n",
      "Probabilidad de que un Pais de Sudamerica clasifique\n",
      "0.15625\n"
     ]
    }
   ],
   "metadata": {}
  }
 ],
 "metadata": {
  "kernelspec": {
   "name": "python3",
   "display_name": "Python 3.8.5 64-bit ('base': conda)"
  },
  "language_info": {
   "codemirror_mode": {
    "name": "ipython",
    "version": 3
   },
   "file_extension": ".py",
   "mimetype": "text/x-python",
   "name": "python",
   "nbconvert_exporter": "python",
   "pygments_lexer": "ipython3",
   "version": "3.8.5"
  },
  "interpreter": {
   "hash": "07efdcd4b820c98a756949507a4d29d7862823915ec7477944641bea022f4f62"
  }
 },
 "nbformat": 4,
 "nbformat_minor": 4
}