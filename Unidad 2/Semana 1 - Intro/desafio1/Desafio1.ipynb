{
 "cells": [
  {
   "cell_type": "markdown",
   "metadata": {},
   "source": [
    "# Desafío - Introducción al ambiente de trabajo\n",
    "\n",
    "\n",
    "### Desafío 1: Hola Mundo"
   ]
  },
  {
   "cell_type": "code",
   "execution_count": 1,
   "metadata": {},
   "outputs": [
    {
     "name": "stdout",
     "output_type": "stream",
     "text": [
      "Hola Mundo, esta es mi primera incursión en Python\n"
     ]
    }
   ],
   "source": [
    "print(\"Hola Mundo, esta es mi primera incursión en Python\")"
   ]
  },
  {
   "cell_type": "markdown",
   "metadata": {},
   "source": [
    "### Desafío 2: Ingreso de variables\n",
    "Ingrese una serie de datos respecto a su información personal. Esta información debe estar\n",
    "ingresada en variables para su posterior uso. Ingrese los siguientes datos:\n",
    "<li>Su nombre.\n",
    "<li>Edad.\n",
    "<li>Una lista con sus 3 actividades favoritas.\n",
    "<li>¿Tiene mascotas?\n",
    "\n"
   ]
  },
  {
   "cell_type": "code",
   "execution_count": 4,
   "metadata": {},
   "outputs": [],
   "source": [
    "nombre= \"Benjamín Meneses\"\n",
    "edad = 25\n",
    "actividadesFavoritas = [\"Comer\", \"Tirarme en el Pasto\", \"Jugar Computador\"]\n",
    "tieneMascota = False"
   ]
  },
  {
   "cell_type": "markdown",
   "metadata": {},
   "source": [
    "### Desafío 3: Imprimiendo Variables\n",
    "<li>Imprima cada variable creada.<ul><li>Acceda al segundo elemento de su lista</li></ul></li>\n",
    "<li>Pida los tipos de datos asociados.</li>\n",
    "<li>Interpole los datos en un método print para generar una presentación sobre usted.</li>"
   ]
  },
  {
   "cell_type": "code",
   "execution_count": 5,
   "metadata": {},
   "outputs": [
    {
     "output_type": "stream",
     "name": "stdout",
     "text": [
      "Benjamín Meneses\n25\nTirarme en el Pasto\nFalse\n"
     ]
    }
   ],
   "source": [
    "# Imprimir las variables\n",
    "print(nombre)\n",
    "print(edad)\n",
    "print(actividadesFavoritas[1])\n",
    "print(tieneMascota)"
   ]
  },
  {
   "cell_type": "code",
   "execution_count": 6,
   "metadata": {},
   "outputs": [
    {
     "output_type": "stream",
     "name": "stdout",
     "text": [
      "<class 'str'>\n<class 'int'>\n<class 'str'>\n<class 'bool'>\n"
     ]
    }
   ],
   "source": [
    "# Mostrar los tipos\n",
    "print(type(nombre))\n",
    "print(type(edad))\n",
    "print(type(actividadesFavoritas[1]))\n",
    "print(type(tieneMascota))"
   ]
  },
  {
   "cell_type": "code",
   "execution_count": 7,
   "metadata": {},
   "outputs": [
    {
     "output_type": "stream",
     "name": "stdout",
     "text": [
      "Soy Benjamín Meneses de 25 años, me gusta Tirarme en el Pasto y no tengo mascota\n"
     ]
    }
   ],
   "source": [
    "# Formatear un string de presentación\n",
    "print(\"Soy \" + nombre + \" de \" + str(edad) + \" años, me gusta \" + actividadesFavoritas[1] + \" y \" + (\"tengo\" if tieneMascota else \"no tengo\") + \" mascota\")"
   ]
  },
  {
   "source": [
    "### Desafío 4 \n",
    "A continuación se presenta una serie de códigos que generan errores. Corríjalos y comente\n",
    "cuáles fueron las fallas."
   ],
   "cell_type": "markdown",
   "metadata": {}
  },
  {
   "source": [
    "<li><code>print('Estaba la pájara pinta sentada en el verde limón)</code>\n",
    "\n",
    "Falta cerrar el string para que funcione\n"
   ],
   "cell_type": "markdown",
   "metadata": {}
  },
  {
   "cell_type": "code",
   "execution_count": 8,
   "metadata": {},
   "outputs": [
    {
     "output_type": "stream",
     "name": "stdout",
     "text": [
      "Estaba la pájara pinta sentada en el verde limón\n"
     ]
    }
   ],
   "source": [
    "print('Estaba la pájara pinta sentada en el verde limón')"
   ]
  },
  {
   "source": [
    "<li><code>print('Mi nombre es' name 'y tengo' edad, 'años')</code></li>\n",
    "\n",
    "El Formateo del string es incorrecto, es necesario usar algún tipo de operador o la función <code>.format()</code> para lograr el cometido"
   ],
   "cell_type": "markdown",
   "metadata": {}
  },
  {
   "cell_type": "code",
   "execution_count": 9,
   "metadata": {},
   "outputs": [
    {
     "output_type": "stream",
     "name": "stdout",
     "text": [
      "Mi nombre es Benjamín Meneses y tengo 25 años\n"
     ]
    }
   ],
   "source": [
    "print('Mi nombre es {} y tengo {} años'.format(nombre, edad))\n"
   ]
  },
  {
   "source": [
    "<li><code>import padnas as pd</code></li>\n",
    "<li><code>import nunnpy as np</code></li>\n",
    "\n",
    "El nombre de las librerías es erróneo\n"
   ],
   "cell_type": "markdown",
   "metadata": {}
  },
  {
   "cell_type": "code",
   "execution_count": 1,
   "metadata": {},
   "outputs": [],
   "source": [
    "import pandas as pd\n",
    "import numpy as np"
   ]
  },
  {
   "source": [
    "<li><code>\"Ornitorrinco\" + 45</code></li>\n",
    "\n",
    "En python no se permite la suma de entre variables de tipo String e Integer. Se podría usar un conversor para pasar el numero a string"
   ],
   "cell_type": "markdown",
   "metadata": {}
  },
  {
   "cell_type": "code",
   "execution_count": 13,
   "metadata": {},
   "outputs": [
    {
     "output_type": "execute_result",
     "data": {
      "text/plain": [
       "'Ornitorrinco45'"
      ]
     },
     "metadata": {},
     "execution_count": 13
    }
   ],
   "source": [
    "\"Ornitorrinco\" + str(45)"
   ]
  },
  {
   "source": [
    "### Desafío 5: Utilizando pandas y numpy\n",
    "<li>Importe <code>pandas</code> y <code>numpy</code>.\n",
    "<li>Posteriormente importe el archivo <code>flights.csv</code>.\n",
    "<li>Solicite las primeras y últimas 5 observaciones de la tabla de datos.\n",
    "<li>Utilice <code>describe</code> para obtener las medidas univariadas de la columna year.\n",
    "<li>Utilice <code>value_counts</code> para obtener la frecuencia de meses y años de la tabla.\n",
    "<li>Guarde en variables las primeras y últimas 15 observaciones de la tabla.\n",
    "<li>Solicite la media, mediana y desviación estándar de la cantidad de pasajeros\n",
    "utilizando los métodos de <code>numpy</code>. Replique el procedimiento para las últimas y\n",
    "primeras 15 observaciones. Comente brevemente los resultados.\n"
   ],
   "cell_type": "markdown",
   "metadata": {}
  },
  {
   "cell_type": "code",
   "execution_count": 3,
   "metadata": {},
   "outputs": [
    {
     "output_type": "execute_result",
     "data": {
      "text/plain": [
       "   year     month  passengers\n",
       "0  1949   January         112\n",
       "1  1949  February         118\n",
       "2  1949     March         132\n",
       "3  1949     April         129\n",
       "4  1949       May         121"
      ],
      "text/html": "<div>\n<style scoped>\n    .dataframe tbody tr th:only-of-type {\n        vertical-align: middle;\n    }\n\n    .dataframe tbody tr th {\n        vertical-align: top;\n    }\n\n    .dataframe thead th {\n        text-align: right;\n    }\n</style>\n<table border=\"1\" class=\"dataframe\">\n  <thead>\n    <tr style=\"text-align: right;\">\n      <th></th>\n      <th>year</th>\n      <th>month</th>\n      <th>passengers</th>\n    </tr>\n  </thead>\n  <tbody>\n    <tr>\n      <th>0</th>\n      <td>1949</td>\n      <td>January</td>\n      <td>112</td>\n    </tr>\n    <tr>\n      <th>1</th>\n      <td>1949</td>\n      <td>February</td>\n      <td>118</td>\n    </tr>\n    <tr>\n      <th>2</th>\n      <td>1949</td>\n      <td>March</td>\n      <td>132</td>\n    </tr>\n    <tr>\n      <th>3</th>\n      <td>1949</td>\n      <td>April</td>\n      <td>129</td>\n    </tr>\n    <tr>\n      <th>4</th>\n      <td>1949</td>\n      <td>May</td>\n      <td>121</td>\n    </tr>\n  </tbody>\n</table>\n</div>"
     },
     "metadata": {},
     "execution_count": 3
    }
   ],
   "source": [
    "# pandas y numpy fueron importados anteriormente\n",
    "# import pandas as pd\n",
    "# import numpy as np\n",
    "\n",
    "# Importar archivo\n",
    "df = pd.read_csv('../flights.csv')\n",
    "\n",
    "# Conseguir las 5 primeras observaciones\n",
    "df.head(5) "
   ]
  },
  {
   "cell_type": "code",
   "execution_count": 5,
   "metadata": {},
   "outputs": [
    {
     "output_type": "execute_result",
     "data": {
      "text/plain": [
       "count     144.000000\n",
       "mean     1954.500000\n",
       "std         3.464102\n",
       "min      1949.000000\n",
       "25%      1951.750000\n",
       "50%      1954.500000\n",
       "75%      1957.250000\n",
       "max      1960.000000\n",
       "Name: year, dtype: float64"
      ]
     },
     "metadata": {},
     "execution_count": 5
    }
   ],
   "source": [
    "# Conseguir las medidas univariadas de la columna 'year'\n",
    "df['year'].describe()"
   ]
  },
  {
   "cell_type": "code",
   "execution_count": 7,
   "metadata": {},
   "outputs": [
    {
     "output_type": "execute_result",
     "data": {
      "text/plain": [
       "March        12\n",
       "February     12\n",
       "July         12\n",
       "September    12\n",
       "November     12\n",
       "May          12\n",
       "January      12\n",
       "October      12\n",
       "December     12\n",
       "April        12\n",
       "June         12\n",
       "August       12\n",
       "Name: month, dtype: int64"
      ]
     },
     "metadata": {},
     "execution_count": 7
    }
   ],
   "source": [
    "# Conseguir la frecuencia de meses\n",
    "df['month'].value_counts()\n"
   ]
  },
  {
   "cell_type": "code",
   "execution_count": 9,
   "metadata": {},
   "outputs": [
    {
     "output_type": "execute_result",
     "data": {
      "text/plain": [
       "1960    12\n",
       "1959    12\n",
       "1958    12\n",
       "1957    12\n",
       "1956    12\n",
       "1955    12\n",
       "1954    12\n",
       "1953    12\n",
       "1952    12\n",
       "1951    12\n",
       "1950    12\n",
       "1949    12\n",
       "Name: year, dtype: int64"
      ]
     },
     "metadata": {},
     "execution_count": 9
    }
   ],
   "source": [
    "# Conseguir la frecuencia de años\n",
    "df['year'].value_counts()"
   ]
  },
  {
   "cell_type": "code",
   "execution_count": 12,
   "metadata": {},
   "outputs": [],
   "source": [
    "# Guardar en variables las primeras y ultimas 15 observaciones\n",
    "firstFifteen = df.head(15)\n",
    "lastFifteen = df.tail(15)"
   ]
  },
  {
   "cell_type": "code",
   "execution_count": 21,
   "metadata": {},
   "outputs": [
    {
     "output_type": "stream",
     "name": "stdout",
     "text": [
      "Considerando toda la muestra\nLa media es 280.30, la mediana es 265.50 y la desviación estandar es de 119.5490\n---0---\nConsiderando las primeras 15 observaciones\nLa media es 126.80, la mediana es 126.00 y la desviación estandar es de 12.6817\n---0---\nConsiderando las últimas 15 observaciones\nLa media es 459.20, la mediana es 432.00 y la desviación estandar es de 75.2943\n---0---\n"
     ]
    }
   ],
   "source": [
    "# Conseguir la media, mediana y desviación estandar de una serie\n",
    "def parseMeanMedianAndStd(serie):\n",
    "    print('La media es {:.2f}, la mediana es {:.2f} y la desviación estandar es de {:.4f}'.format(np.mean(serie), np.median(serie), np.std(serie)))\n",
    "    print('---0---')\n",
    "    return\n",
    "print('Considerando toda la muestra')\n",
    "parseMeanMedianAndStd(df['passengers'])\n",
    "print('Considerando las primeras 15 observaciones')\n",
    "parseMeanMedianAndStd(firstFifteen['passengers'])\n",
    "print('Considerando las últimas 15 observaciones')\n",
    "parseMeanMedianAndStd(lastFifteen['passengers'])"
   ]
  },
  {
   "source": [
    "De lo obtenido anteriormente se puede concluir que a lo largo de los ~12 años que representa el dataset, la cantidad de pasajeros promedio subió a un poco mas que el triple desde el primer año al último año (pues el dataframe está ordenado). También se puede inferir debido a la desviación estandar, que en los primeros año la cantidad de pasajeros por mes era mas estable, no así en los ultimos años que se presenta una desviación mayor."
   ],
   "cell_type": "markdown",
   "metadata": {}
  }
 ],
 "metadata": {
  "kernelspec": {
   "name": "python3",
   "display_name": "Python 3.8.5 64-bit ('base': conda)"
  },
  "language_info": {
   "codemirror_mode": {
    "name": "ipython",
    "version": 3
   },
   "file_extension": ".py",
   "mimetype": "text/x-python",
   "name": "python",
   "nbconvert_exporter": "python",
   "pygments_lexer": "ipython3",
   "version": "3.8.5"
  },
  "interpreter": {
   "hash": "07efdcd4b820c98a756949507a4d29d7862823915ec7477944641bea022f4f62"
  }
 },
 "nbformat": 4,
 "nbformat_minor": 4
}