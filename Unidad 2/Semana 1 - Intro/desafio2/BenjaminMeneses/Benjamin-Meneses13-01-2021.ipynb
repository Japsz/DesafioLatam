{
 "cells": [
  {
   "cell_type": "markdown",
   "metadata": {},
   "source": [
    "# Desafío - Control de Flujo\n",
    "\n",
    "\n",
    "### Desafio 1\n",
    "Generar un par de arrays ficticios con <code>numpy</code>"
   ]
  },
  {
   "cell_type": "code",
   "execution_count": 1,
   "metadata": {},
   "outputs": [
    {
     "output_type": "stream",
     "name": "stdout",
     "text": [
      "[ 1.  2.  3.  4.  5.  6.  7.  8.  9. 10. 11. 12. 13. 14. 15. 16. 17. 18.\n",
      " 19. 20. 21. 22. 23. 24. 25. 26. 27. 28. 29. 30. 31. 32. 33. 34. 35. 36.\n",
      " 37. 38. 39. 40. 41. 42. 43. 44. 45. 46. 47. 48. 49. 50.]\n",
      "[ 50.  51.  52.  53.  54.  55.  56.  57.  58.  59.  60.  61.  62.  63.\n",
      "  64.  65.  66.  67.  68.  69.  70.  71.  72.  73.  74.  75.  76.  77.\n",
      "  78.  79.  80.  81.  82.  83.  84.  85.  86.  87.  88.  89.  90.  91.\n",
      "  92.  93.  94.  95.  96.  97.  98.  99. 100. 101. 102. 103. 104. 105.\n",
      " 106. 107. 108. 109. 110. 111. 112. 113. 114. 115. 116. 117. 118. 119.\n",
      " 120. 121. 122. 123. 124. 125. 126. 127. 128. 129. 130. 131. 132. 133.\n",
      " 134. 135. 136. 137. 138. 139. 140. 141. 142. 143. 144. 145. 146. 147.\n",
      " 148. 149. 150.]\n"
     ]
    }
   ],
   "source": [
    "import numpy as np\n",
    "# Se usa linspace para generar los arreglos\n",
    "nuevoArray = np.linspace(1,50)\n",
    "nuevoArraydos = np.linspace(50,150,101)\n",
    "print(nuevoArray)\n",
    "print(nuevoArraydos)"
   ]
  },
  {
   "cell_type": "markdown",
   "metadata": {},
   "source": [
    "### Desafio 2\n",
    "Ejecute un loop que devuelva si el número en el primer array es par o impar"
   ]
  },
  {
   "cell_type": "code",
   "execution_count": 22,
   "metadata": {},
   "outputs": [
    {
     "name": "stdout",
     "output_type": "stream",
     "text": [
      "1.0 es impar\n",
      "2.0 es par\n",
      "3.0 es impar\n",
      "4.0 es par\n",
      "5.0 es impar\n",
      "6.0 es par\n",
      "7.0 es impar\n",
      "8.0 es par\n",
      "9.0 es impar\n",
      "10.0 es par\n",
      "11.0 es impar\n",
      "12.0 es par\n",
      "13.0 es impar\n",
      "14.0 es par\n",
      "15.0 es impar\n",
      "16.0 es par\n",
      "17.0 es impar\n",
      "18.0 es par\n",
      "19.0 es impar\n",
      "20.0 es par\n",
      "21.0 es impar\n",
      "22.0 es par\n",
      "23.0 es impar\n",
      "24.0 es par\n",
      "25.0 es impar\n",
      "26.0 es par\n",
      "27.0 es impar\n",
      "28.0 es par\n",
      "29.0 es impar\n",
      "30.0 es par\n",
      "31.0 es impar\n",
      "32.0 es par\n",
      "33.0 es impar\n",
      "34.0 es par\n",
      "35.0 es impar\n",
      "36.0 es par\n",
      "37.0 es impar\n",
      "38.0 es par\n",
      "39.0 es impar\n",
      "40.0 es par\n",
      "41.0 es impar\n",
      "42.0 es par\n",
      "43.0 es impar\n",
      "44.0 es par\n",
      "45.0 es impar\n",
      "46.0 es par\n",
      "47.0 es impar\n",
      "48.0 es par\n",
      "49.0 es impar\n",
      "50.0 es par\n"
     ]
    }
   ],
   "source": [
    "for num in nuevoArray:\n",
    "    if np.mod(num,2) == 0:\n",
    "        print(f'{num} es par')\n",
    "    else:\n",
    "        print(f'{num} es impar')"
   ]
  },
  {
   "cell_type": "markdown",
   "metadata": {},
   "source": [
    "#### Desafio 3\n",
    "Genere un loop con el segundo array que cuente las siguientes condiciones:\n",
    "<ul>\n",
    "    <li>Si el número es divisible por 2 o 3.</li>\n",
    "    <li>Si el número es divisible por 2 y 3.</li>\n",
    "    <li>Si el número es divisible por 3 pero no por 2.</li>\n",
    "    <li>si el número no es divisible por 2 ni 3.</li>\n",
    "</ul>\n"
   ]
  },
  {
   "cell_type": "code",
   "execution_count": 6,
   "metadata": {},
   "outputs": [
    {
     "output_type": "stream",
     "name": "stdout",
     "text": [
      "50.0 es divisible por 2 o 3\n51.0 es divisible por 3 pero no por 2\n52.0 es divisible por 2 o 3\n53.0 no es divisible ni por 3 ni por 2\n54.0 es divisible por 2 y 3\n55.0 no es divisible ni por 3 ni por 2\n56.0 es divisible por 2 o 3\n57.0 es divisible por 3 pero no por 2\n58.0 es divisible por 2 o 3\n59.0 no es divisible ni por 3 ni por 2\n60.0 es divisible por 2 y 3\n61.0 no es divisible ni por 3 ni por 2\n62.0 es divisible por 2 o 3\n63.0 es divisible por 3 pero no por 2\n64.0 es divisible por 2 o 3\n65.0 no es divisible ni por 3 ni por 2\n66.0 es divisible por 2 y 3\n67.0 no es divisible ni por 3 ni por 2\n68.0 es divisible por 2 o 3\n69.0 es divisible por 3 pero no por 2\n70.0 es divisible por 2 o 3\n71.0 no es divisible ni por 3 ni por 2\n72.0 es divisible por 2 y 3\n73.0 no es divisible ni por 3 ni por 2\n74.0 es divisible por 2 o 3\n75.0 es divisible por 3 pero no por 2\n76.0 es divisible por 2 o 3\n77.0 no es divisible ni por 3 ni por 2\n78.0 es divisible por 2 y 3\n79.0 no es divisible ni por 3 ni por 2\n80.0 es divisible por 2 o 3\n81.0 es divisible por 3 pero no por 2\n82.0 es divisible por 2 o 3\n83.0 no es divisible ni por 3 ni por 2\n84.0 es divisible por 2 y 3\n85.0 no es divisible ni por 3 ni por 2\n86.0 es divisible por 2 o 3\n87.0 es divisible por 3 pero no por 2\n88.0 es divisible por 2 o 3\n89.0 no es divisible ni por 3 ni por 2\n90.0 es divisible por 2 y 3\n91.0 no es divisible ni por 3 ni por 2\n92.0 es divisible por 2 o 3\n93.0 es divisible por 3 pero no por 2\n94.0 es divisible por 2 o 3\n95.0 no es divisible ni por 3 ni por 2\n96.0 es divisible por 2 y 3\n97.0 no es divisible ni por 3 ni por 2\n98.0 es divisible por 2 o 3\n99.0 es divisible por 3 pero no por 2\n100.0 es divisible por 2 o 3\n101.0 no es divisible ni por 3 ni por 2\n102.0 es divisible por 2 y 3\n103.0 no es divisible ni por 3 ni por 2\n104.0 es divisible por 2 o 3\n105.0 es divisible por 3 pero no por 2\n106.0 es divisible por 2 o 3\n107.0 no es divisible ni por 3 ni por 2\n108.0 es divisible por 2 y 3\n109.0 no es divisible ni por 3 ni por 2\n110.0 es divisible por 2 o 3\n111.0 es divisible por 3 pero no por 2\n112.0 es divisible por 2 o 3\n113.0 no es divisible ni por 3 ni por 2\n114.0 es divisible por 2 y 3\n115.0 no es divisible ni por 3 ni por 2\n116.0 es divisible por 2 o 3\n117.0 es divisible por 3 pero no por 2\n118.0 es divisible por 2 o 3\n119.0 no es divisible ni por 3 ni por 2\n120.0 es divisible por 2 y 3\n121.0 no es divisible ni por 3 ni por 2\n122.0 es divisible por 2 o 3\n123.0 es divisible por 3 pero no por 2\n124.0 es divisible por 2 o 3\n125.0 no es divisible ni por 3 ni por 2\n126.0 es divisible por 2 y 3\n127.0 no es divisible ni por 3 ni por 2\n128.0 es divisible por 2 o 3\n129.0 es divisible por 3 pero no por 2\n130.0 es divisible por 2 o 3\n131.0 no es divisible ni por 3 ni por 2\n132.0 es divisible por 2 y 3\n133.0 no es divisible ni por 3 ni por 2\n134.0 es divisible por 2 o 3\n135.0 es divisible por 3 pero no por 2\n136.0 es divisible por 2 o 3\n137.0 no es divisible ni por 3 ni por 2\n138.0 es divisible por 2 y 3\n139.0 no es divisible ni por 3 ni por 2\n140.0 es divisible por 2 o 3\n141.0 es divisible por 3 pero no por 2\n142.0 es divisible por 2 o 3\n143.0 no es divisible ni por 3 ni por 2\n144.0 es divisible por 2 y 3\n145.0 no es divisible ni por 3 ni por 2\n146.0 es divisible por 2 o 3\n147.0 es divisible por 3 pero no por 2\n148.0 es divisible por 2 o 3\n149.0 no es divisible ni por 3 ni por 2\n150.0 es divisible por 2 y 3\n"
     ]
    }
   ],
   "source": [
    "for num in nuevoArraydos:\n",
    "    if np.mod(num,2) == 0 and np.mod(num,3) == 0:\n",
    "        print(f'{num} es divisible por 2 y 3')\n",
    "        continue\n",
    "    if np.mod(num,2) != 0 and np.mod(num,3) == 0:\n",
    "        print(f'{num} es divisible por 3 pero no por 2')\n",
    "        continue\n",
    "    if np.mod(num,2) == 0 or np.mod(num,3) == 0:\n",
    "        print(f'{num} es divisible por 2 o 3')\n",
    "        continue\n",
    "    if np.mod(num,2) != 0 and np.mod(num,3) != 0:\n",
    "        print(f'{num} no es divisible ni por 3 ni por 2')\n"
   ]
  },
  {
   "cell_type": "markdown",
   "metadata": {},
   "source": [
    "### Desafío 4\n",
    "Correcciones de errores"
   ]
  },
  {
   "cell_type": "code",
   "execution_count": 71,
   "metadata": {},
   "outputs": [
    {
     "ename": "NameError",
     "evalue": "name 'I' is not defined",
     "output_type": "error",
     "traceback": [
      "\u001b[1;31m---------------------------------------------------------------------------\u001b[0m",
      "\u001b[1;31mNameError\u001b[0m                                 Traceback (most recent call last)",
      "\u001b[1;32m<ipython-input-71-03823014882c>\u001b[0m in \u001b[0;36m<module>\u001b[1;34m\u001b[0m\n\u001b[0;32m      1\u001b[0m \u001b[1;32mfor\u001b[0m \u001b[0mi\u001b[0m \u001b[1;32min\u001b[0m \u001b[0mrange\u001b[0m\u001b[1;33m(\u001b[0m\u001b[1;36m100\u001b[0m\u001b[1;33m)\u001b[0m\u001b[1;33m:\u001b[0m\u001b[1;33m\u001b[0m\u001b[1;33m\u001b[0m\u001b[0m\n\u001b[1;32m----> 2\u001b[1;33m     \u001b[0mprint\u001b[0m\u001b[1;33m(\u001b[0m\u001b[0mI\u001b[0m\u001b[1;33m**\u001b[0m\u001b[1;36m2\u001b[0m\u001b[1;33m)\u001b[0m\u001b[1;33m\u001b[0m\u001b[1;33m\u001b[0m\u001b[0m\n\u001b[0m",
      "\u001b[1;31mNameError\u001b[0m: name 'I' is not defined"
     ]
    }
   ],
   "source": [
    "for i in range(100):\n",
    "    print(I**2)"
   ]
  },
  {
   "cell_type": "markdown",
   "metadata": {},
   "source": [
    "El problema está en que se usa la variable en mayúsculas pero el iterador está en minúsculas"
   ]
  },
  {
   "cell_type": "code",
   "execution_count": 27,
   "metadata": {},
   "outputs": [
    {
     "name": "stdout",
     "output_type": "stream",
     "text": [
      "0\n",
      "1\n",
      "4\n",
      "9\n",
      "16\n",
      "25\n",
      "36\n",
      "49\n",
      "64\n",
      "81\n",
      "100\n",
      "121\n",
      "144\n",
      "169\n",
      "196\n",
      "225\n",
      "256\n",
      "289\n",
      "324\n",
      "361\n",
      "400\n",
      "441\n",
      "484\n",
      "529\n",
      "576\n",
      "625\n",
      "676\n",
      "729\n",
      "784\n",
      "841\n",
      "900\n",
      "961\n",
      "1024\n",
      "1089\n",
      "1156\n",
      "1225\n",
      "1296\n",
      "1369\n",
      "1444\n",
      "1521\n",
      "1600\n",
      "1681\n",
      "1764\n",
      "1849\n",
      "1936\n",
      "2025\n",
      "2116\n",
      "2209\n",
      "2304\n",
      "2401\n",
      "2500\n",
      "2601\n",
      "2704\n",
      "2809\n",
      "2916\n",
      "3025\n",
      "3136\n",
      "3249\n",
      "3364\n",
      "3481\n",
      "3600\n",
      "3721\n",
      "3844\n",
      "3969\n",
      "4096\n",
      "4225\n",
      "4356\n",
      "4489\n",
      "4624\n",
      "4761\n",
      "4900\n",
      "5041\n",
      "5184\n",
      "5329\n",
      "5476\n",
      "5625\n",
      "5776\n",
      "5929\n",
      "6084\n",
      "6241\n",
      "6400\n",
      "6561\n",
      "6724\n",
      "6889\n",
      "7056\n",
      "7225\n",
      "7396\n",
      "7569\n",
      "7744\n",
      "7921\n",
      "8100\n",
      "8281\n",
      "8464\n",
      "8649\n",
      "8836\n",
      "9025\n",
      "9216\n",
      "9409\n",
      "9604\n",
      "9801\n"
     ]
    }
   ],
   "source": [
    "for i in range(100):\n",
    "    print(i**2)"
   ]
  },
  {
   "cell_type": "markdown",
   "metadata": {},
   "source": [
    "### Desafío 5\n",
    "<ul>\n",
    "    <li>Utilizando la misma base <code>flights.csv</code> hacer un loop y clasificar los meses con unacantidad de pasajeros menor a la media</li>\n",
    "    <li>Para ello, generen un nuevo objeto que represente la media de <code>passengers</code>.</li>\n",
    "    <li>Generen una columna en la base de datos que se llame <code>underperforming</code> y asígnele 0.</li>\n",
    "    <li>Ejecuten un loop que recorra cada observación de <code>passengers</code>, donde si la\n",
    "observación es menor a la media de <code>passengers</code> se le asigne a <code>underperforming</code>\n",
    "un 1.</li>\n",
    "    <li>Para asignar unos en la columna <code>underperforming</code> ya creada, para ello utilice la\n",
    "función <code>at</code> de pandas.\n",
    "</li>\n",
    "</ul>"
   ]
  },
  {
   "cell_type": "code",
   "execution_count": 53,
   "metadata": {},
   "outputs": [
    {
     "data": {
      "text/plain": [
       "1    80\n",
       "0    64\n",
       "Name: underperforming, dtype: int64"
      ]
     },
     "execution_count": 53,
     "metadata": {},
     "output_type": "execute_result"
    }
   ],
   "source": [
    "import pandas as pd\n",
    "# Importar el dataframe\n",
    "df = pd.read_csv('./flights.csv')\n",
    "# Guardar la media en una variable\n",
    "mean = df['passengers'].mean()\n",
    "# Crear la columna en el dataframe y asignarle 0\n",
    "df['underperforming'] = 0\n",
    "# Recorrer el dataframe\n",
    "for idx, row in df.iterrows():\n",
    "    # Marcar aquellos registros que presentan un valor menor a la media\n",
    "    if row['passengers'] < mean:\n",
    "        df.at[idx,'underperforming'] = 1\n",
    "# Mostrar la frecuencia de 'underperforming'\n",
    "df['underperforming'].value_counts()"
   ]
  },
  {
   "cell_type": "markdown",
   "metadata": {},
   "source": [
    "### Desafio 6\n",
    "\n",
    "Hacer un loop que clasifique los meses donde la cantidad de pasajeros se escapa de la\n",
    "tendencia.\n",
    "<li>Para ello, genere dos objetos que guarden la media general y la desviación estándar\n",
    "general de passengers.</li>\n",
    "<li>Genere una nueva columna en la tabla de datos que se llame outlier y asignele 0.</li>\n",
    "<li>Ejecuten un loop que recorra cada observación de passengers, donde si la\n",
    "observación se escapa de la tendencia sea 1, de lo contrario 0.</li>\n",
    "<li>\n",
    "    Para clasificar los casos que se escapen la tendencia, la observación debe satisfacer una de las siguientes condiciones:\n",
    "    <ul>\n",
    "        <li>La observación debe ser menor a la media menos la desviación estándar, 𝝈.</li>\n",
    "        <li>La observación debe ser mayor a la media más la desviación estándar.</li>\n",
    "        <li>¿Cuántas observaciones se pueden clasificar como casos extremos?</li>\n",
    "    </ul>\n",
    "</li>"
   ]
  },
  {
   "cell_type": "code",
   "execution_count": 70,
   "metadata": {},
   "outputs": [
    {
     "data": {
      "text/plain": [
       "0    91\n",
       "1    53\n",
       "Name: outlier, dtype: int64"
      ]
     },
     "execution_count": 70,
     "metadata": {},
     "output_type": "execute_result"
    }
   ],
   "source": [
    "stdDev = df['passengers'].std()\n",
    "mean = df['passengers'].mean()\n",
    "\n",
    "df['outlier'] = 0\n",
    "for idx, row in df.iterrows():\n",
    "    if (row['passengers'] < (mean - stdDev)) or (row['passengers'] > (mean + stdDev)):\n",
    "        df.at[idx, 'outlier'] = 1\n",
    "\n",
    "df['outlier'].value_counts()"
   ]
  },
  {
   "cell_type": "markdown",
   "metadata": {},
   "source": [
    "\n",
    "\n",
    "Según el output anterior, existen 53 registros que se pueden clasificar como extremos"
   ]
  }
 ],
 "metadata": {
  "kernelspec": {
   "name": "python3",
   "display_name": "Python 3.8.5 64-bit ('base': conda)"
  },
  "language_info": {
   "codemirror_mode": {
    "name": "ipython",
    "version": 3
   },
   "file_extension": ".py",
   "mimetype": "text/x-python",
   "name": "python",
   "nbconvert_exporter": "python",
   "pygments_lexer": "ipython3",
   "version": "3.8.5"
  },
  "interpreter": {
   "hash": "07efdcd4b820c98a756949507a4d29d7862823915ec7477944641bea022f4f62"
  }
 },
 "nbformat": 4,
 "nbformat_minor": 4
}