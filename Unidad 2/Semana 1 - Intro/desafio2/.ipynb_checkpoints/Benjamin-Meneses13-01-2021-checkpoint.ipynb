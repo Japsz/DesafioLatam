{
 "cells": [
  {
   "cell_type": "markdown",
   "metadata": {},
   "source": [
    "# Desafío - Control de Flujo\n",
    "\n",
    "\n",
    "#### Desafio 1\n",
    "Generar un par de arrays ficticios con numpy"
   ]
  },
  {
   "cell_type": "code",
   "execution_count": 16,
   "metadata": {},
   "outputs": [],
   "source": [
    "import numpy as np\n",
    "\n",
    "nuevoArray = np.linspace(1,50)\n",
    "nuevoArraydos = np.linspace(50,150,101)\n",
    "print(nuevoArray)\n",
    "print(nuevoArraydos)"
   ]
  },
  {
   "cell_type": "markdown",
   "metadata": {},
   "source": [
    "#### Desafio 2\n",
    "Ejecute un loop que devuelva si el número en el primer array es par o impar"
   ]
  },
  {
   "cell_type": "code",
   "execution_count": 22,
   "metadata": {},
   "outputs": [
    {
     "name": "stdout",
     "output_type": "stream",
     "text": [
      "1.0 es impar\n",
      "2.0 es par\n",
      "3.0 es impar\n",
      "4.0 es par\n",
      "5.0 es impar\n",
      "6.0 es par\n",
      "7.0 es impar\n",
      "8.0 es par\n",
      "9.0 es impar\n",
      "10.0 es par\n",
      "11.0 es impar\n",
      "12.0 es par\n",
      "13.0 es impar\n",
      "14.0 es par\n",
      "15.0 es impar\n",
      "16.0 es par\n",
      "17.0 es impar\n",
      "18.0 es par\n",
      "19.0 es impar\n",
      "20.0 es par\n",
      "21.0 es impar\n",
      "22.0 es par\n",
      "23.0 es impar\n",
      "24.0 es par\n",
      "25.0 es impar\n",
      "26.0 es par\n",
      "27.0 es impar\n",
      "28.0 es par\n",
      "29.0 es impar\n",
      "30.0 es par\n",
      "31.0 es impar\n",
      "32.0 es par\n",
      "33.0 es impar\n",
      "34.0 es par\n",
      "35.0 es impar\n",
      "36.0 es par\n",
      "37.0 es impar\n",
      "38.0 es par\n",
      "39.0 es impar\n",
      "40.0 es par\n",
      "41.0 es impar\n",
      "42.0 es par\n",
      "43.0 es impar\n",
      "44.0 es par\n",
      "45.0 es impar\n",
      "46.0 es par\n",
      "47.0 es impar\n",
      "48.0 es par\n",
      "49.0 es impar\n",
      "50.0 es par\n"
     ]
    }
   ],
   "source": [
    "for num in nuevoArray:\n",
    "    if np.mod(num,2) == 0:\n",
    "        print(f'{num} es par')\n",
    "    else:\n",
    "        print(f'{num} es impar')"
   ]
  },
  {
   "cell_type": "markdown",
   "metadata": {},
   "source": [
    "#### Desafio 3\n",
    "Genere un loop con el segundo array que cuente las siguientes condiciones:\n",
    "<ul>\n",
    "    <li>Si el número es divisible por 2 o 3.</li>\n",
    "    <li>Si el número es divisible por 2 y 3.</li>\n",
    "    <li>Si el número es divisible por 3 pero no por 2.</li>\n",
    "    <li>si el número no es divisible por 2 ni 3.</li>\n",
    "</ul>\n"
   ]
  },
  {
   "cell_type": "code",
   "execution_count": 24,
   "metadata": {},
   "outputs": [
    {
     "name": "stdout",
     "output_type": "stream",
     "text": [
      "51.0 es divisible por 3 pero no por 2\n",
      "52.0 es divisible por 2\n",
      "53.0 no es divisible ni por 3 ni por 2\n",
      "54.0 es divisible por 2 y 3\n",
      "55.0 no es divisible ni por 3 ni por 2\n",
      "56.0 es divisible por 2\n",
      "57.0 es divisible por 3 pero no por 2\n",
      "58.0 es divisible por 2\n",
      "59.0 no es divisible ni por 3 ni por 2\n",
      "60.0 es divisible por 2 y 3\n",
      "61.0 no es divisible ni por 3 ni por 2\n",
      "62.0 es divisible por 2\n",
      "63.0 es divisible por 3 pero no por 2\n",
      "64.0 es divisible por 2\n",
      "65.0 no es divisible ni por 3 ni por 2\n",
      "66.0 es divisible por 2 y 3\n",
      "67.0 no es divisible ni por 3 ni por 2\n",
      "68.0 es divisible por 2\n",
      "69.0 es divisible por 3 pero no por 2\n",
      "70.0 es divisible por 2\n",
      "71.0 no es divisible ni por 3 ni por 2\n",
      "72.0 es divisible por 2 y 3\n",
      "73.0 no es divisible ni por 3 ni por 2\n",
      "74.0 es divisible por 2\n",
      "75.0 es divisible por 3 pero no por 2\n",
      "76.0 es divisible por 2\n",
      "77.0 no es divisible ni por 3 ni por 2\n",
      "78.0 es divisible por 2 y 3\n",
      "79.0 no es divisible ni por 3 ni por 2\n",
      "80.0 es divisible por 2\n",
      "81.0 es divisible por 3 pero no por 2\n",
      "82.0 es divisible por 2\n",
      "83.0 no es divisible ni por 3 ni por 2\n",
      "84.0 es divisible por 2 y 3\n",
      "85.0 no es divisible ni por 3 ni por 2\n",
      "86.0 es divisible por 2\n",
      "87.0 es divisible por 3 pero no por 2\n",
      "88.0 es divisible por 2\n",
      "89.0 no es divisible ni por 3 ni por 2\n",
      "90.0 es divisible por 2 y 3\n",
      "91.0 no es divisible ni por 3 ni por 2\n",
      "92.0 es divisible por 2\n",
      "93.0 es divisible por 3 pero no por 2\n",
      "94.0 es divisible por 2\n",
      "95.0 no es divisible ni por 3 ni por 2\n",
      "96.0 es divisible por 2 y 3\n",
      "97.0 no es divisible ni por 3 ni por 2\n",
      "98.0 es divisible por 2\n",
      "99.0 es divisible por 3 pero no por 2\n",
      "100.0 es divisible por 2\n",
      "101.0 no es divisible ni por 3 ni por 2\n",
      "102.0 es divisible por 2 y 3\n",
      "103.0 no es divisible ni por 3 ni por 2\n",
      "104.0 es divisible por 2\n",
      "105.0 es divisible por 3 pero no por 2\n",
      "106.0 es divisible por 2\n",
      "107.0 no es divisible ni por 3 ni por 2\n",
      "108.0 es divisible por 2 y 3\n",
      "109.0 no es divisible ni por 3 ni por 2\n",
      "110.0 es divisible por 2\n",
      "111.0 es divisible por 3 pero no por 2\n",
      "112.0 es divisible por 2\n",
      "113.0 no es divisible ni por 3 ni por 2\n",
      "114.0 es divisible por 2 y 3\n",
      "115.0 no es divisible ni por 3 ni por 2\n",
      "116.0 es divisible por 2\n",
      "117.0 es divisible por 3 pero no por 2\n",
      "118.0 es divisible por 2\n",
      "119.0 no es divisible ni por 3 ni por 2\n",
      "120.0 es divisible por 2 y 3\n",
      "121.0 no es divisible ni por 3 ni por 2\n",
      "122.0 es divisible por 2\n",
      "123.0 es divisible por 3 pero no por 2\n",
      "124.0 es divisible por 2\n",
      "125.0 no es divisible ni por 3 ni por 2\n",
      "126.0 es divisible por 2 y 3\n",
      "127.0 no es divisible ni por 3 ni por 2\n",
      "128.0 es divisible por 2\n",
      "129.0 es divisible por 3 pero no por 2\n",
      "130.0 es divisible por 2\n",
      "131.0 no es divisible ni por 3 ni por 2\n",
      "132.0 es divisible por 2 y 3\n",
      "133.0 no es divisible ni por 3 ni por 2\n",
      "134.0 es divisible por 2\n",
      "135.0 es divisible por 3 pero no por 2\n",
      "136.0 es divisible por 2\n",
      "137.0 no es divisible ni por 3 ni por 2\n",
      "138.0 es divisible por 2 y 3\n",
      "139.0 no es divisible ni por 3 ni por 2\n",
      "140.0 es divisible por 2\n",
      "141.0 es divisible por 3 pero no por 2\n",
      "142.0 es divisible por 2\n",
      "143.0 no es divisible ni por 3 ni por 2\n",
      "144.0 es divisible por 2 y 3\n",
      "145.0 no es divisible ni por 3 ni por 2\n",
      "146.0 es divisible por 2\n",
      "147.0 es divisible por 3 pero no por 2\n",
      "148.0 es divisible por 2\n",
      "149.0 no es divisible ni por 3 ni por 2\n",
      "150.0 es divisible por 2 y 3\n"
     ]
    }
   ],
   "source": [
    "for num in nuevoArraydos:\n",
    "    if np.mod(num,2) == 0 and np.mod(num,3) == 0:\n",
    "        print(f'{num} es divisible por 2 y 3')\n",
    "    if np.mod(num,2) != 0 and np.mod(num,3) == 0:\n",
    "        print(f'{num} es divisible por 3 pero no por 2')\n",
    "    if np.mod(num,2) == 0 or and np.mod(num,3) == 0::\n",
    "        print(f'{num} es divisible por 2 o 3')\n",
    "    if np.mod(num,2) != 0 and np.mod(num,3) != 0:\n",
    "        print(f'{num} no es divisible ni por 3 ni por 2')"
   ]
  },
  {
   "cell_type": "markdown",
   "metadata": {},
   "source": [
    "#### Desafío 4\n",
    "Correcciones de errores"
   ]
  },
  {
   "cell_type": "code",
   "execution_count": 71,
   "metadata": {},
   "outputs": [
    {
     "ename": "NameError",
     "evalue": "name 'I' is not defined",
     "output_type": "error",
     "traceback": [
      "\u001b[1;31m---------------------------------------------------------------------------\u001b[0m",
      "\u001b[1;31mNameError\u001b[0m                                 Traceback (most recent call last)",
      "\u001b[1;32m<ipython-input-71-03823014882c>\u001b[0m in \u001b[0;36m<module>\u001b[1;34m\u001b[0m\n\u001b[0;32m      1\u001b[0m \u001b[1;32mfor\u001b[0m \u001b[0mi\u001b[0m \u001b[1;32min\u001b[0m \u001b[0mrange\u001b[0m\u001b[1;33m(\u001b[0m\u001b[1;36m100\u001b[0m\u001b[1;33m)\u001b[0m\u001b[1;33m:\u001b[0m\u001b[1;33m\u001b[0m\u001b[1;33m\u001b[0m\u001b[0m\n\u001b[1;32m----> 2\u001b[1;33m     \u001b[0mprint\u001b[0m\u001b[1;33m(\u001b[0m\u001b[0mI\u001b[0m\u001b[1;33m**\u001b[0m\u001b[1;36m2\u001b[0m\u001b[1;33m)\u001b[0m\u001b[1;33m\u001b[0m\u001b[1;33m\u001b[0m\u001b[0m\n\u001b[0m",
      "\u001b[1;31mNameError\u001b[0m: name 'I' is not defined"
     ]
    }
   ],
   "source": [
    "for i in range(100):\n",
    "    print(I**2)"
   ]
  },
  {
   "cell_type": "markdown",
   "metadata": {},
   "source": [
    "El problema está en que se usa la variable en mayúsculas pero el itreador está en minúsculas"
   ]
  },
  {
   "cell_type": "code",
   "execution_count": 27,
   "metadata": {},
   "outputs": [
    {
     "name": "stdout",
     "output_type": "stream",
     "text": [
      "0\n",
      "1\n",
      "4\n",
      "9\n",
      "16\n",
      "25\n",
      "36\n",
      "49\n",
      "64\n",
      "81\n",
      "100\n",
      "121\n",
      "144\n",
      "169\n",
      "196\n",
      "225\n",
      "256\n",
      "289\n",
      "324\n",
      "361\n",
      "400\n",
      "441\n",
      "484\n",
      "529\n",
      "576\n",
      "625\n",
      "676\n",
      "729\n",
      "784\n",
      "841\n",
      "900\n",
      "961\n",
      "1024\n",
      "1089\n",
      "1156\n",
      "1225\n",
      "1296\n",
      "1369\n",
      "1444\n",
      "1521\n",
      "1600\n",
      "1681\n",
      "1764\n",
      "1849\n",
      "1936\n",
      "2025\n",
      "2116\n",
      "2209\n",
      "2304\n",
      "2401\n",
      "2500\n",
      "2601\n",
      "2704\n",
      "2809\n",
      "2916\n",
      "3025\n",
      "3136\n",
      "3249\n",
      "3364\n",
      "3481\n",
      "3600\n",
      "3721\n",
      "3844\n",
      "3969\n",
      "4096\n",
      "4225\n",
      "4356\n",
      "4489\n",
      "4624\n",
      "4761\n",
      "4900\n",
      "5041\n",
      "5184\n",
      "5329\n",
      "5476\n",
      "5625\n",
      "5776\n",
      "5929\n",
      "6084\n",
      "6241\n",
      "6400\n",
      "6561\n",
      "6724\n",
      "6889\n",
      "7056\n",
      "7225\n",
      "7396\n",
      "7569\n",
      "7744\n",
      "7921\n",
      "8100\n",
      "8281\n",
      "8464\n",
      "8649\n",
      "8836\n",
      "9025\n",
      "9216\n",
      "9409\n",
      "9604\n",
      "9801\n"
     ]
    }
   ],
   "source": [
    "for i in range(100):\n",
    "    print(i**2)"
   ]
  },
  {
   "cell_type": "markdown",
   "metadata": {},
   "source": [
    "#### Desafío 5\n",
    "<ul>\n",
    "    <li>Utilizando la misma base flights.csv hacer un loop y clasificar los meses con una\n",
    "cantidad de pasajeros menor a la media</li>\n",
    "</ul>"
   ]
  },
  {
   "cell_type": "code",
   "execution_count": 53,
   "metadata": {},
   "outputs": [
    {
     "data": {
      "text/plain": [
       "1    80\n",
       "0    64\n",
       "Name: underperforming, dtype: int64"
      ]
     },
     "execution_count": 53,
     "metadata": {},
     "output_type": "execute_result"
    }
   ],
   "source": [
    "import pandas as pd\n",
    "\n",
    "df = pd.read_csv('./flights.csv')\n",
    "mean = df['passengers'].mean()\n",
    "\n",
    "df['underperforming'] = 0\n",
    "\n",
    "for idx, row in df.iterrows():\n",
    "    if row['passengers'] < mean:\n",
    "        df.at[idx,'underperforming'] = 1\n",
    "\n",
    "df['underperforming'].value_counts()"
   ]
  },
  {
   "cell_type": "markdown",
   "metadata": {},
   "source": [
    "#### Desafio 6\n",
    "\n",
    "Hacer un loop que clasifique los meses donde la cantidad de pasajeros se escapa de la\n",
    "tendencia."
   ]
  },
  {
   "cell_type": "code",
   "execution_count": 70,
   "metadata": {},
   "outputs": [
    {
     "data": {
      "text/plain": [
       "0    91\n",
       "1    53\n",
       "Name: outlier, dtype: int64"
      ]
     },
     "execution_count": 70,
     "metadata": {},
     "output_type": "execute_result"
    }
   ],
   "source": [
    "stdDev = df['passengers'].std()\n",
    "mean = df['passengers'].mean()\n",
    "\n",
    "df['outlier'] = 0\n",
    "for idx, row in df.iterrows():\n",
    "    if (row['passengers'] < (mean - stdDev)) or (row['passengers'] > (mean + stdDev)):\n",
    "        df.at[idx, 'outlier'] = 1\n",
    "\n",
    "df['outlier'].value_counts()"
   ]
  },
  {
   "cell_type": "markdown",
   "metadata": {},
   "source": [
    "\n",
    "\n",
    "Según el output anterior, existen 53 registros que se pueden clasificar como extremos"
   ]
  }
 ],
 "metadata": {
  "kernelspec": {
   "display_name": "Python 3",
   "language": "python",
   "name": "python3"
  },
  "language_info": {
   "codemirror_mode": {
    "name": "ipython",
    "version": 3
   },
   "file_extension": ".py",
   "mimetype": "text/x-python",
   "name": "python",
   "nbconvert_exporter": "python",
   "pygments_lexer": "ipython3",
   "version": "3.8.5"
  }
 },
 "nbformat": 4,
 "nbformat_minor": 4
}
