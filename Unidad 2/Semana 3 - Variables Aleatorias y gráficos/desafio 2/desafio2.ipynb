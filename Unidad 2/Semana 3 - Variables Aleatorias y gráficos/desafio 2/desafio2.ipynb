{
 "cells": [
  {
   "cell_type": "markdown",
   "source": [
    "# Desafío - Estimando curvas normales"
   ],
   "metadata": {}
  },
  {
   "cell_type": "markdown",
   "source": [
    "## 1. Importe un csv\r\n",
    "<li>Importe el set de datos creados por usted al final de la sesión pasada.</li>"
   ],
   "metadata": {}
  },
  {
   "cell_type": "code",
   "execution_count": 1,
   "source": [
    "import pandas as pd\r\n",
    "import matplotlib.pyplot as plt\r\n",
    "import numpy as np\r\n",
    "\r\n",
    "sample = pd.read_csv('subsample_bm_demo.csv')"
   ],
   "outputs": [],
   "metadata": {}
  },
  {
   "cell_type": "markdown",
   "source": [
    "## 2. Importe su conjunto de funciones\r\n",
    "\r\n",
    "<li>Genere un archivo ancilliary_funcs.py para guardar las funciones creadas en la\r\n",
    "sesión pasada e impórtelo.</li>\r\n",
    "<li>Utilice las funciones creadas para inspeccionar la cantidad de casos perdidos de la\r\n",
    "muestra importada.</li>\r\n"
   ],
   "metadata": {}
  },
  {
   "cell_type": "code",
   "execution_count": 7,
   "source": [
    "import ancilliary_funcs as aux\r\n",
    "\r\n",
    "for col in aux.columns:\r\n",
    "    print('El análisis de la columna {} muestra {}'.format(col['name'], aux.lostData(sample, col['name'])))"
   ],
   "outputs": [
    {
     "output_type": "stream",
     "name": "stdout",
     "text": [
      "El análisis de la columna undp_hdi muestra {'count': 4, 'percent': 4.123711340206185}\n",
      "El análisis de la columna ccodealp muestra {'count': 0, 'percent': 0.0}\n",
      "El análisis de la columna ht_region muestra {'count': 0, 'percent': 0.0}\n",
      "El análisis de la columna gle_cgdpc muestra {'count': 0, 'percent': 0.0}\n",
      "El análisis de la columna imf_pop muestra {'count': 24, 'percent': 24.742268041237114}\n",
      "El análisis de la columna ffp_hf muestra {'count': 6, 'percent': 6.185567010309279}\n",
      "El análisis de la columna wef_qes muestra {'count': 18, 'percent': 18.556701030927837}\n",
      "El análisis de la columna wdi_expedu muestra {'count': 28, 'percent': 28.865979381443296}\n",
      "El análisis de la columna wdi_ners muestra {'count': 27, 'percent': 27.835051546391753}\n"
     ]
    }
   ],
   "metadata": {}
  },
  {
   "cell_type": "markdown",
   "source": [
    "## 3. Estime el puntaje Z de una variable\r\n",
    "\r\n",
    "Estime el puntaje Z la variables que posea la menor cantidad de datos perdidos (o que no\r\n",
    "posea).\r\n",
    "Genere una nueva columna en la tabla de datos que contenga el puntaje Z de dicha\r\n",
    "variable. Recuerde que para calcular el puntaje z de una observación se utiliza la\r\n",
    "fórmula:\r\n",
    "$$ z_i = \\frac{ x_i−\\tilde{x}}{\\sigma (x)} $$"
   ],
   "metadata": {}
  },
  {
   "cell_type": "code",
   "execution_count": 8,
   "source": [
    "colMean = sample['gle_cgdpc'].mean()\r\n",
    "colStd = sample['gle_cgdpc'].std()\r\n",
    "sample['gle_cgdpc_z'] = (sample['gle_cgdpc'] - colMean)/colStd"
   ],
   "outputs": [],
   "metadata": {}
  },
  {
   "cell_type": "code",
   "execution_count": 9,
   "source": [
    "sample['gle_cgdpc_z']"
   ],
   "outputs": [
    {
     "output_type": "execute_result",
     "data": {
      "text/plain": [
       "0     0.760920\n",
       "1    -0.862053\n",
       "2     0.215414\n",
       "3     0.148137\n",
       "4    -0.843981\n",
       "        ...   \n",
       "92    1.874076\n",
       "93   -0.716798\n",
       "94    0.438540\n",
       "95   -0.555208\n",
       "96   -0.751255\n",
       "Name: gle_cgdpc_z, Length: 97, dtype: float64"
      ]
     },
     "metadata": {},
     "execution_count": 9
    }
   ],
   "metadata": {}
  }
 ],
 "metadata": {
  "orig_nbformat": 4,
  "language_info": {
   "name": "python",
   "version": "3.8.5",
   "mimetype": "text/x-python",
   "codemirror_mode": {
    "name": "ipython",
    "version": 3
   },
   "pygments_lexer": "ipython3",
   "nbconvert_exporter": "python",
   "file_extension": ".py"
  },
  "kernelspec": {
   "name": "python3",
   "display_name": "Python 3.8.5 64-bit ('base': conda)"
  },
  "interpreter": {
   "hash": "07efdcd4b820c98a756949507a4d29d7862823915ec7477944641bea022f4f62"
  }
 },
 "nbformat": 4,
 "nbformat_minor": 2
}