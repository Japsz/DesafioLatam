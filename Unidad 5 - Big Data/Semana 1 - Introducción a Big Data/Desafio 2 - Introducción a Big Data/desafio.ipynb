{
 "cells": [
  {
   "cell_type": "markdown",
   "metadata": {},
   "source": [
    "## __Desafío - Introducción a Big Data__"
   ]
  },
  {
   "cell_type": "markdown",
   "metadata": {},
   "source": [
    "### Ejercicio 1: Ingesta de datos semiestructurados\n",
    "- Utilizando las librerías `requests` y `json`, realice una consulta a la [API BallDontLie](https://www.balldontlie.io/#getting-started).\n",
    "- Mediante esta API, genere una consulta de 100 juegos (busquen el endpoint `Get All Games` en la página, dentro de `Games`) . Puede usar la opción `per_page=100` en la dirección de la API para lograr esto.\n",
    "- Guarde la consulta en una variable, y asegúrese que ésta sea semiestructurada.\n",
    "Consulte los datos y metadatos asociados.\n",
    "- Dentro de la lista de datos, comente cuáles son las llaves de cada registro.\n"
   ]
  },
  {
   "cell_type": "code",
   "execution_count": 9,
   "metadata": {},
   "outputs": [],
   "source": [
    "import requests\n",
    "import pandas as pd\n",
    "import numpy as np"
   ]
  },
  {
   "cell_type": "code",
   "execution_count": 2,
   "metadata": {},
   "outputs": [],
   "source": [
    "r = requests.get('https://www.balldontlie.io/api/v1/games?per_page=100')"
   ]
  },
  {
   "cell_type": "code",
   "execution_count": 3,
   "metadata": {},
   "outputs": [
    {
     "name": "stdout",
     "output_type": "stream",
     "text": [
      "Ejemplo de Dato\n",
      "{'id': 47179, 'date': '2019-01-30T00:00:00.000Z', 'home_team': {'id': 2, 'abbreviation': 'BOS', 'city': 'Boston', 'conference': 'East', 'division': 'Atlantic', 'full_name': 'Boston Celtics', 'name': 'Celtics'}, 'home_team_score': 126, 'period': 4, 'postseason': False, 'season': 2018, 'status': 'Final', 'time': ' ', 'visitor_team': {'id': 4, 'abbreviation': 'CHA', 'city': 'Charlotte', 'conference': 'East', 'division': 'Southeast', 'full_name': 'Charlotte Hornets', 'name': 'Hornets'}, 'visitor_team_score': 94}\n"
     ]
    }
   ],
   "source": [
    "response = r.json()['data']\n",
    "print(\"Ejemplo de Dato\")\n",
    "print(response[0])"
   ]
  },
  {
   "cell_type": "code",
   "execution_count": 4,
   "metadata": {},
   "outputs": [
    {
     "name": "stdout",
     "output_type": "stream",
     "text": [
      "Ejemplo de Meta\n",
      "{'total_pages': 512, 'current_page': 1, 'next_page': 2, 'per_page': 100, 'total_count': 51163}\n"
     ]
    }
   ],
   "source": [
    "meta = r.json()['meta']\n",
    "print(\"Ejemplo de Meta\")\n",
    "print(meta)"
   ]
  },
  {
   "cell_type": "code",
   "execution_count": 5,
   "metadata": {},
   "outputs": [
    {
     "name": "stdout",
     "output_type": "stream",
     "text": [
      "Las llaves de cada Dato son: \n",
      "{'time', 'period', 'status', 'season', 'visitor_team_score', 'date', 'visitor_team', 'postseason', 'home_team', 'id', 'home_team_score'}\n"
     ]
    }
   ],
   "source": [
    "keys = set()\n",
    "for i in response:\n",
    "    keys.update(i.keys())\n",
    "print(\"Las llaves de cada Dato son: \")\n",
    "print(keys)"
   ]
  },
  {
   "cell_type": "markdown",
   "metadata": {},
   "source": [
    "Ejercicio 2: Organización de los datos\n",
    "- En base a los datos consultados en la API, genere un objeto `pd.DataFrame` con la\n",
    "siguiente estructura:\n",
    "```python\n",
    "games_df.head(2)\n",
    "```\n",
    "- Para obtener la estructura, sólo puede utilizar operaciones map y comprensiones de\n",
    "lista"
   ]
  },
  {
   "cell_type": "code",
   "execution_count": 6,
   "metadata": {},
   "outputs": [
    {
     "data": {
      "text/html": [
       "<div>\n",
       "<style scoped>\n",
       "    .dataframe tbody tr th:only-of-type {\n",
       "        vertical-align: middle;\n",
       "    }\n",
       "\n",
       "    .dataframe tbody tr th {\n",
       "        vertical-align: top;\n",
       "    }\n",
       "\n",
       "    .dataframe thead th {\n",
       "        text-align: right;\n",
       "    }\n",
       "</style>\n",
       "<table border=\"1\" class=\"dataframe\">\n",
       "  <thead>\n",
       "    <tr style=\"text-align: right;\">\n",
       "      <th></th>\n",
       "      <th>season</th>\n",
       "      <th>period</th>\n",
       "      <th>home</th>\n",
       "      <th>home_conference</th>\n",
       "      <th>home_division</th>\n",
       "      <th>visitor</th>\n",
       "      <th>visitor_conference</th>\n",
       "      <th>visitor_division</th>\n",
       "      <th>home_score</th>\n",
       "      <th>visitor_score</th>\n",
       "      <th>home_differential</th>\n",
       "      <th>visitor_differential</th>\n",
       "    </tr>\n",
       "  </thead>\n",
       "  <tbody>\n",
       "    <tr>\n",
       "      <th>0</th>\n",
       "      <td>2018</td>\n",
       "      <td>4</td>\n",
       "      <td>Boston Celtics</td>\n",
       "      <td>East</td>\n",
       "      <td>Atlantic</td>\n",
       "      <td>Charlotte Hornets</td>\n",
       "      <td>East</td>\n",
       "      <td>Southeast</td>\n",
       "      <td>126</td>\n",
       "      <td>94</td>\n",
       "      <td>32</td>\n",
       "      <td>-32</td>\n",
       "    </tr>\n",
       "    <tr>\n",
       "      <th>1</th>\n",
       "      <td>2018</td>\n",
       "      <td>4</td>\n",
       "      <td>Boston Celtics</td>\n",
       "      <td>East</td>\n",
       "      <td>Atlantic</td>\n",
       "      <td>LA Clippers</td>\n",
       "      <td>West</td>\n",
       "      <td>Pacific</td>\n",
       "      <td>112</td>\n",
       "      <td>123</td>\n",
       "      <td>-11</td>\n",
       "      <td>11</td>\n",
       "    </tr>\n",
       "  </tbody>\n",
       "</table>\n",
       "</div>"
      ],
      "text/plain": [
       "   season  period            home home_conference home_division  \\\n",
       "0    2018       4  Boston Celtics            East      Atlantic   \n",
       "1    2018       4  Boston Celtics            East      Atlantic   \n",
       "\n",
       "             visitor visitor_conference visitor_division  home_score  \\\n",
       "0  Charlotte Hornets               East        Southeast         126   \n",
       "1        LA Clippers               West          Pacific         112   \n",
       "\n",
       "   visitor_score  home_differential  visitor_differential  \n",
       "0             94                 32                   -32  \n",
       "1            123                -11                    11  "
      ]
     },
     "execution_count": 6,
     "metadata": {},
     "output_type": "execute_result"
    }
   ],
   "source": [
    "games_df = pd.DataFrame([[\n",
    "    game['season'],\n",
    "    game['period'],\n",
    "    game['home_team']['full_name'],\n",
    "    game['home_team']['conference'],\n",
    "    game['home_team']['division'],\n",
    "    game['visitor_team']['full_name'],\n",
    "    game['visitor_team']['conference'],\n",
    "    game['visitor_team']['division'],\n",
    "    game['home_team_score'],\n",
    "    game['visitor_team_score'],\n",
    "    int(game['home_team_score']) - int(game['visitor_team_score']),\n",
    "    int(game['visitor_team_score']) - int(game['home_team_score']),\n",
    "    ] for game in response], columns=['season', 'period', 'home', 'home_conference', 'home_division', 'visitor', 'visitor_conference', 'visitor_division', 'home_score', 'visitor_score', 'home_differential', 'visitor_differential'])\n",
    "games_df.head(2)"
   ]
  },
  {
   "cell_type": "markdown",
   "metadata": {},
   "source": [
    "### Ejercicio 3: El efecto de jugar de local\n",
    "- Genere una columna en el `pd.DataFrame` que identifique si el equipo que jugó de\n",
    "local ganó (1) o no (0).\n",
    "- Repita el procedimiento para identificar si el equipo que jugó de visitante ganó (1) o\n",
    "no (0).\n",
    "- Reporte cuáles son los primeros y últimos 5 equipos en cuanto a desempeño por\n",
    "jugar local.\n",
    "- Reporte cuáles son los primeros y últimos 5 equipos en cuanto a desempeño por\n",
    "jugar de visita.\n"
   ]
  },
  {
   "cell_type": "code",
   "execution_count": 12,
   "metadata": {},
   "outputs": [],
   "source": [
    "# Agregar las victorias como local y visita\n",
    "games_df['home_win'] = np.where(games_df['home_differential'] > 0, 1, 0)\n",
    "games_df['visitor_win'] = np.where(games_df['visitor_differential'] > 0, 1, 0)\n",
    "# Conseguimos el promedio por equipo de victorias como local y visita\n",
    "games_df_local = games_df.groupby(['home'])['home_win'].mean().sort_values(ascending=False)\n",
    "games_df_visita = games_df.groupby(['visitor'])['visitor_win'].mean().sort_values(ascending=False)"
   ]
  },
  {
   "cell_type": "code",
   "execution_count": 19,
   "metadata": {},
   "outputs": [
    {
     "name": "stdout",
     "output_type": "stream",
     "text": [
      "Los mejores 5 equipos como local son: \n",
      "home\n",
      "Miami Heat                1.0\n",
      "Toronto Raptors           1.0\n",
      "San Antonio Spurs         1.0\n",
      "Denver Nuggets            1.0\n",
      "Portland Trail Blazers    1.0\n",
      "Name: home_win, dtype: float64\n",
      "Los peores 5 equipos como local son: \n",
      "home\n",
      "Atlanta Hawks            0.2\n",
      "Charlotte Hornets        0.0\n",
      "Phoenix Suns             0.0\n",
      "New York Knicks          0.0\n",
      "Oklahoma City Thunder    0.0\n",
      "Name: home_win, dtype: float64\n"
     ]
    }
   ],
   "source": [
    "# Mostramos los mejores y peores 5 equipos como local\n",
    "print(\"Los mejores 5 equipos como local son: \")\n",
    "print(games_df_local.head(5))\n",
    "print(\"Los peores 5 equipos como local son: \")\n",
    "print(games_df_local.tail(5))\n"
   ]
  },
  {
   "cell_type": "code",
   "execution_count": 20,
   "metadata": {},
   "outputs": [
    {
     "name": "stdout",
     "output_type": "stream",
     "text": [
      "Los mejores 5 equipos como visita son: \n",
      "visitor\n",
      "Indiana Pacers     1.000000\n",
      "Milwaukee Bucks    1.000000\n",
      "LA Clippers        1.000000\n",
      "Boston Celtics     0.666667\n",
      "Brooklyn Nets      0.666667\n",
      "Name: visitor_win, dtype: float64\n",
      "Los peores 5 equipos como visita son: \n",
      "visitor\n",
      "Minnesota Timberwolves    0.0\n",
      "New York Knicks           0.0\n",
      "Phoenix Suns              0.0\n",
      "Sacramento Kings          0.0\n",
      "Atlanta Hawks             0.0\n",
      "Name: visitor_win, dtype: float64\n"
     ]
    }
   ],
   "source": [
    "# Mostramos los mejores y peores 5 equipos como visita\n",
    "print(\"Los mejores 5 equipos como visita son: \")\n",
    "print(games_df_visita.head(5))\n",
    "print(\"Los peores 5 equipos como visita son: \")\n",
    "print(games_df_visita.tail(5))"
   ]
  },
  {
   "cell_type": "markdown",
   "metadata": {},
   "source": [
    "### Ejercicio 4: Obteniendo el porcentaje de ganar local y de visita\n",
    "- Genere un nuevo objeto que guarde el porcentaje de juegos ganados como local __por equipo__.\n",
    "- Repita lo mismo para los juegos donde el equipo fue visitante.\n",
    "- ¿Qué equipos tienen iguales chances de ganar como visitante o local?\n"
   ]
  },
  {
   "cell_type": "code",
   "execution_count": 18,
   "metadata": {},
   "outputs": [
    {
     "name": "stdout",
     "output_type": "stream",
     "text": [
      "Los equipos que tienen el mismo porcentaje de victorias como local y visita son: \n",
      "                      local_win_percent  visita_win_percent\n",
      "Los Angeles Lakers            50.000000           50.000000\n",
      "New Orleans Pelicans          33.333333           33.333333\n",
      "Phoenix Suns                   0.000000            0.000000\n",
      "New York Knicks                0.000000            0.000000\n"
     ]
    }
   ],
   "source": [
    "# Guardamos la serie como porcentaje\n",
    "win_as_local_percent = games_df_local * 100\n",
    "win_as_visita_percent = games_df_visita * 100\n",
    "# Los juntamos en un DataFrame\n",
    "games_df_percent = pd.concat([win_as_local_percent, win_as_visita_percent], axis=1)\n",
    "games_df_percent.columns = ['local_win_percent', 'visita_win_percent']\n",
    "# Imprimimos aquellos equipos que tienen el mismo porcentaje de victorias tanto como local o visita\n",
    "print(\"Los equipos que tienen el mismo porcentaje de victorias como local y visita son: \")\n",
    "print(games_df_percent[games_df_percent['local_win_percent'] == games_df_percent['visita_win_percent']])"
   ]
  }
 ],
 "metadata": {
  "interpreter": {
   "hash": "07efdcd4b820c98a756949507a4d29d7862823915ec7477944641bea022f4f62"
  },
  "kernelspec": {
   "display_name": "Python 3.8.5 64-bit ('base': conda)",
   "language": "python",
   "name": "python3"
  },
  "language_info": {
   "codemirror_mode": {
    "name": "ipython",
    "version": 3
   },
   "file_extension": ".py",
   "mimetype": "text/x-python",
   "name": "python",
   "nbconvert_exporter": "python",
   "pygments_lexer": "ipython3",
   "version": "3.8.5"
  },
  "orig_nbformat": 4
 },
 "nbformat": 4,
 "nbformat_minor": 2
}
