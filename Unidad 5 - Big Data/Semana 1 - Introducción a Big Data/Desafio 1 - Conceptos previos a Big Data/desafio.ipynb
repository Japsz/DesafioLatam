{
 "cells": [
  {
   "cell_type": "markdown",
   "metadata": {},
   "source": [
    "# __Desafío - Conceptos previos a Big Data__\n",
    "`Benjamín Meneses`"
   ]
  },
  {
   "cell_type": "markdown",
   "metadata": {},
   "source": [
    "### Ejercicio 1: Generación Artificial de Datos\n",
    "- A continuación se define la función `create_random_row`, la cual generará un registro\n",
    "artificial de un cliente en una compañía de seguros:\n",
    "- Replique la función 10 millones de veces y preservarla en un objeto.\n"
   ]
  },
  {
   "cell_type": "markdown",
   "metadata": {},
   "source": [
    "__Algunos supuestos__:\n",
    "- Asuma, de aquí en adelante, que los datos generados representarán mediciones\n",
    "empíricas sobre el comportamiento de clientes en la compañía de seguros.\n",
    "- Considere el siguiente ambiente de trabajo de su computador: No tiene instalada la\n",
    "distribución anaconda, por lo que no tendrá acceso a las librerías `pandas`, `numpy` y\n",
    "`scipy`. Tampoco tiene permisos de usuario, por lo cual no podrá instalarlas. __Sólo\n",
    "puede implementar funciones nativas de Python.__\n",
    "- Dado que su código podrá ser utilizado posteriormente en una aplicación web de uso\n",
    "interno montada en Scala, __debe utilizar operaciones vectorizadas como `map`,\n",
    "`filter`, `reduce`; y comprensiones de lista.__\n"
   ]
  },
  {
   "cell_type": "code",
   "execution_count": 2,
   "metadata": {},
   "outputs": [
    {
     "data": {
      "text/plain": [
       "(50, 222000, 'Unemployed', 'No Debt', 'Churn')"
      ]
     },
     "execution_count": 2,
     "metadata": {},
     "output_type": "execute_result"
    }
   ],
   "source": [
    "import random\n",
    "def create_random_row():\n",
    "    # simulamos la columna edad\n",
    "    age = random.randint(18, 90)\n",
    "    # simulamos la columna ingreso\n",
    "    income = random.randrange(10000, 1000000, step=1000)\n",
    "    # simulamos la situación laboral\n",
    "    employment_status = random.choice(['Unemployed', 'Employed'])\n",
    "    # simulamos si es que tiene deuda o no\n",
    "    debt_status = random.choice(['Debt', 'No Debt'])\n",
    "    # simulamos si es que se cambió recientemente o no\n",
    "    churn_status = random.choice(['Churn', 'No Churn'])\n",
    "    return age, income, employment_status, debt_status, churn_status\n",
    "# ejecución\n",
    "create_random_row()"
   ]
  },
  {
   "cell_type": "code",
   "execution_count": 3,
   "metadata": {},
   "outputs": [],
   "source": [
    "# Definimos el largo de la base de datos\n",
    "db_len = 10000000\n",
    "# Generamos la BD\n",
    "random_database = [create_random_row() for _ in range(db_len)]"
   ]
  },
  {
   "cell_type": "markdown",
   "metadata": {},
   "source": [
    "### Ejercicio 2:\n",
    "Desde la gerencia de estudios de la compañía de seguros, le solicitan mejorar la siguiente\n",
    "línea de código:\n",
    "```python\n",
    "employment_income_looped = 0\n",
    "for i in random_database:\n",
    "    if i[2] == 'Employed':\n",
    "        employment_income_looped += i[1]\n",
    "# retorno\n",
    "2523162067000\n",
    "```\n",
    "Responda los siguientes puntos:\n",
    "- ¿Qué retornará la variable `employment_income_looped`?\n",
    "- ¿Cómo sería una implementación del código utilizando `map` y `filter`?\n",
    "- ¿Son iguales los resultados?\n"
   ]
  },
  {
   "cell_type": "markdown",
   "metadata": {},
   "source": [
    "La variable `employment_income_looped` corresponde a la suma total de ingresos de todos los empleados."
   ]
  },
  {
   "cell_type": "code",
   "execution_count": 5,
   "metadata": {},
   "outputs": [],
   "source": [
    "from functools import reduce"
   ]
  },
  {
   "cell_type": "code",
   "execution_count": 9,
   "metadata": {},
   "outputs": [
    {
     "data": {
      "text/plain": [
       "2522147251000"
      ]
     },
     "execution_count": 9,
     "metadata": {},
     "output_type": "execute_result"
    }
   ],
   "source": [
    "employment_income_looped = 0\n",
    "for i in random_database:\n",
    "    if i[2] == 'Employed':\n",
    "        employment_income_looped += i[1]\n",
    "employment_income_looped"
   ]
  },
  {
   "cell_type": "code",
   "execution_count": 10,
   "metadata": {},
   "outputs": [
    {
     "data": {
      "text/plain": [
       "2522147251000"
      ]
     },
     "execution_count": 10,
     "metadata": {},
     "output_type": "execute_result"
    }
   ],
   "source": [
    "# Definimos la función para la suma de los ingresos\n",
    "employment_income_looped = reduce(lambda sum, x: sum + x[1],list(filter(lambda x: x[2] == 'Employed', random_database)), 0)\n",
    "employment_income_looped"
   ]
  },
  {
   "cell_type": "markdown",
   "metadata": {},
   "source": [
    "ambos resultados son iguales."
   ]
  },
  {
   "cell_type": "markdown",
   "metadata": {},
   "source": [
    "### Ejercicio 3:\n",
    "Desde la gerencia le solicitan mejorar la siguiente línea de código:\n",
    "```python\n",
    "count_debts_looped = 0\n",
    "for i in random_database:\n",
    "    for j in i:\n",
    "        if j == 'Debt':\n",
    "            count_debts_looped += 1\n",
    "# retorno\n",
    "5000335\n",
    "```\n",
    "Responda los siguientes puntos:\n",
    "- ¿Cuál será el retorno de la variable `count_debts_looped`?\n",
    "- ¿Cuál es la complejidad algorítmica del código?\n",
    "- ¿Cómo sería una implementación del código utilizando `map` y `filter`?\n",
    "- ¿Son iguales los resultados de ambas operaciones?\n"
   ]
  },
  {
   "cell_type": "markdown",
   "metadata": {},
   "source": [
    "`count_debts_looped` retornará el número de clientes con deuda.\n",
    "Tiene una complejidad algorítmica de $n\\cdot j$ es decir $O(n^2)$"
   ]
  },
  {
   "cell_type": "code",
   "execution_count": 11,
   "metadata": {},
   "outputs": [
    {
     "data": {
      "text/plain": [
       "4997988"
      ]
     },
     "execution_count": 11,
     "metadata": {},
     "output_type": "execute_result"
    }
   ],
   "source": [
    "count_debts_looped = 0\n",
    "for i in random_database:\n",
    "    for j in i:\n",
    "        if j == 'Debt':\n",
    "            count_debts_looped += 1\n",
    "count_debts_looped"
   ]
  },
  {
   "cell_type": "code",
   "execution_count": 13,
   "metadata": {},
   "outputs": [
    {
     "data": {
      "text/plain": [
       "4997988"
      ]
     },
     "execution_count": 13,
     "metadata": {},
     "output_type": "execute_result"
    }
   ],
   "source": [
    "count_debts_looped = len(list(filter(lambda x: x[3] == 'Debt', random_database)))\n",
    "count_debts_looped"
   ]
  },
  {
   "cell_type": "markdown",
   "metadata": {},
   "source": [
    "Ambos resultados son iguales"
   ]
  },
  {
   "cell_type": "markdown",
   "metadata": {},
   "source": [
    "### Ejercicio 4\n",
    "Desde la gerencia le solicitan mejorar la siguiente línea de código:\n",
    "```python\n",
    "churn_subset, no_churn_subset = [], []\n",
    "for i in random_database:\n",
    "    for j in i:\n",
    "        if i == 'Churn':\n",
    "            churn_subset.append(i)\n",
    "    for j in i:\n",
    "        if i == 'No Churn':\n",
    "            no_churn.append(i)\n",
    "```\n",
    "- ¿Cuál será el retorno de la variable `churn_subset` y `no_churn_subset`?\n",
    "- ¿Cuál es la complejidad algorítmica del código?\n",
    "- ¿Cómo sería una implementación del código utilizando `map` y `filter`?\n",
    "- ¿Son iguales los resultados de ambas operaciones?\n",
    "- Estime la media, la varianza, el mínimo y el máximo de la edad para ambos subsets,\n",
    "sin utilizar librerías externas.\n"
   ]
  },
  {
   "cell_type": "markdown",
   "metadata": {},
   "source": [
    "`churn_subset` y `no_churn_subset` son la base de datos divida entre clientes fugados y no.\n",
    "Tiene una complejidad algorítmica de $n\\cdot j$ es decir $O(n^2)$"
   ]
  },
  {
   "cell_type": "code",
   "execution_count": 18,
   "metadata": {},
   "outputs": [],
   "source": [
    "churn_subset, no_churn_subset = [], []\n",
    "for i in random_database:\n",
    "    for j in i:\n",
    "        if j == 'Churn':\n",
    "            churn_subset.append(i)\n",
    "    for j in i:\n",
    "        if j == 'No Churn':\n",
    "            no_churn_subset.append(i)"
   ]
  },
  {
   "cell_type": "code",
   "execution_count": 19,
   "metadata": {},
   "outputs": [],
   "source": [
    "churn_subset = list(filter(lambda x: x[4] == 'Churn', random_database))\n",
    "no_churn_subset = list(filter(lambda x: x[4] == 'No Churn', random_database))"
   ]
  },
  {
   "cell_type": "code",
   "execution_count": 20,
   "metadata": {},
   "outputs": [
    {
     "name": "stdout",
     "output_type": "stream",
     "text": [
      "{'media': 54.014948138072775, 'varianza': 443.75855768792815, 'min': 18, 'max': 90}\n",
      "{'media': 53.99003088927198, 'varianza': 443.9212005275091, 'min': 18, 'max': 90}\n"
     ]
    }
   ],
   "source": [
    "def media(set):\n",
    "    return reduce(lambda sum, x: sum + x[0], set, 0) / len(set)\n",
    "def varianza(set, media):\n",
    "    return reduce(lambda sum, x: sum + (x[0] - media)**2, set, 0) / len(set)\n",
    "def minimum(set):\n",
    "    return min(list(map(lambda x: x[0], set)))\n",
    "def maximum(set):\n",
    "    return max(list(map(lambda x: x[0], set)))\n",
    "\n",
    "def describe(set, name):\n",
    "    return {\n",
    "        'name': name,\n",
    "        'media': media(set),\n",
    "        'varianza': varianza(set, media(set)),\n",
    "        'min': minimum(set),\n",
    "        'max': maximum(set)\n",
    "    }\n",
    "\n",
    "print(describe(churn_subset), 'churn')\n",
    "print(describe(no_churn_subset), 'no_churn')"
   ]
  },
  {
   "cell_type": "markdown",
   "metadata": {},
   "source": [
    "### Ejercicio 5\n",
    "\n",
    "Desde la gerencia le solicitan mejorar la siguiente línea de código:\n",
    "```python\n",
    "unemployed_debt_churn = 0\n",
    "unemployed_nodebt_churn = 0\n",
    "unemployed_debt_nochurn = 0\n",
    "unemployed_nodebt_nochurn = 0\n",
    "employed_debt_churn = 0\n",
    "employed_nodebt_churn = 0\n",
    "employed_debt_nochurn = 0\n",
    "employed_nodebt_nochurn = 0\n",
    "for i in random_database:\n",
    "    if i[2] == 'Unemployed' and i[3] == 'Debt' and i[4] == 'Churn':\n",
    "        unemployed_debt_churn += 1\n",
    "    if i[2] == 'Unemployed' and i[3] == 'No Debt' and i[4] == 'Churn':\n",
    "        unemployed_nodebt_churn += 1\n",
    "    if i[2] == 'Unemployed' and i[3] == 'Debt' and i[4] == 'No Churn':\n",
    "        unemployed_debt_nochurn += 1\n",
    "    if i[2] == 'Unemployed' and i[3] == 'No Debt' and i[4] == 'No Churn':\n",
    "        unemployed_nodebt_nochurn += 1\n",
    "    if i[2] == 'Employed' and i[3] == 'Debt' and i[4] == 'Churn':\n",
    "        employed_debt_churn += 1\n",
    "    if i[2] == 'Employed' and i[3] == 'No Debt' and i[4] == 'Churn':\n",
    "        employed_nodebt_churn += 1\n",
    "    if i[2] == 'Employed' and i[3] == 'Debt' and i[4] == 'No Churn':\n",
    "        employed_debt_nochurn += 1\n",
    "    if i[2] == 'Employed' and i[3] == 'No Debt' and i[4] == 'No Churn':\n",
    "        employed_nodebt_nochurn += 1\n",
    "print(\"Unemployed, Debt, Churn: \", unemployed_debt_churn)\n",
    "print(\"Unemployed, No Debt, Churn: \", unemployed_nodebt_churn)\n",
    "print(\"Unemployed, Debt, No Churn: \", unemployed_debt_nochurn)\n",
    "print(\"Unemployed, No Debt, No Churn: \", unemployed_nodebt_nochurn)\n",
    "print(\"Employed, Debt, Churn: \", employed_debt_churn)\n",
    "print(\"Employed, No Debt, Churn: \", employed_nodebt_churn)\n",
    "print(\"Employed, Debt, No Churn: \", employed_debt_nochurn)\n",
    "print(\"Employed, No Debt, No Churn: \", employed_nodebt_nochurn)\n",
    "```\n",
    "- ¿Cómo sería una implementación utilizando map?\n",
    "- ¿Son iguales los resultados de ambas operaciones?"
   ]
  },
  {
   "cell_type": "code",
   "execution_count": 4,
   "metadata": {},
   "outputs": [
    {
     "name": "stdout",
     "output_type": "stream",
     "text": [
      "Unemployed, Debt, Churn:  1250300\n",
      "Unemployed, No Debt, Churn:  1249729\n",
      "Unemployed, Debt, No Churn:  1251313\n",
      "Unemployed, No Debt, No Churn:  1249147\n",
      "Employed, Debt, Churn:  1248822\n",
      "Employed, No Debt, Churn:  1250923\n",
      "Employed, Debt, No Churn:  1250396\n",
      "Employed, No Debt, No Churn:  1249370\n"
     ]
    }
   ],
   "source": [
    "# Original\n",
    "unemployed_debt_churn = 0\n",
    "unemployed_nodebt_churn = 0\n",
    "unemployed_debt_nochurn = 0\n",
    "unemployed_nodebt_nochurn = 0\n",
    "employed_debt_churn = 0\n",
    "employed_nodebt_churn = 0\n",
    "employed_debt_nochurn = 0\n",
    "employed_nodebt_nochurn = 0\n",
    "for i in random_database:\n",
    "    if i[2] == 'Unemployed' and i[3] == 'Debt' and i[4] == 'Churn':\n",
    "        unemployed_debt_churn += 1\n",
    "    if i[2] == 'Unemployed' and i[3] == 'No Debt' and i[4] == 'Churn':\n",
    "        unemployed_nodebt_churn += 1\n",
    "    if i[2] == 'Unemployed' and i[3] == 'Debt' and i[4] == 'No Churn':\n",
    "        unemployed_debt_nochurn += 1\n",
    "    if i[2] == 'Unemployed' and i[3] == 'No Debt' and i[4] == 'No Churn':\n",
    "        unemployed_nodebt_nochurn += 1\n",
    "    if i[2] == 'Employed' and i[3] == 'Debt' and i[4] == 'Churn':\n",
    "        employed_debt_churn += 1\n",
    "    if i[2] == 'Employed' and i[3] == 'No Debt' and i[4] == 'Churn':\n",
    "        employed_nodebt_churn += 1\n",
    "    if i[2] == 'Employed' and i[3] == 'Debt' and i[4] == 'No Churn':\n",
    "        employed_debt_nochurn += 1\n",
    "    if i[2] == 'Employed' and i[3] == 'No Debt' and i[4] == 'No Churn':\n",
    "        employed_nodebt_nochurn += 1\n",
    "print(\"Unemployed, Debt, Churn: \", unemployed_debt_churn)\n",
    "print(\"Unemployed, No Debt, Churn: \", unemployed_nodebt_churn)\n",
    "print(\"Unemployed, Debt, No Churn: \", unemployed_debt_nochurn)\n",
    "print(\"Unemployed, No Debt, No Churn: \", unemployed_nodebt_nochurn)\n",
    "print(\"Employed, Debt, Churn: \", employed_debt_churn)\n",
    "print(\"Employed, No Debt, Churn: \", employed_nodebt_churn)\n",
    "print(\"Employed, Debt, No Churn: \", employed_debt_nochurn)\n",
    "print(\"Employed, No Debt, No Churn: \", employed_nodebt_nochurn)"
   ]
  },
  {
   "cell_type": "code",
   "execution_count": 6,
   "metadata": {},
   "outputs": [
    {
     "name": "stdout",
     "output_type": "stream",
     "text": [
      "Unemployed, Debt, Churn: 1250300\n",
      "Unemployed, No Debt, Churn: 1249729\n",
      "Unemployed, Debt, No Churn: 1251313\n",
      "Unemployed, No Debt, No Churn: 1249147\n",
      "Employed, Debt, Churn: 1248822\n",
      "Employed, No Debt, Churn: 1250923\n",
      "Employed, Debt, No Churn: 1250396\n",
      "Employed, No Debt, No Churn: 1249370\n"
     ]
    }
   ],
   "source": [
    "# Refactorizado\n",
    "def handle(dict, row):\n",
    "    dict[f'{row[2]}, {row[3]}, {row[4]}'] += 1\n",
    "    return dict\n",
    "    \n",
    "fragmented_dict = reduce(handle, random_database, {\n",
    "    \"Unemployed, Debt, Churn\": 0,\n",
    "    \"Unemployed, No Debt, Churn\": 0,\n",
    "    \"Unemployed, Debt, No Churn\": 0,\n",
    "    \"Unemployed, No Debt, No Churn\": 0,\n",
    "    \"Employed, Debt, Churn\": 0,\n",
    "    \"Employed, No Debt, Churn\": 0,\n",
    "    \"Employed, Debt, No Churn\": 0,\n",
    "    \"Employed, No Debt, No Churn\": 0,\n",
    "})\n",
    "\n",
    "for key, value  in fragmented_dict.items():\n",
    "    print(f'{key}: {value}')\n",
    "\n"
   ]
  },
  {
   "cell_type": "markdown",
   "metadata": {},
   "source": [
    "Ambos resultados son idénticos."
   ]
  }
 ],
 "metadata": {
  "interpreter": {
   "hash": "07efdcd4b820c98a756949507a4d29d7862823915ec7477944641bea022f4f62"
  },
  "kernelspec": {
   "display_name": "Python 3.8.5 64-bit ('base': conda)",
   "language": "python",
   "name": "python3"
  },
  "language_info": {
   "codemirror_mode": {
    "name": "ipython",
    "version": 3
   },
   "file_extension": ".py",
   "mimetype": "text/x-python",
   "name": "python",
   "nbconvert_exporter": "python",
   "pygments_lexer": "ipython3",
   "version": "3.8.5"
  },
  "orig_nbformat": 4
 },
 "nbformat": 4,
 "nbformat_minor": 2
}
