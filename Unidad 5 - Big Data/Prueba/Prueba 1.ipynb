{
 "cells": [
  {
   "cell_type": "markdown",
   "id": "2a4ece71",
   "metadata": {},
   "source": [
    "# Prueba 1\n",
    "`Benjamín Meneses`"
   ]
  },
  {
   "cell_type": "code",
   "execution_count": 1,
   "id": "37bef6dc",
   "metadata": {},
   "outputs": [
    {
     "name": "stdout",
     "output_type": "stream",
     "text": [
      "Starting Spark application\n"
     ]
    },
    {
     "data": {
      "text/html": [
       "<table>\n",
       "<tr><th>ID</th><th>YARN Application ID</th><th>Kind</th><th>State</th><th>Spark UI</th><th>Driver log</th><th>User</th><th>Current session?</th></tr><tr><td>3</td><td>application_1643152009659_0004</td><td>pyspark</td><td>idle</td><td><a target=\"_blank\" href=\"http://ip-172-31-43-225.ec2.internal:20888/proxy/application_1643152009659_0004/\">Link</a></td><td><a target=\"_blank\" href=\"http://ip-172-31-32-135.ec2.internal:8042/node/containerlogs/container_1643152009659_0004_01_000001/livy\">Link</a></td><td>None</td><td>✔</td></tr></table>"
      ],
      "text/plain": [
       "<IPython.core.display.HTML object>"
      ]
     },
     "metadata": {},
     "output_type": "display_data"
    },
    {
     "data": {
      "application/vnd.jupyter.widget-view+json": {
       "model_id": "",
       "version_major": 2,
       "version_minor": 0
      },
      "text/plain": [
       "FloatProgress(value=0.0, bar_style='info', description='Progress:', layout=Layout(height='25px', width='50%'),…"
      ]
     },
     "metadata": {},
     "output_type": "display_data"
    },
    {
     "name": "stdout",
     "output_type": "stream",
     "text": [
      "SparkSession available as 'spark'.\n"
     ]
    },
    {
     "data": {
      "application/vnd.jupyter.widget-view+json": {
       "model_id": "",
       "version_major": 2,
       "version_minor": 0
      },
      "text/plain": [
       "FloatProgress(value=0.0, bar_style='info', description='Progress:', layout=Layout(height='25px', width='50%'),…"
      ]
     },
     "metadata": {},
     "output_type": "display_data"
    },
    {
     "name": "stdout",
     "output_type": "stream",
     "text": [
      "<SparkContext master=yarn appName=livy-session-3>"
     ]
    }
   ],
   "source": [
    "sc"
   ]
  },
  {
   "cell_type": "code",
   "execution_count": 2,
   "id": "85ac364f",
   "metadata": {},
   "outputs": [
    {
     "data": {
      "application/vnd.jupyter.widget-view+json": {
       "model_id": "",
       "version_major": 2,
       "version_minor": 0
      },
      "text/plain": [
       "FloatProgress(value=0.0, bar_style='info', description='Progress:', layout=Layout(height='25px', width='50%'),…"
      ]
     },
     "metadata": {},
     "output_type": "display_data"
    }
   ],
   "source": [
    "from pyspark import SparkConf, SparkContext\n",
    "from pyspark.sql import SQLContext"
   ]
  },
  {
   "cell_type": "code",
   "execution_count": 3,
   "id": "09e0081a",
   "metadata": {},
   "outputs": [
    {
     "data": {
      "application/vnd.jupyter.widget-view+json": {
       "model_id": "",
       "version_major": 2,
       "version_minor": 0
      },
      "text/plain": [
       "FloatProgress(value=0.0, bar_style='info', description='Progress:', layout=Layout(height='25px', width='50%'),…"
      ]
     },
     "metadata": {},
     "output_type": "display_data"
    }
   ],
   "source": [
    "df_transantiago = spark.read.parquet('s3://bigdata-desafio/transantiago/')"
   ]
  },
  {
   "cell_type": "code",
   "execution_count": 4,
   "id": "815cc03e",
   "metadata": {},
   "outputs": [
    {
     "data": {
      "application/vnd.jupyter.widget-view+json": {
       "model_id": "",
       "version_major": 2,
       "version_minor": 0
      },
      "text/plain": [
       "FloatProgress(value=0.0, bar_style='info', description='Progress:', layout=Layout(height='25px', width='50%'),…"
      ]
     },
     "metadata": {},
     "output_type": "display_data"
    },
    {
     "name": "stdout",
     "output_type": "stream",
     "text": [
      "['fechahoratrx', 'codigoentidad', 'nombreentidad', 'codigositio', 'nombresitio', 'nrotarjeta', 'day', 'from', 'to']"
     ]
    }
   ],
   "source": [
    "df_transantiago.columns"
   ]
  },
  {
   "cell_type": "markdown",
   "id": "6c373250",
   "metadata": {},
   "source": [
    "### Ejercicio 1: Operaciones básicas\n",
    "\n",
    "- Determine:\n",
    "    - Cantidad de transacciones.\n",
    "    - Primera y última transacción en función de la columna fechahoratrx.\n"
   ]
  },
  {
   "cell_type": "code",
   "execution_count": 7,
   "id": "4f0eca90",
   "metadata": {},
   "outputs": [
    {
     "data": {
      "application/vnd.jupyter.widget-view+json": {
       "model_id": "",
       "version_major": 2,
       "version_minor": 0
      },
      "text/plain": [
       "FloatProgress(value=0.0, bar_style='info', description='Progress:', layout=Layout(height='25px', width='50%'),…"
      ]
     },
     "metadata": {},
     "output_type": "display_data"
    },
    {
     "name": "stdout",
     "output_type": "stream",
     "text": [
      "456532128"
     ]
    }
   ],
   "source": [
    "# Cantidad de Transacciones\n",
    "df_transantiago.count()"
   ]
  },
  {
   "cell_type": "code",
   "execution_count": 20,
   "id": "2c66be02",
   "metadata": {},
   "outputs": [
    {
     "data": {
      "application/vnd.jupyter.widget-view+json": {
       "model_id": "",
       "version_major": 2,
       "version_minor": 0
      },
      "text/plain": [
       "FloatProgress(value=0.0, bar_style='info', description='Progress:', layout=Layout(height='25px', width='50%'),…"
      ]
     },
     "metadata": {},
     "output_type": "display_data"
    },
    {
     "name": "stdout",
     "output_type": "stream",
     "text": [
      "[Row(fechahoratrx=datetime.datetime(2018, 8, 8, 6, 17), codigoentidad=4, nombreentidad='U4 - Express', codigositio=5517, nombresitio='ZN-6156', nrotarjeta='10699ec735e3a7ef1d5b15a5c77c6ef2684568c289b030aeb0922b62d947cc6b', day=20180903, from=20180827, to=20180829)]"
     ]
    }
   ],
   "source": [
    "# Primera Columna\n",
    "df_transantiago.head(1)"
   ]
  },
  {
   "cell_type": "code",
   "execution_count": 18,
   "id": "fce80603",
   "metadata": {
    "scrolled": true
   },
   "outputs": [
    {
     "data": {
      "application/vnd.jupyter.widget-view+json": {
       "model_id": "",
       "version_major": 2,
       "version_minor": 0
      },
      "text/plain": [
       "FloatProgress(value=0.0, bar_style='info', description='Progress:', layout=Layout(height='25px', width='50%'),…"
      ]
     },
     "metadata": {},
     "output_type": "display_data"
    },
    {
     "name": "stdout",
     "output_type": "stream",
     "text": [
      "[Row(fechahoratrx=datetime.datetime(2018, 9, 3, 22, 55, 22), codigoentidad=15, nombreentidad='U1 - Alsacia', codigositio=13942, nombresitio='BJFD-13', nrotarjeta='12dbec71fb4d0dde9e322db14d98cf0ee569ce1b25c6d763c0f4a1e26c965265', day=20180907, from=20180903, to=20180905)]"
     ]
    }
   ],
   "source": [
    "# Última columna\n",
    "df_transantiago.orderBy(df_transantiago.fechahoratrx, ascending=False).head(1)"
   ]
  },
  {
   "cell_type": "markdown",
   "id": "c98c48e2",
   "metadata": {},
   "source": [
    "### Ejercicio 2: Operadores del servicio\n",
    "- Liste los distintos operadores.\n",
    "- Muestre la cantidad de transacciones para cada operador.\n"
   ]
  },
  {
   "cell_type": "code",
   "execution_count": 29,
   "id": "51454d40",
   "metadata": {},
   "outputs": [
    {
     "data": {
      "application/vnd.jupyter.widget-view+json": {
       "model_id": "",
       "version_major": 2,
       "version_minor": 0
      },
      "text/plain": [
       "FloatProgress(value=0.0, bar_style='info', description='Progress:', layout=Layout(height='25px', width='50%'),…"
      ]
     },
     "metadata": {},
     "output_type": "display_data"
    },
    {
     "name": "stdout",
     "output_type": "stream",
     "text": [
      "+------------------+\n",
      "|     nombreentidad|\n",
      "+------------------+\n",
      "|        METRO - OT|\n",
      "|      U1 - Alsacia|\n",
      "|         U3 - Vule|\n",
      "|U5 - Metropolitana|\n",
      "|          U7 - STP|\n",
      "|       U2 - Su Bus|\n",
      "|       U6 - Redbus|\n",
      "|      U4 - Express|\n",
      "|      Tren Central|\n",
      "+------------------+"
     ]
    }
   ],
   "source": [
    "# Lista de distintos operadores\n",
    "df_transantiago.select('nombreentidad').distinct().show()"
   ]
  },
  {
   "cell_type": "code",
   "execution_count": 25,
   "id": "193a0cde",
   "metadata": {},
   "outputs": [
    {
     "data": {
      "application/vnd.jupyter.widget-view+json": {
       "model_id": "",
       "version_major": 2,
       "version_minor": 0
      },
      "text/plain": [
       "FloatProgress(value=0.0, bar_style='info', description='Progress:', layout=Layout(height='25px', width='50%'),…"
      ]
     },
     "metadata": {},
     "output_type": "display_data"
    },
    {
     "name": "stdout",
     "output_type": "stream",
     "text": [
      "+------------------+--------------------+\n",
      "|     nombreentidad|count(nombreentidad)|\n",
      "+------------------+--------------------+\n",
      "|        METRO - OT|           202471859|\n",
      "|      U1 - Alsacia|            27317884|\n",
      "|         U3 - Vule|            48198386|\n",
      "|U5 - Metropolitana|            46727071|\n",
      "|          U7 - STP|            17825212|\n",
      "|       U2 - Su Bus|            39337668|\n",
      "|       U6 - Redbus|            26101394|\n",
      "|      U4 - Express|            42893078|\n",
      "|      Tren Central|             5659576|\n",
      "+------------------+--------------------+"
     ]
    }
   ],
   "source": [
    "# Cantidad de transacciones por operador\n",
    "df_transantiago.select('nombreentidad').groupBy('nombreentidad').agg({'nombreentidad': 'count'}).show()"
   ]
  },
  {
   "cell_type": "markdown",
   "id": "33cc0be9",
   "metadata": {},
   "source": [
    "### Ejercicio 3: Tarjetas Bip! (4 Puntos)\n",
    "- Muestre las 20 tarjetas con más transacciones. (2 Puntos)\n",
    "- Cuente todas las tarjetas que posean más de 2 transacciones por día. (2 ### Puntos)\n"
   ]
  },
  {
   "cell_type": "code",
   "execution_count": 32,
   "id": "a4548f3a",
   "metadata": {},
   "outputs": [
    {
     "data": {
      "application/vnd.jupyter.widget-view+json": {
       "model_id": "",
       "version_major": 2,
       "version_minor": 0
      },
      "text/plain": [
       "FloatProgress(value=0.0, bar_style='info', description='Progress:', layout=Layout(height='25px', width='50%'),…"
      ]
     },
     "metadata": {},
     "output_type": "display_data"
    },
    {
     "name": "stdout",
     "output_type": "stream",
     "text": [
      "[Row(nrotarjeta='deec3122b409a5fc5f1fae75342c9944e2ca3083b98c11f0cebc3f51cd46f7ef', count(nrotarjeta)=1411), Row(nrotarjeta='de9c88570da017d4a5293eada71f5b21c8acc6df520a4c66536d9aa2f227a51e', count(nrotarjeta)=1263), Row(nrotarjeta='3067b87bcbd4539f6df8736f68cad46c64aec8b77a77a1a1be17a010bbffbffd', count(nrotarjeta)=1194), Row(nrotarjeta='469ea593723b604d5fcc25b67effdac21a6e5910a8e199d278ed6dde72afea81', count(nrotarjeta)=1163), Row(nrotarjeta='803c9ddf9d09d177f74ab978992d15a69b19fc617c4bd4c8a1a2f972bfdf5085', count(nrotarjeta)=1153), Row(nrotarjeta='fa3875d0e0cc7ccd52aff44718fc0b827e92b823c33bcc0dd0a27100dd9c5182', count(nrotarjeta)=1153), Row(nrotarjeta='9eeec446133e409fa1832c3051bfb13824f561539366fea0b063b58c52026997', count(nrotarjeta)=1142), Row(nrotarjeta='96d6b2eb577ab2629e205a41381a60839b9294b605ef7ef0350fa3c0bf3e65f1', count(nrotarjeta)=1139), Row(nrotarjeta='b34fa35f11aa675f1ffa3e8cbdd39811b25e8acf4d95b0084a7bae914a4e955b', count(nrotarjeta)=1139), Row(nrotarjeta='06cfe644a7b163beca29b074925c187cefcb1b54d30a442c5f76c9432d559327', count(nrotarjeta)=1131), Row(nrotarjeta='7ca23ee541b387e96714684c8134644f1590eadfa9fa9a3e31c18e3e4154810b', count(nrotarjeta)=1125), Row(nrotarjeta='3ed8575b3d1d5281fc5d644ac13b5d08bc00b3c4263f7d1cb402f7e508dad5b8', count(nrotarjeta)=1118), Row(nrotarjeta='a5c1d00544930932078cf1eb1785e14e608fbfaebe367e8136a265b16989dc34', count(nrotarjeta)=1109), Row(nrotarjeta='1760b3b06c2d4d7181d4c4cfca684a7a22007ec856cf2ad3ff9f4a73d35feddb', count(nrotarjeta)=1108), Row(nrotarjeta='8d09ad5982ef800f75eed5ac408b7b62d80139b25e14144ec8f5e515bf957543', count(nrotarjeta)=1102), Row(nrotarjeta='15af9115719b3e3c477fd73855523aaaab5c602e9a3dab7bc365c981cacef7ed', count(nrotarjeta)=1086), Row(nrotarjeta='46313191acb7ab2ec7fe4b0fdc6030b06a19b25e16b8f4e04a6d32a01cc38f11', count(nrotarjeta)=1082), Row(nrotarjeta='773f1ec9877777b91038dedbe83c24863601854661217564f1116da78ea2a5b2', count(nrotarjeta)=1067), Row(nrotarjeta='64eb75d0b2396ab3018a51c2da21a9442083c51e4050eb329ed82ecf11c8a669', count(nrotarjeta)=1064), Row(nrotarjeta='94f04c2250766d9ff4c98de1f4cc686f82a6ea30e29e66edbde52d1332edd620', count(nrotarjeta)=1061)]"
     ]
    }
   ],
   "source": [
    "# Las 20 tarjetas con mas transacciones\n",
    "df_transantiago.select('nrotarjeta').groupBy('nrotarjeta').agg({'nrotarjeta': 'count'}).orderBy('count(nrotarjeta)', ascending=False).head(20)"
   ]
  },
  {
   "cell_type": "code",
   "execution_count": 52,
   "id": "a98fb588",
   "metadata": {},
   "outputs": [
    {
     "data": {
      "application/vnd.jupyter.widget-view+json": {
       "model_id": "",
       "version_major": 2,
       "version_minor": 0
      },
      "text/plain": [
       "FloatProgress(value=0.0, bar_style='info', description='Progress:', layout=Layout(height='25px', width='50%'),…"
      ]
     },
     "metadata": {},
     "output_type": "display_data"
    }
   ],
   "source": [
    "from pyspark.sql.functions import col, date_format\n",
    "# Preprocessing de Cuenta de tarjetas\n",
    "df_aux = df_transantiago \\\n",
    "    .select('nrotarjeta', 'fechahoratrx') \\\n",
    "    .withColumn('day', date_format(col('fechahoratrx'), \"yyyy-MM-dd\").cast('date')) \\\n",
    "    .groupBy('nrotarjeta', 'day') \\\n",
    "    .agg({'fechahoratrx': 'count'})"
   ]
  },
  {
   "cell_type": "code",
   "execution_count": 53,
   "id": "c330a39b",
   "metadata": {},
   "outputs": [
    {
     "data": {
      "application/vnd.jupyter.widget-view+json": {
       "model_id": "",
       "version_major": 2,
       "version_minor": 0
      },
      "text/plain": [
       "FloatProgress(value=0.0, bar_style='info', description='Progress:', layout=Layout(height='25px', width='50%'),…"
      ]
     },
     "metadata": {},
     "output_type": "display_data"
    },
    {
     "name": "stdout",
     "output_type": "stream",
     "text": [
      "5353814"
     ]
    }
   ],
   "source": [
    "# Cuenta de tarjetas con mas de 2 transacciones por dia\n",
    "df_aux.filter(df_aux['count(fechahoratrx)'] > 2).select('nrotarjeta').distinct().count()"
   ]
  },
  {
   "cell_type": "markdown",
   "id": "9317ed32",
   "metadata": {},
   "source": [
    "### Ejercicio 4: Fechas y rangos de horario\n",
    "\n",
    "- Determine los 10 días con más transacciones.\n",
    "- Realice una comparación de la cantidad de transacciones por hora para cada\n",
    "operador. Muestre sus resultados en un gráfico donde el eje X sea la hora del día y el\n",
    "eje Y la cantidad de transacciones.\n"
   ]
  },
  {
   "cell_type": "code",
   "execution_count": 47,
   "id": "35d3498d",
   "metadata": {},
   "outputs": [
    {
     "data": {
      "application/vnd.jupyter.widget-view+json": {
       "model_id": "",
       "version_major": 2,
       "version_minor": 0
      },
      "text/plain": [
       "FloatProgress(value=0.0, bar_style='info', description='Progress:', layout=Layout(height='25px', width='50%'),…"
      ]
     },
     "metadata": {},
     "output_type": "display_data"
    },
    {
     "name": "stdout",
     "output_type": "stream",
     "text": [
      "+--------+----------+\n",
      "|     day|count(day)|\n",
      "+--------+----------+\n",
      "|20180905|  31744566|\n",
      "|20180829|  31342073|\n",
      "|20180906|  31094958|\n",
      "|20180830|  30428954|\n",
      "|20180904|  29381756|\n",
      "|20180828|  29160422|\n",
      "|20180907|  29022302|\n",
      "|20180903|  28239103|\n",
      "|20180831|  28081352|\n",
      "|20180902|  28042254|\n",
      "+--------+----------+\n",
      "only showing top 10 rows"
     ]
    }
   ],
   "source": [
    "# Los 10 días con mas transacciones\n",
    "df_transantiago.select('day').groupBy('day').agg({'day': 'count'}).orderBy('count(day)', ascending=False).show(10)"
   ]
  },
  {
   "cell_type": "code",
   "execution_count": 24,
   "id": "7eb2be97",
   "metadata": {},
   "outputs": [
    {
     "data": {
      "application/vnd.jupyter.widget-view+json": {
       "model_id": "",
       "version_major": 2,
       "version_minor": 0
      },
      "text/plain": [
       "FloatProgress(value=0.0, bar_style='info', description='Progress:', layout=Layout(height='25px', width='50%'),…"
      ]
     },
     "metadata": {},
     "output_type": "display_data"
    }
   ],
   "source": [
    "from pyspark.sql.functions import col, date_format\n",
    "df_horas = df_transantiago.select('codigoentidad', 'nombreentidad', 'fechahoratrx') \\\n",
    "    .withColumn('hora', date_format(col('fechahoratrx'), \"HH\")) \\\n",
    "    .groupBy('hora', 'codigoentidad') \\\n",
    "    .agg({'fechahoratrx': 'count'})\n"
   ]
  },
  {
   "cell_type": "code",
   "execution_count": 25,
   "id": "5c5e03a2",
   "metadata": {},
   "outputs": [
    {
     "data": {
      "application/vnd.jupyter.widget-view+json": {
       "model_id": "",
       "version_major": 2,
       "version_minor": 0
      },
      "text/plain": [
       "FloatProgress(value=0.0, bar_style='info', description='Progress:', layout=Layout(height='25px', width='50%'),…"
      ]
     },
     "metadata": {},
     "output_type": "display_data"
    },
    {
     "name": "stdout",
     "output_type": "stream",
     "text": [
      "+----+-------------+-------------------+\n",
      "|hora|codigoentidad|count(fechahoratrx)|\n",
      "+----+-------------+-------------------+\n",
      "|  15|            4|            2222304|\n",
      "|  22|            1|            5028272|\n",
      "|  07|            9|            1564855|\n",
      "|  00|           16|              91194|\n",
      "|  03|           16|               8971|\n",
      "|  20|           17|             334762|\n",
      "|  10|            5|            2130718|\n",
      "|  09|            9|             919913|\n",
      "|  01|            4|              55323|\n",
      "|  03|            5|              15119|\n",
      "|  14|            2|            1992189|\n",
      "|  13|            2|            2124341|\n",
      "|  05|           17|              10943|\n",
      "|  09|           13|            1727953|\n",
      "|  17|           16|            3207665|\n",
      "|  09|            4|            2769748|\n",
      "|  00|           13|              14963|\n",
      "|  13|            1|           11416406|\n",
      "|  19|            4|            3042784|\n",
      "|  14|           16|            2432082|\n",
      "+----+-------------+-------------------+\n",
      "only showing top 20 rows"
     ]
    }
   ],
   "source": [
    "df_horas.show()"
   ]
  },
  {
   "cell_type": "code",
   "execution_count": 26,
   "id": "0038ba9e",
   "metadata": {},
   "outputs": [
    {
     "data": {
      "application/vnd.jupyter.widget-view+json": {
       "model_id": "",
       "version_major": 2,
       "version_minor": 0
      },
      "text/plain": [
       "FloatProgress(value=0.0, bar_style='info', description='Progress:', layout=Layout(height='25px', width='50%'),…"
      ]
     },
     "metadata": {},
     "output_type": "display_data"
    }
   ],
   "source": [
    "operadores_df = df_transantiago.select('codigoentidad').distinct().toPandas()"
   ]
  },
  {
   "cell_type": "code",
   "execution_count": 27,
   "id": "9d72c4db",
   "metadata": {},
   "outputs": [
    {
     "data": {
      "application/vnd.jupyter.widget-view+json": {
       "model_id": "",
       "version_major": 2,
       "version_minor": 0
      },
      "text/plain": [
       "FloatProgress(value=0.0, bar_style='info', description='Progress:', layout=Layout(height='25px', width='50%'),…"
      ]
     },
     "metadata": {},
     "output_type": "display_data"
    }
   ],
   "source": [
    "operadores_cods = list(operadores_df['codigoentidad'])"
   ]
  },
  {
   "cell_type": "code",
   "execution_count": 30,
   "id": "83c3d5a0",
   "metadata": {},
   "outputs": [
    {
     "data": {
      "application/vnd.jupyter.widget-view+json": {
       "model_id": "",
       "version_major": 2,
       "version_minor": 0
      },
      "text/plain": [
       "FloatProgress(value=0.0, bar_style='info', description='Progress:', layout=Layout(height='25px', width='50%'),…"
      ]
     },
     "metadata": {},
     "output_type": "display_data"
    }
   ],
   "source": [
    "operadores = dict()\n",
    "for operador in operadores_cods:\n",
    "    operadores[operador] = df_horas.filter(df_horas.codigoentidad == operador)\n",
    "    operadores[operador].registerTempTable(f'result_{operador}')\n"
   ]
  },
  {
   "cell_type": "code",
   "execution_count": 42,
   "id": "39d844a5",
   "metadata": {},
   "outputs": [
    {
     "data": {
      "application/vnd.jupyter.widget-view+json": {
       "model_id": "",
       "version_major": 2,
       "version_minor": 0
      },
      "text/plain": [
       "FloatProgress(value=0.0, bar_style='info', description='Progress:', layout=Layout(height='25px', width='50%'),…"
      ]
     },
     "metadata": {},
     "output_type": "display_data"
    }
   ],
   "source": []
  },
  {
   "cell_type": "code",
   "execution_count": 45,
   "id": "8aac66e1",
   "metadata": {},
   "outputs": [
    {
     "data": {
      "application/vnd.jupyter.widget-view+json": {
       "model_id": "",
       "version_major": 2,
       "version_minor": 0
      },
      "text/plain": [
       "FloatProgress(value=0.0, bar_style='info', description='Progress:', layout=Layout(height='25px', width='50%'),…"
      ]
     },
     "metadata": {},
     "output_type": "display_data"
    }
   ],
   "source": [
    "df_horas.registerTempTable('horas_results')"
   ]
  },
  {
   "cell_type": "code",
   "execution_count": 46,
   "id": "ab6a5873",
   "metadata": {},
   "outputs": [
    {
     "data": {
      "application/vnd.jupyter.widget-view+json": {
       "model_id": "",
       "version_major": 2,
       "version_minor": 0
      },
      "text/plain": [
       "FloatProgress(value=0.0, bar_style='info', description='Progress:', layout=Layout(height='25px', width='50%'),…"
      ]
     },
     "metadata": {},
     "output_type": "display_data"
    },
    {
     "data": {
      "application/vnd.jupyter.widget-view+json": {
       "model_id": "1c1fa397ae164183b1373b5d3ea15cd2",
       "version_major": 2,
       "version_minor": 0
      },
      "text/plain": [
       "VBox(children=(HBox(children=(HTML(value='Type:'), Button(description='Table', layout=Layout(width='70px'), st…"
      ]
     },
     "metadata": {},
     "output_type": "display_data"
    },
    {
     "data": {
      "application/vnd.jupyter.widget-view+json": {
       "model_id": "545376864311491786e920d0eee02342",
       "version_major": 2,
       "version_minor": 0
      },
      "text/plain": [
       "Output()"
      ]
     },
     "metadata": {},
     "output_type": "display_data"
    }
   ],
   "source": [
    "%%sql -o df_local_horas --maxrows 100\n",
    "SELECT * FROM horas_results"
   ]
  },
  {
   "cell_type": "code",
   "execution_count": 54,
   "id": "c9be6e35",
   "metadata": {},
   "outputs": [
    {
     "name": "stdout",
     "output_type": "stream",
     "text": [
      "Collecting seaborn\n",
      "  Downloading seaborn-0.11.2-py3-none-any.whl (292 kB)\n",
      "\u001b[K     |████████████████████████████████| 292 kB 26.2 MB/s eta 0:00:01\n",
      "\u001b[?25hRequirement already satisfied: matplotlib>=2.2 in /opt/conda/lib/python3.9/site-packages (from seaborn) (3.4.2)\n",
      "Requirement already satisfied: pandas>=0.23 in /opt/conda/lib/python3.9/site-packages (from seaborn) (1.3.1)\n",
      "Requirement already satisfied: scipy>=1.0 in /opt/conda/lib/python3.9/site-packages (from seaborn) (1.7.0)\n",
      "Requirement already satisfied: numpy>=1.15 in /opt/conda/lib/python3.9/site-packages (from seaborn) (1.21.1)\n",
      "Requirement already satisfied: pillow>=6.2.0 in /opt/conda/lib/python3.9/site-packages (from matplotlib>=2.2->seaborn) (8.3.1)\n",
      "Requirement already satisfied: kiwisolver>=1.0.1 in /opt/conda/lib/python3.9/site-packages (from matplotlib>=2.2->seaborn) (1.3.1)\n",
      "Requirement already satisfied: pyparsing>=2.2.1 in /opt/conda/lib/python3.9/site-packages (from matplotlib>=2.2->seaborn) (2.4.7)\n",
      "Requirement already satisfied: cycler>=0.10 in /opt/conda/lib/python3.9/site-packages (from matplotlib>=2.2->seaborn) (0.10.0)\n",
      "Requirement already satisfied: python-dateutil>=2.7 in /opt/conda/lib/python3.9/site-packages (from matplotlib>=2.2->seaborn) (2.8.2)\n",
      "Requirement already satisfied: six in /opt/conda/lib/python3.9/site-packages (from cycler>=0.10->matplotlib>=2.2->seaborn) (1.16.0)\n",
      "Requirement already satisfied: pytz>=2017.3 in /opt/conda/lib/python3.9/site-packages (from pandas>=0.23->seaborn) (2021.1)\n",
      "Installing collected packages: seaborn\n",
      "Successfully installed seaborn-0.11.2\n",
      "Note: you may need to restart the kernel to use updated packages.\n"
     ]
    }
   ],
   "source": [
    "%pip install seaborn"
   ]
  },
  {
   "cell_type": "code",
   "execution_count": 59,
   "id": "65ee5f0c",
   "metadata": {},
   "outputs": [
    {
     "data": {
      "image/png": "[encoded data removed]",
      "text/plain": [
       "<Figure size 1440x720 with 1 Axes>"
      ]
     },
     "metadata": {
      "needs_background": "light"
     },
     "output_type": "display_data"
    }
   ],
   "source": [
    "%%local\n",
    "import matplotlib.pyplot as plt\n",
    "import seaborn as sns\n",
    "plt.rcParams['figure.figsize'] = (20,10)\n",
    "df_local_horas['codigoentidad'] = df_local_horas['codigoentidad'].astype(str)\n",
    "sns.lineplot(data=df_local_horas, x='hora', y='count(fechahoratrx)', hue='codigoentidad')\n",
    "plt.show()"
   ]
  }
 ],
 "metadata": {
  "kernelspec": {
   "display_name": "PySpark",
   "language": "python",
   "name": "pysparkkernel"
  },
  "language_info": {
   "codemirror_mode": {
    "name": "python",
    "version": 3
   },
   "file_extension": ".py",
   "mimetype": "text/x-python",
   "name": "pyspark",
   "pygments_lexer": "python3"
  }
 },
 "nbformat": 4,
 "nbformat_minor": 5
}
